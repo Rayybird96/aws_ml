{
 "cells": [
  {
   "cell_type": "markdown",
   "metadata": {},
   "source": [
    "# Problem: Predicting Airplane Delays\n",
    "\n",
    "The multi-fold goals of this notebook are:\n",
    "- Process and create a dataset from downloaded ZIP files\n",
    "- Exploratory data analysis (EDA)\n",
    "- Establish a baseline model\n",
    "- Move from a simple model to an ensemble model\n",
    "- Hyperparameter optimization\n",
    "- Check feature importance\n",
    "\n",
    "## Introduction to business scenario\n",
    "You work for a travel booking website that is working to improve the customer experience for flights that were delayed. The company wants to create a feature to let customers know if the flight will be delayed due to weather when the customers are booking the flight to or from the busiest airports for domestic travel in the US. \n",
    "\n",
    "You are tasked with solving part of this problem by leveraging machine learning to identify whether the flight will be delayed due to weather. You have been given access to the a dataset of on-time performance of domestic flights operated by large air carriers. You can use this data to train a machine learning model to predict if the flight is going to be delayed for the busiest airports.\n",
    "\n",
    "## About this dataset\n",
    "This dataset contains scheduled and actual departure and arrival times reported by certified US air carriers that account for at least 1% of domestic scheduled passenger revenues. The data was collected by the Office of Airline Information, Bureau of Transportation Statistics (BTS). The dataset contains date, time, origin, destination, airline, distance, and delay status of flights for flights between 2013 and 2018.\n",
    "\n",
    "### Features\n",
    "For more information about features in the dataset, see [On-time delay dataset features](https://www.transtats.bts.gov/Fields.asp?gnoyr_VQ=FGJ).\n",
    "\n",
    "### Dataset attributions  \n",
    "\n",
    "Website: https://www.transtats.bts.gov/\n"
   ]
  },
  {
   "cell_type": "markdown",
   "metadata": {},
   "source": [
    "# Step 1: Problem formulation and data collection\n",
    "\n",
    "Start this project off by writing a few sentences below that summarize the business problem and the business goal you're trying to achieve in this scenario. Include a business metric you would like your team to aspire toward. With that information defined, clearly write out the machine learning problem statement. Finally, add a comment or two about the type of machine learning this represents. \n",
    "\n",
    "#### <span style=\"color: blue;\">Project presentation: Include a summary of these details in your project presentations.</span>\n",
    "\n",
    "### 1. Determine if and why ML is an appropriate solution to deploy."
   ]
  },
  {
   "cell_type": "markdown",
   "metadata": {},
   "source": [
    "yes, ML is appopropriate. The data is large, there are many features and this solution is scalable."
   ]
  },
  {
   "cell_type": "markdown",
   "metadata": {},
   "source": [
    "### 2. Formulate the business problem, success metrics, and desired ML output."
   ]
  },
  {
   "cell_type": "markdown",
   "metadata": {},
   "source": [
    "The business problem is that flights are being delayed, which would lower consumer satisfaction. Sucess metrics will be to be able to predict flight delay, for example the weather and time of the year, such that airlines and passengers can be better prepared to deal with it. Desired ML output will be a model that can predict delays with accuracy."
   ]
  },
  {
   "cell_type": "markdown",
   "metadata": {},
   "source": [
    "### 3. Identify the type of ML problem you’re dealing with."
   ]
  },
  {
   "cell_type": "markdown",
   "metadata": {},
   "source": [
    "Supervised learning - classification problem"
   ]
  },
  {
   "cell_type": "markdown",
   "metadata": {},
   "source": [
    "### 4. Analyze the appropriateness of the data you’re working with."
   ]
  },
  {
   "cell_type": "markdown",
   "metadata": {},
   "source": [
    "Data is appropriat. There are many features that help predict delay, and a target label."
   ]
  },
  {
   "cell_type": "markdown",
   "metadata": {},
   "source": [
    "### Setup\n",
    "\n",
    "Now that we have decided where to focus our energy, let's set things up so you can start working on solving the problem.\n",
    "\n",
    "**Note:** This notebook was created and tested on an `ml.m4.xlarge` notebook instance. \n",
    "\n",
    "Replace **`<LabBucketName>`** with the resource name that was provided with your lab account."
   ]
  },
  {
   "cell_type": "code",
   "execution_count": 96,
   "metadata": {},
   "outputs": [],
   "source": [
    "# Change the bucket according to your information\n",
    "bucket = 'labstack-b9fa8b19-24ce-43ea-bb97-0c3e6e7-labbucket-eepl3hlmknsp'"
   ]
  },
  {
   "cell_type": "code",
   "execution_count": 4,
   "metadata": {},
   "outputs": [],
   "source": [
    "%%capture \n",
    "\n",
    "%matplotlib inline\n",
    "%pip install --upgrade boto3 botocore===1.33.2 -q\n",
    "%pip install xgboost=='0.90' -q\n",
    "%pip install pathlib2"
   ]
  },
  {
   "cell_type": "code",
   "execution_count": 5,
   "metadata": {},
   "outputs": [],
   "source": [
    "import os\n",
    "from pathlib2 import Path\n",
    "from zipfile import ZipFile\n",
    "import time\n",
    "\n",
    "import pandas as pd\n",
    "import numpy as np\n",
    "import subprocess\n",
    "\n",
    "import matplotlib.pyplot as plt\n",
    "import seaborn as sns\n",
    "\n",
    "sns.set()\n",
    "\n",
    "import warnings\n",
    "warnings.filterwarnings('ignore')"
   ]
  },
  {
   "cell_type": "markdown",
   "metadata": {},
   "source": [
    "# Step 2: Data preprocessing and visualization  \n",
    "In this data preprocessing phase, you should take the opportunity to explore and visualize your data to better understand it. First, import the necessary libraries and read the data into a Pandas dataframe. After that, explore your data. Look for the shape of the dataset and explore your columns and the types of columns you're working with (numerical, categorical). Consider performing basic statistics on the features to get a sense of feature means and ranges. Take a close look at your target column and determine its distribution.\n",
    "\n",
    "### Specific questions to consider\n",
    "1. What can you deduce from the basic statistics you ran on the features? \n",
    "\n",
    "2. What can you deduce from the distributions of the target classes?\n",
    "\n",
    "3. Is there anything else you deduced from exploring the data?\n",
    "\n",
    "#### <span style=\"color: blue;\">Project presentation: Include a summary of your answers to these and other similar questions in your project presentations.</span>"
   ]
  },
  {
   "cell_type": "markdown",
   "metadata": {},
   "source": [
    "Start by bringing in the dataset from an Amazon S3 public bucket to this notebook environment."
   ]
  },
  {
   "cell_type": "code",
   "execution_count": 6,
   "metadata": {},
   "outputs": [
    {
     "name": "stdout",
     "output_type": "stream",
     "text": [
      "download: s3://aws-tc-largeobjects/ILT-TF-200-MLDWTS/flight_delay_project/csvFlightData-5/On_Time_Reporting_Carrier_On_Time_Performance_1987_present_2014_11.zip to data/FlightDelays/On_Time_Reporting_Carrier_On_Time_Performance_1987_present_2014_11.zip\n",
      "download: s3://aws-tc-largeobjects/ILT-TF-200-MLDWTS/flight_delay_project/csvFlightData-5/On_Time_Reporting_Carrier_On_Time_Performance_1987_present_2014_1.zip to data/FlightDelays/On_Time_Reporting_Carrier_On_Time_Performance_1987_present_2014_1.zip\n",
      "download: s3://aws-tc-largeobjects/ILT-TF-200-MLDWTS/flight_delay_project/csvFlightData-5/On_Time_Reporting_Carrier_On_Time_Performance_1987_present_2014_3.zip to data/FlightDelays/On_Time_Reporting_Carrier_On_Time_Performance_1987_present_2014_3.zip\n",
      "download: s3://aws-tc-largeobjects/ILT-TF-200-MLDWTS/flight_delay_project/csvFlightData-5/On_Time_Reporting_Carrier_On_Time_Performance_1987_present_2014_12.zip to data/FlightDelays/On_Time_Reporting_Carrier_On_Time_Performance_1987_present_2014_12.zip\n",
      "download: s3://aws-tc-largeobjects/ILT-TF-200-MLDWTS/flight_delay_project/csvFlightData-5/On_Time_Reporting_Carrier_On_Time_Performance_1987_present_2014_4.zip to data/FlightDelays/On_Time_Reporting_Carrier_On_Time_Performance_1987_present_2014_4.zip\n",
      "download: s3://aws-tc-largeobjects/ILT-TF-200-MLDWTS/flight_delay_project/csvFlightData-5/On_Time_Reporting_Carrier_On_Time_Performance_1987_present_2014_2.zip to data/FlightDelays/On_Time_Reporting_Carrier_On_Time_Performance_1987_present_2014_2.zip\n",
      "download: s3://aws-tc-largeobjects/ILT-TF-200-MLDWTS/flight_delay_project/csvFlightData-5/On_Time_Reporting_Carrier_On_Time_Performance_1987_present_2014_10.zip to data/FlightDelays/On_Time_Reporting_Carrier_On_Time_Performance_1987_present_2014_10.zip\n",
      "download: s3://aws-tc-largeobjects/ILT-TF-200-MLDWTS/flight_delay_project/csvFlightData-5/On_Time_Reporting_Carrier_On_Time_Performance_1987_present_2014_5.zip to data/FlightDelays/On_Time_Reporting_Carrier_On_Time_Performance_1987_present_2014_5.zip\n",
      "download: s3://aws-tc-largeobjects/ILT-TF-200-MLDWTS/flight_delay_project/csvFlightData-5/On_Time_Reporting_Carrier_On_Time_Performance_1987_present_2014_8.zip to data/FlightDelays/On_Time_Reporting_Carrier_On_Time_Performance_1987_present_2014_8.zip\n",
      "download: s3://aws-tc-largeobjects/ILT-TF-200-MLDWTS/flight_delay_project/csvFlightData-5/On_Time_Reporting_Carrier_On_Time_Performance_1987_present_2014_9.zip to data/FlightDelays/On_Time_Reporting_Carrier_On_Time_Performance_1987_present_2014_9.zip\n",
      "download: s3://aws-tc-largeobjects/ILT-TF-200-MLDWTS/flight_delay_project/csvFlightData-5/On_Time_Reporting_Carrier_On_Time_Performance_1987_present_2014_7.zip to data/FlightDelays/On_Time_Reporting_Carrier_On_Time_Performance_1987_present_2014_7.zip\n",
      "download: s3://aws-tc-largeobjects/ILT-TF-200-MLDWTS/flight_delay_project/csvFlightData-5/On_Time_Reporting_Carrier_On_Time_Performance_1987_present_2014_6.zip to data/FlightDelays/On_Time_Reporting_Carrier_On_Time_Performance_1987_present_2014_6.zip\n",
      "download: s3://aws-tc-largeobjects/ILT-TF-200-MLDWTS/flight_delay_project/csvFlightData-5/On_Time_Reporting_Carrier_On_Time_Performance_1987_present_2015_1.zip to data/FlightDelays/On_Time_Reporting_Carrier_On_Time_Performance_1987_present_2015_1.zip\n",
      "download: s3://aws-tc-largeobjects/ILT-TF-200-MLDWTS/flight_delay_project/csvFlightData-5/On_Time_Reporting_Carrier_On_Time_Performance_1987_present_2015_12.zip to data/FlightDelays/On_Time_Reporting_Carrier_On_Time_Performance_1987_present_2015_12.zip\n",
      "download: s3://aws-tc-largeobjects/ILT-TF-200-MLDWTS/flight_delay_project/csvFlightData-5/On_Time_Reporting_Carrier_On_Time_Performance_1987_present_2015_10.zip to data/FlightDelays/On_Time_Reporting_Carrier_On_Time_Performance_1987_present_2015_10.zip\n",
      "download: s3://aws-tc-largeobjects/ILT-TF-200-MLDWTS/flight_delay_project/csvFlightData-5/On_Time_Reporting_Carrier_On_Time_Performance_1987_present_2015_11.zip to data/FlightDelays/On_Time_Reporting_Carrier_On_Time_Performance_1987_present_2015_11.zip\n",
      "download: s3://aws-tc-largeobjects/ILT-TF-200-MLDWTS/flight_delay_project/csvFlightData-5/On_Time_Reporting_Carrier_On_Time_Performance_1987_present_2015_2.zip to data/FlightDelays/On_Time_Reporting_Carrier_On_Time_Performance_1987_present_2015_2.zip\n",
      "download: s3://aws-tc-largeobjects/ILT-TF-200-MLDWTS/flight_delay_project/csvFlightData-5/On_Time_Reporting_Carrier_On_Time_Performance_1987_present_2015_3.zip to data/FlightDelays/On_Time_Reporting_Carrier_On_Time_Performance_1987_present_2015_3.zip\n",
      "download: s3://aws-tc-largeobjects/ILT-TF-200-MLDWTS/flight_delay_project/csvFlightData-5/On_Time_Reporting_Carrier_On_Time_Performance_1987_present_2015_5.zip to data/FlightDelays/On_Time_Reporting_Carrier_On_Time_Performance_1987_present_2015_5.zip\n",
      "download: s3://aws-tc-largeobjects/ILT-TF-200-MLDWTS/flight_delay_project/csvFlightData-5/On_Time_Reporting_Carrier_On_Time_Performance_1987_present_2015_4.zip to data/FlightDelays/On_Time_Reporting_Carrier_On_Time_Performance_1987_present_2015_4.zip\n",
      "download: s3://aws-tc-largeobjects/ILT-TF-200-MLDWTS/flight_delay_project/csvFlightData-5/On_Time_Reporting_Carrier_On_Time_Performance_1987_present_2015_6.zip to data/FlightDelays/On_Time_Reporting_Carrier_On_Time_Performance_1987_present_2015_6.zip\n",
      "download: s3://aws-tc-largeobjects/ILT-TF-200-MLDWTS/flight_delay_project/csvFlightData-5/On_Time_Reporting_Carrier_On_Time_Performance_1987_present_2015_9.zip to data/FlightDelays/On_Time_Reporting_Carrier_On_Time_Performance_1987_present_2015_9.zip\n",
      "download: s3://aws-tc-largeobjects/ILT-TF-200-MLDWTS/flight_delay_project/csvFlightData-5/On_Time_Reporting_Carrier_On_Time_Performance_1987_present_2015_8.zip to data/FlightDelays/On_Time_Reporting_Carrier_On_Time_Performance_1987_present_2015_8.zip\n",
      "download: s3://aws-tc-largeobjects/ILT-TF-200-MLDWTS/flight_delay_project/csvFlightData-5/On_Time_Reporting_Carrier_On_Time_Performance_1987_present_2015_7.zip to data/FlightDelays/On_Time_Reporting_Carrier_On_Time_Performance_1987_present_2015_7.zip\n",
      "download: s3://aws-tc-largeobjects/ILT-TF-200-MLDWTS/flight_delay_project/csvFlightData-5/On_Time_Reporting_Carrier_On_Time_Performance_1987_present_2016_10.zip to data/FlightDelays/On_Time_Reporting_Carrier_On_Time_Performance_1987_present_2016_10.zip\n",
      "download: s3://aws-tc-largeobjects/ILT-TF-200-MLDWTS/flight_delay_project/csvFlightData-5/On_Time_Reporting_Carrier_On_Time_Performance_1987_present_2016_1.zip to data/FlightDelays/On_Time_Reporting_Carrier_On_Time_Performance_1987_present_2016_1.zip\n",
      "download: s3://aws-tc-largeobjects/ILT-TF-200-MLDWTS/flight_delay_project/csvFlightData-5/On_Time_Reporting_Carrier_On_Time_Performance_1987_present_2016_11.zip to data/FlightDelays/On_Time_Reporting_Carrier_On_Time_Performance_1987_present_2016_11.zip\n",
      "download: s3://aws-tc-largeobjects/ILT-TF-200-MLDWTS/flight_delay_project/csvFlightData-5/On_Time_Reporting_Carrier_On_Time_Performance_1987_present_2016_2.zip to data/FlightDelays/On_Time_Reporting_Carrier_On_Time_Performance_1987_present_2016_2.zip\n",
      "download: s3://aws-tc-largeobjects/ILT-TF-200-MLDWTS/flight_delay_project/csvFlightData-5/On_Time_Reporting_Carrier_On_Time_Performance_1987_present_2016_12.zip to data/FlightDelays/On_Time_Reporting_Carrier_On_Time_Performance_1987_present_2016_12.zip\n",
      "download: s3://aws-tc-largeobjects/ILT-TF-200-MLDWTS/flight_delay_project/csvFlightData-5/On_Time_Reporting_Carrier_On_Time_Performance_1987_present_2016_3.zip to data/FlightDelays/On_Time_Reporting_Carrier_On_Time_Performance_1987_present_2016_3.zip\n",
      "download: s3://aws-tc-largeobjects/ILT-TF-200-MLDWTS/flight_delay_project/csvFlightData-5/On_Time_Reporting_Carrier_On_Time_Performance_1987_present_2016_4.zip to data/FlightDelays/On_Time_Reporting_Carrier_On_Time_Performance_1987_present_2016_4.zip\n",
      "download: s3://aws-tc-largeobjects/ILT-TF-200-MLDWTS/flight_delay_project/csvFlightData-5/On_Time_Reporting_Carrier_On_Time_Performance_1987_present_2016_9.zip to data/FlightDelays/On_Time_Reporting_Carrier_On_Time_Performance_1987_present_2016_9.zip\n",
      "download: s3://aws-tc-largeobjects/ILT-TF-200-MLDWTS/flight_delay_project/csvFlightData-5/On_Time_Reporting_Carrier_On_Time_Performance_1987_present_2016_6.zip to data/FlightDelays/On_Time_Reporting_Carrier_On_Time_Performance_1987_present_2016_6.zip\n",
      "download: s3://aws-tc-largeobjects/ILT-TF-200-MLDWTS/flight_delay_project/csvFlightData-5/On_Time_Reporting_Carrier_On_Time_Performance_1987_present_2016_8.zip to data/FlightDelays/On_Time_Reporting_Carrier_On_Time_Performance_1987_present_2016_8.zip\n",
      "download: s3://aws-tc-largeobjects/ILT-TF-200-MLDWTS/flight_delay_project/csvFlightData-5/On_Time_Reporting_Carrier_On_Time_Performance_1987_present_2016_5.zip to data/FlightDelays/On_Time_Reporting_Carrier_On_Time_Performance_1987_present_2016_5.zip\n",
      "download: s3://aws-tc-largeobjects/ILT-TF-200-MLDWTS/flight_delay_project/csvFlightData-5/On_Time_Reporting_Carrier_On_Time_Performance_1987_present_2016_7.zip to data/FlightDelays/On_Time_Reporting_Carrier_On_Time_Performance_1987_present_2016_7.zip\n",
      "download: s3://aws-tc-largeobjects/ILT-TF-200-MLDWTS/flight_delay_project/csvFlightData-5/On_Time_Reporting_Carrier_On_Time_Performance_1987_present_2017_10.zip to data/FlightDelays/On_Time_Reporting_Carrier_On_Time_Performance_1987_present_2017_10.zip\n",
      "download: s3://aws-tc-largeobjects/ILT-TF-200-MLDWTS/flight_delay_project/csvFlightData-5/On_Time_Reporting_Carrier_On_Time_Performance_1987_present_2017_1.zip to data/FlightDelays/On_Time_Reporting_Carrier_On_Time_Performance_1987_present_2017_1.zip\n",
      "download: s3://aws-tc-largeobjects/ILT-TF-200-MLDWTS/flight_delay_project/csvFlightData-5/On_Time_Reporting_Carrier_On_Time_Performance_1987_present_2017_2.zip to data/FlightDelays/On_Time_Reporting_Carrier_On_Time_Performance_1987_present_2017_2.zip\n",
      "download: s3://aws-tc-largeobjects/ILT-TF-200-MLDWTS/flight_delay_project/csvFlightData-5/On_Time_Reporting_Carrier_On_Time_Performance_1987_present_2017_11.zip to data/FlightDelays/On_Time_Reporting_Carrier_On_Time_Performance_1987_present_2017_11.zip\n",
      "download: s3://aws-tc-largeobjects/ILT-TF-200-MLDWTS/flight_delay_project/csvFlightData-5/On_Time_Reporting_Carrier_On_Time_Performance_1987_present_2017_12.zip to data/FlightDelays/On_Time_Reporting_Carrier_On_Time_Performance_1987_present_2017_12.zip\n",
      "download: s3://aws-tc-largeobjects/ILT-TF-200-MLDWTS/flight_delay_project/csvFlightData-5/On_Time_Reporting_Carrier_On_Time_Performance_1987_present_2017_3.zip to data/FlightDelays/On_Time_Reporting_Carrier_On_Time_Performance_1987_present_2017_3.zip\n",
      "download: s3://aws-tc-largeobjects/ILT-TF-200-MLDWTS/flight_delay_project/csvFlightData-5/On_Time_Reporting_Carrier_On_Time_Performance_1987_present_2017_4.zip to data/FlightDelays/On_Time_Reporting_Carrier_On_Time_Performance_1987_present_2017_4.zip\n",
      "download: s3://aws-tc-largeobjects/ILT-TF-200-MLDWTS/flight_delay_project/csvFlightData-5/On_Time_Reporting_Carrier_On_Time_Performance_1987_present_2017_7.zip to data/FlightDelays/On_Time_Reporting_Carrier_On_Time_Performance_1987_present_2017_7.zip\n",
      "download: s3://aws-tc-largeobjects/ILT-TF-200-MLDWTS/flight_delay_project/csvFlightData-5/On_Time_Reporting_Carrier_On_Time_Performance_1987_present_2017_5.zip to data/FlightDelays/On_Time_Reporting_Carrier_On_Time_Performance_1987_present_2017_5.zip\n",
      "download: s3://aws-tc-largeobjects/ILT-TF-200-MLDWTS/flight_delay_project/csvFlightData-5/On_Time_Reporting_Carrier_On_Time_Performance_1987_present_2017_6.zip to data/FlightDelays/On_Time_Reporting_Carrier_On_Time_Performance_1987_present_2017_6.zip\n",
      "download: s3://aws-tc-largeobjects/ILT-TF-200-MLDWTS/flight_delay_project/csvFlightData-5/On_Time_Reporting_Carrier_On_Time_Performance_1987_present_2017_9.zip to data/FlightDelays/On_Time_Reporting_Carrier_On_Time_Performance_1987_present_2017_9.zip\n",
      "download: s3://aws-tc-largeobjects/ILT-TF-200-MLDWTS/flight_delay_project/csvFlightData-5/On_Time_Reporting_Carrier_On_Time_Performance_1987_present_2017_8.zip to data/FlightDelays/On_Time_Reporting_Carrier_On_Time_Performance_1987_present_2017_8.zip\n",
      "download: s3://aws-tc-largeobjects/ILT-TF-200-MLDWTS/flight_delay_project/csvFlightData-5/On_Time_Reporting_Carrier_On_Time_Performance_1987_present_2018_1.zip to data/FlightDelays/On_Time_Reporting_Carrier_On_Time_Performance_1987_present_2018_1.zip\n",
      "download: s3://aws-tc-largeobjects/ILT-TF-200-MLDWTS/flight_delay_project/csvFlightData-5/On_Time_Reporting_Carrier_On_Time_Performance_1987_present_2018_10.zip to data/FlightDelays/On_Time_Reporting_Carrier_On_Time_Performance_1987_present_2018_10.zip\n",
      "download: s3://aws-tc-largeobjects/ILT-TF-200-MLDWTS/flight_delay_project/csvFlightData-5/On_Time_Reporting_Carrier_On_Time_Performance_1987_present_2018_11.zip to data/FlightDelays/On_Time_Reporting_Carrier_On_Time_Performance_1987_present_2018_11.zip\n",
      "download: s3://aws-tc-largeobjects/ILT-TF-200-MLDWTS/flight_delay_project/csvFlightData-5/On_Time_Reporting_Carrier_On_Time_Performance_1987_present_2018_12.zip to data/FlightDelays/On_Time_Reporting_Carrier_On_Time_Performance_1987_present_2018_12.zip\n",
      "download: s3://aws-tc-largeobjects/ILT-TF-200-MLDWTS/flight_delay_project/csvFlightData-5/On_Time_Reporting_Carrier_On_Time_Performance_1987_present_2018_2.zip to data/FlightDelays/On_Time_Reporting_Carrier_On_Time_Performance_1987_present_2018_2.zip\n",
      "download: s3://aws-tc-largeobjects/ILT-TF-200-MLDWTS/flight_delay_project/csvFlightData-5/On_Time_Reporting_Carrier_On_Time_Performance_1987_present_2018_4.zip to data/FlightDelays/On_Time_Reporting_Carrier_On_Time_Performance_1987_present_2018_4.zip\n",
      "download: s3://aws-tc-largeobjects/ILT-TF-200-MLDWTS/flight_delay_project/csvFlightData-5/On_Time_Reporting_Carrier_On_Time_Performance_1987_present_2018_3.zip to data/FlightDelays/On_Time_Reporting_Carrier_On_Time_Performance_1987_present_2018_3.zip\n",
      "download: s3://aws-tc-largeobjects/ILT-TF-200-MLDWTS/flight_delay_project/csvFlightData-5/On_Time_Reporting_Carrier_On_Time_Performance_1987_present_2018_5.zip to data/FlightDelays/On_Time_Reporting_Carrier_On_Time_Performance_1987_present_2018_5.zip\n",
      "download: s3://aws-tc-largeobjects/ILT-TF-200-MLDWTS/flight_delay_project/csvFlightData-5/On_Time_Reporting_Carrier_On_Time_Performance_1987_present_2018_6.zip to data/FlightDelays/On_Time_Reporting_Carrier_On_Time_Performance_1987_present_2018_6.zip\n",
      "download: s3://aws-tc-largeobjects/ILT-TF-200-MLDWTS/flight_delay_project/csvFlightData-5/On_Time_Reporting_Carrier_On_Time_Performance_1987_present_2018_7.zip to data/FlightDelays/On_Time_Reporting_Carrier_On_Time_Performance_1987_present_2018_7.zip\n",
      "download: s3://aws-tc-largeobjects/ILT-TF-200-MLDWTS/flight_delay_project/csvFlightData-5/On_Time_Reporting_Carrier_On_Time_Performance_1987_present_2018_8.zip to data/FlightDelays/On_Time_Reporting_Carrier_On_Time_Performance_1987_present_2018_8.zip\n",
      "download: s3://aws-tc-largeobjects/ILT-TF-200-MLDWTS/flight_delay_project/csvFlightData-5/On_Time_Reporting_Carrier_On_Time_Performance_1987_present_2018_9.zip to data/FlightDelays/On_Time_Reporting_Carrier_On_Time_Performance_1987_present_2018_9.zip\n"
     ]
    }
   ],
   "source": [
    "# Check whether the file is already in the desired path or if it needs to be downloaded\n",
    "\n",
    "base_path = '/home/ec2-user/SageMaker/project/data/FlightDelays/'\n",
    "csv_base_path = '/home/ec2-user/SageMaker/project/data/csvFlightDelays/'\n",
    "file_path = 'On_Time_Reporting_Carrier_On_Time_Performance_1987_present_2014_1.zip'\n",
    "\n",
    "if not os.path.isfile(base_path + file_path):\n",
    "    subprocess.run(['mkdir', '-p', base_path])\n",
    "    subprocess.run(['mkdir', '-p', csv_base_path])\n",
    "    subprocess.run(['aws', 's3', 'cp', \n",
    "                    's3://aws-tc-largeobjects/ILT-TF-200-MLDWTS/flight_delay_project/csvFlightData-5/', \n",
    "                    base_path,'--recursive'])\n",
    "else:\n",
    "    print('File already downloaded!')"
   ]
  },
  {
   "cell_type": "code",
   "execution_count": 7,
   "metadata": {},
   "outputs": [
    {
     "data": {
      "text/plain": [
       "60"
      ]
     },
     "execution_count": 7,
     "metadata": {},
     "output_type": "execute_result"
    }
   ],
   "source": [
    "zip_files = [str(file) for file in list(Path(base_path).iterdir()) if '.zip' in str(file)]\n",
    "len(zip_files)"
   ]
  },
  {
   "cell_type": "markdown",
   "metadata": {},
   "source": [
    "#### Extract CSV files from ZIP files"
   ]
  },
  {
   "cell_type": "code",
   "execution_count": 8,
   "metadata": {
    "scrolled": true
   },
   "outputs": [
    {
     "name": "stdout",
     "output_type": "stream",
     "text": [
      "Extracting /home/ec2-user/SageMaker/project/data/FlightDelays/On_Time_Reporting_Carrier_On_Time_Performance_1987_present_2014_12.zip \n",
      "Extracting /home/ec2-user/SageMaker/project/data/FlightDelays/On_Time_Reporting_Carrier_On_Time_Performance_1987_present_2017_5.zip \n",
      "Extracting /home/ec2-user/SageMaker/project/data/FlightDelays/On_Time_Reporting_Carrier_On_Time_Performance_1987_present_2015_12.zip \n",
      "Extracting /home/ec2-user/SageMaker/project/data/FlightDelays/On_Time_Reporting_Carrier_On_Time_Performance_1987_present_2016_11.zip \n",
      "Extracting /home/ec2-user/SageMaker/project/data/FlightDelays/On_Time_Reporting_Carrier_On_Time_Performance_1987_present_2014_3.zip \n",
      "Extracting /home/ec2-user/SageMaker/project/data/FlightDelays/On_Time_Reporting_Carrier_On_Time_Performance_1987_present_2018_11.zip \n",
      "Extracting /home/ec2-user/SageMaker/project/data/FlightDelays/On_Time_Reporting_Carrier_On_Time_Performance_1987_present_2017_1.zip \n",
      "Extracting /home/ec2-user/SageMaker/project/data/FlightDelays/On_Time_Reporting_Carrier_On_Time_Performance_1987_present_2015_9.zip \n",
      "Extracting /home/ec2-user/SageMaker/project/data/FlightDelays/On_Time_Reporting_Carrier_On_Time_Performance_1987_present_2015_11.zip \n",
      "Extracting /home/ec2-user/SageMaker/project/data/FlightDelays/On_Time_Reporting_Carrier_On_Time_Performance_1987_present_2015_7.zip \n",
      "Extracting /home/ec2-user/SageMaker/project/data/FlightDelays/On_Time_Reporting_Carrier_On_Time_Performance_1987_present_2015_3.zip \n",
      "Extracting /home/ec2-user/SageMaker/project/data/FlightDelays/On_Time_Reporting_Carrier_On_Time_Performance_1987_present_2016_2.zip \n",
      "Extracting /home/ec2-user/SageMaker/project/data/FlightDelays/On_Time_Reporting_Carrier_On_Time_Performance_1987_present_2014_11.zip \n",
      "Extracting /home/ec2-user/SageMaker/project/data/FlightDelays/On_Time_Reporting_Carrier_On_Time_Performance_1987_present_2017_6.zip \n",
      "Extracting /home/ec2-user/SageMaker/project/data/FlightDelays/On_Time_Reporting_Carrier_On_Time_Performance_1987_present_2018_6.zip \n",
      "Extracting /home/ec2-user/SageMaker/project/data/FlightDelays/On_Time_Reporting_Carrier_On_Time_Performance_1987_present_2015_4.zip \n",
      "Extracting /home/ec2-user/SageMaker/project/data/FlightDelays/On_Time_Reporting_Carrier_On_Time_Performance_1987_present_2016_3.zip \n",
      "Extracting /home/ec2-user/SageMaker/project/data/FlightDelays/On_Time_Reporting_Carrier_On_Time_Performance_1987_present_2017_3.zip \n",
      "Extracting /home/ec2-user/SageMaker/project/data/FlightDelays/On_Time_Reporting_Carrier_On_Time_Performance_1987_present_2015_1.zip \n",
      "Extracting /home/ec2-user/SageMaker/project/data/FlightDelays/On_Time_Reporting_Carrier_On_Time_Performance_1987_present_2014_6.zip \n",
      "Extracting /home/ec2-user/SageMaker/project/data/FlightDelays/On_Time_Reporting_Carrier_On_Time_Performance_1987_present_2014_10.zip \n",
      "Extracting /home/ec2-user/SageMaker/project/data/FlightDelays/On_Time_Reporting_Carrier_On_Time_Performance_1987_present_2017_8.zip \n",
      "Extracting /home/ec2-user/SageMaker/project/data/FlightDelays/On_Time_Reporting_Carrier_On_Time_Performance_1987_present_2014_8.zip \n",
      "Extracting /home/ec2-user/SageMaker/project/data/FlightDelays/On_Time_Reporting_Carrier_On_Time_Performance_1987_present_2016_6.zip \n",
      "Extracting /home/ec2-user/SageMaker/project/data/FlightDelays/On_Time_Reporting_Carrier_On_Time_Performance_1987_present_2016_9.zip \n",
      "Extracting /home/ec2-user/SageMaker/project/data/FlightDelays/On_Time_Reporting_Carrier_On_Time_Performance_1987_present_2016_12.zip \n",
      "Extracting /home/ec2-user/SageMaker/project/data/FlightDelays/On_Time_Reporting_Carrier_On_Time_Performance_1987_present_2016_4.zip \n",
      "Extracting /home/ec2-user/SageMaker/project/data/FlightDelays/On_Time_Reporting_Carrier_On_Time_Performance_1987_present_2014_5.zip \n",
      "Extracting /home/ec2-user/SageMaker/project/data/FlightDelays/On_Time_Reporting_Carrier_On_Time_Performance_1987_present_2015_5.zip \n",
      "Extracting /home/ec2-user/SageMaker/project/data/FlightDelays/On_Time_Reporting_Carrier_On_Time_Performance_1987_present_2016_1.zip \n",
      "Extracting /home/ec2-user/SageMaker/project/data/FlightDelays/On_Time_Reporting_Carrier_On_Time_Performance_1987_present_2015_10.zip \n",
      "Extracting /home/ec2-user/SageMaker/project/data/FlightDelays/On_Time_Reporting_Carrier_On_Time_Performance_1987_present_2017_7.zip \n",
      "Extracting /home/ec2-user/SageMaker/project/data/FlightDelays/On_Time_Reporting_Carrier_On_Time_Performance_1987_present_2018_5.zip \n",
      "Extracting /home/ec2-user/SageMaker/project/data/FlightDelays/On_Time_Reporting_Carrier_On_Time_Performance_1987_present_2016_7.zip \n",
      "Extracting /home/ec2-user/SageMaker/project/data/FlightDelays/On_Time_Reporting_Carrier_On_Time_Performance_1987_present_2018_1.zip \n",
      "Extracting /home/ec2-user/SageMaker/project/data/FlightDelays/On_Time_Reporting_Carrier_On_Time_Performance_1987_present_2015_2.zip \n",
      "Extracting /home/ec2-user/SageMaker/project/data/FlightDelays/On_Time_Reporting_Carrier_On_Time_Performance_1987_present_2017_10.zip \n",
      "Extracting /home/ec2-user/SageMaker/project/data/FlightDelays/On_Time_Reporting_Carrier_On_Time_Performance_1987_present_2016_5.zip \n",
      "Extracting /home/ec2-user/SageMaker/project/data/FlightDelays/On_Time_Reporting_Carrier_On_Time_Performance_1987_present_2018_9.zip \n",
      "Extracting /home/ec2-user/SageMaker/project/data/FlightDelays/On_Time_Reporting_Carrier_On_Time_Performance_1987_present_2018_8.zip \n",
      "Extracting /home/ec2-user/SageMaker/project/data/FlightDelays/On_Time_Reporting_Carrier_On_Time_Performance_1987_present_2018_12.zip \n",
      "Extracting /home/ec2-user/SageMaker/project/data/FlightDelays/On_Time_Reporting_Carrier_On_Time_Performance_1987_present_2018_7.zip \n",
      "Extracting /home/ec2-user/SageMaker/project/data/FlightDelays/On_Time_Reporting_Carrier_On_Time_Performance_1987_present_2015_8.zip \n",
      "Extracting /home/ec2-user/SageMaker/project/data/FlightDelays/On_Time_Reporting_Carrier_On_Time_Performance_1987_present_2014_7.zip \n",
      "Extracting /home/ec2-user/SageMaker/project/data/FlightDelays/On_Time_Reporting_Carrier_On_Time_Performance_1987_present_2017_4.zip \n",
      "Extracting /home/ec2-user/SageMaker/project/data/FlightDelays/On_Time_Reporting_Carrier_On_Time_Performance_1987_present_2017_11.zip \n",
      "Extracting /home/ec2-user/SageMaker/project/data/FlightDelays/On_Time_Reporting_Carrier_On_Time_Performance_1987_present_2017_2.zip \n",
      "Extracting /home/ec2-user/SageMaker/project/data/FlightDelays/On_Time_Reporting_Carrier_On_Time_Performance_1987_present_2015_6.zip \n",
      "Extracting /home/ec2-user/SageMaker/project/data/FlightDelays/On_Time_Reporting_Carrier_On_Time_Performance_1987_present_2014_1.zip \n",
      "Extracting /home/ec2-user/SageMaker/project/data/FlightDelays/On_Time_Reporting_Carrier_On_Time_Performance_1987_present_2018_3.zip \n",
      "Extracting /home/ec2-user/SageMaker/project/data/FlightDelays/On_Time_Reporting_Carrier_On_Time_Performance_1987_present_2016_8.zip \n",
      "Extracting /home/ec2-user/SageMaker/project/data/FlightDelays/On_Time_Reporting_Carrier_On_Time_Performance_1987_present_2017_9.zip \n",
      "Extracting /home/ec2-user/SageMaker/project/data/FlightDelays/On_Time_Reporting_Carrier_On_Time_Performance_1987_present_2014_4.zip \n",
      "Extracting /home/ec2-user/SageMaker/project/data/FlightDelays/On_Time_Reporting_Carrier_On_Time_Performance_1987_present_2018_10.zip \n",
      "Extracting /home/ec2-user/SageMaker/project/data/FlightDelays/On_Time_Reporting_Carrier_On_Time_Performance_1987_present_2016_10.zip \n",
      "Extracting /home/ec2-user/SageMaker/project/data/FlightDelays/On_Time_Reporting_Carrier_On_Time_Performance_1987_present_2018_2.zip \n",
      "Extracting /home/ec2-user/SageMaker/project/data/FlightDelays/On_Time_Reporting_Carrier_On_Time_Performance_1987_present_2017_12.zip \n",
      "Extracting /home/ec2-user/SageMaker/project/data/FlightDelays/On_Time_Reporting_Carrier_On_Time_Performance_1987_present_2014_2.zip \n",
      "Extracting /home/ec2-user/SageMaker/project/data/FlightDelays/On_Time_Reporting_Carrier_On_Time_Performance_1987_present_2018_4.zip \n",
      "Extracting /home/ec2-user/SageMaker/project/data/FlightDelays/On_Time_Reporting_Carrier_On_Time_Performance_1987_present_2014_9.zip \n",
      "Files Extracted\n"
     ]
    }
   ],
   "source": [
    "def zip2csv(zipFile_name , file_path = '/home/ec2-user/SageMaker/project/data/csvFlightDelays'):\n",
    "    \"\"\"\n",
    "    Extract csv from zip files\n",
    "    zipFile_name: name of the zip file\n",
    "    file_path : name of the folder to store csv\n",
    "    \"\"\"\n",
    "    try:\n",
    "        with ZipFile(zipFile_name, 'r') as z: \n",
    "            print(f'Extracting {zipFile_name} ') \n",
    "            z.extractall(path=file_path) \n",
    "    except:\n",
    "        print(f'zip2csv failed for {zipFile_name}')\n",
    "\n",
    "for file in zip_files:\n",
    "    zip2csv(file)\n",
    "\n",
    "print(\"Files Extracted\")"
   ]
  },
  {
   "cell_type": "code",
   "execution_count": 9,
   "metadata": {},
   "outputs": [
    {
     "data": {
      "text/plain": [
       "60"
      ]
     },
     "execution_count": 9,
     "metadata": {},
     "output_type": "execute_result"
    }
   ],
   "source": [
    "csv_files = [str(file) for file in list(Path(csv_base_path).iterdir()) if '.csv' in str(file)]\n",
    "len(csv_files)"
   ]
  },
  {
   "cell_type": "markdown",
   "metadata": {},
   "source": [
    "Before loading the CSV file, read the HTML file from the extracted folder. This HTML file includes the background and more information on the features included in the dataset."
   ]
  },
  {
   "cell_type": "code",
   "execution_count": 10,
   "metadata": {},
   "outputs": [
    {
     "data": {
      "text/html": [
       "\n",
       "        <iframe\n",
       "            width=\"1000\"\n",
       "            height=\"600\"\n",
       "            src=\"./data/csvFlightDelays/readme.html\"\n",
       "            frameborder=\"0\"\n",
       "            allowfullscreen\n",
       "            \n",
       "        ></iframe>\n",
       "        "
      ],
      "text/plain": [
       "<IPython.lib.display.IFrame at 0x7fde01287d00>"
      ]
     },
     "execution_count": 10,
     "metadata": {},
     "output_type": "execute_result"
    }
   ],
   "source": [
    "from IPython.display import IFrame\n",
    "\n",
    "IFrame(src=\"./data/csvFlightDelays/readme.html\", width=1000, height=600)"
   ]
  },
  {
   "cell_type": "markdown",
   "metadata": {},
   "source": [
    "#### Load sample CSV\n",
    "\n",
    "Before combining all the CSV files, get a sense of the data from a single CSV file. Using Pandas, read the `On_Time_Reporting_Carrier_On_Time_Performance_(1987_present)_2018_9.csv` file first. You can use the Python built-in `read_csv` function ([documentation](https://pandas.pydata.org/pandas-docs/stable/reference/api/pandas.read_csv.html))."
   ]
  },
  {
   "cell_type": "code",
   "execution_count": 11,
   "metadata": {},
   "outputs": [],
   "source": [
    "df_temp = pd.read_csv(\"data/csvFlightDelays/On_Time_Reporting_Carrier_On_Time_Performance_(1987_present)_2018_9.csv\")"
   ]
  },
  {
   "cell_type": "markdown",
   "metadata": {},
   "source": [
    "**Question**: Print the row and column length in the dataset, and print the column names.\n",
    "\n",
    "**Hint**: Use the `<dataframe>.shape` function to view the rows and columns of a dataframe and `<dataframe>.columns` to view the column names."
   ]
  },
  {
   "cell_type": "code",
   "execution_count": 12,
   "metadata": {},
   "outputs": [
    {
     "name": "stdout",
     "output_type": "stream",
     "text": [
      "Rows and columns in one csv file is (585749, 110)\n"
     ]
    }
   ],
   "source": [
    "df_shape = df_temp.shape\n",
    "print(f'Rows and columns in one csv file is {df_shape}')"
   ]
  },
  {
   "cell_type": "markdown",
   "metadata": {},
   "source": [
    "**Question**: Print the first 10 rows of the dataset.  \n",
    "\n",
    "**Hint**: Use the built-in Pandas function `head(x)` to print `x` number of rows."
   ]
  },
  {
   "cell_type": "code",
   "execution_count": 13,
   "metadata": {
    "scrolled": false
   },
   "outputs": [
    {
     "data": {
      "text/html": [
       "<div>\n",
       "<style scoped>\n",
       "    .dataframe tbody tr th:only-of-type {\n",
       "        vertical-align: middle;\n",
       "    }\n",
       "\n",
       "    .dataframe tbody tr th {\n",
       "        vertical-align: top;\n",
       "    }\n",
       "\n",
       "    .dataframe thead th {\n",
       "        text-align: right;\n",
       "    }\n",
       "</style>\n",
       "<table border=\"1\" class=\"dataframe\">\n",
       "  <thead>\n",
       "    <tr style=\"text-align: right;\">\n",
       "      <th></th>\n",
       "      <th>Year</th>\n",
       "      <th>Quarter</th>\n",
       "      <th>Month</th>\n",
       "      <th>DayofMonth</th>\n",
       "      <th>DayOfWeek</th>\n",
       "      <th>FlightDate</th>\n",
       "      <th>Reporting_Airline</th>\n",
       "      <th>DOT_ID_Reporting_Airline</th>\n",
       "      <th>IATA_CODE_Reporting_Airline</th>\n",
       "      <th>Tail_Number</th>\n",
       "      <th>...</th>\n",
       "      <th>Div4TailNum</th>\n",
       "      <th>Div5Airport</th>\n",
       "      <th>Div5AirportID</th>\n",
       "      <th>Div5AirportSeqID</th>\n",
       "      <th>Div5WheelsOn</th>\n",
       "      <th>Div5TotalGTime</th>\n",
       "      <th>Div5LongestGTime</th>\n",
       "      <th>Div5WheelsOff</th>\n",
       "      <th>Div5TailNum</th>\n",
       "      <th>Unnamed: 109</th>\n",
       "    </tr>\n",
       "  </thead>\n",
       "  <tbody>\n",
       "    <tr>\n",
       "      <th>0</th>\n",
       "      <td>2018</td>\n",
       "      <td>3</td>\n",
       "      <td>9</td>\n",
       "      <td>3</td>\n",
       "      <td>1</td>\n",
       "      <td>2018-09-03</td>\n",
       "      <td>9E</td>\n",
       "      <td>20363</td>\n",
       "      <td>9E</td>\n",
       "      <td>N908XJ</td>\n",
       "      <td>...</td>\n",
       "      <td>NaN</td>\n",
       "      <td>NaN</td>\n",
       "      <td>NaN</td>\n",
       "      <td>NaN</td>\n",
       "      <td>NaN</td>\n",
       "      <td>NaN</td>\n",
       "      <td>NaN</td>\n",
       "      <td>NaN</td>\n",
       "      <td>NaN</td>\n",
       "      <td>NaN</td>\n",
       "    </tr>\n",
       "    <tr>\n",
       "      <th>1</th>\n",
       "      <td>2018</td>\n",
       "      <td>3</td>\n",
       "      <td>9</td>\n",
       "      <td>9</td>\n",
       "      <td>7</td>\n",
       "      <td>2018-09-09</td>\n",
       "      <td>9E</td>\n",
       "      <td>20363</td>\n",
       "      <td>9E</td>\n",
       "      <td>N315PQ</td>\n",
       "      <td>...</td>\n",
       "      <td>NaN</td>\n",
       "      <td>NaN</td>\n",
       "      <td>NaN</td>\n",
       "      <td>NaN</td>\n",
       "      <td>NaN</td>\n",
       "      <td>NaN</td>\n",
       "      <td>NaN</td>\n",
       "      <td>NaN</td>\n",
       "      <td>NaN</td>\n",
       "      <td>NaN</td>\n",
       "    </tr>\n",
       "    <tr>\n",
       "      <th>2</th>\n",
       "      <td>2018</td>\n",
       "      <td>3</td>\n",
       "      <td>9</td>\n",
       "      <td>10</td>\n",
       "      <td>1</td>\n",
       "      <td>2018-09-10</td>\n",
       "      <td>9E</td>\n",
       "      <td>20363</td>\n",
       "      <td>9E</td>\n",
       "      <td>N582CA</td>\n",
       "      <td>...</td>\n",
       "      <td>NaN</td>\n",
       "      <td>NaN</td>\n",
       "      <td>NaN</td>\n",
       "      <td>NaN</td>\n",
       "      <td>NaN</td>\n",
       "      <td>NaN</td>\n",
       "      <td>NaN</td>\n",
       "      <td>NaN</td>\n",
       "      <td>NaN</td>\n",
       "      <td>NaN</td>\n",
       "    </tr>\n",
       "    <tr>\n",
       "      <th>3</th>\n",
       "      <td>2018</td>\n",
       "      <td>3</td>\n",
       "      <td>9</td>\n",
       "      <td>13</td>\n",
       "      <td>4</td>\n",
       "      <td>2018-09-13</td>\n",
       "      <td>9E</td>\n",
       "      <td>20363</td>\n",
       "      <td>9E</td>\n",
       "      <td>N292PQ</td>\n",
       "      <td>...</td>\n",
       "      <td>NaN</td>\n",
       "      <td>NaN</td>\n",
       "      <td>NaN</td>\n",
       "      <td>NaN</td>\n",
       "      <td>NaN</td>\n",
       "      <td>NaN</td>\n",
       "      <td>NaN</td>\n",
       "      <td>NaN</td>\n",
       "      <td>NaN</td>\n",
       "      <td>NaN</td>\n",
       "    </tr>\n",
       "    <tr>\n",
       "      <th>4</th>\n",
       "      <td>2018</td>\n",
       "      <td>3</td>\n",
       "      <td>9</td>\n",
       "      <td>14</td>\n",
       "      <td>5</td>\n",
       "      <td>2018-09-14</td>\n",
       "      <td>9E</td>\n",
       "      <td>20363</td>\n",
       "      <td>9E</td>\n",
       "      <td>N600LR</td>\n",
       "      <td>...</td>\n",
       "      <td>NaN</td>\n",
       "      <td>NaN</td>\n",
       "      <td>NaN</td>\n",
       "      <td>NaN</td>\n",
       "      <td>NaN</td>\n",
       "      <td>NaN</td>\n",
       "      <td>NaN</td>\n",
       "      <td>NaN</td>\n",
       "      <td>NaN</td>\n",
       "      <td>NaN</td>\n",
       "    </tr>\n",
       "  </tbody>\n",
       "</table>\n",
       "<p>5 rows × 110 columns</p>\n",
       "</div>"
      ],
      "text/plain": [
       "   Year  Quarter  Month  DayofMonth  DayOfWeek  FlightDate Reporting_Airline  \\\n",
       "0  2018        3      9           3          1  2018-09-03                9E   \n",
       "1  2018        3      9           9          7  2018-09-09                9E   \n",
       "2  2018        3      9          10          1  2018-09-10                9E   \n",
       "3  2018        3      9          13          4  2018-09-13                9E   \n",
       "4  2018        3      9          14          5  2018-09-14                9E   \n",
       "\n",
       "   DOT_ID_Reporting_Airline IATA_CODE_Reporting_Airline Tail_Number  ...  \\\n",
       "0                     20363                          9E      N908XJ  ...   \n",
       "1                     20363                          9E      N315PQ  ...   \n",
       "2                     20363                          9E      N582CA  ...   \n",
       "3                     20363                          9E      N292PQ  ...   \n",
       "4                     20363                          9E      N600LR  ...   \n",
       "\n",
       "   Div4TailNum  Div5Airport  Div5AirportID  Div5AirportSeqID Div5WheelsOn  \\\n",
       "0          NaN          NaN            NaN               NaN          NaN   \n",
       "1          NaN          NaN            NaN               NaN          NaN   \n",
       "2          NaN          NaN            NaN               NaN          NaN   \n",
       "3          NaN          NaN            NaN               NaN          NaN   \n",
       "4          NaN          NaN            NaN               NaN          NaN   \n",
       "\n",
       "  Div5TotalGTime Div5LongestGTime  Div5WheelsOff Div5TailNum  Unnamed: 109  \n",
       "0            NaN              NaN            NaN         NaN           NaN  \n",
       "1            NaN              NaN            NaN         NaN           NaN  \n",
       "2            NaN              NaN            NaN         NaN           NaN  \n",
       "3            NaN              NaN            NaN         NaN           NaN  \n",
       "4            NaN              NaN            NaN         NaN           NaN  \n",
       "\n",
       "[5 rows x 110 columns]"
      ]
     },
     "execution_count": 13,
     "metadata": {},
     "output_type": "execute_result"
    }
   ],
   "source": [
    "df_temp.head()"
   ]
  },
  {
   "cell_type": "markdown",
   "metadata": {},
   "source": [
    "**Question**: Print all the columns in the dataset. Use `<dataframe>.columns` to view the column names."
   ]
  },
  {
   "cell_type": "code",
   "execution_count": 14,
   "metadata": {},
   "outputs": [
    {
     "name": "stdout",
     "output_type": "stream",
     "text": [
      "The column names are :\n",
      "#########\n",
      "Year\n",
      "Quarter\n",
      "Month\n",
      "DayofMonth\n",
      "DayOfWeek\n",
      "FlightDate\n",
      "Reporting_Airline\n",
      "DOT_ID_Reporting_Airline\n",
      "IATA_CODE_Reporting_Airline\n",
      "Tail_Number\n",
      "Flight_Number_Reporting_Airline\n",
      "OriginAirportID\n",
      "OriginAirportSeqID\n",
      "OriginCityMarketID\n",
      "Origin\n",
      "OriginCityName\n",
      "OriginState\n",
      "OriginStateFips\n",
      "OriginStateName\n",
      "OriginWac\n",
      "DestAirportID\n",
      "DestAirportSeqID\n",
      "DestCityMarketID\n",
      "Dest\n",
      "DestCityName\n",
      "DestState\n",
      "DestStateFips\n",
      "DestStateName\n",
      "DestWac\n",
      "CRSDepTime\n",
      "DepTime\n",
      "DepDelay\n",
      "DepDelayMinutes\n",
      "DepDel15\n",
      "DepartureDelayGroups\n",
      "DepTimeBlk\n",
      "TaxiOut\n",
      "WheelsOff\n",
      "WheelsOn\n",
      "TaxiIn\n",
      "CRSArrTime\n",
      "ArrTime\n",
      "ArrDelay\n",
      "ArrDelayMinutes\n",
      "ArrDel15\n",
      "ArrivalDelayGroups\n",
      "ArrTimeBlk\n",
      "Cancelled\n",
      "CancellationCode\n",
      "Diverted\n",
      "CRSElapsedTime\n",
      "ActualElapsedTime\n",
      "AirTime\n",
      "Flights\n",
      "Distance\n",
      "DistanceGroup\n",
      "CarrierDelay\n",
      "WeatherDelay\n",
      "NASDelay\n",
      "SecurityDelay\n",
      "LateAircraftDelay\n",
      "FirstDepTime\n",
      "TotalAddGTime\n",
      "LongestAddGTime\n",
      "DivAirportLandings\n",
      "DivReachedDest\n",
      "DivActualElapsedTime\n",
      "DivArrDelay\n",
      "DivDistance\n",
      "Div1Airport\n",
      "Div1AirportID\n",
      "Div1AirportSeqID\n",
      "Div1WheelsOn\n",
      "Div1TotalGTime\n",
      "Div1LongestGTime\n",
      "Div1WheelsOff\n",
      "Div1TailNum\n",
      "Div2Airport\n",
      "Div2AirportID\n",
      "Div2AirportSeqID\n",
      "Div2WheelsOn\n",
      "Div2TotalGTime\n",
      "Div2LongestGTime\n",
      "Div2WheelsOff\n",
      "Div2TailNum\n",
      "Div3Airport\n",
      "Div3AirportID\n",
      "Div3AirportSeqID\n",
      "Div3WheelsOn\n",
      "Div3TotalGTime\n",
      "Div3LongestGTime\n",
      "Div3WheelsOff\n",
      "Div3TailNum\n",
      "Div4Airport\n",
      "Div4AirportID\n",
      "Div4AirportSeqID\n",
      "Div4WheelsOn\n",
      "Div4TotalGTime\n",
      "Div4LongestGTime\n",
      "Div4WheelsOff\n",
      "Div4TailNum\n",
      "Div5Airport\n",
      "Div5AirportID\n",
      "Div5AirportSeqID\n",
      "Div5WheelsOn\n",
      "Div5TotalGTime\n",
      "Div5LongestGTime\n",
      "Div5WheelsOff\n",
      "Div5TailNum\n",
      "Unnamed: 109\n"
     ]
    }
   ],
   "source": [
    "print(f'The column names are :')\n",
    "print('#########')\n",
    "for col in df_temp:\n",
    "    print(col)"
   ]
  },
  {
   "cell_type": "markdown",
   "metadata": {},
   "source": [
    "**Question**: Print all the columns in the dataset that contain the word 'Del'. This will help you see how many columns have delay data in them.\n",
    "\n",
    "**Hint**: You can use a Python list comprehension to include values that pass certain `if` statement criteria.\n",
    "\n",
    "For example: `[x for x in [1,2,3,4,5] if x > 2]`  \n",
    "\n",
    "**Hint**: You can use the `in` keyword ([documentation](https://www.w3schools.com/python/ref_keyword_in.asp)) to check if the value is in a list or not. \n",
    "\n",
    "For example: `5 in [1,2,3,4,5]`"
   ]
  },
  {
   "cell_type": "code",
   "execution_count": 15,
   "metadata": {},
   "outputs": [
    {
     "name": "stdout",
     "output_type": "stream",
     "text": [
      "DepDelay\n",
      "DepDelayMinutes\n",
      "DepDel15\n",
      "DepartureDelayGroups\n",
      "ArrDelay\n",
      "ArrDelayMinutes\n",
      "ArrDel15\n",
      "ArrivalDelayGroups\n",
      "CarrierDelay\n",
      "WeatherDelay\n",
      "NASDelay\n",
      "SecurityDelay\n",
      "LateAircraftDelay\n",
      "DivArrDelay\n"
     ]
    }
   ],
   "source": [
    "for col in df_temp:\n",
    "    if \"Del\" in col:\n",
    "        print(col)"
   ]
  },
  {
   "cell_type": "markdown",
   "metadata": {},
   "source": [
    "Here are some more questions to help you find out more about your dataset.\n",
    "\n",
    "**Questions**   \n",
    "1. How many rows and columns does the dataset have?   \n",
    "2. How many years are included in the dataset?   \n",
    "3. What is the date range for the dataset?   \n",
    "4. Which airlines are included in the dataset?   \n",
    "5. Which origin and destination airports are covered?"
   ]
  },
  {
   "cell_type": "code",
   "execution_count": 16,
   "metadata": {},
   "outputs": [
    {
     "data": {
      "text/plain": [
       "Index(['Year', 'Quarter', 'Month', 'DayofMonth', 'DayOfWeek', 'FlightDate',\n",
       "       'Reporting_Airline', 'DOT_ID_Reporting_Airline',\n",
       "       'IATA_CODE_Reporting_Airline', 'Tail_Number',\n",
       "       ...\n",
       "       'Div4TailNum', 'Div5Airport', 'Div5AirportID', 'Div5AirportSeqID',\n",
       "       'Div5WheelsOn', 'Div5TotalGTime', 'Div5LongestGTime', 'Div5WheelsOff',\n",
       "       'Div5TailNum', 'Unnamed: 109'],\n",
       "      dtype='object', length=110)"
      ]
     },
     "execution_count": 16,
     "metadata": {},
     "output_type": "execute_result"
    }
   ],
   "source": [
    "df_temp.columns"
   ]
  },
  {
   "cell_type": "code",
   "execution_count": 17,
   "metadata": {},
   "outputs": [
    {
     "name": "stdout",
     "output_type": "stream",
     "text": [
      "The #rows and #columns are  585749  and  110\n",
      "The years in this dataset are:  [2018]\n",
      "The months covered in this dataset are:  [9]\n",
      "The date range for data is : 1  to  30\n",
      "The airlines covered in this dataset are:  ['9E', 'B6', 'WN', 'YV', 'YX', 'EV', 'AA', 'AS', 'DL', 'HA', 'UA', 'F9', 'G4', 'MQ', 'NK', 'OH', 'OO']\n",
      "The Origin airports covered are:  ['Dallas/Fort Worth, TX', 'New York, NY', 'Madison, WI', 'Minneapolis, MN', 'Atlanta, GA', 'Hartford, CT', 'Valdosta, GA', 'Raleigh/Durham, NC', 'Charleston, SC', 'Detroit, MI', 'Green Bay, WI', 'Providence, RI', 'Shreveport, LA', 'Flint, MI', 'Pittsburgh, PA', 'Richmond, VA', 'Rochester, MN', 'Fort Myers, FL', 'Cincinnati, OH', 'Little Rock, AR', 'Chicago, IL', 'Jacksonville, FL', 'Bristol/Johnson City/Kingsport, TN', 'Boston, MA', 'Mosinee, WI', 'Washington, DC', 'Charlottesville, VA', 'Scranton/Wilkes-Barre, PA', 'Indianapolis, IN', 'Grand Rapids, MI', 'Baton Rouge, LA', 'Memphis, TN', 'Tulsa, OK', 'Cleveland, OH', 'St. Louis, MO', 'Burlington, VT', 'Omaha, NE', 'Montgomery, AL', 'Traverse City, MI', 'Savannah, GA', 'Greer, SC', 'Newark, NJ', 'Jacksonville/Camp Lejeune, NC', 'Nashville, TN', 'Kansas City, MO', 'Tallahassee, FL', 'Rochester, NY', 'Lexington, KY', 'Portland, ME', 'Buffalo, NY', 'Augusta, GA', 'Charlotte, NC', 'Greensboro/High Point, NC', 'Baltimore, MD', 'San Antonio, TX', 'Philadelphia, PA', 'Knoxville, TN', 'Nantucket, MA', 'Des Moines, IA', 'Gainesville, FL', 'Asheville, NC', 'Bangor, ME', 'Manchester, NH', 'Wilmington, NC', 'Minot, ND', 'Houston, TX', 'South Bend, IN', 'Syracuse, NY', 'Norfolk, VA', 'Milwaukee, WI', 'Fayetteville, AR', 'New Orleans, LA', 'West Palm Beach/Palm Beach, FL', 'Allentown/Bethlehem/Easton, PA', 'White Plains, NY', 'Evansville, IN', 'Albany, NY', 'Lincoln, NE', 'Austin, TX', 'Newport News/Williamsburg, VA', 'Chattanooga, TN', 'Columbus, MS', 'Bloomington/Normal, IL', 'Brunswick, GA', 'Cedar Rapids/Iowa City, IA', 'Akron, OH', 'Appleton, WI', 'Albany, GA', 'Columbia, SC', 'Sarasota/Bradenton, FL', 'Moline, IL', 'Birmingham, AL', 'Columbus, GA', 'Columbus, OH', 'Orlando, FL', 'Saginaw/Bay City/Midland, MI', 'Fort Lauderdale, FL', 'Louisville, KY', 'Tampa, FL', \"Martha's Vineyard, MA\", 'Las Vegas, NV', 'Long Beach, CA', 'San Francisco, CA', 'San Diego, CA', 'Los Angeles, CA', 'Reno, NV', 'Portland, OR', 'Anchorage, AK', 'Albuquerque, NM', 'Salt Lake City, UT', 'Denver, CO', 'Phoenix, AZ', 'Oakland, CA', 'Sacramento, CA', 'San Juan, PR', 'Seattle, WA', 'Christiansted, VI', 'Burbank, CA', 'Newburgh/Poughkeepsie, NY', 'San Jose, CA', 'Daytona Beach, FL', 'Aguadilla, PR', 'Ponce, PR', 'Worcester, MA', 'Hyannis, MA', 'Charlotte Amalie, VI', 'Ontario, CA', 'Harlingen/San Benito, TX', 'Wichita, KS', 'Islip, NY', 'Lubbock, TX', 'Midland/Odessa, TX', 'Oklahoma City, OK', 'Pensacola, FL', 'Santa Ana, CA', 'Tucson, AZ', 'Amarillo, TX', 'Boise, ID', 'Corpus Christi, TX', 'Dallas, TX', 'Panama City, FL', 'El Paso, TX', 'Spokane, WA', 'Lafayette, LA', 'Mission/McAllen/Edinburg, TX', 'Harrisburg, PA', 'Jackson/Vicksburg, MS', 'Colorado Springs, CO', 'Mobile, AL', 'Valparaiso, FL', 'Montrose/Delta, CO', 'Durango, CO', 'Gulfport/Biloxi, MS', 'Bakersfield, CA', 'Monterey, CA', 'Santa Barbara, CA', 'Palm Springs, CA', 'Sioux Falls, SD', 'Brownsville, TX', 'Rapid City, SD', 'Columbia, MO', 'Santa Rosa, CA', 'Peoria, IL', 'Fresno, CA', 'San Luis Obispo, CA', 'Fort Smith, AR', 'Huntsville, AL', 'Bismarck/Mandan, ND', 'Dayton, OH', 'Bozeman, MT', 'Miami, FL', 'Key West, FL', 'Myrtle Beach, SC', 'Hilton Head, SC', 'Grand Junction, CO', 'Fargo, ND', 'Springfield, MO', 'Hobbs, NM', 'College Station/Bryan, TX', 'Laredo, TX', 'Alexandria, LA', 'Erie, PA', 'Monroe, LA', 'Lake Charles, LA', 'Roanoke, VA', 'Lawton/Fort Sill, OK', 'Manhattan/Ft. Riley, KS', 'Killeen, TX', 'Santa Fe, NM', 'Grand Island, NE', 'Joplin, MO', 'Roswell, NM', 'Fort Wayne, IN', 'Charleston/Dunbar, WV', 'Lansing, MI', 'Kahului, HI', 'Honolulu, HI', 'Kona, HI', 'Eagle, CO', 'Lihue, HI', 'Melbourne, FL', 'Jackson, WY', 'Fairbanks, AK', 'Bend/Redmond, OR', 'Kodiak, AK', 'Bethel, AK', 'Barrow, AK', 'Deadhorse, AK', 'Ketchikan, AK', 'Yakutat, AK', 'Cordova, AK', 'Juneau, AK', 'Sitka, AK', 'Petersburg, AK', 'Wrangell, AK', 'Nome, AK', 'Kotzebue, AK', 'Adak Island, AK', 'Kalispell, MT', 'Fayetteville, NC', 'Pasco/Kennewick/Richland, WA', 'Billings, MT', 'Missoula, MT', 'Hilo, HI', 'Pago Pago, TT', 'Medford, OR', 'Eugene, OR', 'Guam, TT', 'Saipan, TT', 'Duluth, MN', 'Trenton, NJ', 'Branson, MO', 'Sanford, FL', 'St. Petersburg, FL', 'Punta Gorda, FL', 'Santa Maria, CA', 'Rockford, IL', 'Stockton, CA', 'Owensboro, KY', 'Ashland, WV', 'Belleville, IL', 'Niagara Falls, NY', 'CONCORD, NC', 'Grand Forks, ND', 'Bellingham, WA', 'Elmira/Corning, NY', 'Plattsburgh, NY', 'Great Falls, MT', 'Ogden, UT', 'Idaho Falls, ID', 'Provo, UT', 'Toledo, OH', 'Portsmouth, NH', 'Clarksburg/Fairmont, WV', 'Hagerstown, MD', 'Springfield, IL', 'St. Cloud, MN', 'Waco, TX', 'Tyler, TX', 'Abilene, TX', 'Kalamazoo, MI', 'Champaign/Urbana, IL', 'Beaumont/Port Arthur, TX', 'Garden City, KS', 'Marquette, MI', 'Waterloo, IA', 'Texarkana, AR', 'Wichita Falls, TX', 'Stillwater, OK', 'Dubuque, IA', 'Sioux City, IA', 'San Angelo, TX', 'Longview, TX', 'La Crosse, WI', 'Latrobe, PA', 'Atlantic City, NJ', 'Lynchburg, VA', 'Greenville, NC', 'New Haven, CT', 'New Bern/Morehead/Beaufort, NC', 'Dothan, AL', 'Pocatello, ID', 'Iron Mountain/Kingsfd, MI', 'West Yellowstone, MT', 'Casper, WY', 'State College, PA', 'Helena, MT', 'Sun Valley/Hailey/Ketchum, ID', 'Williston, ND', 'Hancock/Houghton, MI', 'Eau Claire, WI', 'Lewisburg, WV', 'Staunton, VA', 'North Platte, NE', 'Hays, KS', 'Salina, KS', 'Kearney, NE', 'Vernal, UT', 'Moab, UT', 'Gillette, WY', 'Rock Springs, WY', 'Pueblo, CO', 'Liberal, KS', 'Muskegon, MI', 'Paducah, KY', 'Cape Girardeau, MO', 'Quincy, IL', 'Scottsbluff, NE', 'Devils Lake, ND', 'Jamestown, ND', 'Laramie, WY', 'St. George, UT', 'Prescott, AZ', 'Aspen, CO', 'Redding, CA', 'Arcata/Eureka, CA', 'North Bend/Coos Bay, OR', 'Cody, WY', 'Lewiston, ID', 'Aberdeen, SD', 'Alpena, MI', 'Escanaba, MI', 'Pellston, MI', 'Bemidji, MN', 'Brainerd, MN', 'Butte, MT', 'Cedar City, UT', 'Sault Ste. Marie, MI', 'Elko, NV', 'Twin Falls, ID', 'Hibbing, MN', 'Binghamton, NY', 'Rhinelander, WI', 'Ithaca/Cortland, NY', 'International Falls, MN', 'Flagstaff, AZ', 'Yuma, AZ', 'Meridian, MS', 'Hattiesburg/Laurel, MS', 'Hayden, CO']\n",
      "The Destination airports covered are:  ['Cincinnati, OH', 'Portland, ME', 'Raleigh/Durham, NC', 'Minneapolis, MN', 'Madison, WI', 'Shreveport, LA', 'Charlotte, NC', 'Pittsburgh, PA', 'Richmond, VA', 'Houston, TX', 'Atlanta, GA', 'New York, NY', 'Washington, DC', 'Detroit, MI', 'Knoxville, TN', 'Providence, RI', 'Flint, MI', 'Little Rock, AR', 'Buffalo, NY', 'Chicago, IL', 'Bristol/Johnson City/Kingsport, TN', 'Indianapolis, IN', 'Bangor, ME', 'Scranton/Wilkes-Barre, PA', 'Baltimore, MD', 'Lexington, KY', 'Hartford, CT', 'Grand Rapids, MI', 'Mosinee, WI', 'Tulsa, OK', 'Memphis, TN', 'Augusta, GA', 'Newark, NJ', 'Montgomery, AL', 'Philadelphia, PA', 'Syracuse, NY', 'Omaha, NE', 'St. Louis, MO', 'Traverse City, MI', 'Norfolk, VA', 'Cleveland, OH', 'Albany, GA', 'Boston, MA', 'Jacksonville/Camp Lejeune, NC', 'Tallahassee, FL', 'Baton Rouge, LA', 'San Antonio, TX', 'Jacksonville, FL', 'Nashville, TN', 'Charlottesville, VA', 'Valdosta, GA', 'Rochester, NY', 'Dallas/Fort Worth, TX', 'Gainesville, FL', 'Nantucket, MA', 'West Palm Beach/Palm Beach, FL', 'Charleston, SC', 'Green Bay, WI', 'Minot, ND', 'Milwaukee, WI', 'Des Moines, IA', 'Wilmington, NC', 'Greensboro/High Point, NC', 'Kansas City, MO', 'South Bend, IN', 'Burlington, VT', \"Martha's Vineyard, MA\", 'Fayetteville, AR', 'Rochester, MN', 'Evansville, IN', 'White Plains, NY', 'Fort Myers, FL', 'Harrisburg, PA', 'Roanoke, VA', 'Greer, SC', 'Orlando, FL', 'Columbus, GA', 'Savannah, GA', 'Newport News/Williamsburg, VA', 'Albany, NY', 'Chattanooga, TN', 'Allentown/Bethlehem/Easton, PA', 'Bloomington/Normal, IL', 'New Orleans, LA', 'Columbus, MS', 'Cedar Rapids/Iowa City, IA', 'Akron, OH', 'Appleton, WI', 'Austin, TX', 'Brunswick, GA', 'Moline, IL', 'Columbia, SC', 'Columbus, OH', 'Asheville, NC', 'Saginaw/Bay City/Midland, MI', 'Fort Lauderdale, FL', 'Louisville, KY', 'Tampa, FL', 'Lincoln, NE', 'Sarasota/Bradenton, FL', 'Manchester, NH', 'Birmingham, AL', 'Las Vegas, NV', 'San Francisco, CA', 'San Diego, CA', 'Reno, NV', 'Long Beach, CA', 'Anchorage, AK', 'Portland, OR', 'San Juan, PR', 'Albuquerque, NM', 'Salt Lake City, UT', 'Denver, CO', 'Los Angeles, CA', 'Phoenix, AZ', 'Oakland, CA', 'Sacramento, CA', 'Seattle, WA', 'Christiansted, VI', 'Burbank, CA', 'Daytona Beach, FL', 'San Jose, CA', 'Newburgh/Poughkeepsie, NY', 'Aguadilla, PR', 'Ponce, PR', 'Worcester, MA', 'Hyannis, MA', 'Charlotte Amalie, VI', 'Ontario, CA', 'Dallas, TX', 'Panama City, FL', 'El Paso, TX', 'Harlingen/San Benito, TX', 'Midland/Odessa, TX', 'Oklahoma City, OK', 'Pensacola, FL', 'Santa Ana, CA', 'Amarillo, TX', 'Boise, ID', 'Spokane, WA', 'Wichita, KS', 'Lubbock, TX', 'Tucson, AZ', 'Islip, NY', 'Corpus Christi, TX', 'Mission/McAllen/Edinburg, TX', 'Lafayette, LA', 'Valparaiso, FL', 'Jackson/Vicksburg, MS', 'Colorado Springs, CO', 'Mobile, AL', 'Durango, CO', 'Gulfport/Biloxi, MS', 'Bakersfield, CA', 'Columbia, MO', 'San Luis Obispo, CA', 'Montrose/Delta, CO', 'Santa Barbara, CA', 'Palm Springs, CA', 'Sioux Falls, SD', 'Fort Smith, AR', 'Brownsville, TX', 'Peoria, IL', 'Santa Rosa, CA', 'Fresno, CA', 'Rapid City, SD', 'Monterey, CA', 'Huntsville, AL', 'Bismarck/Mandan, ND', 'Dayton, OH', 'Bozeman, MT', 'Miami, FL', 'Key West, FL', 'Myrtle Beach, SC', 'Hilton Head, SC', 'Grand Junction, CO', 'Fargo, ND', 'Monroe, LA', 'Laredo, TX', 'College Station/Bryan, TX', 'Lake Charles, LA', 'Fort Wayne, IN', 'Killeen, TX', 'Springfield, MO', 'Hobbs, NM', 'Lawton/Fort Sill, OK', 'Manhattan/Ft. Riley, KS', 'Santa Fe, NM', 'Joplin, MO', 'Roswell, NM', 'Grand Island, NE', 'Alexandria, LA', 'Charleston/Dunbar, WV', 'Lansing, MI', 'Erie, PA', 'Honolulu, HI', 'Kona, HI', 'Kahului, HI', 'Eagle, CO', 'Lihue, HI', 'Jackson, WY', 'Melbourne, FL', 'Bend/Redmond, OR', 'Bethel, AK', 'Kodiak, AK', 'Barrow, AK', 'Deadhorse, AK', 'Fairbanks, AK', 'Juneau, AK', 'Cordova, AK', 'Yakutat, AK', 'Sitka, AK', 'Ketchikan, AK', 'Wrangell, AK', 'Petersburg, AK', 'Nome, AK', 'Kotzebue, AK', 'Adak Island, AK', 'Kalispell, MT', 'Billings, MT', 'Pasco/Kennewick/Richland, WA', 'Fayetteville, NC', 'Missoula, MT', 'Hilo, HI', 'Pago Pago, TT', 'Medford, OR', 'Duluth, MN', 'Eugene, OR', 'Guam, TT', 'Saipan, TT', 'Trenton, NJ', 'Branson, MO', 'Sanford, FL', 'Bellingham, WA', 'Stockton, CA', 'St. Petersburg, FL', 'Rockford, IL', 'Provo, UT', 'Plattsburgh, NY', 'Belleville, IL', 'Punta Gorda, FL', 'Springfield, IL', 'CONCORD, NC', 'Toledo, OH', 'Idaho Falls, ID', 'Elmira/Corning, NY', 'Ashland, WV', 'Hagerstown, MD', 'Santa Maria, CA', 'Ogden, UT', 'Grand Forks, ND', 'St. Cloud, MN', 'Great Falls, MT', 'Niagara Falls, NY', 'Clarksburg/Fairmont, WV', 'Owensboro, KY', 'Portsmouth, NH', 'Abilene, TX', 'Tyler, TX', 'Waterloo, IA', 'Sioux City, IA', 'Kalamazoo, MI', 'Waco, TX', 'Champaign/Urbana, IL', 'Beaumont/Port Arthur, TX', 'Texarkana, AR', 'Stillwater, OK', 'Wichita Falls, TX', 'Dubuque, IA', 'San Angelo, TX', 'Longview, TX', 'La Crosse, WI', 'Marquette, MI', 'Garden City, KS', 'Latrobe, PA', 'Atlantic City, NJ', 'Lynchburg, VA', 'Greenville, NC', 'New Haven, CT', 'New Bern/Morehead/Beaufort, NC', 'Dothan, AL', 'Pocatello, ID', 'West Yellowstone, MT', 'State College, PA', 'Iron Mountain/Kingsfd, MI', 'Helena, MT', 'Aspen, CO', 'Sun Valley/Hailey/Ketchum, ID', 'Williston, ND', 'Kearney, NE', 'St. George, UT', 'Vernal, UT', 'Staunton, VA', 'Lewisburg, WV', 'Muskegon, MI', 'Salina, KS', 'Hays, KS', 'Scottsbluff, NE', 'Pueblo, CO', 'Liberal, KS', 'Hancock/Houghton, MI', 'Eau Claire, WI', 'Paducah, KY', 'Quincy, IL', 'Rock Springs, WY', 'Cape Girardeau, MO', 'Moab, UT', 'Jamestown, ND', 'Devils Lake, ND', 'Laramie, WY', 'Gillette, WY', 'North Platte, NE', 'Prescott, AZ', 'Redding, CA', 'Arcata/Eureka, CA', 'North Bend/Coos Bay, OR', 'Cody, WY', 'Lewiston, ID', 'Aberdeen, SD', 'Alpena, MI', 'Pellston, MI', 'Bemidji, MN', 'Casper, WY', 'Brainerd, MN', 'Butte, MT', 'Cedar City, UT', 'Sault Ste. Marie, MI', 'Escanaba, MI', 'Elko, NV', 'Ithaca/Cortland, NY', 'Hibbing, MN', 'Binghamton, NY', 'Twin Falls, ID', 'Rhinelander, WI', 'International Falls, MN', 'Flagstaff, AZ', 'Yuma, AZ', 'Meridian, MS', 'Hattiesburg/Laurel, MS', 'Hayden, CO']\n"
     ]
    }
   ],
   "source": [
    "print(\"The #rows and #columns are \", df_temp.shape[0], \" and \", df_temp.shape[1])\n",
    "print(\"The years in this dataset are: \", df_temp[\"Year\"].unique())\n",
    "print(\"The months covered in this dataset are: \", df_temp[\"Month\"].unique())\n",
    "print(\"The date range for data is :\" , min(df_temp[\"DayofMonth\"]), \" to \", max(df_temp[\"DayofMonth\"]))\n",
    "print(\"The airlines covered in this dataset are: \", list(df_temp[\"Reporting_Airline\"].unique()))\n",
    "print(\"The Origin airports covered are: \", list(df_temp[\"OriginCityName\"].unique()))\n",
    "print(\"The Destination airports covered are: \", list(df_temp[\"DestCityName\"].unique()))"
   ]
  },
  {
   "cell_type": "markdown",
   "metadata": {},
   "source": [
    "**Question**: What is the count of all the origin and destination airports?\n",
    "\n",
    "**Hint**: You can use the Pandas `values_count` function ([documentation](https://pandas.pydata.org/pandas-docs/stable/reference/api/pandas.Series.value_counts.html)) to find out the values for each airport using the columns `Origin` and `Dest`."
   ]
  },
  {
   "cell_type": "code",
   "execution_count": 18,
   "metadata": {},
   "outputs": [
    {
     "data": {
      "text/html": [
       "<div>\n",
       "<style scoped>\n",
       "    .dataframe tbody tr th:only-of-type {\n",
       "        vertical-align: middle;\n",
       "    }\n",
       "\n",
       "    .dataframe tbody tr th {\n",
       "        vertical-align: top;\n",
       "    }\n",
       "\n",
       "    .dataframe thead th {\n",
       "        text-align: right;\n",
       "    }\n",
       "</style>\n",
       "<table border=\"1\" class=\"dataframe\">\n",
       "  <thead>\n",
       "    <tr style=\"text-align: right;\">\n",
       "      <th></th>\n",
       "      <th>Origin</th>\n",
       "      <th>Destination</th>\n",
       "    </tr>\n",
       "  </thead>\n",
       "  <tbody>\n",
       "    <tr>\n",
       "      <th>ABE</th>\n",
       "      <td>303</td>\n",
       "      <td>303</td>\n",
       "    </tr>\n",
       "    <tr>\n",
       "      <th>ABI</th>\n",
       "      <td>169</td>\n",
       "      <td>169</td>\n",
       "    </tr>\n",
       "    <tr>\n",
       "      <th>ABQ</th>\n",
       "      <td>2077</td>\n",
       "      <td>2076</td>\n",
       "    </tr>\n",
       "    <tr>\n",
       "      <th>ABR</th>\n",
       "      <td>60</td>\n",
       "      <td>60</td>\n",
       "    </tr>\n",
       "    <tr>\n",
       "      <th>ABY</th>\n",
       "      <td>79</td>\n",
       "      <td>79</td>\n",
       "    </tr>\n",
       "    <tr>\n",
       "      <th>...</th>\n",
       "      <td>...</td>\n",
       "      <td>...</td>\n",
       "    </tr>\n",
       "    <tr>\n",
       "      <th>WRG</th>\n",
       "      <td>60</td>\n",
       "      <td>60</td>\n",
       "    </tr>\n",
       "    <tr>\n",
       "      <th>WYS</th>\n",
       "      <td>52</td>\n",
       "      <td>52</td>\n",
       "    </tr>\n",
       "    <tr>\n",
       "      <th>XNA</th>\n",
       "      <td>1004</td>\n",
       "      <td>1004</td>\n",
       "    </tr>\n",
       "    <tr>\n",
       "      <th>YAK</th>\n",
       "      <td>60</td>\n",
       "      <td>60</td>\n",
       "    </tr>\n",
       "    <tr>\n",
       "      <th>YUM</th>\n",
       "      <td>96</td>\n",
       "      <td>96</td>\n",
       "    </tr>\n",
       "  </tbody>\n",
       "</table>\n",
       "<p>346 rows × 2 columns</p>\n",
       "</div>"
      ],
      "text/plain": [
       "     Origin  Destination\n",
       "ABE     303          303\n",
       "ABI     169          169\n",
       "ABQ    2077         2076\n",
       "ABR      60           60\n",
       "ABY      79           79\n",
       "..      ...          ...\n",
       "WRG      60           60\n",
       "WYS      52           52\n",
       "XNA    1004         1004\n",
       "YAK      60           60\n",
       "YUM      96           96\n",
       "\n",
       "[346 rows x 2 columns]"
      ]
     },
     "execution_count": 18,
     "metadata": {},
     "output_type": "execute_result"
    }
   ],
   "source": [
    "counts = pd.DataFrame({'Origin': df_temp[\"Origin\"].value_counts(), 'Destination':df_temp[\"Dest\"].value_counts()})\n",
    "counts"
   ]
  },
  {
   "cell_type": "markdown",
   "metadata": {},
   "source": [
    "**Question**: Print the top 15 origin and destination airports based on number of flights in the dataset.\n",
    "\n",
    "**Hint**: You can use the Pandas `sort_values` function ([documentation](https://pandas.pydata.org/pandas-docs/stable/reference/api/pandas.DataFrame.sort_values.html))."
   ]
  },
  {
   "cell_type": "code",
   "execution_count": 19,
   "metadata": {},
   "outputs": [
    {
     "data": {
      "text/html": [
       "<div>\n",
       "<style scoped>\n",
       "    .dataframe tbody tr th:only-of-type {\n",
       "        vertical-align: middle;\n",
       "    }\n",
       "\n",
       "    .dataframe tbody tr th {\n",
       "        vertical-align: top;\n",
       "    }\n",
       "\n",
       "    .dataframe thead th {\n",
       "        text-align: right;\n",
       "    }\n",
       "</style>\n",
       "<table border=\"1\" class=\"dataframe\">\n",
       "  <thead>\n",
       "    <tr style=\"text-align: right;\">\n",
       "      <th></th>\n",
       "      <th>Origin</th>\n",
       "      <th>Destination</th>\n",
       "    </tr>\n",
       "  </thead>\n",
       "  <tbody>\n",
       "    <tr>\n",
       "      <th>ATL</th>\n",
       "      <td>31525</td>\n",
       "      <td>31521</td>\n",
       "    </tr>\n",
       "    <tr>\n",
       "      <th>ORD</th>\n",
       "      <td>28257</td>\n",
       "      <td>28250</td>\n",
       "    </tr>\n",
       "    <tr>\n",
       "      <th>DFW</th>\n",
       "      <td>22802</td>\n",
       "      <td>22795</td>\n",
       "    </tr>\n",
       "    <tr>\n",
       "      <th>DEN</th>\n",
       "      <td>19807</td>\n",
       "      <td>19807</td>\n",
       "    </tr>\n",
       "    <tr>\n",
       "      <th>CLT</th>\n",
       "      <td>19655</td>\n",
       "      <td>19654</td>\n",
       "    </tr>\n",
       "    <tr>\n",
       "      <th>LAX</th>\n",
       "      <td>17875</td>\n",
       "      <td>17873</td>\n",
       "    </tr>\n",
       "    <tr>\n",
       "      <th>SFO</th>\n",
       "      <td>14332</td>\n",
       "      <td>14348</td>\n",
       "    </tr>\n",
       "    <tr>\n",
       "      <th>IAH</th>\n",
       "      <td>14210</td>\n",
       "      <td>14203</td>\n",
       "    </tr>\n",
       "    <tr>\n",
       "      <th>LGA</th>\n",
       "      <td>13850</td>\n",
       "      <td>13850</td>\n",
       "    </tr>\n",
       "    <tr>\n",
       "      <th>MSP</th>\n",
       "      <td>13349</td>\n",
       "      <td>13347</td>\n",
       "    </tr>\n",
       "    <tr>\n",
       "      <th>LAS</th>\n",
       "      <td>13318</td>\n",
       "      <td>13322</td>\n",
       "    </tr>\n",
       "    <tr>\n",
       "      <th>PHX</th>\n",
       "      <td>13126</td>\n",
       "      <td>13128</td>\n",
       "    </tr>\n",
       "    <tr>\n",
       "      <th>DTW</th>\n",
       "      <td>12725</td>\n",
       "      <td>12724</td>\n",
       "    </tr>\n",
       "    <tr>\n",
       "      <th>BOS</th>\n",
       "      <td>12223</td>\n",
       "      <td>12227</td>\n",
       "    </tr>\n",
       "    <tr>\n",
       "      <th>SEA</th>\n",
       "      <td>11872</td>\n",
       "      <td>11877</td>\n",
       "    </tr>\n",
       "  </tbody>\n",
       "</table>\n",
       "</div>"
      ],
      "text/plain": [
       "     Origin  Destination\n",
       "ATL   31525        31521\n",
       "ORD   28257        28250\n",
       "DFW   22802        22795\n",
       "DEN   19807        19807\n",
       "CLT   19655        19654\n",
       "LAX   17875        17873\n",
       "SFO   14332        14348\n",
       "IAH   14210        14203\n",
       "LGA   13850        13850\n",
       "MSP   13349        13347\n",
       "LAS   13318        13322\n",
       "PHX   13126        13128\n",
       "DTW   12725        12724\n",
       "BOS   12223        12227\n",
       "SEA   11872        11877"
      ]
     },
     "execution_count": 19,
     "metadata": {},
     "output_type": "execute_result"
    }
   ],
   "source": [
    "counts.sort_values(by=[\"Origin\", \"Destination\"],ascending=False).head(15)"
   ]
  },
  {
   "cell_type": "markdown",
   "metadata": {},
   "source": [
    "**Question**: Given all the information about a flight trip, can you predict if it would be delayed?"
   ]
  },
  {
   "cell_type": "markdown",
   "metadata": {},
   "source": [
    "Yes"
   ]
  },
  {
   "cell_type": "markdown",
   "metadata": {},
   "source": [
    "Now, assume you are traveling from San Francisco to Los Angeles on a work trip. You want to have an ideas if your flight will be delayed, given a set of features, so that you can manage your reservations in Los Angeles better. How many features from this dataset would you know before your flight?\n",
    "\n",
    "Columns such as `CarrierDelay`, `WeatherDelay`, `NASDelay`, `SecurityDelay`, `LateAircraftDelay`, and `DivArrDelay` contain information about a delay. But this delay could have occurred at the origin or destination. If there were a sudden weather delay 10 minutes before landing, this data would not be helpful in managing your Los Angeles reservations.\n",
    "\n",
    "So to simplify the problem statement, consider the following columns to predict an arrival delay:\n",
    "\n",
    "`Year`, `Quarter`, `Month`, `DayofMonth`, `DayOfWeek`, `FlightDate`, `Reporting_Airline`, `Origin`, `OriginState`, `Dest`, `DestState`, `CRSDepTime`, `DepDelayMinutes`, `DepartureDelayGroups`, `Cancelled`, `Diverted`, `Distance`, `DistanceGroup`, `ArrDelay`, `ArrDelayMinutes`, `ArrDel15`, `AirTime`\n",
    "\n",
    "You will also filter the source and destination airports to be:\n",
    "- Top airports: ATL, ORD, DFW, DEN, CLT, LAX, IAH, PHX, SFO\n",
    "- Top 5 airlines: UA, OO, WN, AA, DL\n",
    "\n",
    "This should help in reducing the size of data across the CSV files to be combined."
   ]
  },
  {
   "cell_type": "markdown",
   "metadata": {},
   "source": [
    "#### Combine all CSV files\n",
    "\n",
    "**Hint**:  \n",
    "First, create an empy dataframe that you will use to copy your individual dataframes from each file. Then, for each file in the `csv_files` list:\n",
    "\n",
    "1. Read the CSV file into a dataframe  \n",
    "2. Filter the columns based on the `filter_cols` variable\n",
    "\n",
    "```\n",
    "        columns = ['col1', 'col2']\n",
    "        df_filter = df[columns]\n",
    "```\n",
    "\n",
    "3. Keep only the subset_vals in each of the subset_cols. Use the `isin` Pandas function ([documentation](https://pandas.pydata.org/pandas-docs/stable/reference/api/pandas.DataFrame.isin.html)) to check if the `val` is in the dataframe column and then choose the rows that include it.\n",
    "\n",
    "```\n",
    "        df_eg[df_eg['col1'].isin('5')]\n",
    "```\n",
    "\n",
    "4. Concatenate the dataframe with the empty dataframe "
   ]
  },
  {
   "cell_type": "code",
   "execution_count": 20,
   "metadata": {},
   "outputs": [],
   "source": [
    "def combine_csv(csv_files, filter_cols, subset_cols, subset_vals, file_name = '/home/ec2-user/SageMaker/project/data/FlightDelays/combined_files.csv'):\n",
    "    \"\"\"\n",
    "    Combine csv files into one Data Frame\n",
    "    csv_files: list of csv file paths\n",
    "    filter_cols: list of columns to filter\n",
    "    subset_cols: list of columns to subset rows\n",
    "    subset_vals: list of list of values to subset rows\n",
    "    \"\"\"\n",
    "    # Create an empty dataframe\n",
    "    df = pd.DataFrame()\n",
    "    \n",
    "    for file in csv_files:\n",
    "        # Read the CSV file into a dataframe\n",
    "        df_temp = pd.read_csv(file)\n",
    "        \n",
    "        # Filter the columns based on the filter_cols variable\n",
    "        df_temp = df_temp[cols]\n",
    "        \n",
    "        # Keep only the subset_vals in each of the subset_cols\n",
    "        for col, val in zip(subset_cols,subset_vals):\n",
    "            df_temp = df_temp[df_temp[col].isin(val)]  \n",
    "        \n",
    "        # Use Pandas concatenate `pd.concat` to concatenate the main dataframe with the dataframe for each file\n",
    "        df = pd.concat([df, df_temp], axis=0)\n",
    "    \n",
    "        \n",
    "    df.to_csv(file_name, index=False)\n",
    "    print(f'Combined csv stored at {file_name}')"
   ]
  },
  {
   "cell_type": "code",
   "execution_count": 21,
   "metadata": {},
   "outputs": [],
   "source": [
    "#cols is the list of columns to predict Arrival Delay \n",
    "cols = ['Year','Quarter','Month','DayofMonth','DayOfWeek','FlightDate',\n",
    "        'Reporting_Airline','Origin','OriginState','Dest','DestState',\n",
    "        'CRSDepTime','Cancelled','Diverted','Distance','DistanceGroup',\n",
    "        'ArrDelay','ArrDelayMinutes','ArrDel15','AirTime']\n",
    "\n",
    "subset_cols = ['Origin', 'Dest', 'Reporting_Airline']\n",
    "\n",
    "# subset_vals is a list collection of the top origin and destination airports and top 5 airlines\n",
    "subset_vals = [['ATL', 'ORD', 'DFW', 'DEN', 'CLT', 'LAX', 'IAH', 'PHX', 'SFO'], \n",
    "               ['ATL', 'ORD', 'DFW', 'DEN', 'CLT', 'LAX', 'IAH', 'PHX', 'SFO'], \n",
    "               ['UA', 'OO', 'WN', 'AA', 'DL']]"
   ]
  },
  {
   "cell_type": "markdown",
   "metadata": {},
   "source": [
    "Use the function above to merge all the different files into a single file that you can read easily. \n",
    "\n",
    "**Note**: This will take 5-7 minutes to complete."
   ]
  },
  {
   "cell_type": "code",
   "execution_count": 22,
   "metadata": {},
   "outputs": [
    {
     "name": "stdout",
     "output_type": "stream",
     "text": [
      "Combined csv stored at /home/ec2-user/SageMaker/project/data/FlightDelays/combined_files.csv\n",
      "csv's merged in 5.05 minutes\n"
     ]
    }
   ],
   "source": [
    "start = time.time()\n",
    "combine_csv(csv_files, cols, subset_cols, subset_vals)\n",
    "print(f'csv\\'s merged in {round((time.time() - start)/60,2)} minutes')"
   ]
  },
  {
   "cell_type": "markdown",
   "metadata": {},
   "source": [
    "#### Load dataset\n",
    "\n",
    "Load the combined dataset."
   ]
  },
  {
   "cell_type": "code",
   "execution_count": 136,
   "metadata": {},
   "outputs": [],
   "source": [
    "data = pd.read_csv(\"data/FlightDelays/combined_files.csv\")"
   ]
  },
  {
   "cell_type": "markdown",
   "metadata": {},
   "source": [
    "Print the first 5 records."
   ]
  },
  {
   "cell_type": "code",
   "execution_count": 24,
   "metadata": {},
   "outputs": [
    {
     "data": {
      "text/html": [
       "<div>\n",
       "<style scoped>\n",
       "    .dataframe tbody tr th:only-of-type {\n",
       "        vertical-align: middle;\n",
       "    }\n",
       "\n",
       "    .dataframe tbody tr th {\n",
       "        vertical-align: top;\n",
       "    }\n",
       "\n",
       "    .dataframe thead th {\n",
       "        text-align: right;\n",
       "    }\n",
       "</style>\n",
       "<table border=\"1\" class=\"dataframe\">\n",
       "  <thead>\n",
       "    <tr style=\"text-align: right;\">\n",
       "      <th></th>\n",
       "      <th>Year</th>\n",
       "      <th>Quarter</th>\n",
       "      <th>Month</th>\n",
       "      <th>DayofMonth</th>\n",
       "      <th>DayOfWeek</th>\n",
       "      <th>FlightDate</th>\n",
       "      <th>Reporting_Airline</th>\n",
       "      <th>Origin</th>\n",
       "      <th>OriginState</th>\n",
       "      <th>Dest</th>\n",
       "      <th>DestState</th>\n",
       "      <th>CRSDepTime</th>\n",
       "      <th>Cancelled</th>\n",
       "      <th>Diverted</th>\n",
       "      <th>Distance</th>\n",
       "      <th>DistanceGroup</th>\n",
       "      <th>ArrDelay</th>\n",
       "      <th>ArrDelayMinutes</th>\n",
       "      <th>ArrDel15</th>\n",
       "      <th>AirTime</th>\n",
       "    </tr>\n",
       "  </thead>\n",
       "  <tbody>\n",
       "    <tr>\n",
       "      <th>0</th>\n",
       "      <td>2015</td>\n",
       "      <td>1</td>\n",
       "      <td>1</td>\n",
       "      <td>1</td>\n",
       "      <td>4</td>\n",
       "      <td>2015-01-01</td>\n",
       "      <td>AA</td>\n",
       "      <td>DFW</td>\n",
       "      <td>TX</td>\n",
       "      <td>SFO</td>\n",
       "      <td>CA</td>\n",
       "      <td>755</td>\n",
       "      <td>0.0</td>\n",
       "      <td>0.0</td>\n",
       "      <td>1464.0</td>\n",
       "      <td>6</td>\n",
       "      <td>49.0</td>\n",
       "      <td>49.0</td>\n",
       "      <td>1.0</td>\n",
       "      <td>190.0</td>\n",
       "    </tr>\n",
       "    <tr>\n",
       "      <th>1</th>\n",
       "      <td>2015</td>\n",
       "      <td>1</td>\n",
       "      <td>1</td>\n",
       "      <td>2</td>\n",
       "      <td>5</td>\n",
       "      <td>2015-01-02</td>\n",
       "      <td>AA</td>\n",
       "      <td>DFW</td>\n",
       "      <td>TX</td>\n",
       "      <td>SFO</td>\n",
       "      <td>CA</td>\n",
       "      <td>755</td>\n",
       "      <td>0.0</td>\n",
       "      <td>0.0</td>\n",
       "      <td>1464.0</td>\n",
       "      <td>6</td>\n",
       "      <td>-19.0</td>\n",
       "      <td>0.0</td>\n",
       "      <td>0.0</td>\n",
       "      <td>189.0</td>\n",
       "    </tr>\n",
       "    <tr>\n",
       "      <th>2</th>\n",
       "      <td>2015</td>\n",
       "      <td>1</td>\n",
       "      <td>1</td>\n",
       "      <td>3</td>\n",
       "      <td>6</td>\n",
       "      <td>2015-01-03</td>\n",
       "      <td>AA</td>\n",
       "      <td>DFW</td>\n",
       "      <td>TX</td>\n",
       "      <td>SFO</td>\n",
       "      <td>CA</td>\n",
       "      <td>755</td>\n",
       "      <td>0.0</td>\n",
       "      <td>0.0</td>\n",
       "      <td>1464.0</td>\n",
       "      <td>6</td>\n",
       "      <td>-8.0</td>\n",
       "      <td>0.0</td>\n",
       "      <td>0.0</td>\n",
       "      <td>197.0</td>\n",
       "    </tr>\n",
       "    <tr>\n",
       "      <th>3</th>\n",
       "      <td>2015</td>\n",
       "      <td>1</td>\n",
       "      <td>1</td>\n",
       "      <td>4</td>\n",
       "      <td>7</td>\n",
       "      <td>2015-01-04</td>\n",
       "      <td>AA</td>\n",
       "      <td>DFW</td>\n",
       "      <td>TX</td>\n",
       "      <td>SFO</td>\n",
       "      <td>CA</td>\n",
       "      <td>755</td>\n",
       "      <td>0.0</td>\n",
       "      <td>0.0</td>\n",
       "      <td>1464.0</td>\n",
       "      <td>6</td>\n",
       "      <td>30.0</td>\n",
       "      <td>30.0</td>\n",
       "      <td>1.0</td>\n",
       "      <td>196.0</td>\n",
       "    </tr>\n",
       "    <tr>\n",
       "      <th>4</th>\n",
       "      <td>2015</td>\n",
       "      <td>1</td>\n",
       "      <td>1</td>\n",
       "      <td>5</td>\n",
       "      <td>1</td>\n",
       "      <td>2015-01-05</td>\n",
       "      <td>AA</td>\n",
       "      <td>DFW</td>\n",
       "      <td>TX</td>\n",
       "      <td>SFO</td>\n",
       "      <td>CA</td>\n",
       "      <td>755</td>\n",
       "      <td>0.0</td>\n",
       "      <td>0.0</td>\n",
       "      <td>1464.0</td>\n",
       "      <td>6</td>\n",
       "      <td>24.0</td>\n",
       "      <td>24.0</td>\n",
       "      <td>1.0</td>\n",
       "      <td>197.0</td>\n",
       "    </tr>\n",
       "  </tbody>\n",
       "</table>\n",
       "</div>"
      ],
      "text/plain": [
       "   Year  Quarter  Month  DayofMonth  DayOfWeek  FlightDate Reporting_Airline  \\\n",
       "0  2015        1      1           1          4  2015-01-01                AA   \n",
       "1  2015        1      1           2          5  2015-01-02                AA   \n",
       "2  2015        1      1           3          6  2015-01-03                AA   \n",
       "3  2015        1      1           4          7  2015-01-04                AA   \n",
       "4  2015        1      1           5          1  2015-01-05                AA   \n",
       "\n",
       "  Origin OriginState Dest DestState  CRSDepTime  Cancelled  Diverted  \\\n",
       "0    DFW          TX  SFO        CA         755        0.0       0.0   \n",
       "1    DFW          TX  SFO        CA         755        0.0       0.0   \n",
       "2    DFW          TX  SFO        CA         755        0.0       0.0   \n",
       "3    DFW          TX  SFO        CA         755        0.0       0.0   \n",
       "4    DFW          TX  SFO        CA         755        0.0       0.0   \n",
       "\n",
       "   Distance  DistanceGroup  ArrDelay  ArrDelayMinutes  ArrDel15  AirTime  \n",
       "0    1464.0              6      49.0             49.0       1.0    190.0  \n",
       "1    1464.0              6     -19.0              0.0       0.0    189.0  \n",
       "2    1464.0              6      -8.0              0.0       0.0    197.0  \n",
       "3    1464.0              6      30.0             30.0       1.0    196.0  \n",
       "4    1464.0              6      24.0             24.0       1.0    197.0  "
      ]
     },
     "execution_count": 24,
     "metadata": {},
     "output_type": "execute_result"
    }
   ],
   "source": [
    "data.head(5)"
   ]
  },
  {
   "cell_type": "markdown",
   "metadata": {},
   "source": [
    "Here are some more questions to help you find out more about your dataset.\n",
    "\n",
    "**Questions**   \n",
    "1. How many rows and columns does the dataset have?   \n",
    "2. How many years are included in the dataset?   \n",
    "3. What is the date range for the dataset?   \n",
    "4. Which airlines are included in the dataset?   \n",
    "5. Which origin and destination airports are covered?"
   ]
  },
  {
   "cell_type": "code",
   "execution_count": 25,
   "metadata": {},
   "outputs": [],
   "source": [
    "#print(\"The #rows and #columns are \", <CODE> , \" and \", <CODE>)\n",
    "#print(\"The years in this dataset are: \", list(<CODE>))\n",
    "#print(\"The months covered in this dataset are: \", sorted(list(<CODE>)))\n",
    "#print(\"The date range for data is :\" , min(<CODE>), \" to \", max(<CODE>))\n",
    "#print(\"The airlines covered in this dataset are: \", list(<CODE>))\n",
    "#print(\"The Origin airports covered are: \", list(<CODE>))\n",
    "#print(\"The Destination airports covered are: \", list(<CODE>))"
   ]
  },
  {
   "cell_type": "markdown",
   "metadata": {},
   "source": [
    "Let's define our **target column : is_delay** (1 - if arrival time delayed more than 15 minutes, 0 - otherwise). Use the `rename` method to rename the column from `ArrDel15` to `is_delay`.\n",
    "\n",
    "**Hint**: You can use the Pandas `rename` function ([documentation](https://pandas.pydata.org/pandas-docs/stable/reference/api/pandas.DataFrame.rename.html)).\n",
    "\n",
    "For example:\n",
    "```\n",
    "df.rename(columns={'col1':'column1'}, inplace=True)\n",
    "```"
   ]
  },
  {
   "cell_type": "code",
   "execution_count": 137,
   "metadata": {},
   "outputs": [],
   "source": [
    "data.rename(columns = {\"ArrDel15\":\"is_delay\"}, inplace=True)"
   ]
  },
  {
   "cell_type": "markdown",
   "metadata": {},
   "source": [
    "Look for nulls across columns. You can use the `isnull()` function ([documentation](https://pandas.pydata.org/pandas-docs/version/0.17.0/generated/pandas.isnull.html)).\n",
    "\n",
    "**Hint**: `isnull()` detects whether the particular value is null or not and gives you a boolean (True or False) in its place. Use the `sum(axis=0)` function to sum up the number of columns."
   ]
  },
  {
   "cell_type": "code",
   "execution_count": 138,
   "metadata": {},
   "outputs": [
    {
     "data": {
      "text/plain": [
       "Year                 0    \n",
       "Quarter              0    \n",
       "Month                0    \n",
       "DayofMonth           0    \n",
       "DayOfWeek            0    \n",
       "FlightDate           0    \n",
       "Reporting_Airline    0    \n",
       "Origin               0    \n",
       "OriginState          0    \n",
       "Dest                 0    \n",
       "DestState            0    \n",
       "CRSDepTime           0    \n",
       "Cancelled            0    \n",
       "Diverted             0    \n",
       "Distance             0    \n",
       "DistanceGroup        0    \n",
       "ArrDelay             22540\n",
       "ArrDelayMinutes      22540\n",
       "is_delay             22540\n",
       "AirTime              22540\n",
       "dtype: int64"
      ]
     },
     "execution_count": 138,
     "metadata": {},
     "output_type": "execute_result"
    }
   ],
   "source": [
    "data.isnull().sum(axis=0)"
   ]
  },
  {
   "cell_type": "markdown",
   "metadata": {},
   "source": [
    "The arrival delay details and airtime are missing for 22540 out of 1658130 rows, which is 1.3%. You can either remove or impute these rows. The documentation does not mention anything about missing rows.\n",
    "\n",
    "**Hint**: Use the `~` operator to choose the values that aren't null from the `isnull()` output.\n",
    "\n",
    "For example:\n",
    "```\n",
    "null_eg = df_eg[~df_eg['column_name'].isnull()]\n",
    "```"
   ]
  },
  {
   "cell_type": "code",
   "execution_count": 139,
   "metadata": {},
   "outputs": [],
   "source": [
    "### Remove null columns\n",
    "data = data[~data[\"is_delay\"].isnull()]"
   ]
  },
  {
   "cell_type": "markdown",
   "metadata": {},
   "source": [
    "Get the hour of the day in 24-hour time format from CRSDepTime."
   ]
  },
  {
   "cell_type": "code",
   "execution_count": 140,
   "metadata": {},
   "outputs": [
    {
     "data": {
      "text/plain": [
       "0          755 \n",
       "1          755 \n",
       "2          755 \n",
       "3          755 \n",
       "4          755 \n",
       "          ...  \n",
       "1658125    1857\n",
       "1658126    1630\n",
       "1658127    1030\n",
       "1658128    737 \n",
       "1658129    1638\n",
       "Name: CRSDepTime, Length: 1635590, dtype: int64"
      ]
     },
     "execution_count": 140,
     "metadata": {},
     "output_type": "execute_result"
    }
   ],
   "source": [
    "data[\"CRSDepTime\"]"
   ]
  },
  {
   "cell_type": "code",
   "execution_count": 141,
   "metadata": {},
   "outputs": [],
   "source": [
    "data['DepHourofDay'] = data[\"CRSDepTime\"]//100"
   ]
  },
  {
   "cell_type": "markdown",
   "metadata": {},
   "source": [
    "## **The ML problem statement**\n",
    "- Given a set of features, can you predict if a flight is going to be delayed more than 15 minutes?\n",
    "- Because the target variable takes only 0/1 value, you could use a classification algorithm. \n",
    "\n",
    "Before jumping to modeling, it is always a good practice to look at feature distribution, correlations, etc.\n",
    "- This will give an idea of any non-linearity/patterns in the data.\n",
    "    - Linear models: Add power/exponential/interaction features\n",
    "    - Try a non-linear model\n",
    "- Data imbalance \n",
    "    - Choose metrics that will not give biased model performance (accuracy. vs AUC)\n",
    "    - Use weighted/custom loss functions\n",
    "- Missing data\n",
    "    - Do imputation based on simple statistics - mean, median, mode (numerical variables) frequent class (categorical variables)\n",
    "    - Clustering based imputation (KNNs to predict column value)\n",
    "    - Drop column"
   ]
  },
  {
   "cell_type": "markdown",
   "metadata": {},
   "source": [
    "### Data exploration\n",
    "\n",
    "#### Check class delay vs. no delay\n",
    "\n",
    "**Hint**: Use a `groupby` plot ([documentation](https://pandas.pydata.org/pandas-docs/stable/reference/api/pandas.DataFrame.groupby.html)) with a `bar` plot ([documentation](https://matplotlib.org/tutorials/introductory/pyplot.html)) to plot the frequency vs. distribution of the class."
   ]
  },
  {
   "cell_type": "code",
   "execution_count": 31,
   "metadata": {},
   "outputs": [
    {
     "data": {
      "image/png": "[encoded data removed]",
      "text/plain": [
       "<Figure size 640x480 with 1 Axes>"
      ]
     },
     "metadata": {},
     "output_type": "display_data"
    }
   ],
   "source": [
    "(data.groupby(data[\"is_delay\"]).size()/len(data) ).plot(kind='bar')# Enter your code here\n",
    "plt.ylabel('Frequency')\n",
    "plt.title('Distribution of classes')\n",
    "plt.show()"
   ]
  },
  {
   "cell_type": "markdown",
   "metadata": {},
   "source": [
    "**Question**: What can you deduce from the bar plot about the ratio of delay vs. no delay?"
   ]
  },
  {
   "cell_type": "markdown",
   "metadata": {},
   "source": [
    "There are a lot less delays than no delays. Ratio of 0.2:0.8"
   ]
  },
  {
   "cell_type": "markdown",
   "metadata": {},
   "source": [
    "**Questions**: \n",
    "\n",
    "- Which months have the most delays?\n",
    "- What time of the day has the most delays?\n",
    "- What day of the week has the most delays?\n",
    "- Which airline has the most delays?\n",
    "- Which origin and destination airports have the most delays?\n",
    "- Is flight distance a factor in the delays?"
   ]
  },
  {
   "cell_type": "code",
   "execution_count": 32,
   "metadata": {},
   "outputs": [
    {
     "data": {
      "image/png": "[encoded data removed]",
      "text/plain": [
       "<Figure size 2000x2000 with 6 Axes>"
      ]
     },
     "metadata": {},
     "output_type": "display_data"
    }
   ],
   "source": [
    "viz_columns = ['Month', 'DepHourofDay', 'DayOfWeek', 'Reporting_Airline', 'Origin', 'Dest']\n",
    "fig, axes = plt.subplots(3, 2, figsize=(20,20), squeeze=False)\n",
    "# fig.autofmt_xdate(rotation=90)\n",
    "\n",
    "for idx, column in enumerate(viz_columns):\n",
    "    ax = axes[idx//2, idx%2]\n",
    "    temp = data.groupby(column)['is_delay'].value_counts(normalize=True).rename('percentage').\\\n",
    "    mul(100).reset_index().sort_values(column)\n",
    "    sns.barplot(x=column, y=\"percentage\", hue=\"is_delay\", data=temp, ax=ax)\n",
    "    plt.ylabel('% delay/no-delay')\n",
    "    \n",
    "\n",
    "plt.show()"
   ]
  },
  {
   "cell_type": "code",
   "execution_count": 33,
   "metadata": {},
   "outputs": [
    {
     "data": {
      "image/png": "[encoded data removed]",
      "text/plain": [
       "<Figure size 500x500 with 1 Axes>"
      ]
     },
     "metadata": {},
     "output_type": "display_data"
    }
   ],
   "source": [
    "sns.lmplot( x=\"is_delay\", y=\"Distance\", data=data, fit_reg=False, hue='is_delay', legend=False)\n",
    "plt.legend(loc='center')\n",
    "plt.xlabel('is_delay')\n",
    "plt.ylabel('Distance')\n",
    "plt.show()"
   ]
  },
  {
   "cell_type": "markdown",
   "metadata": {},
   "source": [
    "Which months have the most delays?\n",
    "June\n",
    "\n",
    "What time of the day has the most delays?\n",
    "8pm\n",
    "\n",
    "What day of the week has the most delays?\n",
    "thurs/fri\n",
    "\n",
    "Which airline has the most delays?\n",
    "WN\n",
    "\n",
    "Which origin and destination airports have the most delays?\n",
    "SFO\n",
    "\n",
    "Is flight distance a factor in the delays?\n",
    "Idts"
   ]
  },
  {
   "cell_type": "markdown",
   "metadata": {},
   "source": [
    "### Features\n",
    "\n",
    "Look at all the columns and what their specific types are."
   ]
  },
  {
   "cell_type": "code",
   "execution_count": 142,
   "metadata": {},
   "outputs": [
    {
     "data": {
      "text/plain": [
       "Index(['Year', 'Quarter', 'Month', 'DayofMonth', 'DayOfWeek', 'FlightDate',\n",
       "       'Reporting_Airline', 'Origin', 'OriginState', 'Dest', 'DestState',\n",
       "       'CRSDepTime', 'Cancelled', 'Diverted', 'Distance', 'DistanceGroup',\n",
       "       'ArrDelay', 'ArrDelayMinutes', 'is_delay', 'AirTime', 'DepHourofDay'],\n",
       "      dtype='object')"
      ]
     },
     "execution_count": 142,
     "metadata": {},
     "output_type": "execute_result"
    }
   ],
   "source": [
    "data.columns"
   ]
  },
  {
   "cell_type": "markdown",
   "metadata": {},
   "source": [
    "Filtering the required columns:\n",
    "- Date is redundant, because you have Year, Quarter, Month, DayofMonth, and DayOfWeek to describe the date.\n",
    "- Use Origin and Dest codes instead of OriginState and DestState.\n",
    "- Because you are just classifying whether the flight is delayed or not, you don't need TotalDelayMinutes, DepDelayMinutes, and ArrDelayMinutes.\n",
    "\n",
    "Treat DepHourofDay as a categorical variable because it doesn't have any quantitative relation with the target.\n",
    "- If you had to do a one-hot encoding of it, it would result in 23 more columns.\n",
    "- Other alternatives to handling categorical variables include hash encoding, regularized mean encoding, and bucketizing the values, among others.\n",
    "- Just split into buckets here.\n",
    "\n",
    "**Hint**: To change a column type to category, use the `astype` function ([documentation](https://pandas.pydata.org/pandas-docs/stable/reference/api/pandas.DataFrame.astype.html))."
   ]
  },
  {
   "cell_type": "code",
   "execution_count": 143,
   "metadata": {},
   "outputs": [],
   "source": [
    "data_orig = data.copy()\n",
    "data = data[[ 'Quarter', 'Month', 'DayofMonth', 'DayOfWeek', \n",
    "       'Reporting_Airline', 'Origin', 'Dest','Distance','DepHourofDay', 'is_delay']]\n",
    "categorical_columns  = ['Quarter', 'Month', 'DayofMonth', 'DayOfWeek', \n",
    "       'Reporting_Airline', 'Origin', 'Dest', 'DepHourofDay', 'is_delay']\n",
    "for c in categorical_columns:\n",
    "    data[c] = data[c].astype('category')"
   ]
  },
  {
   "cell_type": "markdown",
   "metadata": {},
   "source": [
    "To use one-hot encoding, use the Pandas `get_dummies` function for the categorical columns that you selected above. Then, you can concatenate those generated features to your original dataset using the Pandas `concat` function. For encoding categorical variables, you can also use *dummy encoding* by using a keyword `drop_first=True`. For more information on dummy encoding, see https://en.wikiversity.org/wiki/Dummy_variable_(statistics).\n",
    "\n",
    "For example:\n",
    "```\n",
    "pd.get_dummies(df[['column1','columns2']], drop_first=True)\n",
    "```"
   ]
  },
  {
   "cell_type": "code",
   "execution_count": 144,
   "metadata": {},
   "outputs": [],
   "source": [
    "categorical_columns.remove('is_delay')\n",
    "data_dummies = pd.get_dummies(data[categorical_columns], drop_first=True, dtype='int64')\n",
    "data = pd.concat([data, data_dummies], axis = 1)\n",
    "data.drop(categorical_columns,axis=1, inplace=True)"
   ]
  },
  {
   "cell_type": "markdown",
   "metadata": {},
   "source": [
    "Check the length of the dataset and the new columnms."
   ]
  },
  {
   "cell_type": "code",
   "execution_count": 131,
   "metadata": {},
   "outputs": [
    {
     "data": {
      "text/plain": [
       "1635590"
      ]
     },
     "execution_count": 131,
     "metadata": {},
     "output_type": "execute_result"
    }
   ],
   "source": [
    "len(data)"
   ]
  },
  {
   "cell_type": "code",
   "execution_count": 145,
   "metadata": {},
   "outputs": [
    {
     "data": {
      "text/plain": [
       "Index(['Distance', 'is_delay', 'Quarter_2', 'Quarter_3', 'Quarter_4',\n",
       "       'Month_2', 'Month_3', 'Month_4', 'Month_5', 'Month_6', 'Month_7',\n",
       "       'Month_8', 'Month_9', 'Month_10', 'Month_11', 'Month_12',\n",
       "       'DayofMonth_2', 'DayofMonth_3', 'DayofMonth_4', 'DayofMonth_5',\n",
       "       'DayofMonth_6', 'DayofMonth_7', 'DayofMonth_8', 'DayofMonth_9',\n",
       "       'DayofMonth_10', 'DayofMonth_11', 'DayofMonth_12', 'DayofMonth_13',\n",
       "       'DayofMonth_14', 'DayofMonth_15', 'DayofMonth_16', 'DayofMonth_17',\n",
       "       'DayofMonth_18', 'DayofMonth_19', 'DayofMonth_20', 'DayofMonth_21',\n",
       "       'DayofMonth_22', 'DayofMonth_23', 'DayofMonth_24', 'DayofMonth_25',\n",
       "       'DayofMonth_26', 'DayofMonth_27', 'DayofMonth_28', 'DayofMonth_29',\n",
       "       'DayofMonth_30', 'DayofMonth_31', 'DayOfWeek_2', 'DayOfWeek_3',\n",
       "       'DayOfWeek_4', 'DayOfWeek_5', 'DayOfWeek_6', 'DayOfWeek_7',\n",
       "       'Reporting_Airline_DL', 'Reporting_Airline_OO', 'Reporting_Airline_UA',\n",
       "       'Reporting_Airline_WN', 'Origin_CLT', 'Origin_DEN', 'Origin_DFW',\n",
       "       'Origin_IAH', 'Origin_LAX', 'Origin_ORD', 'Origin_PHX', 'Origin_SFO',\n",
       "       'Dest_CLT', 'Dest_DEN', 'Dest_DFW', 'Dest_IAH', 'Dest_LAX', 'Dest_ORD',\n",
       "       'Dest_PHX', 'Dest_SFO', 'DepHourofDay_1', 'DepHourofDay_2',\n",
       "       'DepHourofDay_4', 'DepHourofDay_5', 'DepHourofDay_6', 'DepHourofDay_7',\n",
       "       'DepHourofDay_8', 'DepHourofDay_9', 'DepHourofDay_10',\n",
       "       'DepHourofDay_11', 'DepHourofDay_12', 'DepHourofDay_13',\n",
       "       'DepHourofDay_14', 'DepHourofDay_15', 'DepHourofDay_16',\n",
       "       'DepHourofDay_17', 'DepHourofDay_18', 'DepHourofDay_19',\n",
       "       'DepHourofDay_20', 'DepHourofDay_21', 'DepHourofDay_22',\n",
       "       'DepHourofDay_23'],\n",
       "      dtype='object')"
      ]
     },
     "execution_count": 145,
     "metadata": {},
     "output_type": "execute_result"
    }
   ],
   "source": [
    "data.columns"
   ]
  },
  {
   "cell_type": "markdown",
   "metadata": {},
   "source": [
    "**Sample Answer:** \n",
    "```\n",
    "Index(['Distance', 'is_delay', 'Quarter_2', 'Quarter_3', 'Quarter_4',\n",
    "       'Month_2', 'Month_3', 'Month_4', 'Month_5', 'Month_6', 'Month_7',\n",
    "       'Month_8', 'Month_9', 'Month_10', 'Month_11', 'Month_12',\n",
    "       'DayofMonth_2', 'DayofMonth_3', 'DayofMonth_4', 'DayofMonth_5',\n",
    "       'DayofMonth_6', 'DayofMonth_7', 'DayofMonth_8', 'DayofMonth_9',\n",
    "       'DayofMonth_10', 'DayofMonth_11', 'DayofMonth_12', 'DayofMonth_13',\n",
    "       'DayofMonth_14', 'DayofMonth_15', 'DayofMonth_16', 'DayofMonth_17',\n",
    "       'DayofMonth_18', 'DayofMonth_19', 'DayofMonth_20', 'DayofMonth_21',\n",
    "       'DayofMonth_22', 'DayofMonth_23', 'DayofMonth_24', 'DayofMonth_25',\n",
    "       'DayofMonth_26', 'DayofMonth_27', 'DayofMonth_28', 'DayofMonth_29',\n",
    "       'DayofMonth_30', 'DayofMonth_31', 'DayOfWeek_2', 'DayOfWeek_3',\n",
    "       'DayOfWeek_4', 'DayOfWeek_5', 'DayOfWeek_6', 'DayOfWeek_7',\n",
    "       'Reporting_Airline_DL', 'Reporting_Airline_OO', 'Reporting_Airline_UA',\n",
    "       'Reporting_Airline_WN', 'Origin_CLT', 'Origin_DEN', 'Origin_DFW',\n",
    "       'Origin_IAH', 'Origin_LAX', 'Origin_ORD', 'Origin_PHX', 'Origin_SFO',\n",
    "       'Dest_CLT', 'Dest_DEN', 'Dest_DFW', 'Dest_IAH', 'Dest_LAX', 'Dest_ORD',\n",
    "       'Dest_PHX', 'Dest_SFO'],\n",
    "      dtype='object')\n",
    "```"
   ]
  },
  {
   "cell_type": "markdown",
   "metadata": {},
   "source": [
    "Now you are ready to do model training. Before splitting the data, rename the column `is_delay` to `target`.\n",
    "\n",
    "**Hint**: You can use the Pandas `rename` function ([documentation](https://pandas.pydata.org/pandas-docs/stable/reference/api/pandas.DataFrame.rename.html))."
   ]
  },
  {
   "cell_type": "code",
   "execution_count": 146,
   "metadata": {},
   "outputs": [],
   "source": [
    "data.rename(columns = {\"is_delay\":\"target\"}, inplace=True )"
   ]
  },
  {
   "cell_type": "markdown",
   "metadata": {},
   "source": [
    "## <span style=\"color:red\"> End of Lab 2 </span>\n",
    "\n",
    "Save the project file to your local computer. Follow these steps:\n",
    "\n",
    "1. At the top of the page, click the **File** menu. \n",
    "\n",
    "1. Select **Download as**, and click **Notebook(.ipynb)**.  \n",
    "\n",
    "This downloads the current notebook to the default download folder on your computer."
   ]
  },
  {
   "cell_type": "markdown",
   "metadata": {},
   "source": [
    "# Step 3: Model training and evaluation\n",
    "\n",
    "There are some preliminary steps that you must include when converting the dataset from a dataframe to a format that a machine learning algorithm can use. For Amazon SageMaker, here are the steps you need to take:\n",
    "\n",
    "1. Split the data into `train_data`, `validation_data`, and `test_data` using `sklearn.model_selection.train_test_split`.  \n",
    "2. Convert the dataset to an appropriate file format that the Amazon SageMaker training job can use. This can be either a CSV file or record protobuf. For more information, see [Common Data Formats for Training](https://docs.aws.amazon.com/sagemaker/latest/dg/cdf-training.html).  \n",
    "3. Upload the data to your Amazon S3 bucket. If you have not created one before, see [Create a Bucket](https://docs.aws.amazon.com/AmazonS3/latest/gsg/CreatingABucket.html).  \n",
    "\n",
    "Use the following cells to complete these steps. Insert and delete cells where needed.\n",
    "\n",
    "#### <span style=\"color: blue;\">Project presentation: Take note of the key decisions you've made in this phase in your project presentation.</span>"
   ]
  },
  {
   "cell_type": "markdown",
   "metadata": {},
   "source": [
    "### Train test split"
   ]
  },
  {
   "cell_type": "code",
   "execution_count": 147,
   "metadata": {},
   "outputs": [],
   "source": [
    "from sklearn.model_selection import train_test_split\n",
    "\n",
    "def create_training_sets(data):\n",
    "    \"\"\"\n",
    "    Convert data frame to train, validation and test\n",
    "    params:\n",
    "        data: The dataframe with the dataset to be split\n",
    "    Returns:\n",
    "        train_features: Training feature dataset\n",
    "        test_features: Test feature dataset \n",
    "        train_labels: Labels for the training dataset\n",
    "        test_labels: Labels for the test dataset\n",
    "        val_features: Validation feature dataset\n",
    "        val_labels: Labels for the validation dataset\n",
    "    \"\"\"\n",
    "    # Extract the target variable from the dataframe and convert the type to float32\n",
    "    ys = np.array(data[\"target\"]).astype(\"float32\") # Enter your code here\n",
    "    \n",
    "    # Drop all the unwanted columns including the target column\n",
    "    drop_list = [\"target\"]\n",
    "    \n",
    "    # Drop the columns from the drop_list and convert the data into a NumPy array of type float32\n",
    "    xs = np.array(data.drop(drop_list, axis=1)).astype(\"float32\")# Enter your code here\n",
    "    \n",
    "    np.random.seed(0)\n",
    "\n",
    "    # Use the sklearn function train_test_split to split the dataset in the ratio train 80% and test 20%\n",
    "    # Example: train_test_split(x, y, test_size=0.3, stratify=ys)\n",
    "    train_features, test_features, train_labels, test_labels = train_test_split(xs, ys, test_size=0.2, stratify=ys)\n",
    "    \n",
    "    # Use the sklearn function again to split the test dataset into 50% validation and 50% test\n",
    "    val_features, test_features, val_labels, test_labels = train_test_split(test_features, test_labels, test_size=0.5, stratify=test_labels)\n",
    "    \n",
    "    \n",
    "    return train_features, test_features, train_labels, test_labels, val_features, val_labels"
   ]
  },
  {
   "cell_type": "code",
   "execution_count": 148,
   "metadata": {},
   "outputs": [
    {
     "name": "stdout",
     "output_type": "stream",
     "text": [
      "Length of train_features is: (1308472, 93)\n",
      "Length of train_labels is: (1308472,)\n",
      "Length of val_features is: (163559, 93)\n",
      "Length of val_labels is: (163559,)\n",
      "Length of test_features is: (163559, 93)\n",
      "Length of test_labels is: (163559,)\n"
     ]
    }
   ],
   "source": [
    "# Use the function to create your datasets\n",
    "train_features, test_features, train_labels, test_labels, val_features, val_labels = create_training_sets(data)\n",
    "\n",
    "print(f\"Length of train_features is: {train_features.shape}\")\n",
    "print(f\"Length of train_labels is: {train_labels.shape}\")\n",
    "print(f\"Length of val_features is: {val_features.shape}\")\n",
    "print(f\"Length of val_labels is: {val_labels.shape}\")\n",
    "print(f\"Length of test_features is: {test_features.shape}\")\n",
    "print(f\"Length of test_labels is: {test_labels.shape}\")"
   ]
  },
  {
   "cell_type": "markdown",
   "metadata": {},
   "source": [
    "**Sample answer**\n",
    "```\n",
    "Length of train_features is: (1308472, 71)\n",
    "Length of train_labels is: (1308472,)\n",
    "Length of val_features is: (163559, 71)\n",
    "Length of val_labels is: (163559,)\n",
    "Length of test_features is: (163559, 71)\n",
    "Length of test_labels is: (163559,)\n",
    "```"
   ]
  },
  {
   "cell_type": "code",
   "execution_count": 149,
   "metadata": {},
   "outputs": [
    {
     "name": "stdout",
     "output_type": "stream",
     "text": [
      "Train class split\n",
      "[1033806  274666]\n",
      "0.20991354801631215\n",
      "\n",
      "Validation class split\n",
      "[129226  34333]\n",
      "0.20991201951589336\n",
      "\n",
      "Test class split\n",
      "[129226  34333]\n",
      "0.20991201951589336\n"
     ]
    }
   ],
   "source": [
    "# Print the class proportion for the train, validation, and test sets\n",
    "print('Train class split')\n",
    "tr_hist = np.histogram(train_labels, bins=2)[0]\n",
    "print(tr_hist)\n",
    "print(tr_hist[1]*1. / (tr_hist[0] + tr_hist[1]))\n",
    "\n",
    "print('\\nValidation class split')\n",
    "val_hist = np.histogram(val_labels, bins=2)[0]\n",
    "print(val_hist)\n",
    "print(val_hist[1]*1. / (val_hist[0] + val_hist[1]))\n",
    "\n",
    "print('\\nTest class split')\n",
    "test_hist = np.histogram(test_labels, bins=2)[0]\n",
    "print(test_hist)\n",
    "print(test_hist[1]*1. / (test_hist[0] + test_hist[1]))"
   ]
  },
  {
   "cell_type": "markdown",
   "metadata": {},
   "source": [
    "### Baseline classification model"
   ]
  },
  {
   "cell_type": "code",
   "execution_count": 150,
   "metadata": {},
   "outputs": [],
   "source": [
    "import sagemaker\n",
    "# from sagemaker.predictor import CSVSerializer\n",
    "from sagemaker.amazon.amazon_estimator import RecordSet\n",
    "import boto3\n",
    "\n",
    "num_classes = len(np.unique(train_labels))\n",
    "\n",
    "# Instantiate the LinearLearner estimator object with 1 ml.m4.xlarge\n",
    "classifier_estimator = sagemaker.LinearLearner(role=sagemaker.get_execution_role(),\n",
    "                                               instance_count=1,\n",
    "                                               instance_type='ml.m4.xlarge',\n",
    "                                               predictor_type='binary_classifier',\n",
    "                                              binary_classifier_model_selection_criteria='cross_entropy_loss')"
   ]
  },
  {
   "cell_type": "markdown",
   "metadata": {},
   "source": [
    "Linear learner accepts training data in protobuf or CSV content types, and accepts inference requests in protobuf, CSV, or JSON content types. Training data has features and ground-truth labels, while the data in an inference request has only features.\n",
    "\n",
    "In a production pipeline, it is recommended to convert the data to the Amazon SageMaker protobuf format and store it in Amazon S3. However, to get up and running quickly, AWS provides the convenient method `record_set` for converting and uploading when the dataset is small enough to fit in local memory. It accepts NumPy arrays like the ones you already have, so let's use it here. The `RecordSet` object will keep track of the temporary Amazon S3 location of your data. Use the `estimator.record_set` function to create train, validation, and test records. Then, use the `estimator.fit` function to start your training job."
   ]
  },
  {
   "cell_type": "code",
   "execution_count": 151,
   "metadata": {},
   "outputs": [],
   "source": [
    "### Create train, val, test records\n",
    "train_records = classifier_estimator.record_set(train_features,train_labels, channel='train')\n",
    "val_records = classifier_estimator.record_set(val_features,val_labels, channel='validation')\n",
    "test_records = classifier_estimator.record_set(test_features,test_labels, channel='test')"
   ]
  },
  {
   "cell_type": "markdown",
   "metadata": {},
   "source": [
    "Now, train your model on the dataset that you just uplaoded.\n",
    "\n",
    "### Sample code\n",
    "```\n",
    "linear.fit([train_records,val_records])\n",
    "```"
   ]
  },
  {
   "cell_type": "code",
   "execution_count": 152,
   "metadata": {},
   "outputs": [
    {
     "name": "stderr",
     "output_type": "stream",
     "text": [
      "INFO:sagemaker.image_uris:Same images used for training and inference. Defaulting to image scope: inference.\n",
      "INFO:sagemaker.image_uris:Ignoring unnecessary instance type: None.\n",
      "INFO:sagemaker.image_uris:Same images used for training and inference. Defaulting to image scope: inference.\n",
      "INFO:sagemaker.image_uris:Ignoring unnecessary instance type: None.\n",
      "INFO:sagemaker:Creating training-job with name: linear-learner-2024-09-26-10-46-44-824\n"
     ]
    },
    {
     "name": "stdout",
     "output_type": "stream",
     "text": [
      "2024-09-26 10:46:46 Starting - Starting the training job...\n",
      "2024-09-26 10:46:58 Starting - Preparing the instances for training...\n",
      "2024-09-26 10:47:29 Downloading - Downloading input data...\n",
      "2024-09-26 10:48:09 Downloading - Downloading the training image......\n",
      "2024-09-26 10:49:10 Training - Training image download completed. Training in progress...\u001b[34mDocker entrypoint called with argument(s): train\u001b[0m\n",
      "\u001b[34mRunning default environment configuration script\u001b[0m\n",
      "\u001b[34m[09/26/2024 10:49:27 INFO 139808012048192] Reading default configuration from /opt/amazon/lib/python3.8/site-packages/algorithm/resources/default-input.json: {'mini_batch_size': '1000', 'epochs': '15', 'feature_dim': 'auto', 'use_bias': 'true', 'binary_classifier_model_selection_criteria': 'accuracy', 'f_beta': '1.0', 'target_recall': '0.8', 'target_precision': '0.8', 'num_models': 'auto', 'num_calibration_samples': '10000000', 'init_method': 'uniform', 'init_scale': '0.07', 'init_sigma': '0.01', 'init_bias': '0.0', 'optimizer': 'auto', 'loss': 'auto', 'margin': '1.0', 'quantile': '0.5', 'loss_insensitivity': '0.01', 'huber_delta': '1.0', 'num_classes': '1', 'accuracy_top_k': '3', 'wd': 'auto', 'l1': 'auto', 'momentum': 'auto', 'learning_rate': 'auto', 'beta_1': 'auto', 'beta_2': 'auto', 'bias_lr_mult': 'auto', 'bias_wd_mult': 'auto', 'use_lr_scheduler': 'true', 'lr_scheduler_step': 'auto', 'lr_scheduler_factor': 'auto', 'lr_scheduler_minimum_lr': 'auto', 'positive_example_weight_mult': '1.0', 'balance_multiclass_weights': 'false', 'normalize_data': 'true', 'normalize_label': 'auto', 'unbias_data': 'auto', 'unbias_label': 'auto', 'num_point_for_scaler': '10000', '_kvstore': 'auto', '_num_gpus': 'auto', '_num_kv_servers': 'auto', '_log_level': 'info', '_tuning_objective_metric': '', 'early_stopping_patience': '3', 'early_stopping_tolerance': '0.001', '_enable_profiler': 'false'}\u001b[0m\n",
      "\u001b[34m[09/26/2024 10:49:27 INFO 139808012048192] Merging with provided configuration from /opt/ml/input/config/hyperparameters.json: {'binary_classifier_model_selection_criteria': 'cross_entropy_loss', 'feature_dim': '93', 'mini_batch_size': '1000', 'predictor_type': 'binary_classifier'}\u001b[0m\n",
      "\u001b[34m[09/26/2024 10:49:27 INFO 139808012048192] Final configuration: {'mini_batch_size': '1000', 'epochs': '15', 'feature_dim': '93', 'use_bias': 'true', 'binary_classifier_model_selection_criteria': 'cross_entropy_loss', 'f_beta': '1.0', 'target_recall': '0.8', 'target_precision': '0.8', 'num_models': 'auto', 'num_calibration_samples': '10000000', 'init_method': 'uniform', 'init_scale': '0.07', 'init_sigma': '0.01', 'init_bias': '0.0', 'optimizer': 'auto', 'loss': 'auto', 'margin': '1.0', 'quantile': '0.5', 'loss_insensitivity': '0.01', 'huber_delta': '1.0', 'num_classes': '1', 'accuracy_top_k': '3', 'wd': 'auto', 'l1': 'auto', 'momentum': 'auto', 'learning_rate': 'auto', 'beta_1': 'auto', 'beta_2': 'auto', 'bias_lr_mult': 'auto', 'bias_wd_mult': 'auto', 'use_lr_scheduler': 'true', 'lr_scheduler_step': 'auto', 'lr_scheduler_factor': 'auto', 'lr_scheduler_minimum_lr': 'auto', 'positive_example_weight_mult': '1.0', 'balance_multiclass_weights': 'false', 'normalize_data': 'true', 'normalize_label': 'auto', 'unbias_data': 'auto', 'unbias_label': 'auto', 'num_point_for_scaler': '10000', '_kvstore': 'auto', '_num_gpus': 'auto', '_num_kv_servers': 'auto', '_log_level': 'info', '_tuning_objective_metric': '', 'early_stopping_patience': '3', 'early_stopping_tolerance': '0.001', '_enable_profiler': 'false', 'predictor_type': 'binary_classifier'}\u001b[0m\n",
      "\u001b[34m/opt/amazon/lib/python3.8/site-packages/mxnet/model.py:97: SyntaxWarning: \"is\" with a literal. Did you mean \"==\"?\n",
      "  if num_device is 1 and 'dist' not in kvstore:\u001b[0m\n",
      "\u001b[34m/opt/amazon/lib/python3.8/site-packages/scipy/optimize/_shgo.py:495: SyntaxWarning: \"is\" with a literal. Did you mean \"==\"?\n",
      "  if cons['type'] is 'ineq':\u001b[0m\n",
      "\u001b[34m/opt/amazon/lib/python3.8/site-packages/scipy/optimize/_shgo.py:743: SyntaxWarning: \"is not\" with a literal. Did you mean \"!=\"?\n",
      "  if len(self.X_min) is not 0:\u001b[0m\n",
      "\u001b[34m[09/26/2024 10:49:29 WARNING 139808012048192] Loggers have already been setup.\u001b[0m\n",
      "\u001b[34m[09/26/2024 10:49:29 INFO 139808012048192] Final configuration: {'mini_batch_size': '1000', 'epochs': '15', 'feature_dim': '93', 'use_bias': 'true', 'binary_classifier_model_selection_criteria': 'cross_entropy_loss', 'f_beta': '1.0', 'target_recall': '0.8', 'target_precision': '0.8', 'num_models': 'auto', 'num_calibration_samples': '10000000', 'init_method': 'uniform', 'init_scale': '0.07', 'init_sigma': '0.01', 'init_bias': '0.0', 'optimizer': 'auto', 'loss': 'auto', 'margin': '1.0', 'quantile': '0.5', 'loss_insensitivity': '0.01', 'huber_delta': '1.0', 'num_classes': '1', 'accuracy_top_k': '3', 'wd': 'auto', 'l1': 'auto', 'momentum': 'auto', 'learning_rate': 'auto', 'beta_1': 'auto', 'beta_2': 'auto', 'bias_lr_mult': 'auto', 'bias_wd_mult': 'auto', 'use_lr_scheduler': 'true', 'lr_scheduler_step': 'auto', 'lr_scheduler_factor': 'auto', 'lr_scheduler_minimum_lr': 'auto', 'positive_example_weight_mult': '1.0', 'balance_multiclass_weights': 'false', 'normalize_data': 'true', 'normalize_label': 'auto', 'unbias_data': 'auto', 'unbias_label': 'auto', 'num_point_for_scaler': '10000', '_kvstore': 'auto', '_num_gpus': 'auto', '_num_kv_servers': 'auto', '_log_level': 'info', '_tuning_objective_metric': '', 'early_stopping_patience': '3', 'early_stopping_tolerance': '0.001', '_enable_profiler': 'false', 'predictor_type': 'binary_classifier'}\u001b[0m\n",
      "\u001b[34m[09/26/2024 10:49:29 WARNING 139808012048192] Loggers have already been setup.\u001b[0m\n",
      "\u001b[34mProcess 7 is a worker.\u001b[0m\n",
      "\u001b[34m[09/26/2024 10:49:29 INFO 139808012048192] Using default worker.\u001b[0m\n",
      "\u001b[34m[09/26/2024 10:49:29 INFO 139808012048192] Checkpoint loading and saving are disabled.\u001b[0m\n",
      "\u001b[34m[2024-09-26 10:49:29.760] [tensorio] [warning] TensorIO is already initialized; ignoring the initialization routine.\u001b[0m\n",
      "\u001b[34m[2024-09-26 10:49:29.785] [tensorio] [info] epoch_stats={\"data_pipeline\": \"/opt/ml/input/data/train\", \"epoch\": 0, \"duration\": 27, \"num_examples\": 1, \"num_bytes\": 420000}\u001b[0m\n",
      "\u001b[34m[09/26/2024 10:49:29 INFO 139808012048192] Create Store: local\u001b[0m\n",
      "\u001b[34m[2024-09-26 10:49:29.891] [tensorio] [info] epoch_stats={\"data_pipeline\": \"/opt/ml/input/data/train\", \"epoch\": 1, \"duration\": 105, \"num_examples\": 11, \"num_bytes\": 4620000}\u001b[0m\n",
      "\u001b[34m[09/26/2024 10:49:29 INFO 139808012048192] Scaler algorithm parameters\n",
      " <algorithm.scaler.ScalerAlgorithmStable object at 0x7f2706e87c40>\u001b[0m\n",
      "\u001b[34m[09/26/2024 10:49:29 INFO 139808012048192] Scaling model computed with parameters:\n",
      " {'stdev_label': None, 'stdev_weight': \u001b[0m\n",
      "\u001b[34m[5.3678314e+02 4.3014106e-01 4.4070190e-01 4.3728229e-01 2.5758260e-01\n",
      " 2.7408755e-01 2.7213579e-01 2.7422616e-01 2.7533180e-01 2.8941059e-01\n",
      " 2.8382304e-01 2.7615684e-01 2.8342706e-01 2.7793244e-01 2.7901691e-01\n",
      " 1.7792189e-01 1.7478657e-01 1.7696394e-01 1.8674232e-01 1.7454271e-01\n",
      " 1.8696794e-01 1.8146273e-01 1.7720398e-01 1.7720398e-01 1.7720398e-01\n",
      " 1.6678227e-01 1.7600000e-01 1.7816049e-01 1.7478655e-01 1.7744365e-01\n",
      " 1.7720397e-01 1.8169598e-01 1.8262546e-01 1.8146272e-01 1.7672350e-01\n",
      " 1.7839867e-01 1.7257784e-01 1.7839868e-01 1.7958426e-01 1.7792188e-01\n",
      " 1.7982030e-01 1.8029132e-01 1.7183441e-01 1.7158578e-01 1.4308007e-01\n",
      " 3.4858331e-01 3.5255852e-01 3.4848982e-01 3.5716051e-01 3.3009940e-01\n",
      " 3.4895688e-01 3.6953148e-01 2.3765521e-01 4.6021464e-01 3.1106803e-01\n",
      " 2.4636538e-01 3.2185307e-01 3.3113077e-01 2.7942210e-01 3.5963663e-01\n",
      " 3.3061579e-01 2.9334044e-01 3.2421592e-01 2.4165024e-01 3.1681493e-01\n",
      " 3.3184934e-01 2.6831463e-01 3.5090530e-01 3.3977115e-01 3.0144903e-01\n",
      " 3.3225876e-01 5.6317799e-02 9.5341923e-03 1.0000000e+00 1.5804790e-01\n",
      " 2.3079738e-01 2.5667295e-01 2.5252429e-01 2.3949701e-01 2.5080758e-01\n",
      " 2.4181484e-01 2.3916352e-01 2.3933034e-01 2.4361587e-01 2.3009719e-01\n",
      " 2.3009719e-01 2.4165024e-01 2.2403347e-01 2.2762503e-01 1.9723468e-01\n",
      " 1.5501423e-01 1.7083751e-01 1.0171159e-01]\u001b[0m\n",
      "\u001b[34m<NDArray 93 @cpu(0)>, 'mean_label': None, 'mean_weight': \u001b[0m\n",
      "\u001b[34m[1.00601019e+03 2.45090947e-01 2.63818175e-01 2.57545501e-01\n",
      " 7.14545473e-02 8.18181857e-02 8.05454627e-02 8.19091052e-02\n",
      " 8.26363787e-02 9.22727361e-02 8.83636400e-02 8.31818357e-02\n",
      " 8.80909264e-02 8.43636468e-02 8.50909129e-02 3.27272713e-02\n",
      " 3.15454565e-02 3.23636383e-02 3.61818261e-02 3.14545482e-02\n",
      " 3.62727307e-02 3.40909101e-02 3.24545465e-02 3.24545465e-02\n",
      " 3.24545465e-02 2.86363661e-02 3.20000015e-02 3.28181796e-02\n",
      " 3.15454565e-02 3.25454585e-02 3.24545465e-02 3.41818184e-02\n",
      " 3.45454551e-02 3.40909138e-02 3.22727263e-02 3.29090916e-02\n",
      " 3.07272766e-02 3.29090953e-02 3.33636440e-02 3.27272750e-02\n",
      " 3.34545486e-02 3.36363651e-02 3.04545462e-02 3.03636380e-02\n",
      " 2.09090915e-02 1.41545475e-01 1.45454571e-01 1.41454563e-01\n",
      " 1.50090903e-01 1.24454550e-01 1.41909093e-01 1.63181826e-01\n",
      " 6.00909144e-02 3.04545492e-01 1.08545452e-01 6.49090931e-02\n",
      " 1.17363654e-01 1.25363648e-01 8.53636488e-02 1.52636394e-01\n",
      " 1.24909103e-01 9.50909108e-02 1.19363643e-01 6.22727312e-02\n",
      " 1.13181844e-01 1.26000002e-01 7.80909210e-02 1.43818185e-01\n",
      " 1.33181840e-01 1.01090930e-01 1.26363650e-01 3.18181841e-03\n",
      " 9.09090959e-05 0.00000000e+00 2.56363675e-02 5.64545542e-02\n",
      " 7.09090978e-02 6.84545487e-02 6.10909127e-02 6.74545467e-02\n",
      " 6.23636469e-02 6.09090999e-02 6.10000119e-02 6.33636340e-02\n",
      " 5.60909174e-02 5.60909137e-02 6.22727349e-02 5.30000031e-02\n",
      " 5.48181869e-02 4.05454561e-02 2.46363655e-02 3.00909076e-02\n",
      " 1.04545467e-02]\u001b[0m\n",
      "\u001b[34m<NDArray 93 @cpu(0)>}\u001b[0m\n",
      "\u001b[34m/opt/amazon/python3.8/lib/python3.8/subprocess.py:848: RuntimeWarning: line buffering (buffering=1) isn't supported in binary mode, the default buffer size will be used\n",
      "  self.stdout = io.open(c2pread, 'rb', bufsize)\u001b[0m\n",
      "\u001b[34m[09/26/2024 10:49:29 INFO 139808012048192] nvidia-smi: took 0.034 seconds to run.\u001b[0m\n",
      "\u001b[34m[09/26/2024 10:49:29 INFO 139808012048192] nvidia-smi identified 0 GPUs.\u001b[0m\n",
      "\u001b[34m[09/26/2024 10:49:29 INFO 139808012048192] Number of GPUs being used: 0\u001b[0m\n",
      "\u001b[34m#metrics {\"StartTime\": 1727347769.9899802, \"EndTime\": 1727347769.9900184, \"Dimensions\": {\"Algorithm\": \"Linear Learner\", \"Host\": \"algo-1\", \"Operation\": \"training\", \"Meta\": \"init_train_data_iter\"}, \"Metrics\": {\"Total Records Seen\": {\"sum\": 12000.0, \"count\": 1, \"min\": 12000, \"max\": 12000}, \"Total Batches Seen\": {\"sum\": 12.0, \"count\": 1, \"min\": 12, \"max\": 12}, \"Max Records Seen Between Resets\": {\"sum\": 11000.0, \"count\": 1, \"min\": 11000, \"max\": 11000}, \"Max Batches Seen Between Resets\": {\"sum\": 11.0, \"count\": 1, \"min\": 11, \"max\": 11}, \"Reset Count\": {\"sum\": 2.0, \"count\": 1, \"min\": 2, \"max\": 2}, \"Number of Records Since Last Reset\": {\"sum\": 0.0, \"count\": 1, \"min\": 0, \"max\": 0}, \"Number of Batches Since Last Reset\": {\"sum\": 0.0, \"count\": 1, \"min\": 0, \"max\": 0}}}\u001b[0m\n",
      "\u001b[34m[2024-09-26 10:49:58.115] [tensorio] [info] epoch_stats={\"data_pipeline\": \"/opt/ml/input/data/train\", \"epoch\": 3, \"duration\": 28125, \"num_examples\": 1309, \"num_bytes\": 549558240}\u001b[0m\n",
      "\u001b[34m#metrics {\"StartTime\": 1727347798.1158266, \"EndTime\": 1727347798.115919, \"Dimensions\": {\"Algorithm\": \"Linear Learner\", \"Host\": \"algo-1\", \"Operation\": \"training\", \"epoch\": 0, \"model\": 0}, \"Metrics\": {\"train_binary_classification_cross_entropy_objective\": {\"sum\": 0.4943654965275289, \"count\": 1, \"min\": 0.4943654965275289, \"max\": 0.4943654965275289}}}\u001b[0m\n",
      "\u001b[34m#metrics {\"StartTime\": 1727347798.1160088, \"EndTime\": 1727347798.1160288, \"Dimensions\": {\"Algorithm\": \"Linear Learner\", \"Host\": \"algo-1\", \"Operation\": \"training\", \"epoch\": 0, \"model\": 1}, \"Metrics\": {\"train_binary_classification_cross_entropy_objective\": {\"sum\": 0.49497111709548064, \"count\": 1, \"min\": 0.49497111709548064, \"max\": 0.49497111709548064}}}\u001b[0m\n",
      "\u001b[34m#metrics {\"StartTime\": 1727347798.1160753, \"EndTime\": 1727347798.1160865, \"Dimensions\": {\"Algorithm\": \"Linear Learner\", \"Host\": \"algo-1\", \"Operation\": \"training\", \"epoch\": 0, \"model\": 2}, \"Metrics\": {\"train_binary_classification_cross_entropy_objective\": {\"sum\": 0.49450384766464933, \"count\": 1, \"min\": 0.49450384766464933, \"max\": 0.49450384766464933}}}\u001b[0m\n",
      "\u001b[34m#metrics {\"StartTime\": 1727347798.1161242, \"EndTime\": 1727347798.1161358, \"Dimensions\": {\"Algorithm\": \"Linear Learner\", \"Host\": \"algo-1\", \"Operation\": \"training\", \"epoch\": 0, \"model\": 3}, \"Metrics\": {\"train_binary_classification_cross_entropy_objective\": {\"sum\": 0.49500969642382514, \"count\": 1, \"min\": 0.49500969642382514, \"max\": 0.49500969642382514}}}\u001b[0m\n",
      "\u001b[34m#metrics {\"StartTime\": 1727347798.1161773, \"EndTime\": 1727347798.1161876, \"Dimensions\": {\"Algorithm\": \"Linear Learner\", \"Host\": \"algo-1\", \"Operation\": \"training\", \"epoch\": 0, \"model\": 4}, \"Metrics\": {\"train_binary_classification_cross_entropy_objective\": {\"sum\": 0.5080842130468526, \"count\": 1, \"min\": 0.5080842130468526, \"max\": 0.5080842130468526}}}\u001b[0m\n",
      "\u001b[34m#metrics {\"StartTime\": 1727347798.1162205, \"EndTime\": 1727347798.1162302, \"Dimensions\": {\"Algorithm\": \"Linear Learner\", \"Host\": \"algo-1\", \"Operation\": \"training\", \"epoch\": 0, \"model\": 5}, \"Metrics\": {\"train_binary_classification_cross_entropy_objective\": {\"sum\": 0.5181747649773181, \"count\": 1, \"min\": 0.5181747649773181, \"max\": 0.5181747649773181}}}\u001b[0m\n",
      "\u001b[34m#metrics {\"StartTime\": 1727347798.1162717, \"EndTime\": 1727347798.116281, \"Dimensions\": {\"Algorithm\": \"Linear Learner\", \"Host\": \"algo-1\", \"Operation\": \"training\", \"epoch\": 0, \"model\": 6}, \"Metrics\": {\"train_binary_classification_cross_entropy_objective\": {\"sum\": 0.5081668178080054, \"count\": 1, \"min\": 0.5081668178080054, \"max\": 0.5081668178080054}}}\u001b[0m\n",
      "\u001b[34m#metrics {\"StartTime\": 1727347798.116315, \"EndTime\": 1727347798.1163242, \"Dimensions\": {\"Algorithm\": \"Linear Learner\", \"Host\": \"algo-1\", \"Operation\": \"training\", \"epoch\": 0, \"model\": 7}, \"Metrics\": {\"train_binary_classification_cross_entropy_objective\": {\"sum\": 0.5181251692699, \"count\": 1, \"min\": 0.5181251692699, \"max\": 0.5181251692699}}}\u001b[0m\n",
      "\u001b[34m#metrics {\"StartTime\": 1727347798.1163592, \"EndTime\": 1727347798.1163683, \"Dimensions\": {\"Algorithm\": \"Linear Learner\", \"Host\": \"algo-1\", \"Operation\": \"training\", \"epoch\": 0, \"model\": 8}, \"Metrics\": {\"train_binary_classification_cross_entropy_objective\": {\"sum\": 0.49453810989893177, \"count\": 1, \"min\": 0.49453810989893177, \"max\": 0.49453810989893177}}}\u001b[0m\n",
      "\u001b[34m#metrics {\"StartTime\": 1727347798.116435, \"EndTime\": 1727347798.1164484, \"Dimensions\": {\"Algorithm\": \"Linear Learner\", \"Host\": \"algo-1\", \"Operation\": \"training\", \"epoch\": 0, \"model\": 9}, \"Metrics\": {\"train_binary_classification_cross_entropy_objective\": {\"sum\": 0.49498620673130045, \"count\": 1, \"min\": 0.49498620673130045, \"max\": 0.49498620673130045}}}\u001b[0m\n",
      "\u001b[34m#metrics {\"StartTime\": 1727347798.1164935, \"EndTime\": 1727347798.1165044, \"Dimensions\": {\"Algorithm\": \"Linear Learner\", \"Host\": \"algo-1\", \"Operation\": \"training\", \"epoch\": 0, \"model\": 10}, \"Metrics\": {\"train_binary_classification_cross_entropy_objective\": {\"sum\": 0.4945864259912333, \"count\": 1, \"min\": 0.4945864259912333, \"max\": 0.4945864259912333}}}\u001b[0m\n",
      "\u001b[34m#metrics {\"StartTime\": 1727347798.116541, \"EndTime\": 1727347798.1165507, \"Dimensions\": {\"Algorithm\": \"Linear Learner\", \"Host\": \"algo-1\", \"Operation\": \"training\", \"epoch\": 0, \"model\": 11}, \"Metrics\": {\"train_binary_classification_cross_entropy_objective\": {\"sum\": 0.4949908428833754, \"count\": 1, \"min\": 0.4949908428833754, \"max\": 0.4949908428833754}}}\u001b[0m\n",
      "\u001b[34m#metrics {\"StartTime\": 1727347798.1165843, \"EndTime\": 1727347798.116594, \"Dimensions\": {\"Algorithm\": \"Linear Learner\", \"Host\": \"algo-1\", \"Operation\": \"training\", \"epoch\": 0, \"model\": 12}, \"Metrics\": {\"train_binary_classification_cross_entropy_objective\": {\"sum\": 0.5072191141810986, \"count\": 1, \"min\": 0.5072191141810986, \"max\": 0.5072191141810986}}}\u001b[0m\n",
      "\u001b[34m#metrics {\"StartTime\": 1727347798.1166286, \"EndTime\": 1727347798.116638, \"Dimensions\": {\"Algorithm\": \"Linear Learner\", \"Host\": \"algo-1\", \"Operation\": \"training\", \"epoch\": 0, \"model\": 13}, \"Metrics\": {\"train_binary_classification_cross_entropy_objective\": {\"sum\": 0.5165383101763711, \"count\": 1, \"min\": 0.5165383101763711, \"max\": 0.5165383101763711}}}\u001b[0m\n",
      "\u001b[34m#metrics {\"StartTime\": 1727347798.1166763, \"EndTime\": 1727347798.116686, \"Dimensions\": {\"Algorithm\": \"Linear Learner\", \"Host\": \"algo-1\", \"Operation\": \"training\", \"epoch\": 0, \"model\": 14}, \"Metrics\": {\"train_binary_classification_cross_entropy_objective\": {\"sum\": 0.5071944348863141, \"count\": 1, \"min\": 0.5071944348863141, \"max\": 0.5071944348863141}}}\u001b[0m\n",
      "\u001b[34m#metrics {\"StartTime\": 1727347798.1167202, \"EndTime\": 1727347798.11673, \"Dimensions\": {\"Algorithm\": \"Linear Learner\", \"Host\": \"algo-1\", \"Operation\": \"training\", \"epoch\": 0, \"model\": 15}, \"Metrics\": {\"train_binary_classification_cross_entropy_objective\": {\"sum\": 0.5165282444618529, \"count\": 1, \"min\": 0.5165282444618529, \"max\": 0.5165282444618529}}}\u001b[0m\n",
      "\u001b[34m#metrics {\"StartTime\": 1727347798.1167655, \"EndTime\": 1727347798.1167748, \"Dimensions\": {\"Algorithm\": \"Linear Learner\", \"Host\": \"algo-1\", \"Operation\": \"training\", \"epoch\": 0, \"model\": 16}, \"Metrics\": {\"train_binary_classification_cross_entropy_objective\": {\"sum\": 0.509322042646029, \"count\": 1, \"min\": 0.509322042646029, \"max\": 0.509322042646029}}}\u001b[0m\n",
      "\u001b[34m#metrics {\"StartTime\": 1727347798.1168077, \"EndTime\": 1727347798.116817, \"Dimensions\": {\"Algorithm\": \"Linear Learner\", \"Host\": \"algo-1\", \"Operation\": \"training\", \"epoch\": 0, \"model\": 17}, \"Metrics\": {\"train_binary_classification_cross_entropy_objective\": {\"sum\": 0.5093894847671555, \"count\": 1, \"min\": 0.5093894847671555, \"max\": 0.5093894847671555}}}\u001b[0m\n",
      "\u001b[34m#metrics {\"StartTime\": 1727347798.1168542, \"EndTime\": 1727347798.1168642, \"Dimensions\": {\"Algorithm\": \"Linear Learner\", \"Host\": \"algo-1\", \"Operation\": \"training\", \"epoch\": 0, \"model\": 18}, \"Metrics\": {\"train_binary_classification_cross_entropy_objective\": {\"sum\": 0.5093080426604011, \"count\": 1, \"min\": 0.5093080426604011, \"max\": 0.5093080426604011}}}\u001b[0m\n",
      "\u001b[34m#metrics {\"StartTime\": 1727347798.1168983, \"EndTime\": 1727347798.1169074, \"Dimensions\": {\"Algorithm\": \"Linear Learner\", \"Host\": \"algo-1\", \"Operation\": \"training\", \"epoch\": 0, \"model\": 19}, \"Metrics\": {\"train_binary_classification_cross_entropy_objective\": {\"sum\": 0.5093913730073049, \"count\": 1, \"min\": 0.5093913730073049, \"max\": 0.5093913730073049}}}\u001b[0m\n",
      "\u001b[34m#metrics {\"StartTime\": 1727347798.1169395, \"EndTime\": 1727347798.1169488, \"Dimensions\": {\"Algorithm\": \"Linear Learner\", \"Host\": \"algo-1\", \"Operation\": \"training\", \"epoch\": 0, \"model\": 20}, \"Metrics\": {\"train_binary_classification_cross_entropy_objective\": {\"sum\": 0.5108235318945088, \"count\": 1, \"min\": 0.5108235318945088, \"max\": 0.5108235318945088}}}\u001b[0m\n",
      "\u001b[34m#metrics {\"StartTime\": 1727347798.1169877, \"EndTime\": 1727347798.1169965, \"Dimensions\": {\"Algorithm\": \"Linear Learner\", \"Host\": \"algo-1\", \"Operation\": \"training\", \"epoch\": 0, \"model\": 21}, \"Metrics\": {\"train_binary_classification_cross_entropy_objective\": {\"sum\": 0.5122219020365211, \"count\": 1, \"min\": 0.5122219020365211, \"max\": 0.5122219020365211}}}\u001b[0m\n",
      "\u001b[34m#metrics {\"StartTime\": 1727347798.117033, \"EndTime\": 1727347798.117042, \"Dimensions\": {\"Algorithm\": \"Linear Learner\", \"Host\": \"algo-1\", \"Operation\": \"training\", \"epoch\": 0, \"model\": 22}, \"Metrics\": {\"train_binary_classification_cross_entropy_objective\": {\"sum\": 0.510764077096175, \"count\": 1, \"min\": 0.510764077096175, \"max\": 0.510764077096175}}}\u001b[0m\n",
      "\u001b[34m#metrics {\"StartTime\": 1727347798.1170757, \"EndTime\": 1727347798.117085, \"Dimensions\": {\"Algorithm\": \"Linear Learner\", \"Host\": \"algo-1\", \"Operation\": \"training\", \"epoch\": 0, \"model\": 23}, \"Metrics\": {\"train_binary_classification_cross_entropy_objective\": {\"sum\": 0.5121995426609611, \"count\": 1, \"min\": 0.5121995426609611, \"max\": 0.5121995426609611}}}\u001b[0m\n",
      "\u001b[34m#metrics {\"StartTime\": 1727347798.117116, \"EndTime\": 1727347798.117125, \"Dimensions\": {\"Algorithm\": \"Linear Learner\", \"Host\": \"algo-1\", \"Operation\": \"training\", \"epoch\": 0, \"model\": 24}, \"Metrics\": {\"train_binary_classification_cross_entropy_objective\": {\"sum\": 0.5151494620786894, \"count\": 1, \"min\": 0.5151494620786894, \"max\": 0.5151494620786894}}}\u001b[0m\n",
      "\u001b[34m#metrics {\"StartTime\": 1727347798.1171627, \"EndTime\": 1727347798.1171732, \"Dimensions\": {\"Algorithm\": \"Linear Learner\", \"Host\": \"algo-1\", \"Operation\": \"training\", \"epoch\": 0, \"model\": 25}, \"Metrics\": {\"train_binary_classification_cross_entropy_objective\": {\"sum\": 0.5151975232278899, \"count\": 1, \"min\": 0.5151975232278899, \"max\": 0.5151975232278899}}}\u001b[0m\n",
      "\u001b[34m#metrics {\"StartTime\": 1727347798.11721, \"EndTime\": 1727347798.1172197, \"Dimensions\": {\"Algorithm\": \"Linear Learner\", \"Host\": \"algo-1\", \"Operation\": \"training\", \"epoch\": 0, \"model\": 26}, \"Metrics\": {\"train_binary_classification_cross_entropy_objective\": {\"sum\": 0.5151488086105487, \"count\": 1, \"min\": 0.5151488086105487, \"max\": 0.5151488086105487}}}\u001b[0m\n",
      "\u001b[34m#metrics {\"StartTime\": 1727347798.1172583, \"EndTime\": 1727347798.117269, \"Dimensions\": {\"Algorithm\": \"Linear Learner\", \"Host\": \"algo-1\", \"Operation\": \"training\", \"epoch\": 0, \"model\": 27}, \"Metrics\": {\"train_binary_classification_cross_entropy_objective\": {\"sum\": 0.5151694150685535, \"count\": 1, \"min\": 0.5151694150685535, \"max\": 0.5151694150685535}}}\u001b[0m\n",
      "\u001b[34m#metrics {\"StartTime\": 1727347798.1173022, \"EndTime\": 1727347798.117312, \"Dimensions\": {\"Algorithm\": \"Linear Learner\", \"Host\": \"algo-1\", \"Operation\": \"training\", \"epoch\": 0, \"model\": 28}, \"Metrics\": {\"train_binary_classification_cross_entropy_objective\": {\"sum\": 0.5153169282219097, \"count\": 1, \"min\": 0.5153169282219097, \"max\": 0.5153169282219097}}}\u001b[0m\n",
      "\u001b[34m#metrics {\"StartTime\": 1727347798.1173499, \"EndTime\": 1727347798.1173596, \"Dimensions\": {\"Algorithm\": \"Linear Learner\", \"Host\": \"algo-1\", \"Operation\": \"training\", \"epoch\": 0, \"model\": 29}, \"Metrics\": {\"train_binary_classification_cross_entropy_objective\": {\"sum\": 0.5156757661311998, \"count\": 1, \"min\": 0.5156757661311998, \"max\": 0.5156757661311998}}}\u001b[0m\n",
      "\u001b[34m#metrics {\"StartTime\": 1727347798.1173954, \"EndTime\": 1727347798.117405, \"Dimensions\": {\"Algorithm\": \"Linear Learner\", \"Host\": \"algo-1\", \"Operation\": \"training\", \"epoch\": 0, \"model\": 30}, \"Metrics\": {\"train_binary_classification_cross_entropy_objective\": {\"sum\": 0.5152553902022335, \"count\": 1, \"min\": 0.5152553902022335, \"max\": 0.5152553902022335}}}\u001b[0m\n",
      "\u001b[34m#metrics {\"StartTime\": 1727347798.1174347, \"EndTime\": 1727347798.1174436, \"Dimensions\": {\"Algorithm\": \"Linear Learner\", \"Host\": \"algo-1\", \"Operation\": \"training\", \"epoch\": 0, \"model\": 31}, \"Metrics\": {\"train_binary_classification_cross_entropy_objective\": {\"sum\": 0.5156906672719787, \"count\": 1, \"min\": 0.5156906672719787, \"max\": 0.5156906672719787}}}\u001b[0m\n",
      "\u001b[34m[09/26/2024 10:49:58 INFO 139808012048192] #quality_metric: host=algo-1, epoch=0, train binary_classification_cross_entropy_objective <loss>=0.4943654965275289\u001b[0m\n",
      "\u001b[34m[2024-09-26 10:49:58.137] [tensorio] [info] epoch_stats={\"data_pipeline\": \"/opt/ml/input/data/validation\", \"epoch\": 0, \"duration\": 28376, \"num_examples\": 1, \"num_bytes\": 420000}\u001b[0m\n",
      "\u001b[34m[2024-09-26 10:50:01.295] [tensorio] [info] epoch_stats={\"data_pipeline\": \"/opt/ml/input/data/validation\", \"epoch\": 2, \"duration\": 3157, \"num_examples\": 164, \"num_bytes\": 68694780}\u001b[0m\n",
      "\u001b[34m#metrics {\"StartTime\": 1727347801.3042455, \"EndTime\": 1727347801.3043277, \"Dimensions\": {\"Algorithm\": \"Linear Learner\", \"Host\": \"algo-1\", \"Operation\": \"training\", \"epoch\": 0, \"model\": 0}, \"Metrics\": {\"validation_binary_classification_cross_entropy_objective\": {\"sum\": 0.49323241120982864, \"count\": 1, \"min\": 0.49323241120982864, \"max\": 0.49323241120982864}}}\u001b[0m\n",
      "\u001b[34m#metrics {\"StartTime\": 1727347801.304504, \"EndTime\": 1727347801.3045251, \"Dimensions\": {\"Algorithm\": \"Linear Learner\", \"Host\": \"algo-1\", \"Operation\": \"training\", \"epoch\": 0, \"model\": 1}, \"Metrics\": {\"validation_binary_classification_cross_entropy_objective\": {\"sum\": 0.49408748740688807, \"count\": 1, \"min\": 0.49408748740688807, \"max\": 0.49408748740688807}}}\u001b[0m\n",
      "\u001b[34m#metrics {\"StartTime\": 1727347801.3046525, \"EndTime\": 1727347801.30467, \"Dimensions\": {\"Algorithm\": \"Linear Learner\", \"Host\": \"algo-1\", \"Operation\": \"training\", \"epoch\": 0, \"model\": 2}, \"Metrics\": {\"validation_binary_classification_cross_entropy_objective\": {\"sum\": 0.49324135364629984, \"count\": 1, \"min\": 0.49324135364629984, \"max\": 0.49324135364629984}}}\u001b[0m\n",
      "\u001b[34m#metrics {\"StartTime\": 1727347801.3047786, \"EndTime\": 1727347801.304795, \"Dimensions\": {\"Algorithm\": \"Linear Learner\", \"Host\": \"algo-1\", \"Operation\": \"training\", \"epoch\": 0, \"model\": 3}, \"Metrics\": {\"validation_binary_classification_cross_entropy_objective\": {\"sum\": 0.4940814079233497, \"count\": 1, \"min\": 0.4940814079233497, \"max\": 0.4940814079233497}}}\u001b[0m\n",
      "\u001b[34m#metrics {\"StartTime\": 1727347801.304892, \"EndTime\": 1727347801.3049061, \"Dimensions\": {\"Algorithm\": \"Linear Learner\", \"Host\": \"algo-1\", \"Operation\": \"training\", \"epoch\": 0, \"model\": 4}, \"Metrics\": {\"validation_binary_classification_cross_entropy_objective\": {\"sum\": 0.4990901076954527, \"count\": 1, \"min\": 0.4990901076954527, \"max\": 0.4990901076954527}}}\u001b[0m\n",
      "\u001b[34m#metrics {\"StartTime\": 1727347801.3049972, \"EndTime\": 1727347801.3050113, \"Dimensions\": {\"Algorithm\": \"Linear Learner\", \"Host\": \"algo-1\", \"Operation\": \"training\", \"epoch\": 0, \"model\": 5}, \"Metrics\": {\"validation_binary_classification_cross_entropy_objective\": {\"sum\": 0.5182952842609547, \"count\": 1, \"min\": 0.5182952842609547, \"max\": 0.5182952842609547}}}\u001b[0m\n",
      "\u001b[34m#metrics {\"StartTime\": 1727347801.3051045, \"EndTime\": 1727347801.3051178, \"Dimensions\": {\"Algorithm\": \"Linear Learner\", \"Host\": \"algo-1\", \"Operation\": \"training\", \"epoch\": 0, \"model\": 6}, \"Metrics\": {\"validation_binary_classification_cross_entropy_objective\": {\"sum\": 0.49907980281878883, \"count\": 1, \"min\": 0.49907980281878883, \"max\": 0.49907980281878883}}}\u001b[0m\n",
      "\u001b[34m#metrics {\"StartTime\": 1727347801.3052125, \"EndTime\": 1727347801.3052263, \"Dimensions\": {\"Algorithm\": \"Linear Learner\", \"Host\": \"algo-1\", \"Operation\": \"training\", \"epoch\": 0, \"model\": 7}, \"Metrics\": {\"validation_binary_classification_cross_entropy_objective\": {\"sum\": 0.518455551037656, \"count\": 1, \"min\": 0.518455551037656, \"max\": 0.518455551037656}}}\u001b[0m\n",
      "\u001b[34m#metrics {\"StartTime\": 1727347801.3053172, \"EndTime\": 1727347801.305331, \"Dimensions\": {\"Algorithm\": \"Linear Learner\", \"Host\": \"algo-1\", \"Operation\": \"training\", \"epoch\": 0, \"model\": 8}, \"Metrics\": {\"validation_binary_classification_cross_entropy_objective\": {\"sum\": 0.4933624221864917, \"count\": 1, \"min\": 0.4933624221864917, \"max\": 0.4933624221864917}}}\u001b[0m\n",
      "\u001b[34m#metrics {\"StartTime\": 1727347801.305415, \"EndTime\": 1727347801.305428, \"Dimensions\": {\"Algorithm\": \"Linear Learner\", \"Host\": \"algo-1\", \"Operation\": \"training\", \"epoch\": 0, \"model\": 9}, \"Metrics\": {\"validation_binary_classification_cross_entropy_objective\": {\"sum\": 0.494131770631424, \"count\": 1, \"min\": 0.494131770631424, \"max\": 0.494131770631424}}}\u001b[0m\n",
      "\u001b[34m#metrics {\"StartTime\": 1727347801.305519, \"EndTime\": 1727347801.3055325, \"Dimensions\": {\"Algorithm\": \"Linear Learner\", \"Host\": \"algo-1\", \"Operation\": \"training\", \"epoch\": 0, \"model\": 10}, \"Metrics\": {\"validation_binary_classification_cross_entropy_objective\": {\"sum\": 0.4933609472358312, \"count\": 1, \"min\": 0.4933609472358312, \"max\": 0.4933609472358312}}}\u001b[0m\n",
      "\u001b[34m#metrics {\"StartTime\": 1727347801.3056183, \"EndTime\": 1727347801.3056312, \"Dimensions\": {\"Algorithm\": \"Linear Learner\", \"Host\": \"algo-1\", \"Operation\": \"training\", \"epoch\": 0, \"model\": 11}, \"Metrics\": {\"validation_binary_classification_cross_entropy_objective\": {\"sum\": 0.4941316086760574, \"count\": 1, \"min\": 0.4941316086760574, \"max\": 0.4941316086760574}}}\u001b[0m\n",
      "\u001b[34m#metrics {\"StartTime\": 1727347801.3057225, \"EndTime\": 1727347801.3057356, \"Dimensions\": {\"Algorithm\": \"Linear Learner\", \"Host\": \"algo-1\", \"Operation\": \"training\", \"epoch\": 0, \"model\": 12}, \"Metrics\": {\"validation_binary_classification_cross_entropy_objective\": {\"sum\": 0.49888097312588175, \"count\": 1, \"min\": 0.49888097312588175, \"max\": 0.49888097312588175}}}\u001b[0m\n",
      "\u001b[34m#metrics {\"StartTime\": 1727347801.305824, \"EndTime\": 1727347801.3058379, \"Dimensions\": {\"Algorithm\": \"Linear Learner\", \"Host\": \"algo-1\", \"Operation\": \"training\", \"epoch\": 0, \"model\": 13}, \"Metrics\": {\"validation_binary_classification_cross_entropy_objective\": {\"sum\": 0.5175753417186588, \"count\": 1, \"min\": 0.5175753417186588, \"max\": 0.5175753417186588}}}\u001b[0m\n",
      "\u001b[34m#metrics {\"StartTime\": 1727347801.305943, \"EndTime\": 1727347801.305957, \"Dimensions\": {\"Algorithm\": \"Linear Learner\", \"Host\": \"algo-1\", \"Operation\": \"training\", \"epoch\": 0, \"model\": 14}, \"Metrics\": {\"validation_binary_classification_cross_entropy_objective\": {\"sum\": 0.4988830371238838, \"count\": 1, \"min\": 0.4988830371238838, \"max\": 0.4988830371238838}}}\u001b[0m\n",
      "\u001b[34m#metrics {\"StartTime\": 1727347801.306028, \"EndTime\": 1727347801.3060615, \"Dimensions\": {\"Algorithm\": \"Linear Learner\", \"Host\": \"algo-1\", \"Operation\": \"training\", \"epoch\": 0, \"model\": 15}, \"Metrics\": {\"validation_binary_classification_cross_entropy_objective\": {\"sum\": 0.5175668217095494, \"count\": 1, \"min\": 0.5175668217095494, \"max\": 0.5175668217095494}}}\u001b[0m\n",
      "\u001b[34m#metrics {\"StartTime\": 1727347801.3061473, \"EndTime\": 1727347801.30616, \"Dimensions\": {\"Algorithm\": \"Linear Learner\", \"Host\": \"algo-1\", \"Operation\": \"training\", \"epoch\": 0, \"model\": 16}, \"Metrics\": {\"validation_binary_classification_cross_entropy_objective\": {\"sum\": 0.5082302500609968, \"count\": 1, \"min\": 0.5082302500609968, \"max\": 0.5082302500609968}}}\u001b[0m\n",
      "\u001b[34m#metrics {\"StartTime\": 1727347801.3062477, \"EndTime\": 1727347801.3062606, \"Dimensions\": {\"Algorithm\": \"Linear Learner\", \"Host\": \"algo-1\", \"Operation\": \"training\", \"epoch\": 0, \"model\": 17}, \"Metrics\": {\"validation_binary_classification_cross_entropy_objective\": {\"sum\": 0.5078537329407412, \"count\": 1, \"min\": 0.5078537329407412, \"max\": 0.5078537329407412}}}\u001b[0m\n",
      "\u001b[34m#metrics {\"StartTime\": 1727347801.3063457, \"EndTime\": 1727347801.3063586, \"Dimensions\": {\"Algorithm\": \"Linear Learner\", \"Host\": \"algo-1\", \"Operation\": \"training\", \"epoch\": 0, \"model\": 18}, \"Metrics\": {\"validation_binary_classification_cross_entropy_objective\": {\"sum\": 0.5082308316449573, \"count\": 1, \"min\": 0.5082308316449573, \"max\": 0.5082308316449573}}}\u001b[0m\n",
      "\u001b[34m#metrics {\"StartTime\": 1727347801.3064494, \"EndTime\": 1727347801.3064637, \"Dimensions\": {\"Algorithm\": \"Linear Learner\", \"Host\": \"algo-1\", \"Operation\": \"training\", \"epoch\": 0, \"model\": 19}, \"Metrics\": {\"validation_binary_classification_cross_entropy_objective\": {\"sum\": 0.5078463747934614, \"count\": 1, \"min\": 0.5078463747934614, \"max\": 0.5078463747934614}}}\u001b[0m\n",
      "\u001b[34m#metrics {\"StartTime\": 1727347801.3065443, \"EndTime\": 1727347801.3065557, \"Dimensions\": {\"Algorithm\": \"Linear Learner\", \"Host\": \"algo-1\", \"Operation\": \"training\", \"epoch\": 0, \"model\": 20}, \"Metrics\": {\"validation_binary_classification_cross_entropy_objective\": {\"sum\": 0.509451994514224, \"count\": 1, \"min\": 0.509451994514224, \"max\": 0.509451994514224}}}\u001b[0m\n",
      "\u001b[34m#metrics {\"StartTime\": 1727347801.3066149, \"EndTime\": 1727347801.3066468, \"Dimensions\": {\"Algorithm\": \"Linear Learner\", \"Host\": \"algo-1\", \"Operation\": \"training\", \"epoch\": 0, \"model\": 21}, \"Metrics\": {\"validation_binary_classification_cross_entropy_objective\": {\"sum\": 0.5114833189539856, \"count\": 1, \"min\": 0.5114833189539856, \"max\": 0.5114833189539856}}}\u001b[0m\n",
      "\u001b[34m#metrics {\"StartTime\": 1727347801.306724, \"EndTime\": 1727347801.3067365, \"Dimensions\": {\"Algorithm\": \"Linear Learner\", \"Host\": \"algo-1\", \"Operation\": \"training\", \"epoch\": 0, \"model\": 22}, \"Metrics\": {\"validation_binary_classification_cross_entropy_objective\": {\"sum\": 0.5094605402719976, \"count\": 1, \"min\": 0.5094605402719976, \"max\": 0.5094605402719976}}}\u001b[0m\n",
      "\u001b[34m#metrics {\"StartTime\": 1727347801.3068233, \"EndTime\": 1727347801.3068357, \"Dimensions\": {\"Algorithm\": \"Linear Learner\", \"Host\": \"algo-1\", \"Operation\": \"training\", \"epoch\": 0, \"model\": 23}, \"Metrics\": {\"validation_binary_classification_cross_entropy_objective\": {\"sum\": 0.511470517762978, \"count\": 1, \"min\": 0.511470517762978, \"max\": 0.511470517762978}}}\u001b[0m\n",
      "\u001b[34m#metrics {\"StartTime\": 1727347801.3069081, \"EndTime\": 1727347801.3069203, \"Dimensions\": {\"Algorithm\": \"Linear Learner\", \"Host\": \"algo-1\", \"Operation\": \"training\", \"epoch\": 0, \"model\": 24}, \"Metrics\": {\"validation_binary_classification_cross_entropy_objective\": {\"sum\": 0.513898382081411, \"count\": 1, \"min\": 0.513898382081411, \"max\": 0.513898382081411}}}\u001b[0m\n",
      "\u001b[34m#metrics {\"StartTime\": 1727347801.307009, \"EndTime\": 1727347801.307021, \"Dimensions\": {\"Algorithm\": \"Linear Learner\", \"Host\": \"algo-1\", \"Operation\": \"training\", \"epoch\": 0, \"model\": 25}, \"Metrics\": {\"validation_binary_classification_cross_entropy_objective\": {\"sum\": 0.5138882645356091, \"count\": 1, \"min\": 0.5138882645356091, \"max\": 0.5138882645356091}}}\u001b[0m\n",
      "\u001b[34m#metrics {\"StartTime\": 1727347801.3071258, \"EndTime\": 1727347801.3071384, \"Dimensions\": {\"Algorithm\": \"Linear Learner\", \"Host\": \"algo-1\", \"Operation\": \"training\", \"epoch\": 0, \"model\": 26}, \"Metrics\": {\"validation_binary_classification_cross_entropy_objective\": {\"sum\": 0.5138973668750172, \"count\": 1, \"min\": 0.5138973668750172, \"max\": 0.5138973668750172}}}\u001b[0m\n",
      "\u001b[34m#metrics {\"StartTime\": 1727347801.3072207, \"EndTime\": 1727347801.3072307, \"Dimensions\": {\"Algorithm\": \"Linear Learner\", \"Host\": \"algo-1\", \"Operation\": \"training\", \"epoch\": 0, \"model\": 27}, \"Metrics\": {\"validation_binary_classification_cross_entropy_objective\": {\"sum\": 0.5138206991076113, \"count\": 1, \"min\": 0.5138206991076113, \"max\": 0.5138206991076113}}}\u001b[0m\n",
      "\u001b[34m#metrics {\"StartTime\": 1727347801.3072884, \"EndTime\": 1727347801.3073173, \"Dimensions\": {\"Algorithm\": \"Linear Learner\", \"Host\": \"algo-1\", \"Operation\": \"training\", \"epoch\": 0, \"model\": 28}, \"Metrics\": {\"validation_binary_classification_cross_entropy_objective\": {\"sum\": 0.5139975094011134, \"count\": 1, \"min\": 0.5139975094011134, \"max\": 0.5139975094011134}}}\u001b[0m\n",
      "\u001b[34m#metrics {\"StartTime\": 1727347801.3073914, \"EndTime\": 1727347801.3074021, \"Dimensions\": {\"Algorithm\": \"Linear Learner\", \"Host\": \"algo-1\", \"Operation\": \"training\", \"epoch\": 0, \"model\": 29}, \"Metrics\": {\"validation_binary_classification_cross_entropy_objective\": {\"sum\": 0.5139501587270066, \"count\": 1, \"min\": 0.5139501587270066, \"max\": 0.5139501587270066}}}\u001b[0m\n",
      "\u001b[34m#metrics {\"StartTime\": 1727347801.3074625, \"EndTime\": 1727347801.30749, \"Dimensions\": {\"Algorithm\": \"Linear Learner\", \"Host\": \"algo-1\", \"Operation\": \"training\", \"epoch\": 0, \"model\": 30}, \"Metrics\": {\"validation_binary_classification_cross_entropy_objective\": {\"sum\": 0.513990589167711, \"count\": 1, \"min\": 0.513990589167711, \"max\": 0.513990589167711}}}\u001b[0m\n",
      "\u001b[34m#metrics {\"StartTime\": 1727347801.3075314, \"EndTime\": 1727347801.3075423, \"Dimensions\": {\"Algorithm\": \"Linear Learner\", \"Host\": \"algo-1\", \"Operation\": \"training\", \"epoch\": 0, \"model\": 31}, \"Metrics\": {\"validation_binary_classification_cross_entropy_objective\": {\"sum\": 0.5140070740969716, \"count\": 1, \"min\": 0.5140070740969716, \"max\": 0.5140070740969716}}}\u001b[0m\n",
      "\u001b[34m[09/26/2024 10:50:01 INFO 139808012048192] #quality_metric: host=algo-1, epoch=0, validation binary_classification_cross_entropy_objective <loss>=0.49323241120982864\u001b[0m\n",
      "\u001b[34m[09/26/2024 10:50:01 INFO 139808012048192] #early_stopping_criteria_metric: host=algo-1, epoch=0, criteria=binary_classification_cross_entropy_objective, value=0.49323241120982864\u001b[0m\n",
      "\u001b[34m[09/26/2024 10:50:01 INFO 139808012048192] Epoch 0: Loss improved. Updating best model\u001b[0m\n",
      "\u001b[34m[09/26/2024 10:50:01 INFO 139808012048192] Saving model for epoch: 0\u001b[0m\n",
      "\u001b[34m[09/26/2024 10:50:01 INFO 139808012048192] Saved checkpoint to \"/tmp/tmpwq_ji86_/mx-mod-0000.params\"\u001b[0m\n",
      "\u001b[34m[09/26/2024 10:50:01 INFO 139808012048192] #progress_metric: host=algo-1, completed 6.666666666666667 % of epochs\u001b[0m\n",
      "\u001b[34m#metrics {\"StartTime\": 1727347769.9902678, \"EndTime\": 1727347801.3169222, \"Dimensions\": {\"Algorithm\": \"Linear Learner\", \"Host\": \"algo-1\", \"Operation\": \"training\", \"epoch\": 0, \"Meta\": \"training_data_iter\"}, \"Metrics\": {\"Total Records Seen\": {\"sum\": 1320472.0, \"count\": 1, \"min\": 1320472, \"max\": 1320472}, \"Total Batches Seen\": {\"sum\": 1321.0, \"count\": 1, \"min\": 1321, \"max\": 1321}, \"Max Records Seen Between Resets\": {\"sum\": 1308472.0, \"count\": 1, \"min\": 1308472, \"max\": 1308472}, \"Max Batches Seen Between Resets\": {\"sum\": 1309.0, \"count\": 1, \"min\": 1309, \"max\": 1309}, \"Reset Count\": {\"sum\": 3.0, \"count\": 1, \"min\": 3, \"max\": 3}, \"Number of Records Since Last Reset\": {\"sum\": 1308472.0, \"count\": 1, \"min\": 1308472, \"max\": 1308472}, \"Number of Batches Since Last Reset\": {\"sum\": 1309.0, \"count\": 1, \"min\": 1309, \"max\": 1309}}}\u001b[0m\n",
      "\u001b[34m[09/26/2024 10:50:01 INFO 139808012048192] #throughput_metric: host=algo-1, train throughput=41768.45211445066 records/second\u001b[0m\n",
      "\u001b[34m[2024-09-26 10:50:30.122] [tensorio] [info] epoch_stats={\"data_pipeline\": \"/opt/ml/input/data/train\", \"epoch\": 5, \"duration\": 28802, \"num_examples\": 1309, \"num_bytes\": 549558240}\u001b[0m\n",
      "\u001b[34m#metrics {\"StartTime\": 1727347830.1228397, \"EndTime\": 1727347830.1229193, \"Dimensions\": {\"Algorithm\": \"Linear Learner\", \"Host\": \"algo-1\", \"Operation\": \"training\", \"epoch\": 1, \"model\": 0}, \"Metrics\": {\"train_binary_classification_cross_entropy_objective\": {\"sum\": 0.49213614733868055, \"count\": 1, \"min\": 0.49213614733868055, \"max\": 0.49213614733868055}}}\u001b[0m\n",
      "\u001b[34m#metrics {\"StartTime\": 1727347830.1229963, \"EndTime\": 1727347830.1230116, \"Dimensions\": {\"Algorithm\": \"Linear Learner\", \"Host\": \"algo-1\", \"Operation\": \"training\", \"epoch\": 1, \"model\": 1}, \"Metrics\": {\"train_binary_classification_cross_entropy_objective\": {\"sum\": 0.4931290183344383, \"count\": 1, \"min\": 0.4931290183344383, \"max\": 0.4931290183344383}}}\u001b[0m\n",
      "\u001b[34m#metrics {\"StartTime\": 1727347830.1230767, \"EndTime\": 1727347830.1230888, \"Dimensions\": {\"Algorithm\": \"Linear Learner\", \"Host\": \"algo-1\", \"Operation\": \"training\", \"epoch\": 1, \"model\": 2}, \"Metrics\": {\"train_binary_classification_cross_entropy_objective\": {\"sum\": 0.49214165982120994, \"count\": 1, \"min\": 0.49214165982120994, \"max\": 0.49214165982120994}}}\u001b[0m\n",
      "\u001b[34m#metrics {\"StartTime\": 1727347830.1231196, \"EndTime\": 1727347830.1231291, \"Dimensions\": {\"Algorithm\": \"Linear Learner\", \"Host\": \"algo-1\", \"Operation\": \"training\", \"epoch\": 1, \"model\": 3}, \"Metrics\": {\"train_binary_classification_cross_entropy_objective\": {\"sum\": 0.4931265649124752, \"count\": 1, \"min\": 0.4931265649124752, \"max\": 0.4931265649124752}}}\u001b[0m\n",
      "\u001b[34m#metrics {\"StartTime\": 1727347830.1231587, \"EndTime\": 1727347830.1231673, \"Dimensions\": {\"Algorithm\": \"Linear Learner\", \"Host\": \"algo-1\", \"Operation\": \"training\", \"epoch\": 1, \"model\": 4}, \"Metrics\": {\"train_binary_classification_cross_entropy_objective\": {\"sum\": 0.4961532773592421, \"count\": 1, \"min\": 0.4961532773592421, \"max\": 0.4961532773592421}}}\u001b[0m\n",
      "\u001b[34m#metrics {\"StartTime\": 1727347830.123192, \"EndTime\": 1727347830.1232, \"Dimensions\": {\"Algorithm\": \"Linear Learner\", \"Host\": \"algo-1\", \"Operation\": \"training\", \"epoch\": 1, \"model\": 5}, \"Metrics\": {\"train_binary_classification_cross_entropy_objective\": {\"sum\": 0.5144652055512875, \"count\": 1, \"min\": 0.5144652055512875, \"max\": 0.5144652055512875}}}\u001b[0m\n",
      "\u001b[34m#metrics {\"StartTime\": 1727347830.123229, \"EndTime\": 1727347830.1232383, \"Dimensions\": {\"Algorithm\": \"Linear Learner\", \"Host\": \"algo-1\", \"Operation\": \"training\", \"epoch\": 1, \"model\": 6}, \"Metrics\": {\"train_binary_classification_cross_entropy_objective\": {\"sum\": 0.4961502630951208, \"count\": 1, \"min\": 0.4961502630951208, \"max\": 0.4961502630951208}}}\u001b[0m\n",
      "\u001b[34m#metrics {\"StartTime\": 1727347830.1232693, \"EndTime\": 1727347830.1232789, \"Dimensions\": {\"Algorithm\": \"Linear Learner\", \"Host\": \"algo-1\", \"Operation\": \"training\", \"epoch\": 1, \"model\": 7}, \"Metrics\": {\"train_binary_classification_cross_entropy_objective\": {\"sum\": 0.5144147124217555, \"count\": 1, \"min\": 0.5144147124217555, \"max\": 0.5144147124217555}}}\u001b[0m\n",
      "\u001b[34m#metrics {\"StartTime\": 1727347830.1233103, \"EndTime\": 1727347830.1233194, \"Dimensions\": {\"Algorithm\": \"Linear Learner\", \"Host\": \"algo-1\", \"Operation\": \"training\", \"epoch\": 1, \"model\": 8}, \"Metrics\": {\"train_binary_classification_cross_entropy_objective\": {\"sum\": 0.49231373470201406, \"count\": 1, \"min\": 0.49231373470201406, \"max\": 0.49231373470201406}}}\u001b[0m\n",
      "\u001b[34m#metrics {\"StartTime\": 1727347830.1233506, \"EndTime\": 1727347830.1233592, \"Dimensions\": {\"Algorithm\": \"Linear Learner\", \"Host\": \"algo-1\", \"Operation\": \"training\", \"epoch\": 1, \"model\": 9}, \"Metrics\": {\"train_binary_classification_cross_entropy_objective\": {\"sum\": 0.4932590008890228, \"count\": 1, \"min\": 0.4932590008890228, \"max\": 0.4932590008890228}}}\u001b[0m\n",
      "\u001b[34m#metrics {\"StartTime\": 1727347830.1233907, \"EndTime\": 1727347830.1234004, \"Dimensions\": {\"Algorithm\": \"Linear Learner\", \"Host\": \"algo-1\", \"Operation\": \"training\", \"epoch\": 1, \"model\": 10}, \"Metrics\": {\"train_binary_classification_cross_entropy_objective\": {\"sum\": 0.4923131834724263, \"count\": 1, \"min\": 0.4923131834724263, \"max\": 0.4923131834724263}}}\u001b[0m\n",
      "\u001b[34m#metrics {\"StartTime\": 1727347830.1234326, \"EndTime\": 1727347830.1234422, \"Dimensions\": {\"Algorithm\": \"Linear Learner\", \"Host\": \"algo-1\", \"Operation\": \"training\", \"epoch\": 1, \"model\": 11}, \"Metrics\": {\"train_binary_classification_cross_entropy_objective\": {\"sum\": 0.4932589911597949, \"count\": 1, \"min\": 0.4932589911597949, \"max\": 0.4932589911597949}}}\u001b[0m\n",
      "\u001b[34m#metrics {\"StartTime\": 1727347830.1234741, \"EndTime\": 1727347830.1234832, \"Dimensions\": {\"Algorithm\": \"Linear Learner\", \"Host\": \"algo-1\", \"Operation\": \"training\", \"epoch\": 1, \"model\": 12}, \"Metrics\": {\"train_binary_classification_cross_entropy_objective\": {\"sum\": 0.4960825558816986, \"count\": 1, \"min\": 0.4960825558816986, \"max\": 0.4960825558816986}}}\u001b[0m\n",
      "\u001b[34m#metrics {\"StartTime\": 1727347830.1235154, \"EndTime\": 1727347830.1235256, \"Dimensions\": {\"Algorithm\": \"Linear Learner\", \"Host\": \"algo-1\", \"Operation\": \"training\", \"epoch\": 1, \"model\": 13}, \"Metrics\": {\"train_binary_classification_cross_entropy_objective\": {\"sum\": 0.5131637099146479, \"count\": 1, \"min\": 0.5131637099146479, \"max\": 0.5131637099146479}}}\u001b[0m\n",
      "\u001b[34m#metrics {\"StartTime\": 1727347830.1235583, \"EndTime\": 1727347830.1235664, \"Dimensions\": {\"Algorithm\": \"Linear Learner\", \"Host\": \"algo-1\", \"Operation\": \"training\", \"epoch\": 1, \"model\": 14}, \"Metrics\": {\"train_binary_classification_cross_entropy_objective\": {\"sum\": 0.4960833902621488, \"count\": 1, \"min\": 0.4960833902621488, \"max\": 0.4960833902621488}}}\u001b[0m\n",
      "\u001b[34m#metrics {\"StartTime\": 1727347830.123592, \"EndTime\": 1727347830.1235998, \"Dimensions\": {\"Algorithm\": \"Linear Learner\", \"Host\": \"algo-1\", \"Operation\": \"training\", \"epoch\": 1, \"model\": 15}, \"Metrics\": {\"train_binary_classification_cross_entropy_objective\": {\"sum\": 0.5131650613207336, \"count\": 1, \"min\": 0.5131650613207336, \"max\": 0.5131650613207336}}}\u001b[0m\n",
      "\u001b[34m#metrics {\"StartTime\": 1727347830.1236274, \"EndTime\": 1727347830.1236358, \"Dimensions\": {\"Algorithm\": \"Linear Learner\", \"Host\": \"algo-1\", \"Operation\": \"training\", \"epoch\": 1, \"model\": 16}, \"Metrics\": {\"train_binary_classification_cross_entropy_objective\": {\"sum\": 0.5077761176806342, \"count\": 1, \"min\": 0.5077761176806342, \"max\": 0.5077761176806342}}}\u001b[0m\n",
      "\u001b[34m#metrics {\"StartTime\": 1727347830.1236632, \"EndTime\": 1727347830.1236713, \"Dimensions\": {\"Algorithm\": \"Linear Learner\", \"Host\": \"algo-1\", \"Operation\": \"training\", \"epoch\": 1, \"model\": 17}, \"Metrics\": {\"train_binary_classification_cross_entropy_objective\": {\"sum\": 0.5080059827052125, \"count\": 1, \"min\": 0.5080059827052125, \"max\": 0.5080059827052125}}}\u001b[0m\n",
      "\u001b[34m#metrics {\"StartTime\": 1727347830.123705, \"EndTime\": 1727347830.123715, \"Dimensions\": {\"Algorithm\": \"Linear Learner\", \"Host\": \"algo-1\", \"Operation\": \"training\", \"epoch\": 1, \"model\": 18}, \"Metrics\": {\"train_binary_classification_cross_entropy_objective\": {\"sum\": 0.5077761767792774, \"count\": 1, \"min\": 0.5077761767792774, \"max\": 0.5077761767792774}}}\u001b[0m\n",
      "\u001b[34m#metrics {\"StartTime\": 1727347830.123747, \"EndTime\": 1727347830.1237557, \"Dimensions\": {\"Algorithm\": \"Linear Learner\", \"Host\": \"algo-1\", \"Operation\": \"training\", \"epoch\": 1, \"model\": 19}, \"Metrics\": {\"train_binary_classification_cross_entropy_objective\": {\"sum\": 0.5080059320758972, \"count\": 1, \"min\": 0.5080059320758972, \"max\": 0.5080059320758972}}}\u001b[0m\n",
      "\u001b[34m#metrics {\"StartTime\": 1727347830.1237862, \"EndTime\": 1727347830.1237962, \"Dimensions\": {\"Algorithm\": \"Linear Learner\", \"Host\": \"algo-1\", \"Operation\": \"training\", \"epoch\": 1, \"model\": 20}, \"Metrics\": {\"train_binary_classification_cross_entropy_objective\": {\"sum\": 0.5085311956376475, \"count\": 1, \"min\": 0.5085311956376475, \"max\": 0.5085311956376475}}}\u001b[0m\n",
      "\u001b[34m#metrics {\"StartTime\": 1727347830.123826, \"EndTime\": 1727347830.1238348, \"Dimensions\": {\"Algorithm\": \"Linear Learner\", \"Host\": \"algo-1\", \"Operation\": \"training\", \"epoch\": 1, \"model\": 21}, \"Metrics\": {\"train_binary_classification_cross_entropy_objective\": {\"sum\": 0.511458241103986, \"count\": 1, \"min\": 0.511458241103986, \"max\": 0.511458241103986}}}\u001b[0m\n",
      "\u001b[34m#metrics {\"StartTime\": 1727347830.1238627, \"EndTime\": 1727347830.1238704, \"Dimensions\": {\"Algorithm\": \"Linear Learner\", \"Host\": \"algo-1\", \"Operation\": \"training\", \"epoch\": 1, \"model\": 22}, \"Metrics\": {\"train_binary_classification_cross_entropy_objective\": {\"sum\": 0.5085317635025818, \"count\": 1, \"min\": 0.5085317635025818, \"max\": 0.5085317635025818}}}\u001b[0m\n",
      "\u001b[34m#metrics {\"StartTime\": 1727347830.1238985, \"EndTime\": 1727347830.1239166, \"Dimensions\": {\"Algorithm\": \"Linear Learner\", \"Host\": \"algo-1\", \"Operation\": \"training\", \"epoch\": 1, \"model\": 23}, \"Metrics\": {\"train_binary_classification_cross_entropy_objective\": {\"sum\": 0.5114586495449055, \"count\": 1, \"min\": 0.5114586495449055, \"max\": 0.5114586495449055}}}\u001b[0m\n",
      "\u001b[34m#metrics {\"StartTime\": 1727347830.1239498, \"EndTime\": 1727347830.1239588, \"Dimensions\": {\"Algorithm\": \"Linear Learner\", \"Host\": \"algo-1\", \"Operation\": \"training\", \"epoch\": 1, \"model\": 24}, \"Metrics\": {\"train_binary_classification_cross_entropy_objective\": {\"sum\": 0.513767240075161, \"count\": 1, \"min\": 0.513767240075161, \"max\": 0.513767240075161}}}\u001b[0m\n",
      "\u001b[34m#metrics {\"StartTime\": 1727347830.1239927, \"EndTime\": 1727347830.1240022, \"Dimensions\": {\"Algorithm\": \"Linear Learner\", \"Host\": \"algo-1\", \"Operation\": \"training\", \"epoch\": 1, \"model\": 25}, \"Metrics\": {\"train_binary_classification_cross_entropy_objective\": {\"sum\": 0.5138321051174712, \"count\": 1, \"min\": 0.5138321051174712, \"max\": 0.5138321051174712}}}\u001b[0m\n",
      "\u001b[34m#metrics {\"StartTime\": 1727347830.1240366, \"EndTime\": 1727347830.1240456, \"Dimensions\": {\"Algorithm\": \"Linear Learner\", \"Host\": \"algo-1\", \"Operation\": \"training\", \"epoch\": 1, \"model\": 26}, \"Metrics\": {\"train_binary_classification_cross_entropy_objective\": {\"sum\": 0.5137669608673189, \"count\": 1, \"min\": 0.5137669608673189, \"max\": 0.5137669608673189}}}\u001b[0m\n",
      "\u001b[34m#metrics {\"StartTime\": 1727347830.1240754, \"EndTime\": 1727347830.1240845, \"Dimensions\": {\"Algorithm\": \"Linear Learner\", \"Host\": \"algo-1\", \"Operation\": \"training\", \"epoch\": 1, \"model\": 27}, \"Metrics\": {\"train_binary_classification_cross_entropy_objective\": {\"sum\": 0.5138311628289179, \"count\": 1, \"min\": 0.5138311628289179, \"max\": 0.5138311628289179}}}\u001b[0m\n",
      "\u001b[34m#metrics {\"StartTime\": 1727347830.1241145, \"EndTime\": 1727347830.1241233, \"Dimensions\": {\"Algorithm\": \"Linear Learner\", \"Host\": \"algo-1\", \"Operation\": \"training\", \"epoch\": 1, \"model\": 28}, \"Metrics\": {\"train_binary_classification_cross_entropy_objective\": {\"sum\": 0.5140294287911978, \"count\": 1, \"min\": 0.5140294287911978, \"max\": 0.5140294287911978}}}\u001b[0m\n",
      "\u001b[34m#metrics {\"StartTime\": 1727347830.1241505, \"EndTime\": 1727347830.1241593, \"Dimensions\": {\"Algorithm\": \"Linear Learner\", \"Host\": \"algo-1\", \"Operation\": \"training\", \"epoch\": 1, \"model\": 29}, \"Metrics\": {\"train_binary_classification_cross_entropy_objective\": {\"sum\": 0.5151414488812834, \"count\": 1, \"min\": 0.5151414488812834, \"max\": 0.5151414488812834}}}\u001b[0m\n",
      "\u001b[34m#metrics {\"StartTime\": 1727347830.1241918, \"EndTime\": 1727347830.1242018, \"Dimensions\": {\"Algorithm\": \"Linear Learner\", \"Host\": \"algo-1\", \"Operation\": \"training\", \"epoch\": 1, \"model\": 30}, \"Metrics\": {\"train_binary_classification_cross_entropy_objective\": {\"sum\": 0.5140303921014162, \"count\": 1, \"min\": 0.5140303921014162, \"max\": 0.5140303921014162}}}\u001b[0m\n",
      "\u001b[34m#metrics {\"StartTime\": 1727347830.1242328, \"EndTime\": 1727347830.124242, \"Dimensions\": {\"Algorithm\": \"Linear Learner\", \"Host\": \"algo-1\", \"Operation\": \"training\", \"epoch\": 1, \"model\": 31}, \"Metrics\": {\"train_binary_classification_cross_entropy_objective\": {\"sum\": 0.5151350006663471, \"count\": 1, \"min\": 0.5151350006663471, \"max\": 0.5151350006663471}}}\u001b[0m\n",
      "\u001b[34m[09/26/2024 10:50:30 INFO 139808012048192] #quality_metric: host=algo-1, epoch=1, train binary_classification_cross_entropy_objective <loss>=0.49213614733868055\u001b[0m\n",
      "\u001b[34m[2024-09-26 10:50:32.783] [tensorio] [info] epoch_stats={\"data_pipeline\": \"/opt/ml/input/data/validation\", \"epoch\": 5, \"duration\": 2645, \"num_examples\": 164, \"num_bytes\": 68694780}\u001b[0m\n",
      "\u001b[34m#metrics {\"StartTime\": 1727347832.788027, \"EndTime\": 1727347832.7880754, \"Dimensions\": {\"Algorithm\": \"Linear Learner\", \"Host\": \"algo-1\", \"Operation\": \"training\", \"epoch\": 1, \"model\": 0}, \"Metrics\": {\"validation_binary_classification_cross_entropy_objective\": {\"sum\": 0.49284009149991603, \"count\": 1, \"min\": 0.49284009149991603, \"max\": 0.49284009149991603}}}\u001b[0m\n",
      "\u001b[34m#metrics {\"StartTime\": 1727347832.7881427, \"EndTime\": 1727347832.7881563, \"Dimensions\": {\"Algorithm\": \"Linear Learner\", \"Host\": \"algo-1\", \"Operation\": \"training\", \"epoch\": 1, \"model\": 1}, \"Metrics\": {\"validation_binary_classification_cross_entropy_objective\": {\"sum\": 0.49390470510253326, \"count\": 1, \"min\": 0.49390470510253326, \"max\": 0.49390470510253326}}}\u001b[0m\n",
      "\u001b[34m#metrics {\"StartTime\": 1727347832.7882016, \"EndTime\": 1727347832.7882125, \"Dimensions\": {\"Algorithm\": \"Linear Learner\", \"Host\": \"algo-1\", \"Operation\": \"training\", \"epoch\": 1, \"model\": 2}, \"Metrics\": {\"validation_binary_classification_cross_entropy_objective\": {\"sum\": 0.49284773773370055, \"count\": 1, \"min\": 0.49284773773370055, \"max\": 0.49284773773370055}}}\u001b[0m\n",
      "\u001b[34m#metrics {\"StartTime\": 1727347832.7882426, \"EndTime\": 1727347832.7882519, \"Dimensions\": {\"Algorithm\": \"Linear Learner\", \"Host\": \"algo-1\", \"Operation\": \"training\", \"epoch\": 1, \"model\": 3}, \"Metrics\": {\"validation_binary_classification_cross_entropy_objective\": {\"sum\": 0.49390222371495146, \"count\": 1, \"min\": 0.49390222371495146, \"max\": 0.49390222371495146}}}\u001b[0m\n",
      "\u001b[34m#metrics {\"StartTime\": 1727347832.7882838, \"EndTime\": 1727347832.7882924, \"Dimensions\": {\"Algorithm\": \"Linear Learner\", \"Host\": \"algo-1\", \"Operation\": \"training\", \"epoch\": 1, \"model\": 4}, \"Metrics\": {\"validation_binary_classification_cross_entropy_objective\": {\"sum\": 0.4950337172340261, \"count\": 1, \"min\": 0.4950337172340261, \"max\": 0.4950337172340261}}}\u001b[0m\n",
      "\u001b[34m#metrics {\"StartTime\": 1727347832.7883232, \"EndTime\": 1727347832.7883325, \"Dimensions\": {\"Algorithm\": \"Linear Learner\", \"Host\": \"algo-1\", \"Operation\": \"training\", \"epoch\": 1, \"model\": 5}, \"Metrics\": {\"validation_binary_classification_cross_entropy_objective\": {\"sum\": 0.5159148515943119, \"count\": 1, \"min\": 0.5159148515943119, \"max\": 0.5159148515943119}}}\u001b[0m\n",
      "\u001b[34m#metrics {\"StartTime\": 1727347832.78837, \"EndTime\": 1727347832.788379, \"Dimensions\": {\"Algorithm\": \"Linear Learner\", \"Host\": \"algo-1\", \"Operation\": \"training\", \"epoch\": 1, \"model\": 6}, \"Metrics\": {\"validation_binary_classification_cross_entropy_objective\": {\"sum\": 0.49503334742349997, \"count\": 1, \"min\": 0.49503334742349997, \"max\": 0.49503334742349997}}}\u001b[0m\n",
      "\u001b[34m#metrics {\"StartTime\": 1727347832.7884147, \"EndTime\": 1727347832.788423, \"Dimensions\": {\"Algorithm\": \"Linear Learner\", \"Host\": \"algo-1\", \"Operation\": \"training\", \"epoch\": 1, \"model\": 7}, \"Metrics\": {\"validation_binary_classification_cross_entropy_objective\": {\"sum\": 0.5158806163195506, \"count\": 1, \"min\": 0.5158806163195506, \"max\": 0.5158806163195506}}}\u001b[0m\n",
      "\u001b[34m#metrics {\"StartTime\": 1727347832.7884548, \"EndTime\": 1727347832.7884636, \"Dimensions\": {\"Algorithm\": \"Linear Learner\", \"Host\": \"algo-1\", \"Operation\": \"training\", \"epoch\": 1, \"model\": 8}, \"Metrics\": {\"validation_binary_classification_cross_entropy_objective\": {\"sum\": 0.4929875225674728, \"count\": 1, \"min\": 0.4929875225674728, \"max\": 0.4929875225674728}}}\u001b[0m\n",
      "\u001b[34m#metrics {\"StartTime\": 1727347832.788498, \"EndTime\": 1727347832.7885084, \"Dimensions\": {\"Algorithm\": \"Linear Learner\", \"Host\": \"algo-1\", \"Operation\": \"training\", \"epoch\": 1, \"model\": 9}, \"Metrics\": {\"validation_binary_classification_cross_entropy_objective\": {\"sum\": 0.4939864694262062, \"count\": 1, \"min\": 0.4939864694262062, \"max\": 0.4939864694262062}}}\u001b[0m\n",
      "\u001b[34m#metrics {\"StartTime\": 1727347832.7885456, \"EndTime\": 1727347832.7885547, \"Dimensions\": {\"Algorithm\": \"Linear Learner\", \"Host\": \"algo-1\", \"Operation\": \"training\", \"epoch\": 1, \"model\": 10}, \"Metrics\": {\"validation_binary_classification_cross_entropy_objective\": {\"sum\": 0.4929869891223193, \"count\": 1, \"min\": 0.4929869891223193, \"max\": 0.4929869891223193}}}\u001b[0m\n",
      "\u001b[34m#metrics {\"StartTime\": 1727347832.7885933, \"EndTime\": 1727347832.788603, \"Dimensions\": {\"Algorithm\": \"Linear Learner\", \"Host\": \"algo-1\", \"Operation\": \"training\", \"epoch\": 1, \"model\": 11}, \"Metrics\": {\"validation_binary_classification_cross_entropy_objective\": {\"sum\": 0.4939862830282669, \"count\": 1, \"min\": 0.4939862830282669, \"max\": 0.4939862830282669}}}\u001b[0m\n",
      "\u001b[34m#metrics {\"StartTime\": 1727347832.7886395, \"EndTime\": 1727347832.7886484, \"Dimensions\": {\"Algorithm\": \"Linear Learner\", \"Host\": \"algo-1\", \"Operation\": \"training\", \"epoch\": 1, \"model\": 12}, \"Metrics\": {\"validation_binary_classification_cross_entropy_objective\": {\"sum\": 0.49508348884232906, \"count\": 1, \"min\": 0.49508348884232906, \"max\": 0.49508348884232906}}}\u001b[0m\n",
      "\u001b[34m#metrics {\"StartTime\": 1727347832.7886882, \"EndTime\": 1727347832.7886992, \"Dimensions\": {\"Algorithm\": \"Linear Learner\", \"Host\": \"algo-1\", \"Operation\": \"training\", \"epoch\": 1, \"model\": 13}, \"Metrics\": {\"validation_binary_classification_cross_entropy_objective\": {\"sum\": 0.5155165856222109, \"count\": 1, \"min\": 0.5155165856222109, \"max\": 0.5155165856222109}}}\u001b[0m\n",
      "\u001b[34m#metrics {\"StartTime\": 1727347832.788738, \"EndTime\": 1727347832.788749, \"Dimensions\": {\"Algorithm\": \"Linear Learner\", \"Host\": \"algo-1\", \"Operation\": \"training\", \"epoch\": 1, \"model\": 14}, \"Metrics\": {\"validation_binary_classification_cross_entropy_objective\": {\"sum\": 0.4950842260377825, \"count\": 1, \"min\": 0.4950842260377825, \"max\": 0.4950842260377825}}}\u001b[0m\n",
      "\u001b[34m#metrics {\"StartTime\": 1727347832.788789, \"EndTime\": 1727347832.788799, \"Dimensions\": {\"Algorithm\": \"Linear Learner\", \"Host\": \"algo-1\", \"Operation\": \"training\", \"epoch\": 1, \"model\": 15}, \"Metrics\": {\"validation_binary_classification_cross_entropy_objective\": {\"sum\": 0.5155015633290324, \"count\": 1, \"min\": 0.5155015633290324, \"max\": 0.5155015633290324}}}\u001b[0m\n",
      "\u001b[34m#metrics {\"StartTime\": 1727347832.7888336, \"EndTime\": 1727347832.7888427, \"Dimensions\": {\"Algorithm\": \"Linear Learner\", \"Host\": \"algo-1\", \"Operation\": \"training\", \"epoch\": 1, \"model\": 16}, \"Metrics\": {\"validation_binary_classification_cross_entropy_objective\": {\"sum\": 0.5080066161946674, \"count\": 1, \"min\": 0.5080066161946674, \"max\": 0.5080066161946674}}}\u001b[0m\n",
      "\u001b[34m#metrics {\"StartTime\": 1727347832.7888765, \"EndTime\": 1727347832.7888849, \"Dimensions\": {\"Algorithm\": \"Linear Learner\", \"Host\": \"algo-1\", \"Operation\": \"training\", \"epoch\": 1, \"model\": 17}, \"Metrics\": {\"validation_binary_classification_cross_entropy_objective\": {\"sum\": 0.5079236308618708, \"count\": 1, \"min\": 0.5079236308618708, \"max\": 0.5079236308618708}}}\u001b[0m\n",
      "\u001b[34m#metrics {\"StartTime\": 1727347832.7889168, \"EndTime\": 1727347832.7889256, \"Dimensions\": {\"Algorithm\": \"Linear Learner\", \"Host\": \"algo-1\", \"Operation\": \"training\", \"epoch\": 1, \"model\": 18}, \"Metrics\": {\"validation_binary_classification_cross_entropy_objective\": {\"sum\": 0.5080066316811828, \"count\": 1, \"min\": 0.5080066316811828, \"max\": 0.5080066316811828}}}\u001b[0m\n",
      "\u001b[34m#metrics {\"StartTime\": 1727347832.788962, \"EndTime\": 1727347832.7889717, \"Dimensions\": {\"Algorithm\": \"Linear Learner\", \"Host\": \"algo-1\", \"Operation\": \"training\", \"epoch\": 1, \"model\": 19}, \"Metrics\": {\"validation_binary_classification_cross_entropy_objective\": {\"sum\": 0.5079227453317209, \"count\": 1, \"min\": 0.5079227453317209, \"max\": 0.5079227453317209}}}\u001b[0m\n",
      "\u001b[34m#metrics {\"StartTime\": 1727347832.7890089, \"EndTime\": 1727347832.7890189, \"Dimensions\": {\"Algorithm\": \"Linear Learner\", \"Host\": \"algo-1\", \"Operation\": \"training\", \"epoch\": 1, \"model\": 20}, \"Metrics\": {\"validation_binary_classification_cross_entropy_objective\": {\"sum\": 0.5082514818871268, \"count\": 1, \"min\": 0.5082514818871268, \"max\": 0.5082514818871268}}}\u001b[0m\n",
      "\u001b[34m#metrics {\"StartTime\": 1727347832.7890565, \"EndTime\": 1727347832.7890658, \"Dimensions\": {\"Algorithm\": \"Linear Learner\", \"Host\": \"algo-1\", \"Operation\": \"training\", \"epoch\": 1, \"model\": 21}, \"Metrics\": {\"validation_binary_classification_cross_entropy_objective\": {\"sum\": 0.5111882541880792, \"count\": 1, \"min\": 0.5111882541880792, \"max\": 0.5111882541880792}}}\u001b[0m\n",
      "\u001b[34m#metrics {\"StartTime\": 1727347832.7891064, \"EndTime\": 1727347832.7891169, \"Dimensions\": {\"Algorithm\": \"Linear Learner\", \"Host\": \"algo-1\", \"Operation\": \"training\", \"epoch\": 1, \"model\": 22}, \"Metrics\": {\"validation_binary_classification_cross_entropy_objective\": {\"sum\": 0.5082510426671578, \"count\": 1, \"min\": 0.5082510426671578, \"max\": 0.5082510426671578}}}\u001b[0m\n",
      "\u001b[34m#metrics {\"StartTime\": 1727347832.789158, \"EndTime\": 1727347832.7891674, \"Dimensions\": {\"Algorithm\": \"Linear Learner\", \"Host\": \"algo-1\", \"Operation\": \"training\", \"epoch\": 1, \"model\": 23}, \"Metrics\": {\"validation_binary_classification_cross_entropy_objective\": {\"sum\": 0.5111867337107949, \"count\": 1, \"min\": 0.5111867337107949, \"max\": 0.5111867337107949}}}\u001b[0m\n",
      "\u001b[34m#metrics {\"StartTime\": 1727347832.789205, \"EndTime\": 1727347832.789215, \"Dimensions\": {\"Algorithm\": \"Linear Learner\", \"Host\": \"algo-1\", \"Operation\": \"training\", \"epoch\": 1, \"model\": 24}, \"Metrics\": {\"validation_binary_classification_cross_entropy_objective\": {\"sum\": 0.5137763451675409, \"count\": 1, \"min\": 0.5137763451675409, \"max\": 0.5137763451675409}}}\u001b[0m\n",
      "\u001b[34m#metrics {\"StartTime\": 1727347832.7892544, \"EndTime\": 1727347832.789265, \"Dimensions\": {\"Algorithm\": \"Linear Learner\", \"Host\": \"algo-1\", \"Operation\": \"training\", \"epoch\": 1, \"model\": 25}, \"Metrics\": {\"validation_binary_classification_cross_entropy_objective\": {\"sum\": 0.5139041787028114, \"count\": 1, \"min\": 0.5139041787028114, \"max\": 0.5139041787028114}}}\u001b[0m\n",
      "\u001b[34m#metrics {\"StartTime\": 1727347832.789303, \"EndTime\": 1727347832.789313, \"Dimensions\": {\"Algorithm\": \"Linear Learner\", \"Host\": \"algo-1\", \"Operation\": \"training\", \"epoch\": 1, \"model\": 26}, \"Metrics\": {\"validation_binary_classification_cross_entropy_objective\": {\"sum\": 0.5137759440108147, \"count\": 1, \"min\": 0.5137759440108147, \"max\": 0.5137759440108147}}}\u001b[0m\n",
      "\u001b[34m#metrics {\"StartTime\": 1727347832.7893543, \"EndTime\": 1727347832.7893636, \"Dimensions\": {\"Algorithm\": \"Linear Learner\", \"Host\": \"algo-1\", \"Operation\": \"training\", \"epoch\": 1, \"model\": 27}, \"Metrics\": {\"validation_binary_classification_cross_entropy_objective\": {\"sum\": 0.5139140230888706, \"count\": 1, \"min\": 0.5139140230888706, \"max\": 0.5139140230888706}}}\u001b[0m\n",
      "\u001b[34m#metrics {\"StartTime\": 1727347832.789404, \"EndTime\": 1727347832.7894142, \"Dimensions\": {\"Algorithm\": \"Linear Learner\", \"Host\": \"algo-1\", \"Operation\": \"training\", \"epoch\": 1, \"model\": 28}, \"Metrics\": {\"validation_binary_classification_cross_entropy_objective\": {\"sum\": 0.5142355931193026, \"count\": 1, \"min\": 0.5142355931193026, \"max\": 0.5142355931193026}}}\u001b[0m\n",
      "\u001b[34m#metrics {\"StartTime\": 1727347832.7894518, \"EndTime\": 1727347832.7894604, \"Dimensions\": {\"Algorithm\": \"Linear Learner\", \"Host\": \"algo-1\", \"Operation\": \"training\", \"epoch\": 1, \"model\": 29}, \"Metrics\": {\"validation_binary_classification_cross_entropy_objective\": {\"sum\": 0.5136960141861796, \"count\": 1, \"min\": 0.5136960141861796, \"max\": 0.5136960141861796}}}\u001b[0m\n",
      "\u001b[34m#metrics {\"StartTime\": 1727347832.7894967, \"EndTime\": 1727347832.7895062, \"Dimensions\": {\"Algorithm\": \"Linear Learner\", \"Host\": \"algo-1\", \"Operation\": \"training\", \"epoch\": 1, \"model\": 30}, \"Metrics\": {\"validation_binary_classification_cross_entropy_objective\": {\"sum\": 0.5142094332227304, \"count\": 1, \"min\": 0.5142094332227304, \"max\": 0.5142094332227304}}}\u001b[0m\n",
      "\u001b[34m#metrics {\"StartTime\": 1727347832.7895415, \"EndTime\": 1727347832.789551, \"Dimensions\": {\"Algorithm\": \"Linear Learner\", \"Host\": \"algo-1\", \"Operation\": \"training\", \"epoch\": 1, \"model\": 31}, \"Metrics\": {\"validation_binary_classification_cross_entropy_objective\": {\"sum\": 0.5136645299136369, \"count\": 1, \"min\": 0.5136645299136369, \"max\": 0.5136645299136369}}}\u001b[0m\n",
      "\u001b[34m[09/26/2024 10:50:32 INFO 139808012048192] #quality_metric: host=algo-1, epoch=1, validation binary_classification_cross_entropy_objective <loss>=0.49284009149991603\u001b[0m\n",
      "\u001b[34m[09/26/2024 10:50:32 INFO 139808012048192] #early_stopping_criteria_metric: host=algo-1, epoch=1, criteria=binary_classification_cross_entropy_objective, value=0.49284009149991603\u001b[0m\n",
      "\u001b[34m[09/26/2024 10:50:32 INFO 139808012048192] Saving model for epoch: 1\u001b[0m\n",
      "\u001b[34m[09/26/2024 10:50:32 INFO 139808012048192] Saved checkpoint to \"/tmp/tmp8t__4ynt/mx-mod-0000.params\"\u001b[0m\n",
      "\u001b[34m[09/26/2024 10:50:32 INFO 139808012048192] #progress_metric: host=algo-1, completed 13.333333333333334 % of epochs\u001b[0m\n",
      "\u001b[34m#metrics {\"StartTime\": 1727347801.3200474, \"EndTime\": 1727347832.7942216, \"Dimensions\": {\"Algorithm\": \"Linear Learner\", \"Host\": \"algo-1\", \"Operation\": \"training\", \"epoch\": 1, \"Meta\": \"training_data_iter\"}, \"Metrics\": {\"Total Records Seen\": {\"sum\": 2628944.0, \"count\": 1, \"min\": 2628944, \"max\": 2628944}, \"Total Batches Seen\": {\"sum\": 2630.0, \"count\": 1, \"min\": 2630, \"max\": 2630}, \"Max Records Seen Between Resets\": {\"sum\": 1308472.0, \"count\": 1, \"min\": 1308472, \"max\": 1308472}, \"Max Batches Seen Between Resets\": {\"sum\": 1309.0, \"count\": 1, \"min\": 1309, \"max\": 1309}, \"Reset Count\": {\"sum\": 4.0, \"count\": 1, \"min\": 4, \"max\": 4}, \"Number of Records Since Last Reset\": {\"sum\": 1308472.0, \"count\": 1, \"min\": 1308472, \"max\": 1308472}, \"Number of Batches Since Last Reset\": {\"sum\": 1309.0, \"count\": 1, \"min\": 1309, \"max\": 1309}}}\u001b[0m\n",
      "\u001b[34m[09/26/2024 10:50:32 INFO 139808012048192] #throughput_metric: host=algo-1, train throughput=41572.70143423576 records/second\u001b[0m\n",
      "\u001b[34m[2024-09-26 10:51:01.268] [tensorio] [info] epoch_stats={\"data_pipeline\": \"/opt/ml/input/data/train\", \"epoch\": 7, \"duration\": 28468, \"num_examples\": 1309, \"num_bytes\": 549558240}\u001b[0m\n",
      "\u001b[34m#metrics {\"StartTime\": 1727347861.2688088, \"EndTime\": 1727347861.2688863, \"Dimensions\": {\"Algorithm\": \"Linear Learner\", \"Host\": \"algo-1\", \"Operation\": \"training\", \"epoch\": 2, \"model\": 0}, \"Metrics\": {\"train_binary_classification_cross_entropy_objective\": {\"sum\": 0.4919608960632884, \"count\": 1, \"min\": 0.4919608960632884, \"max\": 0.4919608960632884}}}\u001b[0m\n",
      "\u001b[34m#metrics {\"StartTime\": 1727347861.2689645, \"EndTime\": 1727347861.268981, \"Dimensions\": {\"Algorithm\": \"Linear Learner\", \"Host\": \"algo-1\", \"Operation\": \"training\", \"epoch\": 2, \"model\": 1}, \"Metrics\": {\"train_binary_classification_cross_entropy_objective\": {\"sum\": 0.4929858134325127, \"count\": 1, \"min\": 0.4929858134325127, \"max\": 0.4929858134325127}}}\u001b[0m\n",
      "\u001b[34m#metrics {\"StartTime\": 1727347861.269017, \"EndTime\": 1727347861.2690275, \"Dimensions\": {\"Algorithm\": \"Linear Learner\", \"Host\": \"algo-1\", \"Operation\": \"training\", \"epoch\": 2, \"model\": 2}, \"Metrics\": {\"train_binary_classification_cross_entropy_objective\": {\"sum\": 0.4919660590168898, \"count\": 1, \"min\": 0.4919660590168898, \"max\": 0.4919660590168898}}}\u001b[0m\n",
      "\u001b[34m#metrics {\"StartTime\": 1727347861.2690613, \"EndTime\": 1727347861.2690704, \"Dimensions\": {\"Algorithm\": \"Linear Learner\", \"Host\": \"algo-1\", \"Operation\": \"training\", \"epoch\": 2, \"model\": 3}, \"Metrics\": {\"train_binary_classification_cross_entropy_objective\": {\"sum\": 0.4929849727058994, \"count\": 1, \"min\": 0.4929849727058994, \"max\": 0.4929849727058994}}}\u001b[0m\n",
      "\u001b[34m#metrics {\"StartTime\": 1727347861.2690995, \"EndTime\": 1727347861.2691085, \"Dimensions\": {\"Algorithm\": \"Linear Learner\", \"Host\": \"algo-1\", \"Operation\": \"training\", \"epoch\": 2, \"model\": 4}, \"Metrics\": {\"train_binary_classification_cross_entropy_objective\": {\"sum\": 0.4930750423979686, \"count\": 1, \"min\": 0.4930750423979686, \"max\": 0.4930750423979686}}}\u001b[0m\n",
      "\u001b[34m#metrics {\"StartTime\": 1727347861.269136, \"EndTime\": 1727347861.2691436, \"Dimensions\": {\"Algorithm\": \"Linear Learner\", \"Host\": \"algo-1\", \"Operation\": \"training\", \"epoch\": 2, \"model\": 5}, \"Metrics\": {\"train_binary_classification_cross_entropy_objective\": {\"sum\": 0.5117500802602972, \"count\": 1, \"min\": 0.5117500802602972, \"max\": 0.5117500802602972}}}\u001b[0m\n",
      "\u001b[34m#metrics {\"StartTime\": 1727347861.2691712, \"EndTime\": 1727347861.269179, \"Dimensions\": {\"Algorithm\": \"Linear Learner\", \"Host\": \"algo-1\", \"Operation\": \"training\", \"epoch\": 2, \"model\": 6}, \"Metrics\": {\"train_binary_classification_cross_entropy_objective\": {\"sum\": 0.49307497732646605, \"count\": 1, \"min\": 0.49307497732646605, \"max\": 0.49307497732646605}}}\u001b[0m\n",
      "\u001b[34m#metrics {\"StartTime\": 1727347861.269207, \"EndTime\": 1727347861.2692156, \"Dimensions\": {\"Algorithm\": \"Linear Learner\", \"Host\": \"algo-1\", \"Operation\": \"training\", \"epoch\": 2, \"model\": 7}, \"Metrics\": {\"train_binary_classification_cross_entropy_objective\": {\"sum\": 0.5117638365952611, \"count\": 1, \"min\": 0.5117638365952611, \"max\": 0.5117638365952611}}}\u001b[0m\n",
      "\u001b[34m#metrics {\"StartTime\": 1727347861.2692425, \"EndTime\": 1727347861.2692513, \"Dimensions\": {\"Algorithm\": \"Linear Learner\", \"Host\": \"algo-1\", \"Operation\": \"training\", \"epoch\": 2, \"model\": 8}, \"Metrics\": {\"train_binary_classification_cross_entropy_objective\": {\"sum\": 0.4921555438027105, \"count\": 1, \"min\": 0.4921555438027105, \"max\": 0.4921555438027105}}}\u001b[0m\n",
      "\u001b[34m#metrics {\"StartTime\": 1727347861.2692807, \"EndTime\": 1727347861.2692907, \"Dimensions\": {\"Algorithm\": \"Linear Learner\", \"Host\": \"algo-1\", \"Operation\": \"training\", \"epoch\": 2, \"model\": 9}, \"Metrics\": {\"train_binary_classification_cross_entropy_objective\": {\"sum\": 0.49313303293583954, \"count\": 1, \"min\": 0.49313303293583954, \"max\": 0.49313303293583954}}}\u001b[0m\n",
      "\u001b[34m#metrics {\"StartTime\": 1727347861.2693217, \"EndTime\": 1727347861.269331, \"Dimensions\": {\"Algorithm\": \"Linear Learner\", \"Host\": \"algo-1\", \"Operation\": \"training\", \"epoch\": 2, \"model\": 10}, \"Metrics\": {\"train_binary_classification_cross_entropy_objective\": {\"sum\": 0.49215520698944, \"count\": 1, \"min\": 0.49215520698944, \"max\": 0.49215520698944}}}\u001b[0m\n",
      "\u001b[34m#metrics {\"StartTime\": 1727347861.26936, \"EndTime\": 1727347861.2693698, \"Dimensions\": {\"Algorithm\": \"Linear Learner\", \"Host\": \"algo-1\", \"Operation\": \"training\", \"epoch\": 2, \"model\": 11}, \"Metrics\": {\"train_binary_classification_cross_entropy_objective\": {\"sum\": 0.4931330129407597, \"count\": 1, \"min\": 0.4931330129407597, \"max\": 0.4931330129407597}}}\u001b[0m\n",
      "\u001b[34m#metrics {\"StartTime\": 1727347861.2694016, \"EndTime\": 1727347861.2694108, \"Dimensions\": {\"Algorithm\": \"Linear Learner\", \"Host\": \"algo-1\", \"Operation\": \"training\", \"epoch\": 2, \"model\": 12}, \"Metrics\": {\"train_binary_classification_cross_entropy_objective\": {\"sum\": 0.4932174068299273, \"count\": 1, \"min\": 0.4932174068299273, \"max\": 0.4932174068299273}}}\u001b[0m\n",
      "\u001b[34m#metrics {\"StartTime\": 1727347861.2694435, \"EndTime\": 1727347861.2694533, \"Dimensions\": {\"Algorithm\": \"Linear Learner\", \"Host\": \"algo-1\", \"Operation\": \"training\", \"epoch\": 2, \"model\": 13}, \"Metrics\": {\"train_binary_classification_cross_entropy_objective\": {\"sum\": 0.510707518807974, \"count\": 1, \"min\": 0.510707518807974, \"max\": 0.510707518807974}}}\u001b[0m\n",
      "\u001b[34m#metrics {\"StartTime\": 1727347861.2694888, \"EndTime\": 1727347861.2694988, \"Dimensions\": {\"Algorithm\": \"Linear Learner\", \"Host\": \"algo-1\", \"Operation\": \"training\", \"epoch\": 2, \"model\": 14}, \"Metrics\": {\"train_binary_classification_cross_entropy_objective\": {\"sum\": 0.4932174580658612, \"count\": 1, \"min\": 0.4932174580658612, \"max\": 0.4932174580658612}}}\u001b[0m\n",
      "\u001b[34m#metrics {\"StartTime\": 1727347861.2695305, \"EndTime\": 1727347861.2695403, \"Dimensions\": {\"Algorithm\": \"Linear Learner\", \"Host\": \"algo-1\", \"Operation\": \"training\", \"epoch\": 2, \"model\": 15}, \"Metrics\": {\"train_binary_classification_cross_entropy_objective\": {\"sum\": 0.5107074215623582, \"count\": 1, \"min\": 0.5107074215623582, \"max\": 0.5107074215623582}}}\u001b[0m\n",
      "\u001b[34m#metrics {\"StartTime\": 1727347861.2695725, \"EndTime\": 1727347861.269582, \"Dimensions\": {\"Algorithm\": \"Linear Learner\", \"Host\": \"algo-1\", \"Operation\": \"training\", \"epoch\": 2, \"model\": 16}, \"Metrics\": {\"train_binary_classification_cross_entropy_objective\": {\"sum\": 0.507740388432774, \"count\": 1, \"min\": 0.507740388432774, \"max\": 0.507740388432774}}}\u001b[0m\n",
      "\u001b[34m#metrics {\"StartTime\": 1727347861.269614, \"EndTime\": 1727347861.2696233, \"Dimensions\": {\"Algorithm\": \"Linear Learner\", \"Host\": \"algo-1\", \"Operation\": \"training\", \"epoch\": 2, \"model\": 17}, \"Metrics\": {\"train_binary_classification_cross_entropy_objective\": {\"sum\": 0.5079875151141339, \"count\": 1, \"min\": 0.5079875151141339, \"max\": 0.5079875151141339}}}\u001b[0m\n",
      "\u001b[34m#metrics {\"StartTime\": 1727347861.2696555, \"EndTime\": 1727347861.2696648, \"Dimensions\": {\"Algorithm\": \"Linear Learner\", \"Host\": \"algo-1\", \"Operation\": \"training\", \"epoch\": 2, \"model\": 18}, \"Metrics\": {\"train_binary_classification_cross_entropy_objective\": {\"sum\": 0.5077403822965942, \"count\": 1, \"min\": 0.5077403822965942, \"max\": 0.5077403822965942}}}\u001b[0m\n",
      "\u001b[34m#metrics {\"StartTime\": 1727347861.2696965, \"EndTime\": 1727347861.2697065, \"Dimensions\": {\"Algorithm\": \"Linear Learner\", \"Host\": \"algo-1\", \"Operation\": \"training\", \"epoch\": 2, \"model\": 19}, \"Metrics\": {\"train_binary_classification_cross_entropy_objective\": {\"sum\": 0.5079874976388541, \"count\": 1, \"min\": 0.5079874976388541, \"max\": 0.5079874976388541}}}\u001b[0m\n",
      "\u001b[34m#metrics {\"StartTime\": 1727347861.2697382, \"EndTime\": 1727347861.269747, \"Dimensions\": {\"Algorithm\": \"Linear Learner\", \"Host\": \"algo-1\", \"Operation\": \"training\", \"epoch\": 2, \"model\": 20}, \"Metrics\": {\"train_binary_classification_cross_entropy_objective\": {\"sum\": 0.5079957175065254, \"count\": 1, \"min\": 0.5079957175065254, \"max\": 0.5079957175065254}}}\u001b[0m\n",
      "\u001b[34m#metrics {\"StartTime\": 1727347861.2697766, \"EndTime\": 1727347861.2697864, \"Dimensions\": {\"Algorithm\": \"Linear Learner\", \"Host\": \"algo-1\", \"Operation\": \"training\", \"epoch\": 2, \"model\": 21}, \"Metrics\": {\"train_binary_classification_cross_entropy_objective\": {\"sum\": 0.5111125454917231, \"count\": 1, \"min\": 0.5111125454917231, \"max\": 0.5111125454917231}}}\u001b[0m\n",
      "\u001b[34m#metrics {\"StartTime\": 1727347861.2698112, \"EndTime\": 1727347861.269821, \"Dimensions\": {\"Algorithm\": \"Linear Learner\", \"Host\": \"algo-1\", \"Operation\": \"training\", \"epoch\": 2, \"model\": 22}, \"Metrics\": {\"train_binary_classification_cross_entropy_objective\": {\"sum\": 0.5079957491673461, \"count\": 1, \"min\": 0.5079957491673461, \"max\": 0.5079957491673461}}}\u001b[0m\n",
      "\u001b[34m#metrics {\"StartTime\": 1727347861.2698514, \"EndTime\": 1727347861.2698612, \"Dimensions\": {\"Algorithm\": \"Linear Learner\", \"Host\": \"algo-1\", \"Operation\": \"training\", \"epoch\": 2, \"model\": 23}, \"Metrics\": {\"train_binary_classification_cross_entropy_objective\": {\"sum\": 0.5111125824487902, \"count\": 1, \"min\": 0.5111125824487902, \"max\": 0.5111125824487902}}}\u001b[0m\n",
      "\u001b[34m#metrics {\"StartTime\": 1727347861.2698965, \"EndTime\": 1727347861.2699056, \"Dimensions\": {\"Algorithm\": \"Linear Learner\", \"Host\": \"algo-1\", \"Operation\": \"training\", \"epoch\": 2, \"model\": 24}, \"Metrics\": {\"train_binary_classification_cross_entropy_objective\": {\"sum\": 0.5137549241558856, \"count\": 1, \"min\": 0.5137549241558856, \"max\": 0.5137549241558856}}}\u001b[0m\n",
      "\u001b[34m#metrics {\"StartTime\": 1727347861.269937, \"EndTime\": 1727347861.2699475, \"Dimensions\": {\"Algorithm\": \"Linear Learner\", \"Host\": \"algo-1\", \"Operation\": \"training\", \"epoch\": 2, \"model\": 25}, \"Metrics\": {\"train_binary_classification_cross_entropy_objective\": {\"sum\": 0.5138357699099666, \"count\": 1, \"min\": 0.5138357699099666, \"max\": 0.5138357699099666}}}\u001b[0m\n",
      "\u001b[34m#metrics {\"StartTime\": 1727347861.26998, \"EndTime\": 1727347861.2699897, \"Dimensions\": {\"Algorithm\": \"Linear Learner\", \"Host\": \"algo-1\", \"Operation\": \"training\", \"epoch\": 2, \"model\": 26}, \"Metrics\": {\"train_binary_classification_cross_entropy_objective\": {\"sum\": 0.5137546903744385, \"count\": 1, \"min\": 0.5137546903744385, \"max\": 0.5137546903744385}}}\u001b[0m\n",
      "\u001b[34m#metrics {\"StartTime\": 1727347861.2700207, \"EndTime\": 1727347861.2700298, \"Dimensions\": {\"Algorithm\": \"Linear Learner\", \"Host\": \"algo-1\", \"Operation\": \"training\", \"epoch\": 2, \"model\": 27}, \"Metrics\": {\"train_binary_classification_cross_entropy_objective\": {\"sum\": 0.5138364084692906, \"count\": 1, \"min\": 0.5138364084692906, \"max\": 0.5138364084692906}}}\u001b[0m\n",
      "\u001b[34m#metrics {\"StartTime\": 1727347861.2700617, \"EndTime\": 1727347861.2700713, \"Dimensions\": {\"Algorithm\": \"Linear Learner\", \"Host\": \"algo-1\", \"Operation\": \"training\", \"epoch\": 2, \"model\": 28}, \"Metrics\": {\"train_binary_classification_cross_entropy_objective\": {\"sum\": 0.5138420695266956, \"count\": 1, \"min\": 0.5138420695266956, \"max\": 0.5138420695266956}}}\u001b[0m\n",
      "\u001b[34m#metrics {\"StartTime\": 1727347861.270106, \"EndTime\": 1727347861.2701156, \"Dimensions\": {\"Algorithm\": \"Linear Learner\", \"Host\": \"algo-1\", \"Operation\": \"training\", \"epoch\": 2, \"model\": 29}, \"Metrics\": {\"train_binary_classification_cross_entropy_objective\": {\"sum\": 0.5150504774741077, \"count\": 1, \"min\": 0.5150504774741077, \"max\": 0.5150504774741077}}}\u001b[0m\n",
      "\u001b[34m#metrics {\"StartTime\": 1727347861.2701495, \"EndTime\": 1727347861.2701592, \"Dimensions\": {\"Algorithm\": \"Linear Learner\", \"Host\": \"algo-1\", \"Operation\": \"training\", \"epoch\": 2, \"model\": 30}, \"Metrics\": {\"train_binary_classification_cross_entropy_objective\": {\"sum\": 0.5138420433721047, \"count\": 1, \"min\": 0.5138420433721047, \"max\": 0.5138420433721047}}}\u001b[0m\n",
      "\u001b[34m#metrics {\"StartTime\": 1727347861.2701912, \"EndTime\": 1727347861.2701998, \"Dimensions\": {\"Algorithm\": \"Linear Learner\", \"Host\": \"algo-1\", \"Operation\": \"training\", \"epoch\": 2, \"model\": 31}, \"Metrics\": {\"train_binary_classification_cross_entropy_objective\": {\"sum\": 0.5150509837672615, \"count\": 1, \"min\": 0.5150509837672615, \"max\": 0.5150509837672615}}}\u001b[0m\n",
      "\u001b[34m[09/26/2024 10:51:01 INFO 139808012048192] #quality_metric: host=algo-1, epoch=2, train binary_classification_cross_entropy_objective <loss>=0.4919608960632884\u001b[0m\n",
      "\u001b[34m[2024-09-26 10:51:04.333] [tensorio] [info] epoch_stats={\"data_pipeline\": \"/opt/ml/input/data/validation\", \"epoch\": 8, \"duration\": 3049, \"num_examples\": 164, \"num_bytes\": 68694780}\u001b[0m\n",
      "\u001b[34m#metrics {\"StartTime\": 1727347864.3378193, \"EndTime\": 1727347864.3378694, \"Dimensions\": {\"Algorithm\": \"Linear Learner\", \"Host\": \"algo-1\", \"Operation\": \"training\", \"epoch\": 2, \"model\": 0}, \"Metrics\": {\"validation_binary_classification_cross_entropy_objective\": {\"sum\": 0.49276777395068205, \"count\": 1, \"min\": 0.49276777395068205, \"max\": 0.49276777395068205}}}\u001b[0m\n",
      "\u001b[34m#metrics {\"StartTime\": 1727347864.3379345, \"EndTime\": 1727347864.337948, \"Dimensions\": {\"Algorithm\": \"Linear Learner\", \"Host\": \"algo-1\", \"Operation\": \"training\", \"epoch\": 2, \"model\": 1}, \"Metrics\": {\"validation_binary_classification_cross_entropy_objective\": {\"sum\": 0.4937362468920691, \"count\": 1, \"min\": 0.4937362468920691, \"max\": 0.4937362468920691}}}\u001b[0m\n",
      "\u001b[34m#metrics {\"StartTime\": 1727347864.3379903, \"EndTime\": 1727347864.3380013, \"Dimensions\": {\"Algorithm\": \"Linear Learner\", \"Host\": \"algo-1\", \"Operation\": \"training\", \"epoch\": 2, \"model\": 2}, \"Metrics\": {\"validation_binary_classification_cross_entropy_objective\": {\"sum\": 0.49277513060528566, \"count\": 1, \"min\": 0.49277513060528566, \"max\": 0.49277513060528566}}}\u001b[0m\n",
      "\u001b[34m#metrics {\"StartTime\": 1727347864.3380375, \"EndTime\": 1727347864.3380477, \"Dimensions\": {\"Algorithm\": \"Linear Learner\", \"Host\": \"algo-1\", \"Operation\": \"training\", \"epoch\": 2, \"model\": 3}, \"Metrics\": {\"validation_binary_classification_cross_entropy_objective\": {\"sum\": 0.4937350387572776, \"count\": 1, \"min\": 0.4937350387572776, \"max\": 0.4937350387572776}}}\u001b[0m\n",
      "\u001b[34m#metrics {\"StartTime\": 1727347864.3380883, \"EndTime\": 1727347864.3380978, \"Dimensions\": {\"Algorithm\": \"Linear Learner\", \"Host\": \"algo-1\", \"Operation\": \"training\", \"epoch\": 2, \"model\": 4}, \"Metrics\": {\"validation_binary_classification_cross_entropy_objective\": {\"sum\": 0.49334308064817206, \"count\": 1, \"min\": 0.49334308064817206, \"max\": 0.49334308064817206}}}\u001b[0m\n",
      "\u001b[34m#metrics {\"StartTime\": 1727347864.338131, \"EndTime\": 1727347864.3381412, \"Dimensions\": {\"Algorithm\": \"Linear Learner\", \"Host\": \"algo-1\", \"Operation\": \"training\", \"epoch\": 2, \"model\": 5}, \"Metrics\": {\"validation_binary_classification_cross_entropy_objective\": {\"sum\": 0.5129668928048208, \"count\": 1, \"min\": 0.5129668928048208, \"max\": 0.5129668928048208}}}\u001b[0m\n",
      "\u001b[34m#metrics {\"StartTime\": 1727347864.3381727, \"EndTime\": 1727347864.3381824, \"Dimensions\": {\"Algorithm\": \"Linear Learner\", \"Host\": \"algo-1\", \"Operation\": \"training\", \"epoch\": 2, \"model\": 6}, \"Metrics\": {\"validation_binary_classification_cross_entropy_objective\": {\"sum\": 0.49334311106144946, \"count\": 1, \"min\": 0.49334311106144946, \"max\": 0.49334311106144946}}}\u001b[0m\n",
      "\u001b[34m#metrics {\"StartTime\": 1727347864.3382113, \"EndTime\": 1727347864.3382213, \"Dimensions\": {\"Algorithm\": \"Linear Learner\", \"Host\": \"algo-1\", \"Operation\": \"training\", \"epoch\": 2, \"model\": 7}, \"Metrics\": {\"validation_binary_classification_cross_entropy_objective\": {\"sum\": 0.5129218442105682, \"count\": 1, \"min\": 0.5129218442105682, \"max\": 0.5129218442105682}}}\u001b[0m\n",
      "\u001b[34m#metrics {\"StartTime\": 1727347864.338249, \"EndTime\": 1727347864.338257, \"Dimensions\": {\"Algorithm\": \"Linear Learner\", \"Host\": \"algo-1\", \"Operation\": \"training\", \"epoch\": 2, \"model\": 8}, \"Metrics\": {\"validation_binary_classification_cross_entropy_objective\": {\"sum\": 0.492913091948507, \"count\": 1, \"min\": 0.492913091948507, \"max\": 0.492913091948507}}}\u001b[0m\n",
      "\u001b[34m#metrics {\"StartTime\": 1727347864.3382835, \"EndTime\": 1727347864.338292, \"Dimensions\": {\"Algorithm\": \"Linear Learner\", \"Host\": \"algo-1\", \"Operation\": \"training\", \"epoch\": 2, \"model\": 9}, \"Metrics\": {\"validation_binary_classification_cross_entropy_objective\": {\"sum\": 0.49383776249367584, \"count\": 1, \"min\": 0.49383776249367584, \"max\": 0.49383776249367584}}}\u001b[0m\n",
      "\u001b[34m#metrics {\"StartTime\": 1727347864.338326, \"EndTime\": 1727347864.3383355, \"Dimensions\": {\"Algorithm\": \"Linear Learner\", \"Host\": \"algo-1\", \"Operation\": \"training\", \"epoch\": 2, \"model\": 10}, \"Metrics\": {\"validation_binary_classification_cross_entropy_objective\": {\"sum\": 0.4929128628227118, \"count\": 1, \"min\": 0.4929128628227118, \"max\": 0.4929128628227118}}}\u001b[0m\n",
      "\u001b[34m#metrics {\"StartTime\": 1727347864.338367, \"EndTime\": 1727347864.338375, \"Dimensions\": {\"Algorithm\": \"Linear Learner\", \"Host\": \"algo-1\", \"Operation\": \"training\", \"epoch\": 2, \"model\": 11}, \"Metrics\": {\"validation_binary_classification_cross_entropy_objective\": {\"sum\": 0.4938377206987425, \"count\": 1, \"min\": 0.4938377206987425, \"max\": 0.4938377206987425}}}\u001b[0m\n",
      "\u001b[34m#metrics {\"StartTime\": 1727347864.3384058, \"EndTime\": 1727347864.3384151, \"Dimensions\": {\"Algorithm\": \"Linear Learner\", \"Host\": \"algo-1\", \"Operation\": \"training\", \"epoch\": 2, \"model\": 12}, \"Metrics\": {\"validation_binary_classification_cross_entropy_objective\": {\"sum\": 0.4935016504386295, \"count\": 1, \"min\": 0.4935016504386295, \"max\": 0.4935016504386295}}}\u001b[0m\n",
      "\u001b[34m#metrics {\"StartTime\": 1727347864.3384464, \"EndTime\": 1727347864.338456, \"Dimensions\": {\"Algorithm\": \"Linear Learner\", \"Host\": \"algo-1\", \"Operation\": \"training\", \"epoch\": 2, \"model\": 13}, \"Metrics\": {\"validation_binary_classification_cross_entropy_objective\": {\"sum\": 0.5129490842449485, \"count\": 1, \"min\": 0.5129490842449485, \"max\": 0.5129490842449485}}}\u001b[0m\n",
      "\u001b[34m#metrics {\"StartTime\": 1727347864.3384876, \"EndTime\": 1727347864.3384972, \"Dimensions\": {\"Algorithm\": \"Linear Learner\", \"Host\": \"algo-1\", \"Operation\": \"training\", \"epoch\": 2, \"model\": 14}, \"Metrics\": {\"validation_binary_classification_cross_entropy_objective\": {\"sum\": 0.49350158886573664, \"count\": 1, \"min\": 0.49350158886573664, \"max\": 0.49350158886573664}}}\u001b[0m\n",
      "\u001b[34m#metrics {\"StartTime\": 1727347864.3385372, \"EndTime\": 1727347864.338546, \"Dimensions\": {\"Algorithm\": \"Linear Learner\", \"Host\": \"algo-1\", \"Operation\": \"training\", \"epoch\": 2, \"model\": 15}, \"Metrics\": {\"validation_binary_classification_cross_entropy_objective\": {\"sum\": 0.5129469588606381, \"count\": 1, \"min\": 0.5129469588606381, \"max\": 0.5129469588606381}}}\u001b[0m\n",
      "\u001b[34m#metrics {\"StartTime\": 1727347864.3385797, \"EndTime\": 1727347864.3385897, \"Dimensions\": {\"Algorithm\": \"Linear Learner\", \"Host\": \"algo-1\", \"Operation\": \"training\", \"epoch\": 2, \"model\": 16}, \"Metrics\": {\"validation_binary_classification_cross_entropy_objective\": {\"sum\": 0.5079654868083369, \"count\": 1, \"min\": 0.5079654868083369, \"max\": 0.5079654868083369}}}\u001b[0m\n",
      "\u001b[34m#metrics {\"StartTime\": 1727347864.3386285, \"EndTime\": 1727347864.3386385, \"Dimensions\": {\"Algorithm\": \"Linear Learner\", \"Host\": \"algo-1\", \"Operation\": \"training\", \"epoch\": 2, \"model\": 17}, \"Metrics\": {\"validation_binary_classification_cross_entropy_objective\": {\"sum\": 0.5079590755775152, \"count\": 1, \"min\": 0.5079590755775152, \"max\": 0.5079590755775152}}}\u001b[0m\n",
      "\u001b[34m#metrics {\"StartTime\": 1727347864.3386784, \"EndTime\": 1727347864.3386893, \"Dimensions\": {\"Algorithm\": \"Linear Learner\", \"Host\": \"algo-1\", \"Operation\": \"training\", \"epoch\": 2, \"model\": 18}, \"Metrics\": {\"validation_binary_classification_cross_entropy_objective\": {\"sum\": 0.5079656431661678, \"count\": 1, \"min\": 0.5079656431661678, \"max\": 0.5079656431661678}}}\u001b[0m\n",
      "\u001b[34m#metrics {\"StartTime\": 1727347864.338729, \"EndTime\": 1727347864.3387406, \"Dimensions\": {\"Algorithm\": \"Linear Learner\", \"Host\": \"algo-1\", \"Operation\": \"training\", \"epoch\": 2, \"model\": 19}, \"Metrics\": {\"validation_binary_classification_cross_entropy_objective\": {\"sum\": 0.5079589606414485, \"count\": 1, \"min\": 0.5079589606414485, \"max\": 0.5079589606414485}}}\u001b[0m\n",
      "\u001b[34m#metrics {\"StartTime\": 1727347864.3387773, \"EndTime\": 1727347864.3387866, \"Dimensions\": {\"Algorithm\": \"Linear Learner\", \"Host\": \"algo-1\", \"Operation\": \"training\", \"epoch\": 2, \"model\": 20}, \"Metrics\": {\"validation_binary_classification_cross_entropy_objective\": {\"sum\": 0.5082220923990325, \"count\": 1, \"min\": 0.5082220923990325, \"max\": 0.5082220923990325}}}\u001b[0m\n",
      "\u001b[34m#metrics {\"StartTime\": 1727347864.338825, \"EndTime\": 1727347864.3388345, \"Dimensions\": {\"Algorithm\": \"Linear Learner\", \"Host\": \"algo-1\", \"Operation\": \"training\", \"epoch\": 2, \"model\": 21}, \"Metrics\": {\"validation_binary_classification_cross_entropy_objective\": {\"sum\": 0.5100982863608635, \"count\": 1, \"min\": 0.5100982863608635, \"max\": 0.5100982863608635}}}\u001b[0m\n",
      "\u001b[34m#metrics {\"StartTime\": 1727347864.3388693, \"EndTime\": 1727347864.3388777, \"Dimensions\": {\"Algorithm\": \"Linear Learner\", \"Host\": \"algo-1\", \"Operation\": \"training\", \"epoch\": 2, \"model\": 22}, \"Metrics\": {\"validation_binary_classification_cross_entropy_objective\": {\"sum\": 0.5082220134737789, \"count\": 1, \"min\": 0.5082220134737789, \"max\": 0.5082220134737789}}}\u001b[0m\n",
      "\u001b[34m#metrics {\"StartTime\": 1727347864.3389094, \"EndTime\": 1727347864.3389182, \"Dimensions\": {\"Algorithm\": \"Linear Learner\", \"Host\": \"algo-1\", \"Operation\": \"training\", \"epoch\": 2, \"model\": 23}, \"Metrics\": {\"validation_binary_classification_cross_entropy_objective\": {\"sum\": 0.5100979299844232, \"count\": 1, \"min\": 0.5100979299844232, \"max\": 0.5100979299844232}}}\u001b[0m\n",
      "\u001b[34m#metrics {\"StartTime\": 1727347864.3389518, \"EndTime\": 1727347864.3389606, \"Dimensions\": {\"Algorithm\": \"Linear Learner\", \"Host\": \"algo-1\", \"Operation\": \"training\", \"epoch\": 2, \"model\": 24}, \"Metrics\": {\"validation_binary_classification_cross_entropy_objective\": {\"sum\": 0.5137586463193686, \"count\": 1, \"min\": 0.5137586463193686, \"max\": 0.5137586463193686}}}\u001b[0m\n",
      "\u001b[34m#metrics {\"StartTime\": 1727347864.3389955, \"EndTime\": 1727347864.339006, \"Dimensions\": {\"Algorithm\": \"Linear Learner\", \"Host\": \"algo-1\", \"Operation\": \"training\", \"epoch\": 2, \"model\": 25}, \"Metrics\": {\"validation_binary_classification_cross_entropy_objective\": {\"sum\": 0.5138999219634859, \"count\": 1, \"min\": 0.5138999219634859, \"max\": 0.5138999219634859}}}\u001b[0m\n",
      "\u001b[34m#metrics {\"StartTime\": 1727347864.3390546, \"EndTime\": 1727347864.3390653, \"Dimensions\": {\"Algorithm\": \"Linear Learner\", \"Host\": \"algo-1\", \"Operation\": \"training\", \"epoch\": 2, \"model\": 26}, \"Metrics\": {\"validation_binary_classification_cross_entropy_objective\": {\"sum\": 0.5137613016037266, \"count\": 1, \"min\": 0.5137613016037266, \"max\": 0.5137613016037266}}}\u001b[0m\n",
      "\u001b[34m#metrics {\"StartTime\": 1727347864.3391054, \"EndTime\": 1727347864.339116, \"Dimensions\": {\"Algorithm\": \"Linear Learner\", \"Host\": \"algo-1\", \"Operation\": \"training\", \"epoch\": 2, \"model\": 27}, \"Metrics\": {\"validation_binary_classification_cross_entropy_objective\": {\"sum\": 0.5139207703584195, \"count\": 1, \"min\": 0.5139207703584195, \"max\": 0.5139207703584195}}}\u001b[0m\n",
      "\u001b[34m#metrics {\"StartTime\": 1727347864.3391528, \"EndTime\": 1727347864.3391593, \"Dimensions\": {\"Algorithm\": \"Linear Learner\", \"Host\": \"algo-1\", \"Operation\": \"training\", \"epoch\": 2, \"model\": 28}, \"Metrics\": {\"validation_binary_classification_cross_entropy_objective\": {\"sum\": 0.5139304516696049, \"count\": 1, \"min\": 0.5139304516696049, \"max\": 0.5139304516696049}}}\u001b[0m\n",
      "\u001b[34m#metrics {\"StartTime\": 1727347864.339191, \"EndTime\": 1727347864.3391988, \"Dimensions\": {\"Algorithm\": \"Linear Learner\", \"Host\": \"algo-1\", \"Operation\": \"training\", \"epoch\": 2, \"model\": 29}, \"Metrics\": {\"validation_binary_classification_cross_entropy_objective\": {\"sum\": 0.5137023578734036, \"count\": 1, \"min\": 0.5137023578734036, \"max\": 0.5137023578734036}}}\u001b[0m\n",
      "\u001b[34m#metrics {\"StartTime\": 1727347864.3392289, \"EndTime\": 1727347864.3392346, \"Dimensions\": {\"Algorithm\": \"Linear Learner\", \"Host\": \"algo-1\", \"Operation\": \"training\", \"epoch\": 2, \"model\": 30}, \"Metrics\": {\"validation_binary_classification_cross_entropy_objective\": {\"sum\": 0.5139381098447989, \"count\": 1, \"min\": 0.5139381098447989, \"max\": 0.5139381098447989}}}\u001b[0m\n",
      "\u001b[34m#metrics {\"StartTime\": 1727347864.339257, \"EndTime\": 1727347864.3392627, \"Dimensions\": {\"Algorithm\": \"Linear Learner\", \"Host\": \"algo-1\", \"Operation\": \"training\", \"epoch\": 2, \"model\": 31}, \"Metrics\": {\"validation_binary_classification_cross_entropy_objective\": {\"sum\": 0.5137023078687512, \"count\": 1, \"min\": 0.5137023078687512, \"max\": 0.5137023078687512}}}\u001b[0m\n",
      "\u001b[34m[09/26/2024 10:51:04 INFO 139808012048192] #quality_metric: host=algo-1, epoch=2, validation binary_classification_cross_entropy_objective <loss>=0.49276777395068205\u001b[0m\n",
      "\u001b[34m[09/26/2024 10:51:04 INFO 139808012048192] #early_stopping_criteria_metric: host=algo-1, epoch=2, criteria=binary_classification_cross_entropy_objective, value=0.49276777395068205\u001b[0m\n",
      "\u001b[34m[09/26/2024 10:51:04 INFO 139808012048192] Saving model for epoch: 2\u001b[0m\n",
      "\u001b[34m[09/26/2024 10:51:04 INFO 139808012048192] Saved checkpoint to \"/tmp/tmpj4zaga8s/mx-mod-0000.params\"\u001b[0m\n",
      "\u001b[34m[09/26/2024 10:51:04 INFO 139808012048192] #progress_metric: host=algo-1, completed 20.0 % of epochs\u001b[0m\n",
      "\u001b[34m#metrics {\"StartTime\": 1727347832.8002768, \"EndTime\": 1727347864.3449495, \"Dimensions\": {\"Algorithm\": \"Linear Learner\", \"Host\": \"algo-1\", \"Operation\": \"training\", \"epoch\": 2, \"Meta\": \"training_data_iter\"}, \"Metrics\": {\"Total Records Seen\": {\"sum\": 3937416.0, \"count\": 1, \"min\": 3937416, \"max\": 3937416}, \"Total Batches Seen\": {\"sum\": 3939.0, \"count\": 1, \"min\": 3939, \"max\": 3939}, \"Max Records Seen Between Resets\": {\"sum\": 1308472.0, \"count\": 1, \"min\": 1308472, \"max\": 1308472}, \"Max Batches Seen Between Resets\": {\"sum\": 1309.0, \"count\": 1, \"min\": 1309, \"max\": 1309}, \"Reset Count\": {\"sum\": 5.0, \"count\": 1, \"min\": 5, \"max\": 5}, \"Number of Records Since Last Reset\": {\"sum\": 1308472.0, \"count\": 1, \"min\": 1308472, \"max\": 1308472}, \"Number of Batches Since Last Reset\": {\"sum\": 1309.0, \"count\": 1, \"min\": 1309, \"max\": 1309}}}\u001b[0m\n",
      "\u001b[34m[09/26/2024 10:51:04 INFO 139808012048192] #throughput_metric: host=algo-1, train throughput=41479.778154988635 records/second\u001b[0m\n",
      "\u001b[34m[2024-09-26 10:51:33.672] [tensorio] [info] epoch_stats={\"data_pipeline\": \"/opt/ml/input/data/train\", \"epoch\": 9, \"duration\": 29317, \"num_examples\": 1309, \"num_bytes\": 549558240}\u001b[0m\n",
      "\u001b[34m#metrics {\"StartTime\": 1727347893.672974, \"EndTime\": 1727347893.6730757, \"Dimensions\": {\"Algorithm\": \"Linear Learner\", \"Host\": \"algo-1\", \"Operation\": \"training\", \"epoch\": 3, \"model\": 0}, \"Metrics\": {\"train_binary_classification_cross_entropy_objective\": {\"sum\": 0.4918935535209259, \"count\": 1, \"min\": 0.4918935535209259, \"max\": 0.4918935535209259}}}\u001b[0m\n",
      "\u001b[34m#metrics {\"StartTime\": 1727347893.673159, \"EndTime\": 1727347893.6731744, \"Dimensions\": {\"Algorithm\": \"Linear Learner\", \"Host\": \"algo-1\", \"Operation\": \"training\", \"epoch\": 3, \"model\": 1}, \"Metrics\": {\"train_binary_classification_cross_entropy_objective\": {\"sum\": 0.4928531457276884, \"count\": 1, \"min\": 0.4928531457276884, \"max\": 0.4928531457276884}}}\u001b[0m\n",
      "\u001b[34m#metrics {\"StartTime\": 1727347893.6732078, \"EndTime\": 1727347893.6732168, \"Dimensions\": {\"Algorithm\": \"Linear Learner\", \"Host\": \"algo-1\", \"Operation\": \"training\", \"epoch\": 3, \"model\": 2}, \"Metrics\": {\"train_binary_classification_cross_entropy_objective\": {\"sum\": 0.4919144308807653, \"count\": 1, \"min\": 0.4919144308807653, \"max\": 0.4919144308807653}}}\u001b[0m\n",
      "\u001b[34m#metrics {\"StartTime\": 1727347893.67325, \"EndTime\": 1727347893.6732605, \"Dimensions\": {\"Algorithm\": \"Linear Learner\", \"Host\": \"algo-1\", \"Operation\": \"training\", \"epoch\": 3, \"model\": 3}, \"Metrics\": {\"train_binary_classification_cross_entropy_objective\": {\"sum\": 0.4928527941689214, \"count\": 1, \"min\": 0.4928527941689214, \"max\": 0.4928527941689214}}}\u001b[0m\n",
      "\u001b[34m#metrics {\"StartTime\": 1727347893.6732914, \"EndTime\": 1727347893.6733, \"Dimensions\": {\"Algorithm\": \"Linear Learner\", \"Host\": \"algo-1\", \"Operation\": \"training\", \"epoch\": 3, \"model\": 4}, \"Metrics\": {\"train_binary_classification_cross_entropy_objective\": {\"sum\": 0.49221239921733145, \"count\": 1, \"min\": 0.49221239921733145, \"max\": 0.49221239921733145}}}\u001b[0m\n",
      "\u001b[34m#metrics {\"StartTime\": 1727347893.6733315, \"EndTime\": 1727347893.673341, \"Dimensions\": {\"Algorithm\": \"Linear Learner\", \"Host\": \"algo-1\", \"Operation\": \"training\", \"epoch\": 3, \"model\": 5}, \"Metrics\": {\"train_binary_classification_cross_entropy_objective\": {\"sum\": 0.5094675717135089, \"count\": 1, \"min\": 0.5094675717135089, \"max\": 0.5094675717135089}}}\u001b[0m\n",
      "\u001b[34m#metrics {\"StartTime\": 1727347893.6733716, \"EndTime\": 1727347893.6733804, \"Dimensions\": {\"Algorithm\": \"Linear Learner\", \"Host\": \"algo-1\", \"Operation\": \"training\", \"epoch\": 3, \"model\": 6}, \"Metrics\": {\"train_binary_classification_cross_entropy_objective\": {\"sum\": 0.49221239359444435, \"count\": 1, \"min\": 0.49221239359444435, \"max\": 0.49221239359444435}}}\u001b[0m\n",
      "\u001b[34m#metrics {\"StartTime\": 1727347893.673411, \"EndTime\": 1727347893.67342, \"Dimensions\": {\"Algorithm\": \"Linear Learner\", \"Host\": \"algo-1\", \"Operation\": \"training\", \"epoch\": 3, \"model\": 7}, \"Metrics\": {\"train_binary_classification_cross_entropy_objective\": {\"sum\": 0.5094449520986014, \"count\": 1, \"min\": 0.5094449520986014, \"max\": 0.5094449520986014}}}\u001b[0m\n",
      "\u001b[34m#metrics {\"StartTime\": 1727347893.6734512, \"EndTime\": 1727347893.6734612, \"Dimensions\": {\"Algorithm\": \"Linear Learner\", \"Host\": \"algo-1\", \"Operation\": \"training\", \"epoch\": 3, \"model\": 8}, \"Metrics\": {\"train_binary_classification_cross_entropy_objective\": {\"sum\": 0.49209106783618983, \"count\": 1, \"min\": 0.49209106783618983, \"max\": 0.49209106783618983}}}\u001b[0m\n",
      "\u001b[34m#metrics {\"StartTime\": 1727347893.6734943, \"EndTime\": 1727347893.6735034, \"Dimensions\": {\"Algorithm\": \"Linear Learner\", \"Host\": \"algo-1\", \"Operation\": \"training\", \"epoch\": 3, \"model\": 9}, \"Metrics\": {\"train_binary_classification_cross_entropy_objective\": {\"sum\": 0.4930114629436341, \"count\": 1, \"min\": 0.4930114629436341, \"max\": 0.4930114629436341}}}\u001b[0m\n",
      "\u001b[34m#metrics {\"StartTime\": 1727347893.673536, \"EndTime\": 1727347893.6735454, \"Dimensions\": {\"Algorithm\": \"Linear Learner\", \"Host\": \"algo-1\", \"Operation\": \"training\", \"epoch\": 3, \"model\": 10}, \"Metrics\": {\"train_binary_classification_cross_entropy_objective\": {\"sum\": 0.4921059537181796, \"count\": 1, \"min\": 0.4921059537181796, \"max\": 0.4921059537181796}}}\u001b[0m\n",
      "\u001b[34m#metrics {\"StartTime\": 1727347893.6735754, \"EndTime\": 1727347893.673585, \"Dimensions\": {\"Algorithm\": \"Linear Learner\", \"Host\": \"algo-1\", \"Operation\": \"training\", \"epoch\": 3, \"model\": 11}, \"Metrics\": {\"train_binary_classification_cross_entropy_objective\": {\"sum\": 0.49301145736741, \"count\": 1, \"min\": 0.49301145736741, \"max\": 0.49301145736741}}}\u001b[0m\n",
      "\u001b[34m#metrics {\"StartTime\": 1727347893.673614, \"EndTime\": 1727347893.6736224, \"Dimensions\": {\"Algorithm\": \"Linear Learner\", \"Host\": \"algo-1\", \"Operation\": \"training\", \"epoch\": 3, \"model\": 12}, \"Metrics\": {\"train_binary_classification_cross_entropy_objective\": {\"sum\": 0.49240854080153534, \"count\": 1, \"min\": 0.49240854080153534, \"max\": 0.49240854080153534}}}\u001b[0m\n",
      "\u001b[34m#metrics {\"StartTime\": 1727347893.6736515, \"EndTime\": 1727347893.673661, \"Dimensions\": {\"Algorithm\": \"Linear Learner\", \"Host\": \"algo-1\", \"Operation\": \"training\", \"epoch\": 3, \"model\": 13}, \"Metrics\": {\"train_binary_classification_cross_entropy_objective\": {\"sum\": 0.5085711877105433, \"count\": 1, \"min\": 0.5085711877105433, \"max\": 0.5085711877105433}}}\u001b[0m\n",
      "\u001b[34m#metrics {\"StartTime\": 1727347893.6736946, \"EndTime\": 1727347893.6737044, \"Dimensions\": {\"Algorithm\": \"Linear Learner\", \"Host\": \"algo-1\", \"Operation\": \"training\", \"epoch\": 3, \"model\": 14}, \"Metrics\": {\"train_binary_classification_cross_entropy_objective\": {\"sum\": 0.4924085454445002, \"count\": 1, \"min\": 0.4924085454445002, \"max\": 0.4924085454445002}}}\u001b[0m\n",
      "\u001b[34m#metrics {\"StartTime\": 1727347893.6737397, \"EndTime\": 1727347893.6737487, \"Dimensions\": {\"Algorithm\": \"Linear Learner\", \"Host\": \"algo-1\", \"Operation\": \"training\", \"epoch\": 3, \"model\": 15}, \"Metrics\": {\"train_binary_classification_cross_entropy_objective\": {\"sum\": 0.5085714193454941, \"count\": 1, \"min\": 0.5085714193454941, \"max\": 0.5085714193454941}}}\u001b[0m\n",
      "\u001b[34m#metrics {\"StartTime\": 1727347893.6737776, \"EndTime\": 1727347893.6737866, \"Dimensions\": {\"Algorithm\": \"Linear Learner\", \"Host\": \"algo-1\", \"Operation\": \"training\", \"epoch\": 3, \"model\": 16}, \"Metrics\": {\"train_binary_classification_cross_entropy_objective\": {\"sum\": 0.5077307473045606, \"count\": 1, \"min\": 0.5077307473045606, \"max\": 0.5077307473045606}}}\u001b[0m\n",
      "\u001b[34m#metrics {\"StartTime\": 1727347893.673816, \"EndTime\": 1727347893.6738257, \"Dimensions\": {\"Algorithm\": \"Linear Learner\", \"Host\": \"algo-1\", \"Operation\": \"training\", \"epoch\": 3, \"model\": 17}, \"Metrics\": {\"train_binary_classification_cross_entropy_objective\": {\"sum\": 0.5079588953887286, \"count\": 1, \"min\": 0.5079588953887286, \"max\": 0.5079588953887286}}}\u001b[0m\n",
      "\u001b[34m#metrics {\"StartTime\": 1727347893.6738596, \"EndTime\": 1727347893.6738696, \"Dimensions\": {\"Algorithm\": \"Linear Learner\", \"Host\": \"algo-1\", \"Operation\": \"training\", \"epoch\": 3, \"model\": 18}, \"Metrics\": {\"train_binary_classification_cross_entropy_objective\": {\"sum\": 0.5077407263426241, \"count\": 1, \"min\": 0.5077407263426241, \"max\": 0.5077407263426241}}}\u001b[0m\n",
      "\u001b[34m#metrics {\"StartTime\": 1727347893.6739035, \"EndTime\": 1727347893.6739118, \"Dimensions\": {\"Algorithm\": \"Linear Learner\", \"Host\": \"algo-1\", \"Operation\": \"training\", \"epoch\": 3, \"model\": 19}, \"Metrics\": {\"train_binary_classification_cross_entropy_objective\": {\"sum\": 0.5079588902324712, \"count\": 1, \"min\": 0.5079588902324712, \"max\": 0.5079588902324712}}}\u001b[0m\n",
      "\u001b[34m#metrics {\"StartTime\": 1727347893.6739428, \"EndTime\": 1727347893.6739516, \"Dimensions\": {\"Algorithm\": \"Linear Learner\", \"Host\": \"algo-1\", \"Operation\": \"training\", \"epoch\": 3, \"model\": 20}, \"Metrics\": {\"train_binary_classification_cross_entropy_objective\": {\"sum\": 0.5078005600908845, \"count\": 1, \"min\": 0.5078005600908845, \"max\": 0.5078005600908845}}}\u001b[0m\n",
      "\u001b[34m#metrics {\"StartTime\": 1727347893.6739805, \"EndTime\": 1727347893.6739905, \"Dimensions\": {\"Algorithm\": \"Linear Learner\", \"Host\": \"algo-1\", \"Operation\": \"training\", \"epoch\": 3, \"model\": 21}, \"Metrics\": {\"train_binary_classification_cross_entropy_objective\": {\"sum\": 0.5107890223698514, \"count\": 1, \"min\": 0.5107890223698514, \"max\": 0.5107890223698514}}}\u001b[0m\n",
      "\u001b[34m#metrics {\"StartTime\": 1727347893.6740232, \"EndTime\": 1727347893.6740332, \"Dimensions\": {\"Algorithm\": \"Linear Learner\", \"Host\": \"algo-1\", \"Operation\": \"training\", \"epoch\": 3, \"model\": 22}, \"Metrics\": {\"train_binary_classification_cross_entropy_objective\": {\"sum\": 0.5078005639639105, \"count\": 1, \"min\": 0.5078005639639105, \"max\": 0.5078005639639105}}}\u001b[0m\n",
      "\u001b[34m#metrics {\"StartTime\": 1727347893.6740677, \"EndTime\": 1727347893.674077, \"Dimensions\": {\"Algorithm\": \"Linear Learner\", \"Host\": \"algo-1\", \"Operation\": \"training\", \"epoch\": 3, \"model\": 23}, \"Metrics\": {\"train_binary_classification_cross_entropy_objective\": {\"sum\": 0.5107890224165144, \"count\": 1, \"min\": 0.5107890224165144, \"max\": 0.5107890224165144}}}\u001b[0m\n",
      "\u001b[34m#metrics {\"StartTime\": 1727347893.6741073, \"EndTime\": 1727347893.6741168, \"Dimensions\": {\"Algorithm\": \"Linear Learner\", \"Host\": \"algo-1\", \"Operation\": \"training\", \"epoch\": 3, \"model\": 24}, \"Metrics\": {\"train_binary_classification_cross_entropy_objective\": {\"sum\": 0.5137505355741635, \"count\": 1, \"min\": 0.5137505355741635, \"max\": 0.5137505355741635}}}\u001b[0m\n",
      "\u001b[34m#metrics {\"StartTime\": 1727347893.6741457, \"EndTime\": 1727347893.6741552, \"Dimensions\": {\"Algorithm\": \"Linear Learner\", \"Host\": \"algo-1\", \"Operation\": \"training\", \"epoch\": 3, \"model\": 25}, \"Metrics\": {\"train_binary_classification_cross_entropy_objective\": {\"sum\": 0.5138315865752894, \"count\": 1, \"min\": 0.5138315865752894, \"max\": 0.5138315865752894}}}\u001b[0m\n",
      "\u001b[34m#metrics {\"StartTime\": 1727347893.6741893, \"EndTime\": 1727347893.6741986, \"Dimensions\": {\"Algorithm\": \"Linear Learner\", \"Host\": \"algo-1\", \"Operation\": \"training\", \"epoch\": 3, \"model\": 26}, \"Metrics\": {\"train_binary_classification_cross_entropy_objective\": {\"sum\": 0.5137520602165012, \"count\": 1, \"min\": 0.5137520602165012, \"max\": 0.5137520602165012}}}\u001b[0m\n",
      "\u001b[34m#metrics {\"StartTime\": 1727347893.674231, \"EndTime\": 1727347893.67424, \"Dimensions\": {\"Algorithm\": \"Linear Learner\", \"Host\": \"algo-1\", \"Operation\": \"training\", \"epoch\": 3, \"model\": 27}, \"Metrics\": {\"train_binary_classification_cross_entropy_objective\": {\"sum\": 0.5138310993439561, \"count\": 1, \"min\": 0.5138310993439561, \"max\": 0.5138310993439561}}}\u001b[0m\n",
      "\u001b[34m#metrics {\"StartTime\": 1727347893.6742697, \"EndTime\": 1727347893.6742785, \"Dimensions\": {\"Algorithm\": \"Linear Learner\", \"Host\": \"algo-1\", \"Operation\": \"training\", \"epoch\": 3, \"model\": 28}, \"Metrics\": {\"train_binary_classification_cross_entropy_objective\": {\"sum\": 0.5137790189737209, \"count\": 1, \"min\": 0.5137790189737209, \"max\": 0.5137790189737209}}}\u001b[0m\n",
      "\u001b[34m#metrics {\"StartTime\": 1727347893.6743085, \"EndTime\": 1727347893.6743186, \"Dimensions\": {\"Algorithm\": \"Linear Learner\", \"Host\": \"algo-1\", \"Operation\": \"training\", \"epoch\": 3, \"model\": 29}, \"Metrics\": {\"train_binary_classification_cross_entropy_objective\": {\"sum\": 0.5149461872905766, \"count\": 1, \"min\": 0.5149461872905766, \"max\": 0.5149461872905766}}}\u001b[0m\n",
      "\u001b[34m#metrics {\"StartTime\": 1727347893.6743507, \"EndTime\": 1727347893.6743605, \"Dimensions\": {\"Algorithm\": \"Linear Learner\", \"Host\": \"algo-1\", \"Operation\": \"training\", \"epoch\": 3, \"model\": 30}, \"Metrics\": {\"train_binary_classification_cross_entropy_objective\": {\"sum\": 0.5137792735435183, \"count\": 1, \"min\": 0.5137792735435183, \"max\": 0.5137792735435183}}}\u001b[0m\n",
      "\u001b[34m#metrics {\"StartTime\": 1727347893.674395, \"EndTime\": 1727347893.6744041, \"Dimensions\": {\"Algorithm\": \"Linear Learner\", \"Host\": \"algo-1\", \"Operation\": \"training\", \"epoch\": 3, \"model\": 31}, \"Metrics\": {\"train_binary_classification_cross_entropy_objective\": {\"sum\": 0.5149462214711974, \"count\": 1, \"min\": 0.5149462214711974, \"max\": 0.5149462214711974}}}\u001b[0m\n",
      "\u001b[34m[09/26/2024 10:51:33 INFO 139808012048192] #quality_metric: host=algo-1, epoch=3, train binary_classification_cross_entropy_objective <loss>=0.4918935535209259\u001b[0m\n",
      "\u001b[34m[2024-09-26 10:51:36.329] [tensorio] [info] epoch_stats={\"data_pipeline\": \"/opt/ml/input/data/validation\", \"epoch\": 11, \"duration\": 2639, \"num_examples\": 164, \"num_bytes\": 68694780}\u001b[0m\n",
      "\u001b[34m#metrics {\"StartTime\": 1727347896.3350112, \"EndTime\": 1727347896.3351107, \"Dimensions\": {\"Algorithm\": \"Linear Learner\", \"Host\": \"algo-1\", \"Operation\": \"training\", \"epoch\": 3, \"model\": 0}, \"Metrics\": {\"validation_binary_classification_cross_entropy_objective\": {\"sum\": 0.49276625310022876, \"count\": 1, \"min\": 0.49276625310022876, \"max\": 0.49276625310022876}}}\u001b[0m\n",
      "\u001b[34m#metrics {\"StartTime\": 1727347896.3351846, \"EndTime\": 1727347896.3351974, \"Dimensions\": {\"Algorithm\": \"Linear Learner\", \"Host\": \"algo-1\", \"Operation\": \"training\", \"epoch\": 3, \"model\": 1}, \"Metrics\": {\"validation_binary_classification_cross_entropy_objective\": {\"sum\": 0.49358556011115684, \"count\": 1, \"min\": 0.49358556011115684, \"max\": 0.49358556011115684}}}\u001b[0m\n",
      "\u001b[34m#metrics {\"StartTime\": 1727347896.335233, \"EndTime\": 1727347896.3352435, \"Dimensions\": {\"Algorithm\": \"Linear Learner\", \"Host\": \"algo-1\", \"Operation\": \"training\", \"epoch\": 3, \"model\": 2}, \"Metrics\": {\"validation_binary_classification_cross_entropy_objective\": {\"sum\": 0.49277281789011346, \"count\": 1, \"min\": 0.49277281789011346, \"max\": 0.49277281789011346}}}\u001b[0m\n",
      "\u001b[34m#metrics {\"StartTime\": 1727347896.335272, \"EndTime\": 1727347896.3352816, \"Dimensions\": {\"Algorithm\": \"Linear Learner\", \"Host\": \"algo-1\", \"Operation\": \"training\", \"epoch\": 3, \"model\": 3}, \"Metrics\": {\"validation_binary_classification_cross_entropy_objective\": {\"sum\": 0.49358488542151885, \"count\": 1, \"min\": 0.49358488542151885, \"max\": 0.49358488542151885}}}\u001b[0m\n",
      "\u001b[34m#metrics {\"StartTime\": 1727347896.3353133, \"EndTime\": 1727347896.335323, \"Dimensions\": {\"Algorithm\": \"Linear Learner\", \"Host\": \"algo-1\", \"Operation\": \"training\", \"epoch\": 3, \"model\": 4}, \"Metrics\": {\"validation_binary_classification_cross_entropy_objective\": {\"sum\": 0.4928804312605419, \"count\": 1, \"min\": 0.4928804312605419, \"max\": 0.4928804312605419}}}\u001b[0m\n",
      "\u001b[34m#metrics {\"StartTime\": 1727347896.3353543, \"EndTime\": 1727347896.335364, \"Dimensions\": {\"Algorithm\": \"Linear Learner\", \"Host\": \"algo-1\", \"Operation\": \"training\", \"epoch\": 3, \"model\": 5}, \"Metrics\": {\"validation_binary_classification_cross_entropy_objective\": {\"sum\": 0.5103355642204944, \"count\": 1, \"min\": 0.5103355642204944, \"max\": 0.5103355642204944}}}\u001b[0m\n",
      "\u001b[34m#metrics {\"StartTime\": 1727347896.3353932, \"EndTime\": 1727347896.3354015, \"Dimensions\": {\"Algorithm\": \"Linear Learner\", \"Host\": \"algo-1\", \"Operation\": \"training\", \"epoch\": 3, \"model\": 6}, \"Metrics\": {\"validation_binary_classification_cross_entropy_objective\": {\"sum\": 0.492880424543499, \"count\": 1, \"min\": 0.492880424543499, \"max\": 0.492880424543499}}}\u001b[0m\n",
      "\u001b[34m#metrics {\"StartTime\": 1727347896.3354278, \"EndTime\": 1727347896.335436, \"Dimensions\": {\"Algorithm\": \"Linear Learner\", \"Host\": \"algo-1\", \"Operation\": \"training\", \"epoch\": 3, \"model\": 7}, \"Metrics\": {\"validation_binary_classification_cross_entropy_objective\": {\"sum\": 0.510434085327079, \"count\": 1, \"min\": 0.510434085327079, \"max\": 0.510434085327079}}}\u001b[0m\n",
      "\u001b[34m#metrics {\"StartTime\": 1727347896.3354673, \"EndTime\": 1727347896.3354776, \"Dimensions\": {\"Algorithm\": \"Linear Learner\", \"Host\": \"algo-1\", \"Operation\": \"training\", \"epoch\": 3, \"model\": 8}, \"Metrics\": {\"validation_binary_classification_cross_entropy_objective\": {\"sum\": 0.4929112901017609, \"count\": 1, \"min\": 0.4929112901017609, \"max\": 0.4929112901017609}}}\u001b[0m\n",
      "\u001b[34m#metrics {\"StartTime\": 1727347896.3355067, \"EndTime\": 1727347896.3355165, \"Dimensions\": {\"Algorithm\": \"Linear Learner\", \"Host\": \"algo-1\", \"Operation\": \"training\", \"epoch\": 3, \"model\": 9}, \"Metrics\": {\"validation_binary_classification_cross_entropy_objective\": {\"sum\": 0.49370138096161736, \"count\": 1, \"min\": 0.49370138096161736, \"max\": 0.49370138096161736}}}\u001b[0m\n",
      "\u001b[34m#metrics {\"StartTime\": 1727347896.3355494, \"EndTime\": 1727347896.335559, \"Dimensions\": {\"Algorithm\": \"Linear Learner\", \"Host\": \"algo-1\", \"Operation\": \"training\", \"epoch\": 3, \"model\": 10}, \"Metrics\": {\"validation_binary_classification_cross_entropy_objective\": {\"sum\": 0.49291206274827387, \"count\": 1, \"min\": 0.49291206274827387, \"max\": 0.49291206274827387}}}\u001b[0m\n",
      "\u001b[34m#metrics {\"StartTime\": 1727347896.3355913, \"EndTime\": 1727347896.3356013, \"Dimensions\": {\"Algorithm\": \"Linear Learner\", \"Host\": \"algo-1\", \"Operation\": \"training\", \"epoch\": 3, \"model\": 11}, \"Metrics\": {\"validation_binary_classification_cross_entropy_objective\": {\"sum\": 0.4937013820811245, \"count\": 1, \"min\": 0.4937013820811245, \"max\": 0.4937013820811245}}}\u001b[0m\n",
      "\u001b[34m#metrics {\"StartTime\": 1727347896.335632, \"EndTime\": 1727347896.335642, \"Dimensions\": {\"Algorithm\": \"Linear Learner\", \"Host\": \"algo-1\", \"Operation\": \"training\", \"epoch\": 3, \"model\": 12}, \"Metrics\": {\"validation_binary_classification_cross_entropy_objective\": {\"sum\": 0.49307572946816736, \"count\": 1, \"min\": 0.49307572946816736, \"max\": 0.49307572946816736}}}\u001b[0m\n",
      "\u001b[34m#metrics {\"StartTime\": 1727347896.3356683, \"EndTime\": 1727347896.3356779, \"Dimensions\": {\"Algorithm\": \"Linear Learner\", \"Host\": \"algo-1\", \"Operation\": \"training\", \"epoch\": 3, \"model\": 13}, \"Metrics\": {\"validation_binary_classification_cross_entropy_objective\": {\"sum\": 0.5104499864333646, \"count\": 1, \"min\": 0.5104499864333646, \"max\": 0.5104499864333646}}}\u001b[0m\n",
      "\u001b[34m#metrics {\"StartTime\": 1727347896.3357105, \"EndTime\": 1727347896.3357205, \"Dimensions\": {\"Algorithm\": \"Linear Learner\", \"Host\": \"algo-1\", \"Operation\": \"training\", \"epoch\": 3, \"model\": 14}, \"Metrics\": {\"validation_binary_classification_cross_entropy_objective\": {\"sum\": 0.4930757391705626, \"count\": 1, \"min\": 0.4930757391705626, \"max\": 0.4930757391705626}}}\u001b[0m\n",
      "\u001b[34m#metrics {\"StartTime\": 1727347896.3357537, \"EndTime\": 1727347896.3357635, \"Dimensions\": {\"Algorithm\": \"Linear Learner\", \"Host\": \"algo-1\", \"Operation\": \"training\", \"epoch\": 3, \"model\": 15}, \"Metrics\": {\"validation_binary_classification_cross_entropy_objective\": {\"sum\": 0.510449773913592, \"count\": 1, \"min\": 0.510449773913592, \"max\": 0.510449773913592}}}\u001b[0m\n",
      "\u001b[34m#metrics {\"StartTime\": 1727347896.3357956, \"EndTime\": 1727347896.3358047, \"Dimensions\": {\"Algorithm\": \"Linear Learner\", \"Host\": \"algo-1\", \"Operation\": \"training\", \"epoch\": 3, \"model\": 16}, \"Metrics\": {\"validation_binary_classification_cross_entropy_objective\": {\"sum\": 0.5079194394271286, \"count\": 1, \"min\": 0.5079194394271286, \"max\": 0.5079194394271286}}}\u001b[0m\n",
      "\u001b[34m#metrics {\"StartTime\": 1727347896.3358307, \"EndTime\": 1727347896.3358388, \"Dimensions\": {\"Algorithm\": \"Linear Learner\", \"Host\": \"algo-1\", \"Operation\": \"training\", \"epoch\": 3, \"model\": 17}, \"Metrics\": {\"validation_binary_classification_cross_entropy_objective\": {\"sum\": 0.507989591662964, \"count\": 1, \"min\": 0.507989591662964, \"max\": 0.507989591662964}}}\u001b[0m\n",
      "\u001b[34m#metrics {\"StartTime\": 1727347896.3358672, \"EndTime\": 1727347896.3358767, \"Dimensions\": {\"Algorithm\": \"Linear Learner\", \"Host\": \"algo-1\", \"Operation\": \"training\", \"epoch\": 3, \"model\": 18}, \"Metrics\": {\"validation_binary_classification_cross_entropy_objective\": {\"sum\": 0.5079642174738216, \"count\": 1, \"min\": 0.5079642174738216, \"max\": 0.5079642174738216}}}\u001b[0m\n",
      "\u001b[34m#metrics {\"StartTime\": 1727347896.3359206, \"EndTime\": 1727347896.3359308, \"Dimensions\": {\"Algorithm\": \"Linear Learner\", \"Host\": \"algo-1\", \"Operation\": \"training\", \"epoch\": 3, \"model\": 19}, \"Metrics\": {\"validation_binary_classification_cross_entropy_objective\": {\"sum\": 0.5079895509875378, \"count\": 1, \"min\": 0.5079895509875378, \"max\": 0.5079895509875378}}}\u001b[0m\n",
      "\u001b[34m#metrics {\"StartTime\": 1727347896.335962, \"EndTime\": 1727347896.3359687, \"Dimensions\": {\"Algorithm\": \"Linear Learner\", \"Host\": \"algo-1\", \"Operation\": \"training\", \"epoch\": 3, \"model\": 20}, \"Metrics\": {\"validation_binary_classification_cross_entropy_objective\": {\"sum\": 0.5080627117122347, \"count\": 1, \"min\": 0.5080627117122347, \"max\": 0.5080627117122347}}}\u001b[0m\n",
      "\u001b[34m#metrics {\"StartTime\": 1727347896.3359954, \"EndTime\": 1727347896.336001, \"Dimensions\": {\"Algorithm\": \"Linear Learner\", \"Host\": \"algo-1\", \"Operation\": \"training\", \"epoch\": 3, \"model\": 21}, \"Metrics\": {\"validation_binary_classification_cross_entropy_objective\": {\"sum\": 0.5092711383219081, \"count\": 1, \"min\": 0.5092711383219081, \"max\": 0.5092711383219081}}}\u001b[0m\n",
      "\u001b[34m#metrics {\"StartTime\": 1727347896.336019, \"EndTime\": 1727347896.336027, \"Dimensions\": {\"Algorithm\": \"Linear Learner\", \"Host\": \"algo-1\", \"Operation\": \"training\", \"epoch\": 3, \"model\": 22}, \"Metrics\": {\"validation_binary_classification_cross_entropy_objective\": {\"sum\": 0.5080627201085384, \"count\": 1, \"min\": 0.5080627201085384, \"max\": 0.5080627201085384}}}\u001b[0m\n",
      "\u001b[34m#metrics {\"StartTime\": 1727347896.3360481, \"EndTime\": 1727347896.3360536, \"Dimensions\": {\"Algorithm\": \"Linear Learner\", \"Host\": \"algo-1\", \"Operation\": \"training\", \"epoch\": 3, \"model\": 23}, \"Metrics\": {\"validation_binary_classification_cross_entropy_objective\": {\"sum\": 0.5092711079086307, \"count\": 1, \"min\": 0.5092711079086307, \"max\": 0.5092711079086307}}}\u001b[0m\n",
      "\u001b[34m#metrics {\"StartTime\": 1727347896.3360703, \"EndTime\": 1727347896.3360753, \"Dimensions\": {\"Algorithm\": \"Linear Learner\", \"Host\": \"algo-1\", \"Operation\": \"training\", \"epoch\": 3, \"model\": 24}, \"Metrics\": {\"validation_binary_classification_cross_entropy_objective\": {\"sum\": 0.5137650624013879, \"count\": 1, \"min\": 0.5137650624013879, \"max\": 0.5137650624013879}}}\u001b[0m\n",
      "\u001b[34m#metrics {\"StartTime\": 1727347896.3361, \"EndTime\": 1727347896.336106, \"Dimensions\": {\"Algorithm\": \"Linear Learner\", \"Host\": \"algo-1\", \"Operation\": \"training\", \"epoch\": 3, \"model\": 25}, \"Metrics\": {\"validation_binary_classification_cross_entropy_objective\": {\"sum\": 0.5138842296452824, \"count\": 1, \"min\": 0.5138842296452824, \"max\": 0.5138842296452824}}}\u001b[0m\n",
      "\u001b[34m#metrics {\"StartTime\": 1727347896.3361409, \"EndTime\": 1727347896.3361506, \"Dimensions\": {\"Algorithm\": \"Linear Learner\", \"Host\": \"algo-1\", \"Operation\": \"training\", \"epoch\": 3, \"model\": 26}, \"Metrics\": {\"validation_binary_classification_cross_entropy_objective\": {\"sum\": 0.5137579986844866, \"count\": 1, \"min\": 0.5137579986844866, \"max\": 0.5137579986844866}}}\u001b[0m\n",
      "\u001b[34m#metrics {\"StartTime\": 1727347896.3361871, \"EndTime\": 1727347896.3361974, \"Dimensions\": {\"Algorithm\": \"Linear Learner\", \"Host\": \"algo-1\", \"Operation\": \"training\", \"epoch\": 3, \"model\": 27}, \"Metrics\": {\"validation_binary_classification_cross_entropy_objective\": {\"sum\": 0.5138755570100325, \"count\": 1, \"min\": 0.5138755570100325, \"max\": 0.5138755570100325}}}\u001b[0m\n",
      "\u001b[34m#metrics {\"StartTime\": 1727347896.3362324, \"EndTime\": 1727347896.336242, \"Dimensions\": {\"Algorithm\": \"Linear Learner\", \"Host\": \"algo-1\", \"Operation\": \"training\", \"epoch\": 3, \"model\": 28}, \"Metrics\": {\"validation_binary_classification_cross_entropy_objective\": {\"sum\": 0.5138307623573168, \"count\": 1, \"min\": 0.5138307623573168, \"max\": 0.5138307623573168}}}\u001b[0m\n",
      "\u001b[34m#metrics {\"StartTime\": 1727347896.3362799, \"EndTime\": 1727347896.336289, \"Dimensions\": {\"Algorithm\": \"Linear Learner\", \"Host\": \"algo-1\", \"Operation\": \"training\", \"epoch\": 3, \"model\": 29}, \"Metrics\": {\"validation_binary_classification_cross_entropy_objective\": {\"sum\": 0.5137600542861851, \"count\": 1, \"min\": 0.5137600542861851, \"max\": 0.5137600542861851}}}\u001b[0m\n",
      "\u001b[34m#metrics {\"StartTime\": 1727347896.3363242, \"EndTime\": 1727347896.3363328, \"Dimensions\": {\"Algorithm\": \"Linear Learner\", \"Host\": \"algo-1\", \"Operation\": \"training\", \"epoch\": 3, \"model\": 30}, \"Metrics\": {\"validation_binary_classification_cross_entropy_objective\": {\"sum\": 0.5138319335483726, \"count\": 1, \"min\": 0.5138319335483726, \"max\": 0.5138319335483726}}}\u001b[0m\n",
      "\u001b[34m#metrics {\"StartTime\": 1727347896.3363643, \"EndTime\": 1727347896.3364036, \"Dimensions\": {\"Algorithm\": \"Linear Learner\", \"Host\": \"algo-1\", \"Operation\": \"training\", \"epoch\": 3, \"model\": 31}, \"Metrics\": {\"validation_binary_classification_cross_entropy_objective\": {\"sum\": 0.5137600574581219, \"count\": 1, \"min\": 0.5137600574581219, \"max\": 0.5137600574581219}}}\u001b[0m\n",
      "\u001b[34m[09/26/2024 10:51:36 INFO 139808012048192] #quality_metric: host=algo-1, epoch=3, validation binary_classification_cross_entropy_objective <loss>=0.49276625310022876\u001b[0m\n",
      "\u001b[34m[09/26/2024 10:51:36 INFO 139808012048192] #early_stopping_criteria_metric: host=algo-1, epoch=3, criteria=binary_classification_cross_entropy_objective, value=0.49276625310022876\u001b[0m\n",
      "\u001b[34m[09/26/2024 10:51:36 INFO 139808012048192] Saving model for epoch: 3\u001b[0m\n",
      "\u001b[34m[09/26/2024 10:51:36 INFO 139808012048192] Saved checkpoint to \"/tmp/tmpc_mfkfee/mx-mod-0000.params\"\u001b[0m\n",
      "\u001b[34m[09/26/2024 10:51:36 INFO 139808012048192] #progress_metric: host=algo-1, completed 26.666666666666668 % of epochs\u001b[0m\n",
      "\u001b[34m#metrics {\"StartTime\": 1727347864.3553293, \"EndTime\": 1727347896.341505, \"Dimensions\": {\"Algorithm\": \"Linear Learner\", \"Host\": \"algo-1\", \"Operation\": \"training\", \"epoch\": 3, \"Meta\": \"training_data_iter\"}, \"Metrics\": {\"Total Records Seen\": {\"sum\": 5245888.0, \"count\": 1, \"min\": 5245888, \"max\": 5245888}, \"Total Batches Seen\": {\"sum\": 5248.0, \"count\": 1, \"min\": 5248, \"max\": 5248}, \"Max Records Seen Between Resets\": {\"sum\": 1308472.0, \"count\": 1, \"min\": 1308472, \"max\": 1308472}, \"Max Batches Seen Between Resets\": {\"sum\": 1309.0, \"count\": 1, \"min\": 1309, \"max\": 1309}, \"Reset Count\": {\"sum\": 6.0, \"count\": 1, \"min\": 6, \"max\": 6}, \"Number of Records Since Last Reset\": {\"sum\": 1308472.0, \"count\": 1, \"min\": 1308472, \"max\": 1308472}, \"Number of Batches Since Last Reset\": {\"sum\": 1309.0, \"count\": 1, \"min\": 1309, \"max\": 1309}}}\u001b[0m\n",
      "\u001b[34m[09/26/2024 10:51:36 INFO 139808012048192] #throughput_metric: host=algo-1, train throughput=40907.26526236607 records/second\u001b[0m\n",
      "\u001b[34m[2024-09-26 10:52:06.396] [tensorio] [info] epoch_stats={\"data_pipeline\": \"/opt/ml/input/data/train\", \"epoch\": 11, \"duration\": 30054, \"num_examples\": 1309, \"num_bytes\": 549558240}\u001b[0m\n",
      "\u001b[34m#metrics {\"StartTime\": 1727347926.396805, \"EndTime\": 1727347926.3968697, \"Dimensions\": {\"Algorithm\": \"Linear Learner\", \"Host\": \"algo-1\", \"Operation\": \"training\", \"epoch\": 4, \"model\": 0}, \"Metrics\": {\"train_binary_classification_cross_entropy_objective\": {\"sum\": 0.49186777195361775, \"count\": 1, \"min\": 0.49186777195361775, \"max\": 0.49186777195361775}}}\u001b[0m\n",
      "\u001b[34m#metrics {\"StartTime\": 1727347926.3969402, \"EndTime\": 1727347926.3969507, \"Dimensions\": {\"Algorithm\": \"Linear Learner\", \"Host\": \"algo-1\", \"Operation\": \"training\", \"epoch\": 4, \"model\": 1}, \"Metrics\": {\"train_binary_classification_cross_entropy_objective\": {\"sum\": 0.49273419649083317, \"count\": 1, \"min\": 0.49273419649083317, \"max\": 0.49273419649083317}}}\u001b[0m\n",
      "\u001b[34m#metrics {\"StartTime\": 1727347926.3969784, \"EndTime\": 1727347926.3969855, \"Dimensions\": {\"Algorithm\": \"Linear Learner\", \"Host\": \"algo-1\", \"Operation\": \"training\", \"epoch\": 4, \"model\": 2}, \"Metrics\": {\"train_binary_classification_cross_entropy_objective\": {\"sum\": 0.49191305441666816, \"count\": 1, \"min\": 0.49191305441666816, \"max\": 0.49191305441666816}}}\u001b[0m\n",
      "\u001b[34m#metrics {\"StartTime\": 1727347926.3970091, \"EndTime\": 1727347926.3970156, \"Dimensions\": {\"Algorithm\": \"Linear Learner\", \"Host\": \"algo-1\", \"Operation\": \"training\", \"epoch\": 4, \"model\": 3}, \"Metrics\": {\"train_binary_classification_cross_entropy_objective\": {\"sum\": 0.49273402428116636, \"count\": 1, \"min\": 0.49273402428116636, \"max\": 0.49273402428116636}}}\u001b[0m\n",
      "\u001b[34m#metrics {\"StartTime\": 1727347926.397038, \"EndTime\": 1727347926.3970442, \"Dimensions\": {\"Algorithm\": \"Linear Learner\", \"Host\": \"algo-1\", \"Operation\": \"training\", \"epoch\": 4, \"model\": 4}, \"Metrics\": {\"train_binary_classification_cross_entropy_objective\": {\"sum\": 0.4919694637566896, \"count\": 1, \"min\": 0.4919694637566896, \"max\": 0.4919694637566896}}}\u001b[0m\n",
      "\u001b[34m#metrics {\"StartTime\": 1727347926.3970737, \"EndTime\": 1727347926.3970802, \"Dimensions\": {\"Algorithm\": \"Linear Learner\", \"Host\": \"algo-1\", \"Operation\": \"training\", \"epoch\": 4, \"model\": 5}, \"Metrics\": {\"train_binary_classification_cross_entropy_objective\": {\"sum\": 0.507360913361249, \"count\": 1, \"min\": 0.507360913361249, \"max\": 0.507360913361249}}}\u001b[0m\n",
      "\u001b[34m#metrics {\"StartTime\": 1727347926.397108, \"EndTime\": 1727347926.3971145, \"Dimensions\": {\"Algorithm\": \"Linear Learner\", \"Host\": \"algo-1\", \"Operation\": \"training\", \"epoch\": 4, \"model\": 6}, \"Metrics\": {\"train_binary_classification_cross_entropy_objective\": {\"sum\": 0.49196946417665627, \"count\": 1, \"min\": 0.49196946417665627, \"max\": 0.49196946417665627}}}\u001b[0m\n",
      "\u001b[34m#metrics {\"StartTime\": 1727347926.3971422, \"EndTime\": 1727347926.3971486, \"Dimensions\": {\"Algorithm\": \"Linear Learner\", \"Host\": \"algo-1\", \"Operation\": \"training\", \"epoch\": 4, \"model\": 7}, \"Metrics\": {\"train_binary_classification_cross_entropy_objective\": {\"sum\": 0.5073969282097772, \"count\": 1, \"min\": 0.5073969282097772, \"max\": 0.5073969282097772}}}\u001b[0m\n",
      "\u001b[34m#metrics {\"StartTime\": 1727347926.3971753, \"EndTime\": 1727347926.3971817, \"Dimensions\": {\"Algorithm\": \"Linear Learner\", \"Host\": \"algo-1\", \"Operation\": \"training\", \"epoch\": 4, \"model\": 8}, \"Metrics\": {\"train_binary_classification_cross_entropy_objective\": {\"sum\": 0.49206579965480607, \"count\": 1, \"min\": 0.49206579965480607, \"max\": 0.49206579965480607}}}\u001b[0m\n",
      "\u001b[34m#metrics {\"StartTime\": 1727347926.3972104, \"EndTime\": 1727347926.397217, \"Dimensions\": {\"Algorithm\": \"Linear Learner\", \"Host\": \"algo-1\", \"Operation\": \"training\", \"epoch\": 4, \"model\": 9}, \"Metrics\": {\"train_binary_classification_cross_entropy_objective\": {\"sum\": 0.4929010807235671, \"count\": 1, \"min\": 0.4929010807235671, \"max\": 0.4929010807235671}}}\u001b[0m\n",
      "\u001b[34m#metrics {\"StartTime\": 1727347926.3972442, \"EndTime\": 1727347926.397251, \"Dimensions\": {\"Algorithm\": \"Linear Learner\", \"Host\": \"algo-1\", \"Operation\": \"training\", \"epoch\": 4, \"model\": 10}, \"Metrics\": {\"train_binary_classification_cross_entropy_objective\": {\"sum\": 0.4921056075256534, \"count\": 1, \"min\": 0.4921056075256534, \"max\": 0.4921056075256534}}}\u001b[0m\n",
      "\u001b[34m#metrics {\"StartTime\": 1727347926.3972774, \"EndTime\": 1727347926.397284, \"Dimensions\": {\"Algorithm\": \"Linear Learner\", \"Host\": \"algo-1\", \"Operation\": \"training\", \"epoch\": 4, \"model\": 11}, \"Metrics\": {\"train_binary_classification_cross_entropy_objective\": {\"sum\": 0.4929010799536282, \"count\": 1, \"min\": 0.4929010799536282, \"max\": 0.4929010799536282}}}\u001b[0m\n",
      "\u001b[34m#metrics {\"StartTime\": 1727347926.397311, \"EndTime\": 1727347926.3973174, \"Dimensions\": {\"Algorithm\": \"Linear Learner\", \"Host\": \"algo-1\", \"Operation\": \"training\", \"epoch\": 4, \"model\": 12}, \"Metrics\": {\"train_binary_classification_cross_entropy_objective\": {\"sum\": 0.4921846074795504, \"count\": 1, \"min\": 0.4921846074795504, \"max\": 0.4921846074795504}}}\u001b[0m\n",
      "\u001b[34m#metrics {\"StartTime\": 1727347926.3973413, \"EndTime\": 1727347926.3973477, \"Dimensions\": {\"Algorithm\": \"Linear Learner\", \"Host\": \"algo-1\", \"Operation\": \"training\", \"epoch\": 4, \"model\": 13}, \"Metrics\": {\"train_binary_classification_cross_entropy_objective\": {\"sum\": 0.5066253446759799, \"count\": 1, \"min\": 0.5066253446759799, \"max\": 0.5066253446759799}}}\u001b[0m\n",
      "\u001b[34m#metrics {\"StartTime\": 1727347926.3973742, \"EndTime\": 1727347926.3973804, \"Dimensions\": {\"Algorithm\": \"Linear Learner\", \"Host\": \"algo-1\", \"Operation\": \"training\", \"epoch\": 4, \"model\": 14}, \"Metrics\": {\"train_binary_classification_cross_entropy_objective\": {\"sum\": 0.49218460845947265, \"count\": 1, \"min\": 0.49218460845947265, \"max\": 0.49218460845947265}}}\u001b[0m\n",
      "\u001b[34m#metrics {\"StartTime\": 1727347926.3974068, \"EndTime\": 1727347926.397413, \"Dimensions\": {\"Algorithm\": \"Linear Learner\", \"Host\": \"algo-1\", \"Operation\": \"training\", \"epoch\": 4, \"model\": 15}, \"Metrics\": {\"train_binary_classification_cross_entropy_objective\": {\"sum\": 0.5066251906882003, \"count\": 1, \"min\": 0.5066251906882003, \"max\": 0.5066251906882003}}}\u001b[0m\n",
      "\u001b[34m#metrics {\"StartTime\": 1727347926.3974397, \"EndTime\": 1727347926.3974462, \"Dimensions\": {\"Algorithm\": \"Linear Learner\", \"Host\": \"algo-1\", \"Operation\": \"training\", \"epoch\": 4, \"model\": 16}, \"Metrics\": {\"train_binary_classification_cross_entropy_objective\": {\"sum\": 0.5077365244594189, \"count\": 1, \"min\": 0.5077365244594189, \"max\": 0.5077365244594189}}}\u001b[0m\n",
      "\u001b[34m#metrics {\"StartTime\": 1727347926.3974698, \"EndTime\": 1727347926.397476, \"Dimensions\": {\"Algorithm\": \"Linear Learner\", \"Host\": \"algo-1\", \"Operation\": \"training\", \"epoch\": 4, \"model\": 17}, \"Metrics\": {\"train_binary_classification_cross_entropy_objective\": {\"sum\": 0.5079300436550689, \"count\": 1, \"min\": 0.5079300436550689, \"max\": 0.5079300436550689}}}\u001b[0m\n",
      "\u001b[34m#metrics {\"StartTime\": 1727347926.3975022, \"EndTime\": 1727347926.3975084, \"Dimensions\": {\"Algorithm\": \"Linear Learner\", \"Host\": \"algo-1\", \"Operation\": \"training\", \"epoch\": 4, \"model\": 18}, \"Metrics\": {\"train_binary_classification_cross_entropy_objective\": {\"sum\": 0.507740660034553, \"count\": 1, \"min\": 0.507740660034553, \"max\": 0.507740660034553}}}\u001b[0m\n",
      "\u001b[34m#metrics {\"StartTime\": 1727347926.3975346, \"EndTime\": 1727347926.397541, \"Dimensions\": {\"Algorithm\": \"Linear Learner\", \"Host\": \"algo-1\", \"Operation\": \"training\", \"epoch\": 4, \"model\": 19}, \"Metrics\": {\"train_binary_classification_cross_entropy_objective\": {\"sum\": 0.5079300429784559, \"count\": 1, \"min\": 0.5079300429784559, \"max\": 0.5079300429784559}}}\u001b[0m\n",
      "\u001b[34m#metrics {\"StartTime\": 1727347926.3975675, \"EndTime\": 1727347926.397574, \"Dimensions\": {\"Algorithm\": \"Linear Learner\", \"Host\": \"algo-1\", \"Operation\": \"training\", \"epoch\": 4, \"model\": 20}, \"Metrics\": {\"train_binary_classification_cross_entropy_objective\": {\"sum\": 0.5077484212752876, \"count\": 1, \"min\": 0.5077484212752876, \"max\": 0.5077484212752876}}}\u001b[0m\n",
      "\u001b[34m#metrics {\"StartTime\": 1727347926.3975954, \"EndTime\": 1727347926.3976016, \"Dimensions\": {\"Algorithm\": \"Linear Learner\", \"Host\": \"algo-1\", \"Operation\": \"training\", \"epoch\": 4, \"model\": 21}, \"Metrics\": {\"train_binary_classification_cross_entropy_objective\": {\"sum\": 0.510474971782906, \"count\": 1, \"min\": 0.510474971782906, \"max\": 0.510474971782906}}}\u001b[0m\n",
      "\u001b[34m#metrics {\"StartTime\": 1727347926.3976278, \"EndTime\": 1727347926.397634, \"Dimensions\": {\"Algorithm\": \"Linear Learner\", \"Host\": \"algo-1\", \"Operation\": \"training\", \"epoch\": 4, \"model\": 22}, \"Metrics\": {\"train_binary_classification_cross_entropy_objective\": {\"sum\": 0.5077484209719784, \"count\": 1, \"min\": 0.5077484209719784, \"max\": 0.5077484209719784}}}\u001b[0m\n",
      "\u001b[34m#metrics {\"StartTime\": 1727347926.3976605, \"EndTime\": 1727347926.397667, \"Dimensions\": {\"Algorithm\": \"Linear Learner\", \"Host\": \"algo-1\", \"Operation\": \"training\", \"epoch\": 4, \"model\": 23}, \"Metrics\": {\"train_binary_classification_cross_entropy_objective\": {\"sum\": 0.5104749697763985, \"count\": 1, \"min\": 0.5104749697763985, \"max\": 0.5104749697763985}}}\u001b[0m\n",
      "\u001b[34m#metrics {\"StartTime\": 1727347926.3976936, \"EndTime\": 1727347926.3976998, \"Dimensions\": {\"Algorithm\": \"Linear Learner\", \"Host\": \"algo-1\", \"Operation\": \"training\", \"epoch\": 4, \"model\": 24}, \"Metrics\": {\"train_binary_classification_cross_entropy_objective\": {\"sum\": 0.5137497225420191, \"count\": 1, \"min\": 0.5137497225420191, \"max\": 0.5137497225420191}}}\u001b[0m\n",
      "\u001b[34m#metrics {\"StartTime\": 1727347926.3977215, \"EndTime\": 1727347926.3977275, \"Dimensions\": {\"Algorithm\": \"Linear Learner\", \"Host\": \"algo-1\", \"Operation\": \"training\", \"epoch\": 4, \"model\": 25}, \"Metrics\": {\"train_binary_classification_cross_entropy_objective\": {\"sum\": 0.5138242438546744, \"count\": 1, \"min\": 0.5138242438546744, \"max\": 0.5138242438546744}}}\u001b[0m\n",
      "\u001b[34m#metrics {\"StartTime\": 1727347926.3977537, \"EndTime\": 1727347926.3977597, \"Dimensions\": {\"Algorithm\": \"Linear Learner\", \"Host\": \"algo-1\", \"Operation\": \"training\", \"epoch\": 4, \"model\": 26}, \"Metrics\": {\"train_binary_classification_cross_entropy_objective\": {\"sum\": 0.5137521857165416, \"count\": 1, \"min\": 0.5137521857165416, \"max\": 0.5137521857165416}}}\u001b[0m\n",
      "\u001b[34m#metrics {\"StartTime\": 1727347926.3977833, \"EndTime\": 1727347926.3977892, \"Dimensions\": {\"Algorithm\": \"Linear Learner\", \"Host\": \"algo-1\", \"Operation\": \"training\", \"epoch\": 4, \"model\": 27}, \"Metrics\": {\"train_binary_classification_cross_entropy_objective\": {\"sum\": 0.5138234835750102, \"count\": 1, \"min\": 0.5138234835750102, \"max\": 0.5138234835750102}}}\u001b[0m\n",
      "\u001b[34m#metrics {\"StartTime\": 1727347926.3978145, \"EndTime\": 1727347926.3978207, \"Dimensions\": {\"Algorithm\": \"Linear Learner\", \"Host\": \"algo-1\", \"Operation\": \"training\", \"epoch\": 4, \"model\": 28}, \"Metrics\": {\"train_binary_classification_cross_entropy_objective\": {\"sum\": 0.5137588622766898, \"count\": 1, \"min\": 0.5137588622766898, \"max\": 0.5137588622766898}}}\u001b[0m\n",
      "\u001b[34m#metrics {\"StartTime\": 1727347926.397846, \"EndTime\": 1727347926.3978522, \"Dimensions\": {\"Algorithm\": \"Linear Learner\", \"Host\": \"algo-1\", \"Operation\": \"training\", \"epoch\": 4, \"model\": 29}, \"Metrics\": {\"train_binary_classification_cross_entropy_objective\": {\"sum\": 0.5148104562788564, \"count\": 1, \"min\": 0.5148104562788564, \"max\": 0.5148104562788564}}}\u001b[0m\n",
      "\u001b[34m#metrics {\"StartTime\": 1727347926.397873, \"EndTime\": 1727347926.3978791, \"Dimensions\": {\"Algorithm\": \"Linear Learner\", \"Host\": \"algo-1\", \"Operation\": \"training\", \"epoch\": 4, \"model\": 30}, \"Metrics\": {\"train_binary_classification_cross_entropy_objective\": {\"sum\": 0.5137588391551913, \"count\": 1, \"min\": 0.5137588391551913, \"max\": 0.5137588391551913}}}\u001b[0m\n",
      "\u001b[34m#metrics {\"StartTime\": 1727347926.397902, \"EndTime\": 1727347926.3979082, \"Dimensions\": {\"Algorithm\": \"Linear Learner\", \"Host\": \"algo-1\", \"Operation\": \"training\", \"epoch\": 4, \"model\": 31}, \"Metrics\": {\"train_binary_classification_cross_entropy_objective\": {\"sum\": 0.5148104635349472, \"count\": 1, \"min\": 0.5148104635349472, \"max\": 0.5148104635349472}}}\u001b[0m\n",
      "\u001b[34m[09/26/2024 10:52:06 INFO 139808012048192] #quality_metric: host=algo-1, epoch=4, train binary_classification_cross_entropy_objective <loss>=0.49186777195361775\u001b[0m\n",
      "\u001b[34m[2024-09-26 10:52:09.007] [tensorio] [info] epoch_stats={\"data_pipeline\": \"/opt/ml/input/data/validation\", \"epoch\": 14, \"duration\": 2594, \"num_examples\": 164, \"num_bytes\": 68694780}\u001b[0m\n",
      "\u001b[34m#metrics {\"StartTime\": 1727347929.0130277, \"EndTime\": 1727347929.0130775, \"Dimensions\": {\"Algorithm\": \"Linear Learner\", \"Host\": \"algo-1\", \"Operation\": \"training\", \"epoch\": 4, \"model\": 0}, \"Metrics\": {\"validation_binary_classification_cross_entropy_objective\": {\"sum\": 0.4927659043737538, \"count\": 1, \"min\": 0.4927659043737538, \"max\": 0.4927659043737538}}}\u001b[0m\n",
      "\u001b[34m#metrics {\"StartTime\": 1727347929.0131443, \"EndTime\": 1727347929.0131598, \"Dimensions\": {\"Algorithm\": \"Linear Learner\", \"Host\": \"algo-1\", \"Operation\": \"training\", \"epoch\": 4, \"model\": 1}, \"Metrics\": {\"validation_binary_classification_cross_entropy_objective\": {\"sum\": 0.49346614676227546, \"count\": 1, \"min\": 0.49346614676227546, \"max\": 0.49346614676227546}}}\u001b[0m\n",
      "\u001b[34m#metrics {\"StartTime\": 1727347929.0132048, \"EndTime\": 1727347929.0132153, \"Dimensions\": {\"Algorithm\": \"Linear Learner\", \"Host\": \"algo-1\", \"Operation\": \"training\", \"epoch\": 4, \"model\": 2}, \"Metrics\": {\"validation_binary_classification_cross_entropy_objective\": {\"sum\": 0.492771555272641, \"count\": 1, \"min\": 0.492771555272641, \"max\": 0.492771555272641}}}\u001b[0m\n",
      "\u001b[34m#metrics {\"StartTime\": 1727347929.0132444, \"EndTime\": 1727347929.0132537, \"Dimensions\": {\"Algorithm\": \"Linear Learner\", \"Host\": \"algo-1\", \"Operation\": \"training\", \"epoch\": 4, \"model\": 3}, \"Metrics\": {\"validation_binary_classification_cross_entropy_objective\": {\"sum\": 0.4934657286263577, \"count\": 1, \"min\": 0.4934657286263577, \"max\": 0.4934657286263577}}}\u001b[0m\n",
      "\u001b[34m#metrics {\"StartTime\": 1727347929.0132856, \"EndTime\": 1727347929.0132942, \"Dimensions\": {\"Algorithm\": \"Linear Learner\", \"Host\": \"algo-1\", \"Operation\": \"training\", \"epoch\": 4, \"model\": 4}, \"Metrics\": {\"validation_binary_classification_cross_entropy_objective\": {\"sum\": 0.4927299894651094, \"count\": 1, \"min\": 0.4927299894651094, \"max\": 0.4927299894651094}}}\u001b[0m\n",
      "\u001b[34m#metrics {\"StartTime\": 1727347929.013374, \"EndTime\": 1727347929.0133874, \"Dimensions\": {\"Algorithm\": \"Linear Learner\", \"Host\": \"algo-1\", \"Operation\": \"training\", \"epoch\": 4, \"model\": 5}, \"Metrics\": {\"validation_binary_classification_cross_entropy_objective\": {\"sum\": 0.507945915771053, \"count\": 1, \"min\": 0.507945915771053, \"max\": 0.507945915771053}}}\u001b[0m\n",
      "\u001b[34m#metrics {\"StartTime\": 1727347929.0134184, \"EndTime\": 1727347929.0134284, \"Dimensions\": {\"Algorithm\": \"Linear Learner\", \"Host\": \"algo-1\", \"Operation\": \"training\", \"epoch\": 4, \"model\": 6}, \"Metrics\": {\"validation_binary_classification_cross_entropy_objective\": {\"sum\": 0.4927299883456023, \"count\": 1, \"min\": 0.4927299883456023, \"max\": 0.4927299883456023}}}\u001b[0m\n",
      "\u001b[34m#metrics {\"StartTime\": 1727347929.0134597, \"EndTime\": 1727347929.0134683, \"Dimensions\": {\"Algorithm\": \"Linear Learner\", \"Host\": \"algo-1\", \"Operation\": \"training\", \"epoch\": 4, \"model\": 7}, \"Metrics\": {\"validation_binary_classification_cross_entropy_objective\": {\"sum\": 0.5079633653423015, \"count\": 1, \"min\": 0.5079633653423015, \"max\": 0.5079633653423015}}}\u001b[0m\n",
      "\u001b[34m#metrics {\"StartTime\": 1727347929.0134976, \"EndTime\": 1727347929.013507, \"Dimensions\": {\"Algorithm\": \"Linear Learner\", \"Host\": \"algo-1\", \"Operation\": \"training\", \"epoch\": 4, \"model\": 8}, \"Metrics\": {\"validation_binary_classification_cross_entropy_objective\": {\"sum\": 0.4929106741862479, \"count\": 1, \"min\": 0.4929106741862479, \"max\": 0.4929106741862479}}}\u001b[0m\n",
      "\u001b[34m#metrics {\"StartTime\": 1727347929.0135376, \"EndTime\": 1727347929.0135477, \"Dimensions\": {\"Algorithm\": \"Linear Learner\", \"Host\": \"algo-1\", \"Operation\": \"training\", \"epoch\": 4, \"model\": 9}, \"Metrics\": {\"validation_binary_classification_cross_entropy_objective\": {\"sum\": 0.4935950854376804, \"count\": 1, \"min\": 0.4935950854376804, \"max\": 0.4935950854376804}}}\u001b[0m\n",
      "\u001b[34m#metrics {\"StartTime\": 1727347929.0135772, \"EndTime\": 1727347929.0135868, \"Dimensions\": {\"Algorithm\": \"Linear Learner\", \"Host\": \"algo-1\", \"Operation\": \"training\", \"epoch\": 4, \"model\": 10}, \"Metrics\": {\"validation_binary_classification_cross_entropy_objective\": {\"sum\": 0.4929121715270512, \"count\": 1, \"min\": 0.4929121715270512, \"max\": 0.4929121715270512}}}\u001b[0m\n",
      "\u001b[34m#metrics {\"StartTime\": 1727347929.0136209, \"EndTime\": 1727347929.0136313, \"Dimensions\": {\"Algorithm\": \"Linear Learner\", \"Host\": \"algo-1\", \"Operation\": \"training\", \"epoch\": 4, \"model\": 11}, \"Metrics\": {\"validation_binary_classification_cross_entropy_objective\": {\"sum\": 0.4935950846913423, \"count\": 1, \"min\": 0.4935950846913423, \"max\": 0.4935950846913423}}}\u001b[0m\n",
      "\u001b[34m#metrics {\"StartTime\": 1727347929.0136666, \"EndTime\": 1727347929.0136752, \"Dimensions\": {\"Algorithm\": \"Linear Learner\", \"Host\": \"algo-1\", \"Operation\": \"training\", \"epoch\": 4, \"model\": 12}, \"Metrics\": {\"validation_binary_classification_cross_entropy_objective\": {\"sum\": 0.49291752986140513, \"count\": 1, \"min\": 0.49291752986140513, \"max\": 0.49291752986140513}}}\u001b[0m\n",
      "\u001b[34m#metrics {\"StartTime\": 1727347929.0137131, \"EndTime\": 1727347929.013723, \"Dimensions\": {\"Algorithm\": \"Linear Learner\", \"Host\": \"algo-1\", \"Operation\": \"training\", \"epoch\": 4, \"model\": 13}, \"Metrics\": {\"validation_binary_classification_cross_entropy_objective\": {\"sum\": 0.5080812278006211, \"count\": 1, \"min\": 0.5080812278006211, \"max\": 0.5080812278006211}}}\u001b[0m\n",
      "\u001b[34m#metrics {\"StartTime\": 1727347929.0137541, \"EndTime\": 1727347929.0137606, \"Dimensions\": {\"Algorithm\": \"Linear Learner\", \"Host\": \"algo-1\", \"Operation\": \"training\", \"epoch\": 4, \"model\": 14}, \"Metrics\": {\"validation_binary_classification_cross_entropy_objective\": {\"sum\": 0.4929175289284825, \"count\": 1, \"min\": 0.4929175289284825, \"max\": 0.4929175289284825}}}\u001b[0m\n",
      "\u001b[34m#metrics {\"StartTime\": 1727347929.013795, \"EndTime\": 1727347929.0138037, \"Dimensions\": {\"Algorithm\": \"Linear Learner\", \"Host\": \"algo-1\", \"Operation\": \"training\", \"epoch\": 4, \"model\": 15}, \"Metrics\": {\"validation_binary_classification_cross_entropy_objective\": {\"sum\": 0.5080810654720854, \"count\": 1, \"min\": 0.5080810654720854, \"max\": 0.5080810654720854}}}\u001b[0m\n",
      "\u001b[34m#metrics {\"StartTime\": 1727347929.0138376, \"EndTime\": 1727347929.0138798, \"Dimensions\": {\"Algorithm\": \"Linear Learner\", \"Host\": \"algo-1\", \"Operation\": \"training\", \"epoch\": 4, \"model\": 16}, \"Metrics\": {\"validation_binary_classification_cross_entropy_objective\": {\"sum\": 0.5078884397145941, \"count\": 1, \"min\": 0.5078884397145941, \"max\": 0.5078884397145941}}}\u001b[0m\n",
      "\u001b[34m#metrics {\"StartTime\": 1727347929.013912, \"EndTime\": 1727347929.0139217, \"Dimensions\": {\"Algorithm\": \"Linear Learner\", \"Host\": \"algo-1\", \"Operation\": \"training\", \"epoch\": 4, \"model\": 17}, \"Metrics\": {\"validation_binary_classification_cross_entropy_objective\": {\"sum\": 0.5080358491383461, \"count\": 1, \"min\": 0.5080358491383461, \"max\": 0.5080358491383461}}}\u001b[0m\n",
      "\u001b[34m#metrics {\"StartTime\": 1727347929.0139542, \"EndTime\": 1727347929.013964, \"Dimensions\": {\"Algorithm\": \"Linear Learner\", \"Host\": \"algo-1\", \"Operation\": \"training\", \"epoch\": 4, \"model\": 18}, \"Metrics\": {\"validation_binary_classification_cross_entropy_objective\": {\"sum\": 0.5079642684113965, \"count\": 1, \"min\": 0.5079642684113965, \"max\": 0.5079642684113965}}}\u001b[0m\n",
      "\u001b[34m#metrics {\"StartTime\": 1727347929.013998, \"EndTime\": 1727347929.0140073, \"Dimensions\": {\"Algorithm\": \"Linear Learner\", \"Host\": \"algo-1\", \"Operation\": \"training\", \"epoch\": 4, \"model\": 19}, \"Metrics\": {\"validation_binary_classification_cross_entropy_objective\": {\"sum\": 0.5080358343981687, \"count\": 1, \"min\": 0.5080358343981687, \"max\": 0.5080358343981687}}}\u001b[0m\n",
      "\u001b[34m#metrics {\"StartTime\": 1727347929.0140414, \"EndTime\": 1727347929.014052, \"Dimensions\": {\"Algorithm\": \"Linear Learner\", \"Host\": \"algo-1\", \"Operation\": \"training\", \"epoch\": 4, \"model\": 20}, \"Metrics\": {\"validation_binary_classification_cross_entropy_objective\": {\"sum\": 0.507976532052391, \"count\": 1, \"min\": 0.507976532052391, \"max\": 0.507976532052391}}}\u001b[0m\n",
      "\u001b[34m#metrics {\"StartTime\": 1727347929.0140846, \"EndTime\": 1727347929.0140939, \"Dimensions\": {\"Algorithm\": \"Linear Learner\", \"Host\": \"algo-1\", \"Operation\": \"training\", \"epoch\": 4, \"model\": 21}, \"Metrics\": {\"validation_binary_classification_cross_entropy_objective\": {\"sum\": 0.5094673866179287, \"count\": 1, \"min\": 0.5094673866179287, \"max\": 0.5094673866179287}}}\u001b[0m\n",
      "\u001b[34m#metrics {\"StartTime\": 1727347929.0141203, \"EndTime\": 1727347929.0141292, \"Dimensions\": {\"Algorithm\": \"Linear Learner\", \"Host\": \"algo-1\", \"Operation\": \"training\", \"epoch\": 4, \"model\": 22}, \"Metrics\": {\"validation_binary_classification_cross_entropy_objective\": {\"sum\": 0.5079765290670387, \"count\": 1, \"min\": 0.5079765290670387, \"max\": 0.5079765290670387}}}\u001b[0m\n",
      "\u001b[34m#metrics {\"StartTime\": 1727347929.0141594, \"EndTime\": 1727347929.0141683, \"Dimensions\": {\"Algorithm\": \"Linear Learner\", \"Host\": \"algo-1\", \"Operation\": \"training\", \"epoch\": 4, \"model\": 23}, \"Metrics\": {\"validation_binary_classification_cross_entropy_objective\": {\"sum\": 0.5094673948276477, \"count\": 1, \"min\": 0.5094673948276477, \"max\": 0.5094673948276477}}}\u001b[0m\n",
      "\u001b[34m#metrics {\"StartTime\": 1727347929.0142057, \"EndTime\": 1727347929.0142148, \"Dimensions\": {\"Algorithm\": \"Linear Learner\", \"Host\": \"algo-1\", \"Operation\": \"training\", \"epoch\": 4, \"model\": 24}, \"Metrics\": {\"validation_binary_classification_cross_entropy_objective\": {\"sum\": 0.5137636055494261, \"count\": 1, \"min\": 0.5137636055494261, \"max\": 0.5137636055494261}}}\u001b[0m\n",
      "\u001b[34m#metrics {\"StartTime\": 1727347929.0142457, \"EndTime\": 1727347929.0142546, \"Dimensions\": {\"Algorithm\": \"Linear Learner\", \"Host\": \"algo-1\", \"Operation\": \"training\", \"epoch\": 4, \"model\": 25}, \"Metrics\": {\"validation_binary_classification_cross_entropy_objective\": {\"sum\": 0.5138741193762768, \"count\": 1, \"min\": 0.5138741193762768, \"max\": 0.5138741193762768}}}\u001b[0m\n",
      "\u001b[34m#metrics {\"StartTime\": 1727347929.014285, \"EndTime\": 1727347929.014293, \"Dimensions\": {\"Algorithm\": \"Linear Learner\", \"Host\": \"algo-1\", \"Operation\": \"training\", \"epoch\": 4, \"model\": 26}, \"Metrics\": {\"validation_binary_classification_cross_entropy_objective\": {\"sum\": 0.5137548015586716, \"count\": 1, \"min\": 0.5137548015586716, \"max\": 0.5137548015586716}}}\u001b[0m\n",
      "\u001b[34m#metrics {\"StartTime\": 1727347929.014333, \"EndTime\": 1727347929.0143435, \"Dimensions\": {\"Algorithm\": \"Linear Learner\", \"Host\": \"algo-1\", \"Operation\": \"training\", \"epoch\": 4, \"model\": 27}, \"Metrics\": {\"validation_binary_classification_cross_entropy_objective\": {\"sum\": 0.5138721094877866, \"count\": 1, \"min\": 0.5138721094877866, \"max\": 0.5138721094877866}}}\u001b[0m\n",
      "\u001b[34m#metrics {\"StartTime\": 1727347929.0143745, \"EndTime\": 1727347929.0143821, \"Dimensions\": {\"Algorithm\": \"Linear Learner\", \"Host\": \"algo-1\", \"Operation\": \"training\", \"epoch\": 4, \"model\": 28}, \"Metrics\": {\"validation_binary_classification_cross_entropy_objective\": {\"sum\": 0.5137567996923368, \"count\": 1, \"min\": 0.5137567996923368, \"max\": 0.5137567996923368}}}\u001b[0m\n",
      "\u001b[34m#metrics {\"StartTime\": 1727347929.0144153, \"EndTime\": 1727347929.0144217, \"Dimensions\": {\"Algorithm\": \"Linear Learner\", \"Host\": \"algo-1\", \"Operation\": \"training\", \"epoch\": 4, \"model\": 29}, \"Metrics\": {\"validation_binary_classification_cross_entropy_objective\": {\"sum\": 0.5137396329832263, \"count\": 1, \"min\": 0.5137396329832263, \"max\": 0.5137396329832263}}}\u001b[0m\n",
      "\u001b[34m#metrics {\"StartTime\": 1727347929.0144486, \"EndTime\": 1727347929.0144565, \"Dimensions\": {\"Algorithm\": \"Linear Learner\", \"Host\": \"algo-1\", \"Operation\": \"training\", \"epoch\": 4, \"model\": 30}, \"Metrics\": {\"validation_binary_classification_cross_entropy_objective\": {\"sum\": 0.513756170342738, \"count\": 1, \"min\": 0.513756170342738, \"max\": 0.513756170342738}}}\u001b[0m\n",
      "\u001b[34m#metrics {\"StartTime\": 1727347929.0144897, \"EndTime\": 1727347929.0144963, \"Dimensions\": {\"Algorithm\": \"Linear Learner\", \"Host\": \"algo-1\", \"Operation\": \"training\", \"epoch\": 4, \"model\": 31}, \"Metrics\": {\"validation_binary_classification_cross_entropy_objective\": {\"sum\": 0.5137396176832953, \"count\": 1, \"min\": 0.5137396176832953, \"max\": 0.5137396176832953}}}\u001b[0m\n",
      "\u001b[34m[09/26/2024 10:52:09 INFO 139808012048192] #quality_metric: host=algo-1, epoch=4, validation binary_classification_cross_entropy_objective <loss>=0.4927659043737538\u001b[0m\n",
      "\u001b[34m[09/26/2024 10:52:09 INFO 139808012048192] #early_stopping_criteria_metric: host=algo-1, epoch=4, criteria=binary_classification_cross_entropy_objective, value=0.4927299883456023\u001b[0m\n",
      "\u001b[34m[09/26/2024 10:52:09 INFO 139808012048192] Saving model for epoch: 4\u001b[0m\n",
      "\u001b[34m[09/26/2024 10:52:09 INFO 139808012048192] Saved checkpoint to \"/tmp/tmp0kmeoylo/mx-mod-0000.params\"\u001b[0m\n",
      "\u001b[34m[09/26/2024 10:52:09 INFO 139808012048192] Early stop condition met. Stopping training.\u001b[0m\n",
      "\u001b[34m[09/26/2024 10:52:09 INFO 139808012048192] #progress_metric: host=algo-1, completed 100 % epochs\u001b[0m\n",
      "\u001b[34m#metrics {\"StartTime\": 1727347896.3419633, \"EndTime\": 1727347929.0195303, \"Dimensions\": {\"Algorithm\": \"Linear Learner\", \"Host\": \"algo-1\", \"Operation\": \"training\", \"epoch\": 4, \"Meta\": \"training_data_iter\"}, \"Metrics\": {\"Total Records Seen\": {\"sum\": 6554360.0, \"count\": 1, \"min\": 6554360, \"max\": 6554360}, \"Total Batches Seen\": {\"sum\": 6557.0, \"count\": 1, \"min\": 6557, \"max\": 6557}, \"Max Records Seen Between Resets\": {\"sum\": 1308472.0, \"count\": 1, \"min\": 1308472, \"max\": 1308472}, \"Max Batches Seen Between Resets\": {\"sum\": 1309.0, \"count\": 1, \"min\": 1309, \"max\": 1309}, \"Reset Count\": {\"sum\": 7.0, \"count\": 1, \"min\": 7, \"max\": 7}, \"Number of Records Since Last Reset\": {\"sum\": 1308472.0, \"count\": 1, \"min\": 1308472, \"max\": 1308472}, \"Number of Batches Since Last Reset\": {\"sum\": 1309.0, \"count\": 1, \"min\": 1309, \"max\": 1309}}}\u001b[0m\n",
      "\u001b[34m[09/26/2024 10:52:09 INFO 139808012048192] #throughput_metric: host=algo-1, train throughput=40041.75117660183 records/second\u001b[0m\n",
      "\u001b[34m[09/26/2024 10:52:09 WARNING 139808012048192] wait_for_all_workers will not sync workers since the kv store is not running distributed\u001b[0m\n",
      "\u001b[34m[09/26/2024 10:52:09 WARNING 139808012048192] wait_for_all_workers will not sync workers since the kv store is not running distributed\u001b[0m\n",
      "\n",
      "2024-09-26 10:52:21 Uploading - Uploading generated training model\u001b[34m[2024-09-26 10:52:11.552] [tensorio] [info] epoch_stats={\"data_pipeline\": \"/opt/ml/input/data/validation\", \"epoch\": 17, \"duration\": 2519, \"num_examples\": 164, \"num_bytes\": 68694780}\u001b[0m\n",
      "\u001b[34m[09/26/2024 10:52:11 INFO 139808012048192] #early_stopping_criteria_metric: host=algo-1, epoch=4, criteria=binary_classification_cross_entropy_objective, value=0.4927299883456023\u001b[0m\n",
      "\u001b[34m[2024-09-26 10:52:12.003] [tensorio] [info] epoch_stats={\"data_pipeline\": \"/opt/ml/input/data/validation\", \"epoch\": 19, \"duration\": 442, \"num_examples\": 164, \"num_bytes\": 68694780}\u001b[0m\n",
      "\u001b[34m[09/26/2024 10:52:12 INFO 139808012048192] #validation_score (algo-1) : ('binary_classification_cross_entropy_objective', 0.49323241120982864)\u001b[0m\n",
      "\u001b[34m[09/26/2024 10:52:12 INFO 139808012048192] #validation_score (algo-1) : ('binary_classification_accuracy', 0.7901002084874571)\u001b[0m\n",
      "\u001b[34m[09/26/2024 10:52:12 INFO 139808012048192] #validation_score (algo-1) : ('binary_f_1.000', 0.0033096240383219625)\u001b[0m\n",
      "\u001b[34m[09/26/2024 10:52:12 INFO 139808012048192] #validation_score (algo-1) : ('precision', 0.5089285714285714)\u001b[0m\n",
      "\u001b[34m[09/26/2024 10:52:12 INFO 139808012048192] #validation_score (algo-1) : ('recall', 0.0016602102933038186)\u001b[0m\n",
      "\u001b[34m[09/26/2024 10:52:12 INFO 139808012048192] #validation_score (algo-1) : ('roc_auc_score', 0.6412215806837382)\u001b[0m\n",
      "\u001b[34m[09/26/2024 10:52:12 INFO 139808012048192] #validation_score (algo-1) : ('binary_balanced_accuracy', 0.5)\u001b[0m\n",
      "\u001b[34m[09/26/2024 10:52:12 INFO 139808012048192] #validation_score (algo-1) : ('binary_log_loss', 0.7511981254310254)\u001b[0m\n",
      "\u001b[34m[09/26/2024 10:52:12 INFO 139808012048192] #quality_metric: host=algo-1, validation binary_classification_cross_entropy_objective <loss>=0.49323241120982864\u001b[0m\n",
      "\u001b[34m[09/26/2024 10:52:12 INFO 139808012048192] #quality_metric: host=algo-1, validation binary_classification_accuracy <score>=0.7901002084874571\u001b[0m\n",
      "\u001b[34m[09/26/2024 10:52:12 INFO 139808012048192] #quality_metric: host=algo-1, validation binary_f_1.000 <score>=0.0033096240383219625\u001b[0m\n",
      "\u001b[34m[09/26/2024 10:52:12 INFO 139808012048192] #quality_metric: host=algo-1, validation precision <score>=0.5089285714285714\u001b[0m\n",
      "\u001b[34m[09/26/2024 10:52:12 INFO 139808012048192] #quality_metric: host=algo-1, validation recall <score>=0.0016602102933038186\u001b[0m\n",
      "\u001b[34m[09/26/2024 10:52:12 INFO 139808012048192] #quality_metric: host=algo-1, validation roc_auc_score <score>=0.6412215806837382\u001b[0m\n",
      "\u001b[34m[09/26/2024 10:52:12 INFO 139808012048192] #quality_metric: host=algo-1, validation binary_balanced_accuracy <score>=0.5\u001b[0m\n",
      "\u001b[34m[09/26/2024 10:52:12 INFO 139808012048192] #quality_metric: host=algo-1, validation binary_log_loss <score>=0.7511981254310254\u001b[0m\n",
      "\u001b[34m[09/26/2024 10:52:12 INFO 139808012048192] Best model found for hyperparameters: {\"optimizer\": \"adam\", \"learning_rate\": 0.005, \"l1\": 0.0, \"wd\": 0.0001, \"lr_scheduler_step\": 10, \"lr_scheduler_factor\": 0.99, \"lr_scheduler_minimum_lr\": 1e-05}\u001b[0m\n",
      "\u001b[34m[09/26/2024 10:52:12 INFO 139808012048192] Saved checkpoint to \"/tmp/tmpk1hqfxg1/mx-mod-0000.params\"\u001b[0m\n",
      "\u001b[34m[09/26/2024 10:52:12 INFO 139808012048192] Test data is not provided.\u001b[0m\n",
      "\u001b[34m#metrics {\"StartTime\": 1727347769.7574792, \"EndTime\": 1727347932.2340903, \"Dimensions\": {\"Algorithm\": \"Linear Learner\", \"Host\": \"algo-1\", \"Operation\": \"training\"}, \"Metrics\": {\"initialize.time\": {\"sum\": 224.83539581298828, \"count\": 1, \"min\": 224.83539581298828, \"max\": 224.83539581298828}, \"epochs\": {\"sum\": 15.0, \"count\": 1, \"min\": 15, \"max\": 15}, \"check_early_stopping.time\": {\"sum\": 1.8260478973388672, \"count\": 6, \"min\": 0.1628398895263672, \"max\": 0.8225440979003906}, \"update.time\": {\"sum\": 158995.9053993225, \"count\": 5, \"min\": 31322.238206863403, \"max\": 32675.307035446167}, \"finalize.time\": {\"sum\": 3208.0366611480713, \"count\": 1, \"min\": 3208.0366611480713, \"max\": 3208.0366611480713}, \"setuptime\": {\"sum\": 1.9440650939941406, \"count\": 1, \"min\": 1.9440650939941406, \"max\": 1.9440650939941406}, \"totaltime\": {\"sum\": 162577.294588089, \"count\": 1, \"min\": 162577.294588089, \"max\": 162577.294588089}}}\u001b[0m\n",
      "\n",
      "2024-09-26 10:52:29 Completed - Training job completed\n",
      "Training seconds: 300\n",
      "Billable seconds: 300\n"
     ]
    }
   ],
   "source": [
    "### Fit the classifier\n",
    "classifier_estimator.fit([train_records,val_records])"
   ]
  },
  {
   "cell_type": "markdown",
   "metadata": {},
   "source": [
    "## Model evaluation\n",
    "In this section, you'll evaluate your trained model. First, use the `estimator.deploy` function with `initial_instance_count= 1` and `instance_type= 'ml.m4.xlarge'` to deploy your model on Amazon SageMaker."
   ]
  },
  {
   "cell_type": "code",
   "execution_count": 153,
   "metadata": {},
   "outputs": [
    {
     "name": "stderr",
     "output_type": "stream",
     "text": [
      "INFO:sagemaker.image_uris:Same images used for training and inference. Defaulting to image scope: inference.\n",
      "INFO:sagemaker.image_uris:Ignoring unnecessary instance type: None.\n",
      "INFO:sagemaker:Creating model with name: linear-learner-2024-09-26-10-53-04-352\n",
      "INFO:sagemaker:Creating endpoint-config with name linear-learner-2024-09-26-10-53-04-352\n",
      "INFO:sagemaker:Creating endpoint with name linear-learner-2024-09-26-10-53-04-352\n"
     ]
    },
    {
     "name": "stdout",
     "output_type": "stream",
     "text": [
      "-------!"
     ]
    }
   ],
   "source": [
    "### Deloy an endpoint for batch prediction\n",
    "classifier_predictor = classifier_estimator.deploy(initial_instance_count=1,\n",
    "                                                   instance_type='ml.m4.xlarge')"
   ]
  },
  {
   "cell_type": "markdown",
   "metadata": {},
   "source": [
    "Once your endpoint is 'InService', evaluate how your model performs on the test set. Use the `predict_batches` function to predict the metrics on your test set."
   ]
  },
  {
   "cell_type": "code",
   "execution_count": 154,
   "metadata": {},
   "outputs": [],
   "source": [
    "from sklearn.metrics import roc_auc_score\n",
    "from sklearn.metrics import precision_recall_fscore_support\n",
    "\n",
    "def predict_batches(predictor, features, labels):\n",
    "    \"\"\"\n",
    "    Return evaluation results\n",
    "    predictor : Predictor object of model\n",
    "    features: Input features to model\n",
    "    label: Ground truth target values\n",
    "    \"\"\"\n",
    "    prediction_batches = [predictor.predict(batch) for batch in np.array_split(features, 100)]\n",
    "\n",
    "    # Parse protobuf responses to extract predicted labels\n",
    "    extract_label = lambda x: x.label['predicted_label'].float32_tensor.values\n",
    "    preds = np.concatenate([np.array([extract_label(x) for x in batch]) for batch in prediction_batches])\n",
    "    preds = preds.reshape((-1,))\n",
    "    \n",
    "    # Parse protobuf responses to extract predicted score\n",
    "    extract_score = lambda x: x.label['score'].float32_tensor.values\n",
    "    score = np.concatenate([np.array([extract_score(x) for x in batch]) for batch in prediction_batches])\n",
    "    score = score.reshape((-1,))\n",
    "\n",
    "    # Calculate accuracy\n",
    "    accuracy = (preds == labels).sum() / labels.shape[0]\n",
    "    print(f'Accuracy: {accuracy}')\n",
    "    \n",
    "    auc = roc_auc_score(labels, score)\n",
    "    print(f'AUC     : {auc}')\n",
    "    \n",
    "    precision, recall, f1_score, _ = precision_recall_fscore_support(labels, preds, average = 'binary')\n",
    "    print(f'Precision: {precision}')\n",
    "    print(f'Recall: {recall}')\n",
    "    print(f'F1_score: {f1_score}')\n",
    "    \n",
    "    confusion_matrix = pd.crosstab(index=labels, columns=np.round(preds), rownames=['True'], colnames=['predictions']).astype(int)\n",
    "    plt.figure(figsize = (5,5))\n",
    "    sns.heatmap(confusion_matrix, annot=True, fmt='.2f', cmap=\"YlGnBu\").set_title('Confusion Matrix') "
   ]
  },
  {
   "cell_type": "markdown",
   "metadata": {},
   "source": [
    "To view the confusion matrix, run the `predict_batches` function on your test dataset."
   ]
  },
  {
   "cell_type": "code",
   "execution_count": 155,
   "metadata": {},
   "outputs": [
    {
     "name": "stdout",
     "output_type": "stream",
     "text": [
      "Accuracy: 0.7902652865326885\n",
      "AUC     : 0.6435890127864923\n",
      "Precision: 0.6124031007751938\n",
      "Recall: 0.002300993213526345\n",
      "F1_score: 0.004584760025535373\n"
     ]
    },
    {
     "data": {
      "image/png": "[encoded data removed]",
      "text/plain": [
       "<Figure size 500x500 with 2 Axes>"
      ]
     },
     "metadata": {},
     "output_type": "display_data"
    }
   ],
   "source": [
    "predict_batches(classifier_predictor, test_features, test_labels)"
   ]
  },
  {
   "cell_type": "code",
   "execution_count": 156,
   "metadata": {},
   "outputs": [
    {
     "name": "stdout",
     "output_type": "stream",
     "text": [
      "Accuracy: 0.7902003252648891\n",
      "AUC     : 0.6442504328001019\n",
      "Precision: 0.5803667745415318\n",
      "Recall: 0.0019587426183073258\n",
      "F1_score: 0.0039043081645760234\n"
     ]
    },
    {
     "data": {
      "image/png": "[encoded data removed]",
      "text/plain": [
       "<Figure size 500x500 with 2 Axes>"
      ]
     },
     "metadata": {},
     "output_type": "display_data"
    }
   ],
   "source": [
    "predict_batches(classifier_predictor, train_features, train_labels)"
   ]
  },
  {
   "cell_type": "markdown",
   "metadata": {},
   "source": [
    "### Key questions to consider:\n",
    "1. How does your model's performance on the test set compare to the training set? What can you deduce from this comparison? \n",
    "\n",
    "2. Are there obvious differences between the outcomes of metrics like accuracy, precision, and recall? If so, why might you be seeing those differences? \n",
    "\n",
    "3. Given your business situation and goals, which metric(s) is most important for you to consider here? Why?\n",
    "\n",
    "4. Is the outcome for the metric(s) you consider most important sufficient for what you need from a business standpoint? If not, what are some things you might change in your next iteration (in the feature engineering section, which is coming up next)? \n",
    "\n",
    "Use the cells below to answer these and other questions. Insert and delete cells where needed.\n",
    "\n",
    "#### <span style=\"color: blue;\">Project presentation: Record answers to these and other similar questions you might answer in this section in your project presentations. Record key details and decisions you've made in your project presentations.</span>"
   ]
  },
  {
   "cell_type": "markdown",
   "metadata": {},
   "source": [
    "\n",
    "**Question**: What can you summarize from the confusion matrix?\n"
   ]
  },
  {
   "cell_type": "markdown",
   "metadata": {},
   "source": [
    "It's not great as it predicts no delay so often, and as a result gets false negative on 274k instances. It is predicting the majority class wayy too much, which is why recall is very low (0.0023). Given that it is actually positive, we predict negative on 274128 counts and positive on only 538 counts."
   ]
  },
  {
   "cell_type": "markdown",
   "metadata": {},
   "source": [
    "## <span style=\"color:red\"> End of Lab 3 </span>\n",
    "\n",
    "Save the project file to your local computer. Follow these steps:\n",
    "\n",
    "1. At the top of the page, click the **File** menu. \n",
    "\n",
    "1. Select **Download as**, and click **Notebook(.ipynb)**.  \n",
    "\n",
    "This downloads the current notebook to the default download folder on your computer."
   ]
  },
  {
   "cell_type": "markdown",
   "metadata": {},
   "source": [
    "# Iteration II"
   ]
  },
  {
   "cell_type": "markdown",
   "metadata": {},
   "source": [
    "# Step 4: Feature engineering\n",
    "\n",
    "You've now gone through one iteration of training and evaluating your model. Given that the outcome you reached for your model the first time probably wasn't sufficient for solving your business problem, what are some things you could change about your data to possibly improve model performance?\n",
    "\n",
    "### Key questions to consider:\n",
    "1. How might the balance of your two main classes (delay and no delay) impact model performance?\n",
    "2. Do you have any features that are correlated?\n",
    "3. Are there feature reduction techniques you could perform at this stage that might have a positive impact on model performance? \n",
    "4. Can you think of adding some more data/datasets?\n",
    "4. After performing some feature engineering, how does your model performance compare to the first iteration?\n",
    "\n",
    "Use the cells below to perform specific feature engineering techniques (per the questions above) that you think could improve your model performance. Insert and delete cells where needed.\n",
    "\n",
    "#### <span style=\"color: blue;\">Project presentation: Record key decisions and methods you use in this section in your project presentations, as well as any new performance metrics you obtain after evaluating your model again.</span>\n",
    "\n",
    "Before you start, think about why the precision and recall are around 80% while the accuracy is 99%.\n"
   ]
  },
  {
   "cell_type": "markdown",
   "metadata": {},
   "source": [
    "#### Add more features\n",
    "\n",
    "1. Holidays\n",
    "2. Weather"
   ]
  },
  {
   "cell_type": "markdown",
   "metadata": {},
   "source": [
    "Because the list of holidays from 2014 to 2018 is known, you can create an indicator variable **is_holiday** to mark these.\n",
    "The hypothesis is that airplane delays could be higher during holidays compared to the rest of the days. Add a boolean variable `is_holiday` that includes the holidays for the years 2014-2018."
   ]
  },
  {
   "cell_type": "code",
   "execution_count": 157,
   "metadata": {},
   "outputs": [],
   "source": [
    "# Source: http://www.calendarpedia.com/holidays/federal-holidays-2014.html\n",
    "\n",
    "holidays_14 = ['2014-01-01',  '2014-01-20', '2014-02-17', '2014-05-26', '2014-07-04', '2014-09-01', '2014-10-13', '2014-11-11', '2014-11-27', '2014-12-25' ] \n",
    "holidays_15 = ['2015-01-01',  '2015-01-19', '2015-02-16', '2015-05-25', '2015-06-03', '2015-07-04', '2015-09-07', '2015-10-12', '2015-11-11', '2015-11-26', '2015-12-25'] \n",
    "holidays_16 = ['2016-01-01',  '2016-01-18', '2016-02-15', '2016-05-30', '2016-07-04', '2016-09-05', '2016-10-10', '2016-11-11', '2016-11-24', '2016-12-25', '2016-12-26']\n",
    "holidays_17 = ['2017-01-02', '2017-01-16', '2017-02-20', '2017-05-29' , '2017-07-04', '2017-09-04' ,'2017-10-09', '2017-11-10', '2017-11-23', '2017-12-25']\n",
    "holidays_18 = ['2018-01-01', '2018-01-15', '2018-02-19', '2018-05-28' , '2018-07-04', '2018-09-03' ,'2018-10-08', '2018-11-12','2018-11-22', '2018-12-25']\n",
    "# holidays_19 = ['2019-01-01', '2019-01-21', '2019-02-18', '2019-05-27' , '2019-07-04', '2019-09-02' ,'2019-10-14', '2019-11-11','2019-11-28', '2019-12-25']\n",
    "holidays = holidays_14+ holidays_15+ holidays_16 + holidays_17+ holidays_18\n",
    "\n",
    "### Add indicator variable for holidays\n",
    "data_orig['is_holiday'] = data_orig[\"FlightDate\"].isin(holidays).astype(int)"
   ]
  },
  {
   "cell_type": "markdown",
   "metadata": {},
   "source": [
    "Weather data was fetched from https://www.ncei.noaa.gov/access/services/data/v1?dataset=daily-summaries&stations=USW00023174,USW00012960,USW00003017,USW00094846,USW00013874,USW00023234,USW00003927,USW00023183,USW00013881&dataTypes=AWND,PRCP,SNOW,SNWD,TAVG,TMIN,TMAX&startDate=2014-01-01&endDate=2018-12-31.\n",
    "<br>\n",
    "\n",
    "This dataset has information on wind speed, precipitation, snow, and temperature for cities by their airport codes.\n",
    "\n",
    "**Question**: Could bad weather due to rains, heavy winds, or snow lead to airplane delay? Let's check!"
   ]
  },
  {
   "cell_type": "code",
   "execution_count": 158,
   "metadata": {
    "scrolled": true
   },
   "outputs": [
    {
     "name": "stdout",
     "output_type": "stream",
     "text": [
      "download: s3://aws-tc-largeobjects/ILT-TF-200-MLDWTS/flight_delay_project/daily-summaries.csv to data/daily-summaries.csv\n"
     ]
    }
   ],
   "source": [
    "%%bash\n",
    "\n",
    "aws s3 cp s3://aws-tc-largeobjects/ILT-TF-200-MLDWTS/flight_delay_project/daily-summaries.csv /home/ec2-user/SageMaker/project/data/\n",
    "#wget 'https://www.ncei.noaa.gov/access/services/data/v1?dataset=daily-summaries&stations=USW00023174,USW00012960,USW00003017,USW00094846,USW00013874,USW00023234,USW00003927,USW00023183,USW00013881&dataTypes=AWND,PRCP,SNOW,SNWD,TAVG,TMIN,TMAX&startDate=2014-01-01&endDate=2018-12-31' -O /home/ec2-user/SageMaker/project/data/daily-summaries.csv"
   ]
  },
  {
   "cell_type": "markdown",
   "metadata": {},
   "source": [
    "Import weather data prepared for the airport codes in our dataset. Use the stations and airports below for the analysis, and create a new column called `airport` that maps the weather station to the airport name."
   ]
  },
  {
   "cell_type": "code",
   "execution_count": 160,
   "metadata": {},
   "outputs": [],
   "source": [
    "weather = pd.read_csv(\"data/daily-summaries.csv\") # Enter your code here to read 'daily-summaries.csv' file\n",
    "station = ['USW00023174','USW00012960','USW00003017','USW00094846',\n",
    "           'USW00013874','USW00023234','USW00003927','USW00023183','USW00013881'] \n",
    "airports = ['LAX', 'IAH', 'DEN', 'ORD', 'ATL', 'SFO', 'DFW', 'PHX', 'CLT']\n",
    "\n",
    "### Map weather stations to airport code\n",
    "station_map = dict(zip(station, airports))\n",
    "weather['airport'] = weather[\"STATION\"].map(station_map)"
   ]
  },
  {
   "cell_type": "markdown",
   "metadata": {},
   "source": [
    "Create another column called `MONTH` from the `DATE` column."
   ]
  },
  {
   "cell_type": "code",
   "execution_count": 161,
   "metadata": {
    "scrolled": true
   },
   "outputs": [
    {
     "data": {
      "text/html": [
       "<div>\n",
       "<style scoped>\n",
       "    .dataframe tbody tr th:only-of-type {\n",
       "        vertical-align: middle;\n",
       "    }\n",
       "\n",
       "    .dataframe tbody tr th {\n",
       "        vertical-align: top;\n",
       "    }\n",
       "\n",
       "    .dataframe thead th {\n",
       "        text-align: right;\n",
       "    }\n",
       "</style>\n",
       "<table border=\"1\" class=\"dataframe\">\n",
       "  <thead>\n",
       "    <tr style=\"text-align: right;\">\n",
       "      <th></th>\n",
       "      <th>STATION</th>\n",
       "      <th>DATE</th>\n",
       "      <th>AWND</th>\n",
       "      <th>PRCP</th>\n",
       "      <th>SNOW</th>\n",
       "      <th>SNWD</th>\n",
       "      <th>TAVG</th>\n",
       "      <th>TMAX</th>\n",
       "      <th>TMIN</th>\n",
       "      <th>airport</th>\n",
       "      <th>MONTH</th>\n",
       "    </tr>\n",
       "  </thead>\n",
       "  <tbody>\n",
       "    <tr>\n",
       "      <th>0</th>\n",
       "      <td>USW00023174</td>\n",
       "      <td>2014-01-01</td>\n",
       "      <td>16</td>\n",
       "      <td>0</td>\n",
       "      <td>NaN</td>\n",
       "      <td>NaN</td>\n",
       "      <td>131.0</td>\n",
       "      <td>178.0</td>\n",
       "      <td>78.0</td>\n",
       "      <td>LAX</td>\n",
       "      <td>01</td>\n",
       "    </tr>\n",
       "    <tr>\n",
       "      <th>1</th>\n",
       "      <td>USW00023174</td>\n",
       "      <td>2014-01-02</td>\n",
       "      <td>22</td>\n",
       "      <td>0</td>\n",
       "      <td>NaN</td>\n",
       "      <td>NaN</td>\n",
       "      <td>159.0</td>\n",
       "      <td>256.0</td>\n",
       "      <td>100.0</td>\n",
       "      <td>LAX</td>\n",
       "      <td>01</td>\n",
       "    </tr>\n",
       "    <tr>\n",
       "      <th>2</th>\n",
       "      <td>USW00023174</td>\n",
       "      <td>2014-01-03</td>\n",
       "      <td>17</td>\n",
       "      <td>0</td>\n",
       "      <td>NaN</td>\n",
       "      <td>NaN</td>\n",
       "      <td>140.0</td>\n",
       "      <td>178.0</td>\n",
       "      <td>83.0</td>\n",
       "      <td>LAX</td>\n",
       "      <td>01</td>\n",
       "    </tr>\n",
       "    <tr>\n",
       "      <th>3</th>\n",
       "      <td>USW00023174</td>\n",
       "      <td>2014-01-04</td>\n",
       "      <td>18</td>\n",
       "      <td>0</td>\n",
       "      <td>NaN</td>\n",
       "      <td>NaN</td>\n",
       "      <td>136.0</td>\n",
       "      <td>183.0</td>\n",
       "      <td>100.0</td>\n",
       "      <td>LAX</td>\n",
       "      <td>01</td>\n",
       "    </tr>\n",
       "    <tr>\n",
       "      <th>4</th>\n",
       "      <td>USW00023174</td>\n",
       "      <td>2014-01-05</td>\n",
       "      <td>18</td>\n",
       "      <td>0</td>\n",
       "      <td>NaN</td>\n",
       "      <td>NaN</td>\n",
       "      <td>151.0</td>\n",
       "      <td>244.0</td>\n",
       "      <td>83.0</td>\n",
       "      <td>LAX</td>\n",
       "      <td>01</td>\n",
       "    </tr>\n",
       "  </tbody>\n",
       "</table>\n",
       "</div>"
      ],
      "text/plain": [
       "       STATION        DATE  AWND  PRCP  SNOW  SNWD   TAVG   TMAX   TMIN  \\\n",
       "0  USW00023174  2014-01-01  16    0    NaN   NaN    131.0  178.0  78.0    \n",
       "1  USW00023174  2014-01-02  22    0    NaN   NaN    159.0  256.0  100.0   \n",
       "2  USW00023174  2014-01-03  17    0    NaN   NaN    140.0  178.0  83.0    \n",
       "3  USW00023174  2014-01-04  18    0    NaN   NaN    136.0  183.0  100.0   \n",
       "4  USW00023174  2014-01-05  18    0    NaN   NaN    151.0  244.0  83.0    \n",
       "\n",
       "  airport MONTH  \n",
       "0  LAX     01    \n",
       "1  LAX     01    \n",
       "2  LAX     01    \n",
       "3  LAX     01    \n",
       "4  LAX     01    "
      ]
     },
     "execution_count": 161,
     "metadata": {},
     "output_type": "execute_result"
    }
   ],
   "source": [
    "weather['MONTH'] = weather[\"DATE\"].apply(lambda x: x.split('-')[1])# Enter your code here \n",
    "weather.head()"
   ]
  },
  {
   "cell_type": "markdown",
   "metadata": {},
   "source": [
    "### Sample output\n",
    "```\n",
    "  STATION     DATE      AWND PRCP SNOW SNWD TAVG TMAX  TMIN airport MONTH\n",
    "0 USW00023174 2014-01-01 16   0   NaN  NaN 131.0 178.0 78.0  LAX    01\n",
    "1 USW00023174 2014-01-02 22   0   NaN  NaN 159.0 256.0 100.0 LAX    01\n",
    "2 USW00023174 2014-01-03 17   0   NaN  NaN 140.0 178.0 83.0  LAX    01\n",
    "3 USW00023174 2014-01-04 18   0   NaN  NaN 136.0 183.0 100.0 LAX    01\n",
    "4 USW00023174 2014-01-05 18   0   NaN  NaN 151.0 244.0 83.0  LAX    01\n",
    "```"
   ]
  },
  {
   "cell_type": "markdown",
   "metadata": {},
   "source": [
    "Analyze and handle the `SNOW` and `SNWD` columns for missing values using `fillna()`. Use the `isna()` function to check the missing values for all the columns."
   ]
  },
  {
   "cell_type": "code",
   "execution_count": 162,
   "metadata": {
    "scrolled": true
   },
   "outputs": [
    {
     "data": {
      "text/plain": [
       "STATION    0 \n",
       "DATE       0 \n",
       "AWND       0 \n",
       "PRCP       0 \n",
       "SNOW       0 \n",
       "SNWD       0 \n",
       "TAVG       62\n",
       "TMAX       20\n",
       "TMIN       20\n",
       "airport    0 \n",
       "MONTH      0 \n",
       "dtype: int64"
      ]
     },
     "execution_count": 162,
     "metadata": {},
     "output_type": "execute_result"
    }
   ],
   "source": [
    "weather.SNOW.fillna(0, inplace=True)# Enter your code here\n",
    "weather.SNWD.fillna(0, inplace=True)# Enter your code here\n",
    "weather.isna().sum()"
   ]
  },
  {
   "cell_type": "markdown",
   "metadata": {},
   "source": [
    "**Question**: Print the index of the rows that have missing values for TAVG, TMAX, TMIN.\n",
    "\n",
    "**Hint**: Use the `isna()` function to find the rows that are missing, and then use the list on the idx variable to get the index."
   ]
  },
  {
   "cell_type": "code",
   "execution_count": 163,
   "metadata": {},
   "outputs": [
    {
     "data": {
      "text/plain": [
       "array([ 3956,  3957,  3958,  3959,  3960,  3961,  3962,  3963,  3964,\n",
       "        3965,  3966,  3967,  3968,  3969,  3970,  3971,  3972,  3973,\n",
       "        3974,  3975,  3976,  3977,  3978,  3979,  3980,  3981,  3982,\n",
       "        3983,  3984,  3985,  4017,  4018,  4019,  4020,  4021,  4022,\n",
       "        4023,  4024,  4025,  4026,  4027,  4028,  4029,  4030,  4031,\n",
       "        4032,  4033,  4034,  4035,  4036,  4037,  4038,  4039,  4040,\n",
       "        4041,  4042,  4043,  4044,  4045,  4046,  4047, 13420])"
      ]
     },
     "execution_count": 163,
     "metadata": {},
     "output_type": "execute_result"
    }
   ],
   "source": [
    "idx = np.array([i for i in range(len(weather))])\n",
    "TAVG_idx = idx[weather[\"TAVG\"].isna()]\n",
    "TMAX_idx = idx[weather[\"TMAX\"].isna()]\n",
    "TMIN_idx = idx[weather[\"TMIN\"].isna()]\n",
    "TAVG_idx"
   ]
  },
  {
   "cell_type": "markdown",
   "metadata": {},
   "source": [
    "### Sample output\n",
    "\n",
    "```\n",
    "array([ 3956,  3957,  3958,  3959,  3960,  3961,  3962,  3963,  3964,\n",
    "        3965,  3966,  3967,  3968,  3969,  3970,  3971,  3972,  3973,\n",
    "        3974,  3975,  3976,  3977,  3978,  3979,  3980,  3981,  3982,\n",
    "        3983,  3984,  3985,  4017,  4018,  4019,  4020,  4021,  4022,\n",
    "        4023,  4024,  4025,  4026,  4027,  4028,  4029,  4030,  4031,\n",
    "        4032,  4033,  4034,  4035,  4036,  4037,  4038,  4039,  4040,\n",
    "        4041,  4042,  4043,  4044,  4045,  4046,  4047, 13420])\n",
    "```"
   ]
  },
  {
   "cell_type": "markdown",
   "metadata": {},
   "source": [
    "You can replace the missing TAVG, TMAX, and TMIN with the average value for a particular station/airport. Because the consecutive rows of TAVG_idx are missing, replacing with a previous value would not be possible. Instead, replace it with the mean. Use the `groupby` function to aggregate the variables with a mean value."
   ]
  },
  {
   "cell_type": "code",
   "execution_count": 164,
   "metadata": {},
   "outputs": [
    {
     "data": {
      "text/html": [
       "<div>\n",
       "<style scoped>\n",
       "    .dataframe tbody tr th:only-of-type {\n",
       "        vertical-align: middle;\n",
       "    }\n",
       "\n",
       "    .dataframe tbody tr th {\n",
       "        vertical-align: top;\n",
       "    }\n",
       "\n",
       "    .dataframe thead th {\n",
       "        text-align: right;\n",
       "    }\n",
       "</style>\n",
       "<table border=\"1\" class=\"dataframe\">\n",
       "  <thead>\n",
       "    <tr style=\"text-align: right;\">\n",
       "      <th></th>\n",
       "      <th>STATION</th>\n",
       "      <th>MONTH</th>\n",
       "      <th>TAVG</th>\n",
       "      <th>TMAX</th>\n",
       "      <th>TMIN</th>\n",
       "    </tr>\n",
       "  </thead>\n",
       "  <tbody>\n",
       "    <tr>\n",
       "      <th>0</th>\n",
       "      <td>USW00003017</td>\n",
       "      <td>01</td>\n",
       "      <td>-2.741935</td>\n",
       "      <td>74.000000</td>\n",
       "      <td>-69.858065</td>\n",
       "    </tr>\n",
       "    <tr>\n",
       "      <th>1</th>\n",
       "      <td>USW00003017</td>\n",
       "      <td>02</td>\n",
       "      <td>11.219858</td>\n",
       "      <td>88.553191</td>\n",
       "      <td>-65.035461</td>\n",
       "    </tr>\n",
       "  </tbody>\n",
       "</table>\n",
       "</div>"
      ],
      "text/plain": [
       "       STATION MONTH       TAVG       TMAX       TMIN\n",
       "0  USW00003017  01   -2.741935   74.000000 -69.858065\n",
       "1  USW00003017  02    11.219858  88.553191 -65.035461"
      ]
     },
     "execution_count": 164,
     "metadata": {},
     "output_type": "execute_result"
    }
   ],
   "source": [
    "weather_impute = weather.groupby([\"STATION\", \"MONTH\"]).agg({'TAVG':'mean','TMAX':'mean', 'TMIN':'mean' }).reset_index()# Enter your code here\n",
    "weather_impute.head(2)"
   ]
  },
  {
   "cell_type": "markdown",
   "metadata": {},
   "source": [
    "Merge the mean data with the weather data."
   ]
  },
  {
   "cell_type": "code",
   "execution_count": 165,
   "metadata": {},
   "outputs": [],
   "source": [
    "### get the yesterday's data\n",
    "weather = pd.merge(weather, weather_impute,  how='left', left_on=['MONTH','STATION'], right_on = ['MONTH','STATION'])\\\n",
    ".rename(columns = {'TAVG_y':'TAVG_AVG',\n",
    "                   'TMAX_y':'TMAX_AVG', \n",
    "                   'TMIN_y':'TMIN_AVG',\n",
    "                   'TAVG_x':'TAVG',\n",
    "                   'TMAX_x':'TMAX', \n",
    "                   'TMIN_x':'TMIN'})"
   ]
  },
  {
   "cell_type": "markdown",
   "metadata": {},
   "source": [
    "Check for missing values again."
   ]
  },
  {
   "cell_type": "code",
   "execution_count": 166,
   "metadata": {},
   "outputs": [
    {
     "data": {
      "text/plain": [
       "STATION     0\n",
       "DATE        0\n",
       "AWND        0\n",
       "PRCP        0\n",
       "SNOW        0\n",
       "SNWD        0\n",
       "TAVG        0\n",
       "TMAX        0\n",
       "TMIN        0\n",
       "airport     0\n",
       "MONTH       0\n",
       "TAVG_AVG    0\n",
       "TMAX_AVG    0\n",
       "TMIN_AVG    0\n",
       "dtype: int64"
      ]
     },
     "execution_count": 166,
     "metadata": {},
     "output_type": "execute_result"
    }
   ],
   "source": [
    "weather.TAVG[TAVG_idx] = weather.TAVG_AVG[TAVG_idx]\n",
    "weather.TMAX[TMAX_idx] = weather.TMAX_AVG[TMAX_idx]\n",
    "weather.TMIN[TMIN_idx] = weather.TMIN_AVG[TMIN_idx]\n",
    "weather.isna().sum()"
   ]
  },
  {
   "cell_type": "markdown",
   "metadata": {},
   "source": [
    "Drop `STATION,MONTH,TAVG_AVG,TMAX_AVG,TMIN_AVG,TMAX,TMIN,SNWD` from the dataset"
   ]
  },
  {
   "cell_type": "code",
   "execution_count": 167,
   "metadata": {},
   "outputs": [],
   "source": [
    "weather.drop(columns=['STATION','MONTH','TAVG_AVG', 'TMAX_AVG', 'TMIN_AVG', 'TMAX' ,'TMIN', 'SNWD'],inplace=True)"
   ]
  },
  {
   "cell_type": "markdown",
   "metadata": {},
   "source": [
    "Add the origin and destination weather conditions to the dataset."
   ]
  },
  {
   "cell_type": "code",
   "execution_count": 168,
   "metadata": {},
   "outputs": [],
   "source": [
    "### Add origin weather conditions\n",
    "data_orig = pd.merge(data_orig, weather,  how='left', left_on=['FlightDate','Origin'], right_on = ['DATE','airport'])\\\n",
    ".rename(columns = {'AWND':'AWND_O','PRCP':'PRCP_O', 'TAVG':'TAVG_O', 'SNOW': 'SNOW_O'})\\\n",
    ".drop(columns=['DATE','airport'])\n",
    "\n",
    "### Add destination weather conditions\n",
    "data_orig = pd.merge(data_orig, weather,  how='left', left_on=['FlightDate','Dest'], right_on = ['DATE','airport'])\\\n",
    ".rename(columns = {'AWND':'AWND_D','PRCP':'PRCP_D', 'TAVG':'TAVG_D', 'SNOW': 'SNOW_D'})\\\n",
    ".drop(columns=['DATE','airport'])"
   ]
  },
  {
   "cell_type": "markdown",
   "metadata": {},
   "source": [
    "**Note**: It is always a good practice to check nulls/NAs after joins."
   ]
  },
  {
   "cell_type": "code",
   "execution_count": 169,
   "metadata": {},
   "outputs": [
    {
     "data": {
      "text/plain": [
       "0"
      ]
     },
     "execution_count": 169,
     "metadata": {},
     "output_type": "execute_result"
    }
   ],
   "source": [
    "sum(data.isna().any())"
   ]
  },
  {
   "cell_type": "code",
   "execution_count": 170,
   "metadata": {},
   "outputs": [
    {
     "data": {
      "text/plain": [
       "Index(['Year', 'Quarter', 'Month', 'DayofMonth', 'DayOfWeek', 'FlightDate',\n",
       "       'Reporting_Airline', 'Origin', 'OriginState', 'Dest', 'DestState',\n",
       "       'CRSDepTime', 'Cancelled', 'Diverted', 'Distance', 'DistanceGroup',\n",
       "       'ArrDelay', 'ArrDelayMinutes', 'is_delay', 'AirTime', 'DepHourofDay',\n",
       "       'is_holiday', 'AWND_O', 'PRCP_O', 'SNOW_O', 'TAVG_O', 'AWND_D',\n",
       "       'PRCP_D', 'SNOW_D', 'TAVG_D'],\n",
       "      dtype='object')"
      ]
     },
     "execution_count": 170,
     "metadata": {},
     "output_type": "execute_result"
    }
   ],
   "source": [
    "data_orig.columns"
   ]
  },
  {
   "cell_type": "markdown",
   "metadata": {},
   "source": [
    "Convert the categorical data into numerical data using one-hot encoding."
   ]
  },
  {
   "cell_type": "code",
   "execution_count": 178,
   "metadata": {},
   "outputs": [],
   "source": [
    "data = data_orig.copy()\n",
    "data = data[['Year', 'Quarter', 'Month', 'DayofMonth', 'DayOfWeek', \n",
    "       'Reporting_Airline', 'Origin', 'Dest','Distance','DepHourofDay', 'is_delay', 'is_holiday', 'AWND_O', 'PRCP_O',\n",
    "       'TAVG_O', 'AWND_D', 'PRCP_D', 'TAVG_D', 'SNOW_O', 'SNOW_D']]\n",
    "\n",
    "\n",
    "categorical_columns  = ['Year', 'Quarter', 'Month', 'DayofMonth', 'DayOfWeek', \n",
    "       'Reporting_Airline', 'Origin', 'Dest', 'is_holiday','is_delay']\n",
    "for c in categorical_columns:\n",
    "    data[c] = data[c].astype('category')"
   ]
  },
  {
   "cell_type": "code",
   "execution_count": 179,
   "metadata": {},
   "outputs": [],
   "source": [
    "categorical_columns.remove('is_delay')\n",
    "data_dummies = pd.get_dummies(data[categorical_columns], drop_first=True, dtype='int64')\n",
    "data = pd.concat([data, data_dummies], axis = 1)\n",
    "data.drop(categorical_columns,axis=1, inplace=True)"
   ]
  },
  {
   "cell_type": "markdown",
   "metadata": {},
   "source": [
    "### Sample code\n",
    "\n",
    "```\n",
    "data_dummies = pd.get_dummies(data[['Year', 'Quarter', 'Month', 'DayofMonth', 'DayOfWeek', 'Reporting_Airline', 'Origin', 'Dest', 'is_holiday']], drop_first=True)\n",
    "data = pd.concat([data, data_dummies], axis = 1)\n",
    "categorical_columns.remove('is_delay')\n",
    "data.drop(categorical_columns,axis=1, inplace=True)\n",
    "```"
   ]
  },
  {
   "cell_type": "markdown",
   "metadata": {},
   "source": [
    "Check the new columns."
   ]
  },
  {
   "cell_type": "code",
   "execution_count": 180,
   "metadata": {},
   "outputs": [
    {
     "data": {
      "text/plain": [
       "Index(['Distance', 'DepHourofDay', 'is_delay', 'AWND_O', 'PRCP_O', 'TAVG_O',\n",
       "       'AWND_D', 'PRCP_D', 'TAVG_D', 'SNOW_O', 'SNOW_D', 'Year_2015',\n",
       "       'Year_2016', 'Year_2017', 'Year_2018', 'Quarter_2', 'Quarter_3',\n",
       "       'Quarter_4', 'Month_2', 'Month_3', 'Month_4', 'Month_5', 'Month_6',\n",
       "       'Month_7', 'Month_8', 'Month_9', 'Month_10', 'Month_11', 'Month_12',\n",
       "       'DayofMonth_2', 'DayofMonth_3', 'DayofMonth_4', 'DayofMonth_5',\n",
       "       'DayofMonth_6', 'DayofMonth_7', 'DayofMonth_8', 'DayofMonth_9',\n",
       "       'DayofMonth_10', 'DayofMonth_11', 'DayofMonth_12', 'DayofMonth_13',\n",
       "       'DayofMonth_14', 'DayofMonth_15', 'DayofMonth_16', 'DayofMonth_17',\n",
       "       'DayofMonth_18', 'DayofMonth_19', 'DayofMonth_20', 'DayofMonth_21',\n",
       "       'DayofMonth_22', 'DayofMonth_23', 'DayofMonth_24', 'DayofMonth_25',\n",
       "       'DayofMonth_26', 'DayofMonth_27', 'DayofMonth_28', 'DayofMonth_29',\n",
       "       'DayofMonth_30', 'DayofMonth_31', 'DayOfWeek_2', 'DayOfWeek_3',\n",
       "       'DayOfWeek_4', 'DayOfWeek_5', 'DayOfWeek_6', 'DayOfWeek_7',\n",
       "       'Reporting_Airline_DL', 'Reporting_Airline_OO', 'Reporting_Airline_UA',\n",
       "       'Reporting_Airline_WN', 'Origin_CLT', 'Origin_DEN', 'Origin_DFW',\n",
       "       'Origin_IAH', 'Origin_LAX', 'Origin_ORD', 'Origin_PHX', 'Origin_SFO',\n",
       "       'Dest_CLT', 'Dest_DEN', 'Dest_DFW', 'Dest_IAH', 'Dest_LAX', 'Dest_ORD',\n",
       "       'Dest_PHX', 'Dest_SFO', 'is_holiday_1'],\n",
       "      dtype='object')"
      ]
     },
     "execution_count": 180,
     "metadata": {},
     "output_type": "execute_result"
    }
   ],
   "source": [
    "data.columns"
   ]
  },
  {
   "cell_type": "markdown",
   "metadata": {},
   "source": [
    "### Sample output\n",
    "\n",
    "```\n",
    "Index(['Distance', 'DepHourofDay', 'is_delay', 'AWND_O', 'PRCP_O', 'TAVG_O',\n",
    "       'AWND_D', 'PRCP_D', 'TAVG_D', 'SNOW_O', 'SNOW_D', 'Year_2015',\n",
    "       'Year_2016', 'Year_2017', 'Year_2018', 'Quarter_2', 'Quarter_3',\n",
    "       'Quarter_4', 'Month_2', 'Month_3', 'Month_4', 'Month_5', 'Month_6',\n",
    "       'Month_7', 'Month_8', 'Month_9', 'Month_10', 'Month_11', 'Month_12',\n",
    "       'DayofMonth_2', 'DayofMonth_3', 'DayofMonth_4', 'DayofMonth_5',\n",
    "       'DayofMonth_6', 'DayofMonth_7', 'DayofMonth_8', 'DayofMonth_9',\n",
    "       'DayofMonth_10', 'DayofMonth_11', 'DayofMonth_12', 'DayofMonth_13',\n",
    "       'DayofMonth_14', 'DayofMonth_15', 'DayofMonth_16', 'DayofMonth_17',\n",
    "       'DayofMonth_18', 'DayofMonth_19', 'DayofMonth_20', 'DayofMonth_21',\n",
    "       'DayofMonth_22', 'DayofMonth_23', 'DayofMonth_24', 'DayofMonth_25',\n",
    "       'DayofMonth_26', 'DayofMonth_27', 'DayofMonth_28', 'DayofMonth_29',\n",
    "       'DayofMonth_30', 'DayofMonth_31', 'DayOfWeek_2', 'DayOfWeek_3',\n",
    "       'DayOfWeek_4', 'DayOfWeek_5', 'DayOfWeek_6', 'DayOfWeek_7',\n",
    "       'Reporting_Airline_DL', 'Reporting_Airline_OO', 'Reporting_Airline_UA',\n",
    "       'Reporting_Airline_WN', 'Origin_CLT', 'Origin_DEN', 'Origin_DFW',\n",
    "       'Origin_IAH', 'Origin_LAX', 'Origin_ORD', 'Origin_PHX', 'Origin_SFO',\n",
    "       'Dest_CLT', 'Dest_DEN', 'Dest_DFW', 'Dest_IAH', 'Dest_LAX', 'Dest_ORD',\n",
    "       'Dest_PHX', 'Dest_SFO', 'is_holiday_1'],\n",
    "      dtype='object')\n",
    "```"
   ]
  },
  {
   "cell_type": "markdown",
   "metadata": {},
   "source": [
    "Rename the `is_delay` column to `target` again. Use the same code as before."
   ]
  },
  {
   "cell_type": "code",
   "execution_count": 181,
   "metadata": {},
   "outputs": [],
   "source": [
    "data.rename(columns = {\"is_delay\":\"target\"}, inplace=True )"
   ]
  },
  {
   "cell_type": "markdown",
   "metadata": {},
   "source": [
    "Create the training sets again."
   ]
  },
  {
   "cell_type": "code",
   "execution_count": 182,
   "metadata": {},
   "outputs": [],
   "source": [
    "train_features, test_features, train_labels, test_labels, val_features, val_labels = create_training_sets(data)"
   ]
  },
  {
   "cell_type": "markdown",
   "metadata": {},
   "source": [
    "### New baseline classifier\n",
    "\n",
    "Now, see if these new features add any predictive power to the model."
   ]
  },
  {
   "cell_type": "code",
   "execution_count": 183,
   "metadata": {},
   "outputs": [],
   "source": [
    "# Instantiate the LinearLearner estimator object\n",
    "num_classes = len(pd.unique(train_labels))\n",
    "classifier_estimator = sagemaker.LinearLearner(role=sagemaker.get_execution_role(),\n",
    "                                               instance_count=1,\n",
    "                                               instance_type='ml.m4.xlarge',\n",
    "                                               predictor_type='binary_classifier',\n",
    "                                              binary_classifier_model_selection_criteria='cross_entropy_loss')"
   ]
  },
  {
   "cell_type": "markdown",
   "metadata": {},
   "source": [
    "### Sample code\n",
    "\n",
    "```\n",
    "num_classes = len(pd.unique(train_labels)) \n",
    "classifier_estimator = sagemaker.LinearLearner(role=sagemaker.get_execution_role(),\n",
    "                                               instance_count=1,\n",
    "                                               instance_type='ml.m4.xlarge',\n",
    "                                               predictor_type='binary_classifier',\n",
    "                                              binary_classifier_model_selection_criteria = 'cross_entropy_loss')\n",
    "```"
   ]
  },
  {
   "cell_type": "code",
   "execution_count": 184,
   "metadata": {},
   "outputs": [
    {
     "name": "stderr",
     "output_type": "stream",
     "text": [
      "INFO:sagemaker.image_uris:Same images used for training and inference. Defaulting to image scope: inference.\n",
      "INFO:sagemaker.image_uris:Ignoring unnecessary instance type: None.\n",
      "INFO:sagemaker.image_uris:Same images used for training and inference. Defaulting to image scope: inference.\n",
      "INFO:sagemaker.image_uris:Ignoring unnecessary instance type: None.\n",
      "INFO:sagemaker:Creating training-job with name: linear-learner-2024-09-26-11-09-05-937\n"
     ]
    },
    {
     "name": "stdout",
     "output_type": "stream",
     "text": [
      "2024-09-26 11:09:07 Starting - Starting the training job...\n",
      "2024-09-26 11:09:22 Starting - Preparing the instances for training...\n",
      "2024-09-26 11:09:44 Downloading - Downloading input data...\n",
      "2024-09-26 11:10:24 Downloading - Downloading the training image......\n",
      "2024-09-26 11:11:35 Training - Training image download completed. Training in progress....\u001b[34mDocker entrypoint called with argument(s): train\u001b[0m\n",
      "\u001b[34mRunning default environment configuration script\u001b[0m\n",
      "\u001b[34m[09/26/2024 11:11:54 INFO 140152479487808] Reading default configuration from /opt/amazon/lib/python3.8/site-packages/algorithm/resources/default-input.json: {'mini_batch_size': '1000', 'epochs': '15', 'feature_dim': 'auto', 'use_bias': 'true', 'binary_classifier_model_selection_criteria': 'accuracy', 'f_beta': '1.0', 'target_recall': '0.8', 'target_precision': '0.8', 'num_models': 'auto', 'num_calibration_samples': '10000000', 'init_method': 'uniform', 'init_scale': '0.07', 'init_sigma': '0.01', 'init_bias': '0.0', 'optimizer': 'auto', 'loss': 'auto', 'margin': '1.0', 'quantile': '0.5', 'loss_insensitivity': '0.01', 'huber_delta': '1.0', 'num_classes': '1', 'accuracy_top_k': '3', 'wd': 'auto', 'l1': 'auto', 'momentum': 'auto', 'learning_rate': 'auto', 'beta_1': 'auto', 'beta_2': 'auto', 'bias_lr_mult': 'auto', 'bias_wd_mult': 'auto', 'use_lr_scheduler': 'true', 'lr_scheduler_step': 'auto', 'lr_scheduler_factor': 'auto', 'lr_scheduler_minimum_lr': 'auto', 'positive_example_weight_mult': '1.0', 'balance_multiclass_weights': 'false', 'normalize_data': 'true', 'normalize_label': 'auto', 'unbias_data': 'auto', 'unbias_label': 'auto', 'num_point_for_scaler': '10000', '_kvstore': 'auto', '_num_gpus': 'auto', '_num_kv_servers': 'auto', '_log_level': 'info', '_tuning_objective_metric': '', 'early_stopping_patience': '3', 'early_stopping_tolerance': '0.001', '_enable_profiler': 'false'}\u001b[0m\n",
      "\u001b[34m[09/26/2024 11:11:54 INFO 140152479487808] Merging with provided configuration from /opt/ml/input/config/hyperparameters.json: {'binary_classifier_model_selection_criteria': 'cross_entropy_loss', 'feature_dim': '85', 'mini_batch_size': '1000', 'predictor_type': 'binary_classifier'}\u001b[0m\n",
      "\u001b[34m[09/26/2024 11:11:54 INFO 140152479487808] Final configuration: {'mini_batch_size': '1000', 'epochs': '15', 'feature_dim': '85', 'use_bias': 'true', 'binary_classifier_model_selection_criteria': 'cross_entropy_loss', 'f_beta': '1.0', 'target_recall': '0.8', 'target_precision': '0.8', 'num_models': 'auto', 'num_calibration_samples': '10000000', 'init_method': 'uniform', 'init_scale': '0.07', 'init_sigma': '0.01', 'init_bias': '0.0', 'optimizer': 'auto', 'loss': 'auto', 'margin': '1.0', 'quantile': '0.5', 'loss_insensitivity': '0.01', 'huber_delta': '1.0', 'num_classes': '1', 'accuracy_top_k': '3', 'wd': 'auto', 'l1': 'auto', 'momentum': 'auto', 'learning_rate': 'auto', 'beta_1': 'auto', 'beta_2': 'auto', 'bias_lr_mult': 'auto', 'bias_wd_mult': 'auto', 'use_lr_scheduler': 'true', 'lr_scheduler_step': 'auto', 'lr_scheduler_factor': 'auto', 'lr_scheduler_minimum_lr': 'auto', 'positive_example_weight_mult': '1.0', 'balance_multiclass_weights': 'false', 'normalize_data': 'true', 'normalize_label': 'auto', 'unbias_data': 'auto', 'unbias_label': 'auto', 'num_point_for_scaler': '10000', '_kvstore': 'auto', '_num_gpus': 'auto', '_num_kv_servers': 'auto', '_log_level': 'info', '_tuning_objective_metric': '', 'early_stopping_patience': '3', 'early_stopping_tolerance': '0.001', '_enable_profiler': 'false', 'predictor_type': 'binary_classifier'}\u001b[0m\n",
      "\u001b[34m/opt/amazon/lib/python3.8/site-packages/mxnet/model.py:97: SyntaxWarning: \"is\" with a literal. Did you mean \"==\"?\n",
      "  if num_device is 1 and 'dist' not in kvstore:\u001b[0m\n",
      "\u001b[34m/opt/amazon/lib/python3.8/site-packages/scipy/optimize/_shgo.py:495: SyntaxWarning: \"is\" with a literal. Did you mean \"==\"?\n",
      "  if cons['type'] is 'ineq':\u001b[0m\n",
      "\u001b[34m/opt/amazon/lib/python3.8/site-packages/scipy/optimize/_shgo.py:743: SyntaxWarning: \"is not\" with a literal. Did you mean \"!=\"?\n",
      "  if len(self.X_min) is not 0:\u001b[0m\n",
      "\u001b[34m[09/26/2024 11:11:57 WARNING 140152479487808] Loggers have already been setup.\u001b[0m\n",
      "\u001b[34m[09/26/2024 11:11:57 INFO 140152479487808] Final configuration: {'mini_batch_size': '1000', 'epochs': '15', 'feature_dim': '85', 'use_bias': 'true', 'binary_classifier_model_selection_criteria': 'cross_entropy_loss', 'f_beta': '1.0', 'target_recall': '0.8', 'target_precision': '0.8', 'num_models': 'auto', 'num_calibration_samples': '10000000', 'init_method': 'uniform', 'init_scale': '0.07', 'init_sigma': '0.01', 'init_bias': '0.0', 'optimizer': 'auto', 'loss': 'auto', 'margin': '1.0', 'quantile': '0.5', 'loss_insensitivity': '0.01', 'huber_delta': '1.0', 'num_classes': '1', 'accuracy_top_k': '3', 'wd': 'auto', 'l1': 'auto', 'momentum': 'auto', 'learning_rate': 'auto', 'beta_1': 'auto', 'beta_2': 'auto', 'bias_lr_mult': 'auto', 'bias_wd_mult': 'auto', 'use_lr_scheduler': 'true', 'lr_scheduler_step': 'auto', 'lr_scheduler_factor': 'auto', 'lr_scheduler_minimum_lr': 'auto', 'positive_example_weight_mult': '1.0', 'balance_multiclass_weights': 'false', 'normalize_data': 'true', 'normalize_label': 'auto', 'unbias_data': 'auto', 'unbias_label': 'auto', 'num_point_for_scaler': '10000', '_kvstore': 'auto', '_num_gpus': 'auto', '_num_kv_servers': 'auto', '_log_level': 'info', '_tuning_objective_metric': '', 'early_stopping_patience': '3', 'early_stopping_tolerance': '0.001', '_enable_profiler': 'false', 'predictor_type': 'binary_classifier'}\u001b[0m\n",
      "\u001b[34m[09/26/2024 11:11:57 WARNING 140152479487808] Loggers have already been setup.\u001b[0m\n",
      "\u001b[34mProcess 7 is a worker.\u001b[0m\n",
      "\u001b[34m[09/26/2024 11:11:57 INFO 140152479487808] Using default worker.\u001b[0m\n",
      "\u001b[34m[09/26/2024 11:11:57 INFO 140152479487808] Checkpoint loading and saving are disabled.\u001b[0m\n",
      "\u001b[34m[2024-09-26 11:11:57.564] [tensorio] [warning] TensorIO is already initialized; ignoring the initialization routine.\u001b[0m\n",
      "\u001b[34m[2024-09-26 11:11:57.605] [tensorio] [info] epoch_stats={\"data_pipeline\": \"/opt/ml/input/data/train\", \"epoch\": 0, \"duration\": 44, \"num_examples\": 1, \"num_bytes\": 388000}\u001b[0m\n",
      "\u001b[34m[09/26/2024 11:11:57 INFO 140152479487808] Create Store: local\u001b[0m\n",
      "\u001b[34m[2024-09-26 11:11:57.713] [tensorio] [info] epoch_stats={\"data_pipeline\": \"/opt/ml/input/data/train\", \"epoch\": 1, \"duration\": 107, \"num_examples\": 11, \"num_bytes\": 4268000}\u001b[0m\n",
      "\u001b[34m[09/26/2024 11:11:57 INFO 140152479487808] Scaler algorithm parameters\n",
      " <algorithm.scaler.ScalerAlgorithmStable object at 0x7f773a701910>\u001b[0m\n",
      "\u001b[34m[09/26/2024 11:11:57 INFO 140152479487808] Scaling model computed with parameters:\n",
      " {'stdev_label': None, 'stdev_weight': \u001b[0m\n",
      "\u001b[34m[5.3678314e+02 5.0023403e+00 1.6036167e+01 8.1164650e+01 8.9181381e+01\n",
      " 1.6279934e+01 7.8779221e+01 9.0178673e+01 7.7317014e+00 7.9004846e+00\n",
      " 3.9807820e-01 4.1522577e-01 4.0646422e-01 4.0061241e-01 4.3014106e-01\n",
      " 4.4070190e-01 4.3728229e-01 2.5758260e-01 2.7408755e-01 2.7213579e-01\n",
      " 2.7422616e-01 2.7533180e-01 2.8941059e-01 2.8382304e-01 2.7615684e-01\n",
      " 2.8342706e-01 2.7793244e-01 2.7901691e-01 1.7792189e-01 1.7478657e-01\n",
      " 1.7696394e-01 1.8674232e-01 1.7454271e-01 1.8696794e-01 1.8146273e-01\n",
      " 1.7720398e-01 1.7720398e-01 1.7720398e-01 1.6678227e-01 1.7600000e-01\n",
      " 1.7816049e-01 1.7478655e-01 1.7744365e-01 1.7720397e-01 1.8169598e-01\n",
      " 1.8262546e-01 1.8146272e-01 1.7672350e-01 1.7839867e-01 1.7257784e-01\n",
      " 1.7839868e-01 1.7958426e-01 1.7792188e-01 1.7982030e-01 1.8029132e-01\n",
      " 1.7183441e-01 1.7158578e-01 1.4308007e-01 3.4858331e-01 3.5255852e-01\n",
      " 3.4848982e-01 3.5716051e-01 3.3009940e-01 3.4895688e-01 3.6953148e-01\n",
      " 2.3765521e-01 4.6021464e-01 3.1106803e-01 2.4636538e-01 3.2185307e-01\n",
      " 3.3113077e-01 2.7942210e-01 3.5963663e-01 3.3061579e-01 2.9334044e-01\n",
      " 3.2421592e-01 2.4165024e-01 3.1681493e-01 3.3184934e-01 2.6831463e-01\n",
      " 3.5090530e-01 3.3977115e-01 3.0144903e-01 3.3225876e-01 1.6419037e-01]\u001b[0m\n",
      "\u001b[34m<NDArray 85 @cpu(0)>, 'mean_label': None, 'mean_weight': \u001b[0m\n",
      "\u001b[34m[1.00601019e+03 1.28593645e+01 3.83926353e+01 2.11764584e+01\n",
      " 1.72082565e+02 3.85435486e+01 2.11306362e+01 1.71501709e+02\n",
      " 6.72363698e-01 6.66181803e-01 1.97454572e-01 2.21454561e-01\n",
      " 2.08818212e-01 2.00818196e-01 2.45090947e-01 2.63818175e-01\n",
      " 2.57545501e-01 7.14545473e-02 8.18181857e-02 8.05454627e-02\n",
      " 8.19091052e-02 8.26363787e-02 9.22727361e-02 8.83636400e-02\n",
      " 8.31818357e-02 8.80909264e-02 8.43636468e-02 8.50909129e-02\n",
      " 3.27272713e-02 3.15454565e-02 3.23636383e-02 3.61818261e-02\n",
      " 3.14545482e-02 3.62727307e-02 3.40909101e-02 3.24545465e-02\n",
      " 3.24545465e-02 3.24545465e-02 2.86363661e-02 3.20000015e-02\n",
      " 3.28181796e-02 3.15454565e-02 3.25454585e-02 3.24545465e-02\n",
      " 3.41818184e-02 3.45454551e-02 3.40909138e-02 3.22727263e-02\n",
      " 3.29090916e-02 3.07272766e-02 3.29090953e-02 3.33636440e-02\n",
      " 3.27272750e-02 3.34545486e-02 3.36363651e-02 3.04545462e-02\n",
      " 3.03636380e-02 2.09090915e-02 1.41545475e-01 1.45454571e-01\n",
      " 1.41454563e-01 1.50090903e-01 1.24454550e-01 1.41909093e-01\n",
      " 1.63181826e-01 6.00909144e-02 3.04545492e-01 1.08545452e-01\n",
      " 6.49090931e-02 1.17363654e-01 1.25363648e-01 8.53636488e-02\n",
      " 1.52636394e-01 1.24909103e-01 9.50909108e-02 1.19363643e-01\n",
      " 6.22727312e-02 1.13181844e-01 1.26000002e-01 7.80909210e-02\n",
      " 1.43818185e-01 1.33181840e-01 1.01090930e-01 1.26363650e-01\n",
      " 2.77272779e-02]\u001b[0m\n",
      "\u001b[34m<NDArray 85 @cpu(0)>}\u001b[0m\n",
      "\u001b[34m/opt/amazon/python3.8/lib/python3.8/subprocess.py:848: RuntimeWarning: line buffering (buffering=1) isn't supported in binary mode, the default buffer size will be used\n",
      "  self.stdout = io.open(c2pread, 'rb', bufsize)\u001b[0m\n",
      "\u001b[34m[09/26/2024 11:11:57 INFO 140152479487808] nvidia-smi: took 0.035 seconds to run.\u001b[0m\n",
      "\u001b[34m[09/26/2024 11:11:57 INFO 140152479487808] nvidia-smi identified 0 GPUs.\u001b[0m\n",
      "\u001b[34m[09/26/2024 11:11:57 INFO 140152479487808] Number of GPUs being used: 0\u001b[0m\n",
      "\u001b[34m#metrics {\"StartTime\": 1727349117.815107, \"EndTime\": 1727349117.8151424, \"Dimensions\": {\"Algorithm\": \"Linear Learner\", \"Host\": \"algo-1\", \"Operation\": \"training\", \"Meta\": \"init_train_data_iter\"}, \"Metrics\": {\"Total Records Seen\": {\"sum\": 12000.0, \"count\": 1, \"min\": 12000, \"max\": 12000}, \"Total Batches Seen\": {\"sum\": 12.0, \"count\": 1, \"min\": 12, \"max\": 12}, \"Max Records Seen Between Resets\": {\"sum\": 11000.0, \"count\": 1, \"min\": 11000, \"max\": 11000}, \"Max Batches Seen Between Resets\": {\"sum\": 11.0, \"count\": 1, \"min\": 11, \"max\": 11}, \"Reset Count\": {\"sum\": 2.0, \"count\": 1, \"min\": 2, \"max\": 2}, \"Number of Records Since Last Reset\": {\"sum\": 0.0, \"count\": 1, \"min\": 0, \"max\": 0}, \"Number of Batches Since Last Reset\": {\"sum\": 0.0, \"count\": 1, \"min\": 0, \"max\": 0}}}\u001b[0m\n",
      "\u001b[34m[2024-09-26 11:12:27.173] [tensorio] [info] epoch_stats={\"data_pipeline\": \"/opt/ml/input/data/train\", \"epoch\": 3, \"duration\": 29357, \"num_examples\": 1309, \"num_bytes\": 507687136}\u001b[0m\n",
      "\u001b[34m#metrics {\"StartTime\": 1727349147.173178, \"EndTime\": 1727349147.1732628, \"Dimensions\": {\"Algorithm\": \"Linear Learner\", \"Host\": \"algo-1\", \"Operation\": \"training\", \"epoch\": 0, \"model\": 0}, \"Metrics\": {\"train_binary_classification_cross_entropy_objective\": {\"sum\": 0.48301151403957915, \"count\": 1, \"min\": 0.48301151403957915, \"max\": 0.48301151403957915}}}\u001b[0m\n",
      "\u001b[34m#metrics {\"StartTime\": 1727349147.173347, \"EndTime\": 1727349147.1733637, \"Dimensions\": {\"Algorithm\": \"Linear Learner\", \"Host\": \"algo-1\", \"Operation\": \"training\", \"epoch\": 0, \"model\": 1}, \"Metrics\": {\"train_binary_classification_cross_entropy_objective\": {\"sum\": 0.48357789971121223, \"count\": 1, \"min\": 0.48357789971121223, \"max\": 0.48357789971121223}}}\u001b[0m\n",
      "\u001b[34m#metrics {\"StartTime\": 1727349147.1733992, \"EndTime\": 1727349147.1734092, \"Dimensions\": {\"Algorithm\": \"Linear Learner\", \"Host\": \"algo-1\", \"Operation\": \"training\", \"epoch\": 0, \"model\": 2}, \"Metrics\": {\"train_binary_classification_cross_entropy_objective\": {\"sum\": 0.48313759998006556, \"count\": 1, \"min\": 0.48313759998006556, \"max\": 0.48313759998006556}}}\u001b[0m\n",
      "\u001b[34m#metrics {\"StartTime\": 1727349147.1734457, \"EndTime\": 1727349147.173456, \"Dimensions\": {\"Algorithm\": \"Linear Learner\", \"Host\": \"algo-1\", \"Operation\": \"training\", \"epoch\": 0, \"model\": 3}, \"Metrics\": {\"train_binary_classification_cross_entropy_objective\": {\"sum\": 0.4835998753305604, \"count\": 1, \"min\": 0.4835998753305604, \"max\": 0.4835998753305604}}}\u001b[0m\n",
      "\u001b[34m#metrics {\"StartTime\": 1727349147.1734922, \"EndTime\": 1727349147.1735027, \"Dimensions\": {\"Algorithm\": \"Linear Learner\", \"Host\": \"algo-1\", \"Operation\": \"training\", \"epoch\": 0, \"model\": 4}, \"Metrics\": {\"train_binary_classification_cross_entropy_objective\": {\"sum\": 0.4954510537477079, \"count\": 1, \"min\": 0.4954510537477079, \"max\": 0.4954510537477079}}}\u001b[0m\n",
      "\u001b[34m#metrics {\"StartTime\": 1727349147.1735382, \"EndTime\": 1727349147.1735477, \"Dimensions\": {\"Algorithm\": \"Linear Learner\", \"Host\": \"algo-1\", \"Operation\": \"training\", \"epoch\": 0, \"model\": 5}, \"Metrics\": {\"train_binary_classification_cross_entropy_objective\": {\"sum\": 0.5043071971275026, \"count\": 1, \"min\": 0.5043071971275026, \"max\": 0.5043071971275026}}}\u001b[0m\n",
      "\u001b[34m#metrics {\"StartTime\": 1727349147.1735828, \"EndTime\": 1727349147.1735926, \"Dimensions\": {\"Algorithm\": \"Linear Learner\", \"Host\": \"algo-1\", \"Operation\": \"training\", \"epoch\": 0, \"model\": 6}, \"Metrics\": {\"train_binary_classification_cross_entropy_objective\": {\"sum\": 0.49549991495674905, \"count\": 1, \"min\": 0.49549991495674905, \"max\": 0.49549991495674905}}}\u001b[0m\n",
      "\u001b[34m#metrics {\"StartTime\": 1727349147.1736257, \"EndTime\": 1727349147.1736364, \"Dimensions\": {\"Algorithm\": \"Linear Learner\", \"Host\": \"algo-1\", \"Operation\": \"training\", \"epoch\": 0, \"model\": 7}, \"Metrics\": {\"train_binary_classification_cross_entropy_objective\": {\"sum\": 0.5042965129653977, \"count\": 1, \"min\": 0.5042965129653977, \"max\": 0.5042965129653977}}}\u001b[0m\n",
      "\u001b[34m#metrics {\"StartTime\": 1727349147.1736631, \"EndTime\": 1727349147.1736736, \"Dimensions\": {\"Algorithm\": \"Linear Learner\", \"Host\": \"algo-1\", \"Operation\": \"training\", \"epoch\": 0, \"model\": 8}, \"Metrics\": {\"train_binary_classification_cross_entropy_objective\": {\"sum\": 0.4833148575295731, \"count\": 1, \"min\": 0.4833148575295731, \"max\": 0.4833148575295731}}}\u001b[0m\n",
      "\u001b[34m#metrics {\"StartTime\": 1727349147.1737058, \"EndTime\": 1727349147.1737163, \"Dimensions\": {\"Algorithm\": \"Linear Learner\", \"Host\": \"algo-1\", \"Operation\": \"training\", \"epoch\": 0, \"model\": 9}, \"Metrics\": {\"train_binary_classification_cross_entropy_objective\": {\"sum\": 0.4837667469176313, \"count\": 1, \"min\": 0.4837667469176313, \"max\": 0.4837667469176313}}}\u001b[0m\n",
      "\u001b[34m#metrics {\"StartTime\": 1727349147.1737506, \"EndTime\": 1727349147.1737607, \"Dimensions\": {\"Algorithm\": \"Linear Learner\", \"Host\": \"algo-1\", \"Operation\": \"training\", \"epoch\": 0, \"model\": 10}, \"Metrics\": {\"train_binary_classification_cross_entropy_objective\": {\"sum\": 0.48326267657732014, \"count\": 1, \"min\": 0.48326267657732014, \"max\": 0.48326267657732014}}}\u001b[0m\n",
      "\u001b[34m#metrics {\"StartTime\": 1727349147.1737926, \"EndTime\": 1727349147.1738012, \"Dimensions\": {\"Algorithm\": \"Linear Learner\", \"Host\": \"algo-1\", \"Operation\": \"training\", \"epoch\": 0, \"model\": 11}, \"Metrics\": {\"train_binary_classification_cross_entropy_objective\": {\"sum\": 0.4837179882737839, \"count\": 1, \"min\": 0.4837179882737839, \"max\": 0.4837179882737839}}}\u001b[0m\n",
      "\u001b[34m#metrics {\"StartTime\": 1727349147.173832, \"EndTime\": 1727349147.1738405, \"Dimensions\": {\"Algorithm\": \"Linear Learner\", \"Host\": \"algo-1\", \"Operation\": \"training\", \"epoch\": 0, \"model\": 12}, \"Metrics\": {\"train_binary_classification_cross_entropy_objective\": {\"sum\": 0.49459055829995996, \"count\": 1, \"min\": 0.49459055829995996, \"max\": 0.49459055829995996}}}\u001b[0m\n",
      "\u001b[34m#metrics {\"StartTime\": 1727349147.1738725, \"EndTime\": 1727349147.1738818, \"Dimensions\": {\"Algorithm\": \"Linear Learner\", \"Host\": \"algo-1\", \"Operation\": \"training\", \"epoch\": 0, \"model\": 13}, \"Metrics\": {\"train_binary_classification_cross_entropy_objective\": {\"sum\": 0.5026368508995126, \"count\": 1, \"min\": 0.5026368508995126, \"max\": 0.5026368508995126}}}\u001b[0m\n",
      "\u001b[34m#metrics {\"StartTime\": 1727349147.1739187, \"EndTime\": 1727349147.1739292, \"Dimensions\": {\"Algorithm\": \"Linear Learner\", \"Host\": \"algo-1\", \"Operation\": \"training\", \"epoch\": 0, \"model\": 14}, \"Metrics\": {\"train_binary_classification_cross_entropy_objective\": {\"sum\": 0.49462608332736047, \"count\": 1, \"min\": 0.49462608332736047, \"max\": 0.49462608332736047}}}\u001b[0m\n",
      "\u001b[34m#metrics {\"StartTime\": 1727349147.173961, \"EndTime\": 1727349147.1739707, \"Dimensions\": {\"Algorithm\": \"Linear Learner\", \"Host\": \"algo-1\", \"Operation\": \"training\", \"epoch\": 0, \"model\": 15}, \"Metrics\": {\"train_binary_classification_cross_entropy_objective\": {\"sum\": 0.5026807460959898, \"count\": 1, \"min\": 0.5026807460959898, \"max\": 0.5026807460959898}}}\u001b[0m\n",
      "\u001b[34m#metrics {\"StartTime\": 1727349147.1739957, \"EndTime\": 1727349147.1740053, \"Dimensions\": {\"Algorithm\": \"Linear Learner\", \"Host\": \"algo-1\", \"Operation\": \"training\", \"epoch\": 0, \"model\": 16}, \"Metrics\": {\"train_binary_classification_cross_entropy_objective\": {\"sum\": 0.5060573731635324, \"count\": 1, \"min\": 0.5060573731635324, \"max\": 0.5060573731635324}}}\u001b[0m\n",
      "\u001b[34m#metrics {\"StartTime\": 1727349147.1740408, \"EndTime\": 1727349147.1740506, \"Dimensions\": {\"Algorithm\": \"Linear Learner\", \"Host\": \"algo-1\", \"Operation\": \"training\", \"epoch\": 0, \"model\": 17}, \"Metrics\": {\"train_binary_classification_cross_entropy_objective\": {\"sum\": 0.5061801112930344, \"count\": 1, \"min\": 0.5061801112930344, \"max\": 0.5061801112930344}}}\u001b[0m\n",
      "\u001b[34m#metrics {\"StartTime\": 1727349147.174081, \"EndTime\": 1727349147.1740904, \"Dimensions\": {\"Algorithm\": \"Linear Learner\", \"Host\": \"algo-1\", \"Operation\": \"training\", \"epoch\": 0, \"model\": 18}, \"Metrics\": {\"train_binary_classification_cross_entropy_objective\": {\"sum\": 0.5060516506743358, \"count\": 1, \"min\": 0.5060516506743358, \"max\": 0.5060516506743358}}}\u001b[0m\n",
      "\u001b[34m#metrics {\"StartTime\": 1727349147.1741197, \"EndTime\": 1727349147.174129, \"Dimensions\": {\"Algorithm\": \"Linear Learner\", \"Host\": \"algo-1\", \"Operation\": \"training\", \"epoch\": 0, \"model\": 19}, \"Metrics\": {\"train_binary_classification_cross_entropy_objective\": {\"sum\": 0.506130110387773, \"count\": 1, \"min\": 0.506130110387773, \"max\": 0.506130110387773}}}\u001b[0m\n",
      "\u001b[34m#metrics {\"StartTime\": 1727349147.1741796, \"EndTime\": 1727349147.17419, \"Dimensions\": {\"Algorithm\": \"Linear Learner\", \"Host\": \"algo-1\", \"Operation\": \"training\", \"epoch\": 0, \"model\": 20}, \"Metrics\": {\"train_binary_classification_cross_entropy_objective\": {\"sum\": 0.5075386408067989, \"count\": 1, \"min\": 0.5075386408067989, \"max\": 0.5075386408067989}}}\u001b[0m\n",
      "\u001b[34m#metrics {\"StartTime\": 1727349147.174224, \"EndTime\": 1727349147.1742334, \"Dimensions\": {\"Algorithm\": \"Linear Learner\", \"Host\": \"algo-1\", \"Operation\": \"training\", \"epoch\": 0, \"model\": 21}, \"Metrics\": {\"train_binary_classification_cross_entropy_objective\": {\"sum\": 0.5089393237985966, \"count\": 1, \"min\": 0.5089393237985966, \"max\": 0.5089393237985966}}}\u001b[0m\n",
      "\u001b[34m#metrics {\"StartTime\": 1727349147.1742623, \"EndTime\": 1727349147.1742709, \"Dimensions\": {\"Algorithm\": \"Linear Learner\", \"Host\": \"algo-1\", \"Operation\": \"training\", \"epoch\": 0, \"model\": 22}, \"Metrics\": {\"train_binary_classification_cross_entropy_objective\": {\"sum\": 0.5075020660727031, \"count\": 1, \"min\": 0.5075020660727031, \"max\": 0.5075020660727031}}}\u001b[0m\n",
      "\u001b[34m#metrics {\"StartTime\": 1727349147.1743016, \"EndTime\": 1727349147.1743112, \"Dimensions\": {\"Algorithm\": \"Linear Learner\", \"Host\": \"algo-1\", \"Operation\": \"training\", \"epoch\": 0, \"model\": 23}, \"Metrics\": {\"train_binary_classification_cross_entropy_objective\": {\"sum\": 0.508914634471275, \"count\": 1, \"min\": 0.508914634471275, \"max\": 0.508914634471275}}}\u001b[0m\n",
      "\u001b[34m#metrics {\"StartTime\": 1727349147.1743457, \"EndTime\": 1727349147.1743553, \"Dimensions\": {\"Algorithm\": \"Linear Learner\", \"Host\": \"algo-1\", \"Operation\": \"training\", \"epoch\": 0, \"model\": 24}, \"Metrics\": {\"train_binary_classification_cross_entropy_objective\": {\"sum\": 0.5151293393522957, \"count\": 1, \"min\": 0.5151293393522957, \"max\": 0.5151293393522957}}}\u001b[0m\n",
      "\u001b[34m#metrics {\"StartTime\": 1727349147.1743832, \"EndTime\": 1727349147.1743934, \"Dimensions\": {\"Algorithm\": \"Linear Learner\", \"Host\": \"algo-1\", \"Operation\": \"training\", \"epoch\": 0, \"model\": 25}, \"Metrics\": {\"train_binary_classification_cross_entropy_objective\": {\"sum\": 0.5151412258556495, \"count\": 1, \"min\": 0.5151412258556495, \"max\": 0.5151412258556495}}}\u001b[0m\n",
      "\u001b[34m#metrics {\"StartTime\": 1727349147.1744199, \"EndTime\": 1727349147.1744292, \"Dimensions\": {\"Algorithm\": \"Linear Learner\", \"Host\": \"algo-1\", \"Operation\": \"training\", \"epoch\": 0, \"model\": 26}, \"Metrics\": {\"train_binary_classification_cross_entropy_objective\": {\"sum\": 0.5151273936700383, \"count\": 1, \"min\": 0.5151273936700383, \"max\": 0.5151273936700383}}}\u001b[0m\n",
      "\u001b[34m#metrics {\"StartTime\": 1727349147.1744637, \"EndTime\": 1727349147.1744738, \"Dimensions\": {\"Algorithm\": \"Linear Learner\", \"Host\": \"algo-1\", \"Operation\": \"training\", \"epoch\": 0, \"model\": 27}, \"Metrics\": {\"train_binary_classification_cross_entropy_objective\": {\"sum\": 0.5151588634759279, \"count\": 1, \"min\": 0.5151588634759279, \"max\": 0.5151588634759279}}}\u001b[0m\n",
      "\u001b[34m#metrics {\"StartTime\": 1727349147.1744971, \"EndTime\": 1727349147.174507, \"Dimensions\": {\"Algorithm\": \"Linear Learner\", \"Host\": \"algo-1\", \"Operation\": \"training\", \"epoch\": 0, \"model\": 28}, \"Metrics\": {\"train_binary_classification_cross_entropy_objective\": {\"sum\": 0.5152272576848301, \"count\": 1, \"min\": 0.5152272576848301, \"max\": 0.5152272576848301}}}\u001b[0m\n",
      "\u001b[34m#metrics {\"StartTime\": 1727349147.1745348, \"EndTime\": 1727349147.1745446, \"Dimensions\": {\"Algorithm\": \"Linear Learner\", \"Host\": \"algo-1\", \"Operation\": \"training\", \"epoch\": 0, \"model\": 29}, \"Metrics\": {\"train_binary_classification_cross_entropy_objective\": {\"sum\": 0.5156269713935502, \"count\": 1, \"min\": 0.5156269713935502, \"max\": 0.5156269713935502}}}\u001b[0m\n",
      "\u001b[34m#metrics {\"StartTime\": 1727349147.1745772, \"EndTime\": 1727349147.1745863, \"Dimensions\": {\"Algorithm\": \"Linear Learner\", \"Host\": \"algo-1\", \"Operation\": \"training\", \"epoch\": 0, \"model\": 30}, \"Metrics\": {\"train_binary_classification_cross_entropy_objective\": {\"sum\": 0.515218532830568, \"count\": 1, \"min\": 0.515218532830568, \"max\": 0.515218532830568}}}\u001b[0m\n",
      "\u001b[34m#metrics {\"StartTime\": 1727349147.1746173, \"EndTime\": 1727349147.1746278, \"Dimensions\": {\"Algorithm\": \"Linear Learner\", \"Host\": \"algo-1\", \"Operation\": \"training\", \"epoch\": 0, \"model\": 31}, \"Metrics\": {\"train_binary_classification_cross_entropy_objective\": {\"sum\": 0.5156475250757433, \"count\": 1, \"min\": 0.5156475250757433, \"max\": 0.5156475250757433}}}\u001b[0m\n",
      "\u001b[34m[09/26/2024 11:12:27 INFO 140152479487808] #quality_metric: host=algo-1, epoch=0, train binary_classification_cross_entropy_objective <loss>=0.48301151403957915\u001b[0m\n",
      "\u001b[34m[2024-09-26 11:12:27.195] [tensorio] [info] epoch_stats={\"data_pipeline\": \"/opt/ml/input/data/validation\", \"epoch\": 0, \"duration\": 29630, \"num_examples\": 1, \"num_bytes\": 388000}\u001b[0m\n",
      "\u001b[34m[2024-09-26 11:12:30.251] [tensorio] [info] epoch_stats={\"data_pipeline\": \"/opt/ml/input/data/validation\", \"epoch\": 2, \"duration\": 3056, \"num_examples\": 164, \"num_bytes\": 63460892}\u001b[0m\n",
      "\u001b[34m#metrics {\"StartTime\": 1727349150.2574542, \"EndTime\": 1727349150.2575035, \"Dimensions\": {\"Algorithm\": \"Linear Learner\", \"Host\": \"algo-1\", \"Operation\": \"training\", \"epoch\": 0, \"model\": 0}, \"Metrics\": {\"validation_binary_classification_cross_entropy_objective\": {\"sum\": 0.48180578307133365, \"count\": 1, \"min\": 0.48180578307133365, \"max\": 0.48180578307133365}}}\u001b[0m\n",
      "\u001b[34m#metrics {\"StartTime\": 1727349150.2575707, \"EndTime\": 1727349150.2575836, \"Dimensions\": {\"Algorithm\": \"Linear Learner\", \"Host\": \"algo-1\", \"Operation\": \"training\", \"epoch\": 0, \"model\": 1}, \"Metrics\": {\"validation_binary_classification_cross_entropy_objective\": {\"sum\": 0.48264347789378803, \"count\": 1, \"min\": 0.48264347789378803, \"max\": 0.48264347789378803}}}\u001b[0m\n",
      "\u001b[34m#metrics {\"StartTime\": 1727349150.2576215, \"EndTime\": 1727349150.2576325, \"Dimensions\": {\"Algorithm\": \"Linear Learner\", \"Host\": \"algo-1\", \"Operation\": \"training\", \"epoch\": 0, \"model\": 2}, \"Metrics\": {\"validation_binary_classification_cross_entropy_objective\": {\"sum\": 0.48180735887092924, \"count\": 1, \"min\": 0.48180735887092924, \"max\": 0.48180735887092924}}}\u001b[0m\n",
      "\u001b[34m#metrics {\"StartTime\": 1727349150.2576685, \"EndTime\": 1727349150.2576761, \"Dimensions\": {\"Algorithm\": \"Linear Learner\", \"Host\": \"algo-1\", \"Operation\": \"training\", \"epoch\": 0, \"model\": 3}, \"Metrics\": {\"validation_binary_classification_cross_entropy_objective\": {\"sum\": 0.4826441753467379, \"count\": 1, \"min\": 0.4826441753467379, \"max\": 0.4826441753467379}}}\u001b[0m\n",
      "\u001b[34m#metrics {\"StartTime\": 1727349150.2577014, \"EndTime\": 1727349150.2577093, \"Dimensions\": {\"Algorithm\": \"Linear Learner\", \"Host\": \"algo-1\", \"Operation\": \"training\", \"epoch\": 0, \"model\": 4}, \"Metrics\": {\"validation_binary_classification_cross_entropy_objective\": {\"sum\": 0.48650097895525996, \"count\": 1, \"min\": 0.48650097895525996, \"max\": 0.48650097895525996}}}\u001b[0m\n",
      "\u001b[34m#metrics {\"StartTime\": 1727349150.2577455, \"EndTime\": 1727349150.257754, \"Dimensions\": {\"Algorithm\": \"Linear Learner\", \"Host\": \"algo-1\", \"Operation\": \"training\", \"epoch\": 0, \"model\": 5}, \"Metrics\": {\"validation_binary_classification_cross_entropy_objective\": {\"sum\": 0.50331245800057, \"count\": 1, \"min\": 0.50331245800057, \"max\": 0.50331245800057}}}\u001b[0m\n",
      "\u001b[34m#metrics {\"StartTime\": 1727349150.2577837, \"EndTime\": 1727349150.2577891, \"Dimensions\": {\"Algorithm\": \"Linear Learner\", \"Host\": \"algo-1\", \"Operation\": \"training\", \"epoch\": 0, \"model\": 6}, \"Metrics\": {\"validation_binary_classification_cross_entropy_objective\": {\"sum\": 0.48650168788315806, \"count\": 1, \"min\": 0.48650168788315806, \"max\": 0.48650168788315806}}}\u001b[0m\n",
      "\u001b[34m#metrics {\"StartTime\": 1727349150.2578073, \"EndTime\": 1727349150.2578125, \"Dimensions\": {\"Algorithm\": \"Linear Learner\", \"Host\": \"algo-1\", \"Operation\": \"training\", \"epoch\": 0, \"model\": 7}, \"Metrics\": {\"validation_binary_classification_cross_entropy_objective\": {\"sum\": 0.5033080926690516, \"count\": 1, \"min\": 0.5033080926690516, \"max\": 0.5033080926690516}}}\u001b[0m\n",
      "\u001b[34m#metrics {\"StartTime\": 1727349150.2578385, \"EndTime\": 1727349150.257847, \"Dimensions\": {\"Algorithm\": \"Linear Learner\", \"Host\": \"algo-1\", \"Operation\": \"training\", \"epoch\": 0, \"model\": 8}, \"Metrics\": {\"validation_binary_classification_cross_entropy_objective\": {\"sum\": 0.4821170755597345, \"count\": 1, \"min\": 0.4821170755597345, \"max\": 0.4821170755597345}}}\u001b[0m\n",
      "\u001b[34m#metrics {\"StartTime\": 1727349150.2578845, \"EndTime\": 1727349150.2578933, \"Dimensions\": {\"Algorithm\": \"Linear Learner\", \"Host\": \"algo-1\", \"Operation\": \"training\", \"epoch\": 0, \"model\": 9}, \"Metrics\": {\"validation_binary_classification_cross_entropy_objective\": {\"sum\": 0.48290581825311435, \"count\": 1, \"min\": 0.48290581825311435, \"max\": 0.48290581825311435}}}\u001b[0m\n",
      "\u001b[34m#metrics {\"StartTime\": 1727349150.2579286, \"EndTime\": 1727349150.2579381, \"Dimensions\": {\"Algorithm\": \"Linear Learner\", \"Host\": \"algo-1\", \"Operation\": \"training\", \"epoch\": 0, \"model\": 10}, \"Metrics\": {\"validation_binary_classification_cross_entropy_objective\": {\"sum\": 0.4821165405286125, \"count\": 1, \"min\": 0.4821165405286125, \"max\": 0.4821165405286125}}}\u001b[0m\n",
      "\u001b[34m#metrics {\"StartTime\": 1727349150.2579732, \"EndTime\": 1727349150.2579823, \"Dimensions\": {\"Algorithm\": \"Linear Learner\", \"Host\": \"algo-1\", \"Operation\": \"training\", \"epoch\": 0, \"model\": 11}, \"Metrics\": {\"validation_binary_classification_cross_entropy_objective\": {\"sum\": 0.4829031645547249, \"count\": 1, \"min\": 0.4829031645547249, \"max\": 0.4829031645547249}}}\u001b[0m\n",
      "\u001b[34m#metrics {\"StartTime\": 1727349150.2580168, \"EndTime\": 1727349150.258027, \"Dimensions\": {\"Algorithm\": \"Linear Learner\", \"Host\": \"algo-1\", \"Operation\": \"training\", \"epoch\": 0, \"model\": 12}, \"Metrics\": {\"validation_binary_classification_cross_entropy_objective\": {\"sum\": 0.48639830690277475, \"count\": 1, \"min\": 0.48639830690277475, \"max\": 0.48639830690277475}}}\u001b[0m\n",
      "\u001b[34m#metrics {\"StartTime\": 1727349150.2580616, \"EndTime\": 1727349150.2580712, \"Dimensions\": {\"Algorithm\": \"Linear Learner\", \"Host\": \"algo-1\", \"Operation\": \"training\", \"epoch\": 0, \"model\": 13}, \"Metrics\": {\"validation_binary_classification_cross_entropy_objective\": {\"sum\": 0.5012240261953685, \"count\": 1, \"min\": 0.5012240261953685, \"max\": 0.5012240261953685}}}\u001b[0m\n",
      "\u001b[34m#metrics {\"StartTime\": 1727349150.2581086, \"EndTime\": 1727349150.258118, \"Dimensions\": {\"Algorithm\": \"Linear Learner\", \"Host\": \"algo-1\", \"Operation\": \"training\", \"epoch\": 0, \"model\": 14}, \"Metrics\": {\"validation_binary_classification_cross_entropy_objective\": {\"sum\": 0.48639674164520474, \"count\": 1, \"min\": 0.48639674164520474, \"max\": 0.48639674164520474}}}\u001b[0m\n",
      "\u001b[34m#metrics {\"StartTime\": 1727349150.2581525, \"EndTime\": 1727349150.2581823, \"Dimensions\": {\"Algorithm\": \"Linear Learner\", \"Host\": \"algo-1\", \"Operation\": \"training\", \"epoch\": 0, \"model\": 15}, \"Metrics\": {\"validation_binary_classification_cross_entropy_objective\": {\"sum\": 0.5012305878133163, \"count\": 1, \"min\": 0.5012305878133163, \"max\": 0.5012305878133163}}}\u001b[0m\n",
      "\u001b[34m#metrics {\"StartTime\": 1727349150.258219, \"EndTime\": 1727349150.2582288, \"Dimensions\": {\"Algorithm\": \"Linear Learner\", \"Host\": \"algo-1\", \"Operation\": \"training\", \"epoch\": 0, \"model\": 16}, \"Metrics\": {\"validation_binary_classification_cross_entropy_objective\": {\"sum\": 0.5052294408319756, \"count\": 1, \"min\": 0.5052294408319756, \"max\": 0.5052294408319756}}}\u001b[0m\n",
      "\u001b[34m#metrics {\"StartTime\": 1727349150.2582636, \"EndTime\": 1727349150.2582734, \"Dimensions\": {\"Algorithm\": \"Linear Learner\", \"Host\": \"algo-1\", \"Operation\": \"training\", \"epoch\": 0, \"model\": 17}, \"Metrics\": {\"validation_binary_classification_cross_entropy_objective\": {\"sum\": 0.5047383343191166, \"count\": 1, \"min\": 0.5047383343191166, \"max\": 0.5047383343191166}}}\u001b[0m\n",
      "\u001b[34m#metrics {\"StartTime\": 1727349150.2583072, \"EndTime\": 1727349150.2583172, \"Dimensions\": {\"Algorithm\": \"Linear Learner\", \"Host\": \"algo-1\", \"Operation\": \"training\", \"epoch\": 0, \"model\": 18}, \"Metrics\": {\"validation_binary_classification_cross_entropy_objective\": {\"sum\": 0.5052247698750073, \"count\": 1, \"min\": 0.5052247698750073, \"max\": 0.5052247698750073}}}\u001b[0m\n",
      "\u001b[34m#metrics {\"StartTime\": 1727349150.258354, \"EndTime\": 1727349150.258364, \"Dimensions\": {\"Algorithm\": \"Linear Learner\", \"Host\": \"algo-1\", \"Operation\": \"training\", \"epoch\": 0, \"model\": 19}, \"Metrics\": {\"validation_binary_classification_cross_entropy_objective\": {\"sum\": 0.5047607244619703, \"count\": 1, \"min\": 0.5047607244619703, \"max\": 0.5047607244619703}}}\u001b[0m\n",
      "\u001b[34m#metrics {\"StartTime\": 1727349150.2584014, \"EndTime\": 1727349150.258412, \"Dimensions\": {\"Algorithm\": \"Linear Learner\", \"Host\": \"algo-1\", \"Operation\": \"training\", \"epoch\": 0, \"model\": 20}, \"Metrics\": {\"validation_binary_classification_cross_entropy_objective\": {\"sum\": 0.5070435709970771, \"count\": 1, \"min\": 0.5070435709970771, \"max\": 0.5070435709970771}}}\u001b[0m\n",
      "\u001b[34m#metrics {\"StartTime\": 1727349150.2584438, \"EndTime\": 1727349150.2584527, \"Dimensions\": {\"Algorithm\": \"Linear Learner\", \"Host\": \"algo-1\", \"Operation\": \"training\", \"epoch\": 0, \"model\": 21}, \"Metrics\": {\"validation_binary_classification_cross_entropy_objective\": {\"sum\": 0.5066736800530146, \"count\": 1, \"min\": 0.5066736800530146, \"max\": 0.5066736800530146}}}\u001b[0m\n",
      "\u001b[34m#metrics {\"StartTime\": 1727349150.258484, \"EndTime\": 1727349150.2584925, \"Dimensions\": {\"Algorithm\": \"Linear Learner\", \"Host\": \"algo-1\", \"Operation\": \"training\", \"epoch\": 0, \"model\": 22}, \"Metrics\": {\"validation_binary_classification_cross_entropy_objective\": {\"sum\": 0.5070403080069252, \"count\": 1, \"min\": 0.5070403080069252, \"max\": 0.5070403080069252}}}\u001b[0m\n",
      "\u001b[34m#metrics {\"StartTime\": 1727349150.2585118, \"EndTime\": 1727349150.2585177, \"Dimensions\": {\"Algorithm\": \"Linear Learner\", \"Host\": \"algo-1\", \"Operation\": \"training\", \"epoch\": 0, \"model\": 23}, \"Metrics\": {\"validation_binary_classification_cross_entropy_objective\": {\"sum\": 0.5066725540154136, \"count\": 1, \"min\": 0.5066725540154136, \"max\": 0.5066725540154136}}}\u001b[0m\n",
      "\u001b[34m#metrics {\"StartTime\": 1727349150.258552, \"EndTime\": 1727349150.2585611, \"Dimensions\": {\"Algorithm\": \"Linear Learner\", \"Host\": \"algo-1\", \"Operation\": \"training\", \"epoch\": 0, \"model\": 24}, \"Metrics\": {\"validation_binary_classification_cross_entropy_objective\": {\"sum\": 0.5138410636888748, \"count\": 1, \"min\": 0.5138410636888748, \"max\": 0.5138410636888748}}}\u001b[0m\n",
      "\u001b[34m#metrics {\"StartTime\": 1727349150.2585917, \"EndTime\": 1727349150.2586021, \"Dimensions\": {\"Algorithm\": \"Linear Learner\", \"Host\": \"algo-1\", \"Operation\": \"training\", \"epoch\": 0, \"model\": 25}, \"Metrics\": {\"validation_binary_classification_cross_entropy_objective\": {\"sum\": 0.5137933928357251, \"count\": 1, \"min\": 0.5137933928357251, \"max\": 0.5137933928357251}}}\u001b[0m\n",
      "\u001b[34m#metrics {\"StartTime\": 1727349150.2586288, \"EndTime\": 1727349150.258638, \"Dimensions\": {\"Algorithm\": \"Linear Learner\", \"Host\": \"algo-1\", \"Operation\": \"training\", \"epoch\": 0, \"model\": 26}, \"Metrics\": {\"validation_binary_classification_cross_entropy_objective\": {\"sum\": 0.513859998286348, \"count\": 1, \"min\": 0.513859998286348, \"max\": 0.513859998286348}}}\u001b[0m\n",
      "\u001b[34m#metrics {\"StartTime\": 1727349150.2586732, \"EndTime\": 1727349150.2586823, \"Dimensions\": {\"Algorithm\": \"Linear Learner\", \"Host\": \"algo-1\", \"Operation\": \"training\", \"epoch\": 0, \"model\": 27}, \"Metrics\": {\"validation_binary_classification_cross_entropy_objective\": {\"sum\": 0.5138299292574182, \"count\": 1, \"min\": 0.5138299292574182, \"max\": 0.5138299292574182}}}\u001b[0m\n",
      "\u001b[34m#metrics {\"StartTime\": 1727349150.2587125, \"EndTime\": 1727349150.2587228, \"Dimensions\": {\"Algorithm\": \"Linear Learner\", \"Host\": \"algo-1\", \"Operation\": \"training\", \"epoch\": 0, \"model\": 28}, \"Metrics\": {\"validation_binary_classification_cross_entropy_objective\": {\"sum\": 0.5139231099417632, \"count\": 1, \"min\": 0.5139231099417632, \"max\": 0.5139231099417632}}}\u001b[0m\n",
      "\u001b[34m#metrics {\"StartTime\": 1727349150.258749, \"EndTime\": 1727349150.2587593, \"Dimensions\": {\"Algorithm\": \"Linear Learner\", \"Host\": \"algo-1\", \"Operation\": \"training\", \"epoch\": 0, \"model\": 29}, \"Metrics\": {\"validation_binary_classification_cross_entropy_objective\": {\"sum\": 0.51399554391974, \"count\": 1, \"min\": 0.51399554391974, \"max\": 0.51399554391974}}}\u001b[0m\n",
      "\u001b[34m#metrics {\"StartTime\": 1727349150.2587874, \"EndTime\": 1727349150.2587965, \"Dimensions\": {\"Algorithm\": \"Linear Learner\", \"Host\": \"algo-1\", \"Operation\": \"training\", \"epoch\": 0, \"model\": 30}, \"Metrics\": {\"validation_binary_classification_cross_entropy_objective\": {\"sum\": 0.5139364178963373, \"count\": 1, \"min\": 0.5139364178963373, \"max\": 0.5139364178963373}}}\u001b[0m\n",
      "\u001b[34m#metrics {\"StartTime\": 1727349150.2588308, \"EndTime\": 1727349150.258841, \"Dimensions\": {\"Algorithm\": \"Linear Learner\", \"Host\": \"algo-1\", \"Operation\": \"training\", \"epoch\": 0, \"model\": 31}, \"Metrics\": {\"validation_binary_classification_cross_entropy_objective\": {\"sum\": 0.5141111399358493, \"count\": 1, \"min\": 0.5141111399358493, \"max\": 0.5141111399358493}}}\u001b[0m\n",
      "\u001b[34m[09/26/2024 11:12:30 INFO 140152479487808] #quality_metric: host=algo-1, epoch=0, validation binary_classification_cross_entropy_objective <loss>=0.48180578307133365\u001b[0m\n",
      "\u001b[34m[09/26/2024 11:12:30 INFO 140152479487808] #early_stopping_criteria_metric: host=algo-1, epoch=0, criteria=binary_classification_cross_entropy_objective, value=0.48180578307133365\u001b[0m\n",
      "\u001b[34m[09/26/2024 11:12:30 INFO 140152479487808] Epoch 0: Loss improved. Updating best model\u001b[0m\n",
      "\u001b[34m[09/26/2024 11:12:30 INFO 140152479487808] Saving model for epoch: 0\u001b[0m\n",
      "\u001b[34m[09/26/2024 11:12:30 INFO 140152479487808] Saved checkpoint to \"/tmp/tmpxixxkqup/mx-mod-0000.params\"\u001b[0m\n",
      "\u001b[34m[09/26/2024 11:12:30 INFO 140152479487808] #progress_metric: host=algo-1, completed 6.666666666666667 % of epochs\u001b[0m\n",
      "\u001b[34m#metrics {\"StartTime\": 1727349117.815417, \"EndTime\": 1727349150.2643044, \"Dimensions\": {\"Algorithm\": \"Linear Learner\", \"Host\": \"algo-1\", \"Operation\": \"training\", \"epoch\": 0, \"Meta\": \"training_data_iter\"}, \"Metrics\": {\"Total Records Seen\": {\"sum\": 1320472.0, \"count\": 1, \"min\": 1320472, \"max\": 1320472}, \"Total Batches Seen\": {\"sum\": 1321.0, \"count\": 1, \"min\": 1321, \"max\": 1321}, \"Max Records Seen Between Resets\": {\"sum\": 1308472.0, \"count\": 1, \"min\": 1308472, \"max\": 1308472}, \"Max Batches Seen Between Resets\": {\"sum\": 1309.0, \"count\": 1, \"min\": 1309, \"max\": 1309}, \"Reset Count\": {\"sum\": 3.0, \"count\": 1, \"min\": 3, \"max\": 3}, \"Number of Records Since Last Reset\": {\"sum\": 1308472.0, \"count\": 1, \"min\": 1308472, \"max\": 1308472}, \"Number of Batches Since Last Reset\": {\"sum\": 1309.0, \"count\": 1, \"min\": 1309, \"max\": 1309}}}\u001b[0m\n",
      "\u001b[34m[09/26/2024 11:12:30 INFO 140152479487808] #throughput_metric: host=algo-1, train throughput=40323.93688341668 records/second\u001b[0m\n",
      "\u001b[34m[2024-09-26 11:13:00.486] [tensorio] [info] epoch_stats={\"data_pipeline\": \"/opt/ml/input/data/train\", \"epoch\": 5, \"duration\": 30217, \"num_examples\": 1309, \"num_bytes\": 507687136}\u001b[0m\n",
      "\u001b[34m#metrics {\"StartTime\": 1727349180.4863386, \"EndTime\": 1727349180.4864173, \"Dimensions\": {\"Algorithm\": \"Linear Learner\", \"Host\": \"algo-1\", \"Operation\": \"training\", \"epoch\": 1, \"model\": 0}, \"Metrics\": {\"train_binary_classification_cross_entropy_objective\": {\"sum\": 0.48064014763788343, \"count\": 1, \"min\": 0.48064014763788343, \"max\": 0.48064014763788343}}}\u001b[0m\n",
      "\u001b[34m#metrics {\"StartTime\": 1727349180.4864953, \"EndTime\": 1727349180.4865115, \"Dimensions\": {\"Algorithm\": \"Linear Learner\", \"Host\": \"algo-1\", \"Operation\": \"training\", \"epoch\": 1, \"model\": 1}, \"Metrics\": {\"train_binary_classification_cross_entropy_objective\": {\"sum\": 0.4815513670568437, \"count\": 1, \"min\": 0.4815513670568437, \"max\": 0.4815513670568437}}}\u001b[0m\n",
      "\u001b[34m#metrics {\"StartTime\": 1727349180.4865508, \"EndTime\": 1727349180.4865623, \"Dimensions\": {\"Algorithm\": \"Linear Learner\", \"Host\": \"algo-1\", \"Operation\": \"training\", \"epoch\": 1, \"model\": 2}, \"Metrics\": {\"train_binary_classification_cross_entropy_objective\": {\"sum\": 0.48064064310522986, \"count\": 1, \"min\": 0.48064064310522986, \"max\": 0.48064064310522986}}}\u001b[0m\n",
      "\u001b[34m#metrics {\"StartTime\": 1727349180.4866004, \"EndTime\": 1727349180.4866114, \"Dimensions\": {\"Algorithm\": \"Linear Learner\", \"Host\": \"algo-1\", \"Operation\": \"training\", \"epoch\": 1, \"model\": 3}, \"Metrics\": {\"train_binary_classification_cross_entropy_objective\": {\"sum\": 0.48155133310953774, \"count\": 1, \"min\": 0.48155133310953774, \"max\": 0.48155133310953774}}}\u001b[0m\n",
      "\u001b[34m#metrics {\"StartTime\": 1727349180.4866445, \"EndTime\": 1727349180.4866538, \"Dimensions\": {\"Algorithm\": \"Linear Learner\", \"Host\": \"algo-1\", \"Operation\": \"training\", \"epoch\": 1, \"model\": 4}, \"Metrics\": {\"train_binary_classification_cross_entropy_objective\": {\"sum\": 0.48428660658156836, \"count\": 1, \"min\": 0.48428660658156836, \"max\": 0.48428660658156836}}}\u001b[0m\n",
      "\u001b[34m#metrics {\"StartTime\": 1727349180.4866872, \"EndTime\": 1727349180.486697, \"Dimensions\": {\"Algorithm\": \"Linear Learner\", \"Host\": \"algo-1\", \"Operation\": \"training\", \"epoch\": 1, \"model\": 5}, \"Metrics\": {\"train_binary_classification_cross_entropy_objective\": {\"sum\": 0.5009659244175716, \"count\": 1, \"min\": 0.5009659244175716, \"max\": 0.5009659244175716}}}\u001b[0m\n",
      "\u001b[34m#metrics {\"StartTime\": 1727349180.4867377, \"EndTime\": 1727349180.4867477, \"Dimensions\": {\"Algorithm\": \"Linear Learner\", \"Host\": \"algo-1\", \"Operation\": \"training\", \"epoch\": 1, \"model\": 6}, \"Metrics\": {\"train_binary_classification_cross_entropy_objective\": {\"sum\": 0.48428650331643014, \"count\": 1, \"min\": 0.48428650331643014, \"max\": 0.48428650331643014}}}\u001b[0m\n",
      "\u001b[34m#metrics {\"StartTime\": 1727349180.4867802, \"EndTime\": 1727349180.4867895, \"Dimensions\": {\"Algorithm\": \"Linear Learner\", \"Host\": \"algo-1\", \"Operation\": \"training\", \"epoch\": 1, \"model\": 7}, \"Metrics\": {\"train_binary_classification_cross_entropy_objective\": {\"sum\": 0.500965716720721, \"count\": 1, \"min\": 0.500965716720721, \"max\": 0.500965716720721}}}\u001b[0m\n",
      "\u001b[34m#metrics {\"StartTime\": 1727349180.48682, \"EndTime\": 1727349180.4868295, \"Dimensions\": {\"Algorithm\": \"Linear Learner\", \"Host\": \"algo-1\", \"Operation\": \"training\", \"epoch\": 1, \"model\": 8}, \"Metrics\": {\"train_binary_classification_cross_entropy_objective\": {\"sum\": 0.48089300469448076, \"count\": 1, \"min\": 0.48089300469448076, \"max\": 0.48089300469448076}}}\u001b[0m\n",
      "\u001b[34m#metrics {\"StartTime\": 1727349180.4868615, \"EndTime\": 1727349180.4868712, \"Dimensions\": {\"Algorithm\": \"Linear Learner\", \"Host\": \"algo-1\", \"Operation\": \"training\", \"epoch\": 1, \"model\": 9}, \"Metrics\": {\"train_binary_classification_cross_entropy_objective\": {\"sum\": 0.48174819682643316, \"count\": 1, \"min\": 0.48174819682643316, \"max\": 0.48174819682643316}}}\u001b[0m\n",
      "\u001b[34m#metrics {\"StartTime\": 1727349180.486902, \"EndTime\": 1727349180.4869113, \"Dimensions\": {\"Algorithm\": \"Linear Learner\", \"Host\": \"algo-1\", \"Operation\": \"training\", \"epoch\": 1, \"model\": 10}, \"Metrics\": {\"train_binary_classification_cross_entropy_objective\": {\"sum\": 0.4808927670400077, \"count\": 1, \"min\": 0.4808927670400077, \"max\": 0.4808927670400077}}}\u001b[0m\n",
      "\u001b[34m#metrics {\"StartTime\": 1727349180.4869444, \"EndTime\": 1727349180.4869547, \"Dimensions\": {\"Algorithm\": \"Linear Learner\", \"Host\": \"algo-1\", \"Operation\": \"training\", \"epoch\": 1, \"model\": 11}, \"Metrics\": {\"train_binary_classification_cross_entropy_objective\": {\"sum\": 0.48174825349860234, \"count\": 1, \"min\": 0.48174825349860234, \"max\": 0.48174825349860234}}}\u001b[0m\n",
      "\u001b[34m#metrics {\"StartTime\": 1727349180.4869876, \"EndTime\": 1727349180.486996, \"Dimensions\": {\"Algorithm\": \"Linear Learner\", \"Host\": \"algo-1\", \"Operation\": \"training\", \"epoch\": 1, \"model\": 12}, \"Metrics\": {\"train_binary_classification_cross_entropy_objective\": {\"sum\": 0.48430084097859327, \"count\": 1, \"min\": 0.48430084097859327, \"max\": 0.48430084097859327}}}\u001b[0m\n",
      "\u001b[34m#metrics {\"StartTime\": 1727349180.4870262, \"EndTime\": 1727349180.4870353, \"Dimensions\": {\"Algorithm\": \"Linear Learner\", \"Host\": \"algo-1\", \"Operation\": \"training\", \"epoch\": 1, \"model\": 13}, \"Metrics\": {\"train_binary_classification_cross_entropy_objective\": {\"sum\": 0.4996808056379312, \"count\": 1, \"min\": 0.4996808056379312, \"max\": 0.4996808056379312}}}\u001b[0m\n",
      "\u001b[34m#metrics {\"StartTime\": 1727349180.4870658, \"EndTime\": 1727349180.4870758, \"Dimensions\": {\"Algorithm\": \"Linear Learner\", \"Host\": \"algo-1\", \"Operation\": \"training\", \"epoch\": 1, \"model\": 14}, \"Metrics\": {\"train_binary_classification_cross_entropy_objective\": {\"sum\": 0.4843003317923356, \"count\": 1, \"min\": 0.4843003317923356, \"max\": 0.4843003317923356}}}\u001b[0m\n",
      "\u001b[34m#metrics {\"StartTime\": 1727349180.487108, \"EndTime\": 1727349180.4871173, \"Dimensions\": {\"Algorithm\": \"Linear Learner\", \"Host\": \"algo-1\", \"Operation\": \"training\", \"epoch\": 1, \"model\": 15}, \"Metrics\": {\"train_binary_classification_cross_entropy_objective\": {\"sum\": 0.49967997550381066, \"count\": 1, \"min\": 0.49967997550381066, \"max\": 0.49967997550381066}}}\u001b[0m\n",
      "\u001b[34m#metrics {\"StartTime\": 1727349180.487148, \"EndTime\": 1727349180.4871578, \"Dimensions\": {\"Algorithm\": \"Linear Learner\", \"Host\": \"algo-1\", \"Operation\": \"training\", \"epoch\": 1, \"model\": 16}, \"Metrics\": {\"train_binary_classification_cross_entropy_objective\": {\"sum\": 0.5045148511647449, \"count\": 1, \"min\": 0.5045148511647449, \"max\": 0.5045148511647449}}}\u001b[0m\n",
      "\u001b[34m#metrics {\"StartTime\": 1727349180.487191, \"EndTime\": 1727349180.4872, \"Dimensions\": {\"Algorithm\": \"Linear Learner\", \"Host\": \"algo-1\", \"Operation\": \"training\", \"epoch\": 1, \"model\": 17}, \"Metrics\": {\"train_binary_classification_cross_entropy_objective\": {\"sum\": 0.504746336000775, \"count\": 1, \"min\": 0.504746336000775, \"max\": 0.504746336000775}}}\u001b[0m\n",
      "\u001b[34m#metrics {\"StartTime\": 1727349180.4872303, \"EndTime\": 1727349180.4872398, \"Dimensions\": {\"Algorithm\": \"Linear Learner\", \"Host\": \"algo-1\", \"Operation\": \"training\", \"epoch\": 1, \"model\": 18}, \"Metrics\": {\"train_binary_classification_cross_entropy_objective\": {\"sum\": 0.5045150406863711, \"count\": 1, \"min\": 0.5045150406863711, \"max\": 0.5045150406863711}}}\u001b[0m\n",
      "\u001b[34m#metrics {\"StartTime\": 1727349180.4872727, \"EndTime\": 1727349180.487282, \"Dimensions\": {\"Algorithm\": \"Linear Learner\", \"Host\": \"algo-1\", \"Operation\": \"training\", \"epoch\": 1, \"model\": 19}, \"Metrics\": {\"train_binary_classification_cross_entropy_objective\": {\"sum\": 0.5047464385893002, \"count\": 1, \"min\": 0.5047464385893002, \"max\": 0.5047464385893002}}}\u001b[0m\n",
      "\u001b[34m#metrics {\"StartTime\": 1727349180.4873128, \"EndTime\": 1727349180.487322, \"Dimensions\": {\"Algorithm\": \"Linear Learner\", \"Host\": \"algo-1\", \"Operation\": \"training\", \"epoch\": 1, \"model\": 20}, \"Metrics\": {\"train_binary_classification_cross_entropy_objective\": {\"sum\": 0.5052250637322755, \"count\": 1, \"min\": 0.5052250637322755, \"max\": 0.5052250637322755}}}\u001b[0m\n",
      "\u001b[34m#metrics {\"StartTime\": 1727349180.4873557, \"EndTime\": 1727349180.4873648, \"Dimensions\": {\"Algorithm\": \"Linear Learner\", \"Host\": \"algo-1\", \"Operation\": \"training\", \"epoch\": 1, \"model\": 21}, \"Metrics\": {\"train_binary_classification_cross_entropy_objective\": {\"sum\": 0.5081768098183728, \"count\": 1, \"min\": 0.5081768098183728, \"max\": 0.5081768098183728}}}\u001b[0m\n",
      "\u001b[34m#metrics {\"StartTime\": 1727349180.4873962, \"EndTime\": 1727349180.4874048, \"Dimensions\": {\"Algorithm\": \"Linear Learner\", \"Host\": \"algo-1\", \"Operation\": \"training\", \"epoch\": 1, \"model\": 22}, \"Metrics\": {\"train_binary_classification_cross_entropy_objective\": {\"sum\": 0.5052250496167291, \"count\": 1, \"min\": 0.5052250496167291, \"max\": 0.5052250496167291}}}\u001b[0m\n",
      "\u001b[34m#metrics {\"StartTime\": 1727349180.4874377, \"EndTime\": 1727349180.4874475, \"Dimensions\": {\"Algorithm\": \"Linear Learner\", \"Host\": \"algo-1\", \"Operation\": \"training\", \"epoch\": 1, \"model\": 23}, \"Metrics\": {\"train_binary_classification_cross_entropy_objective\": {\"sum\": 0.5081784591441489, \"count\": 1, \"min\": 0.5081784591441489, \"max\": 0.5081784591441489}}}\u001b[0m\n",
      "\u001b[34m#metrics {\"StartTime\": 1727349180.487478, \"EndTime\": 1727349180.487488, \"Dimensions\": {\"Algorithm\": \"Linear Learner\", \"Host\": \"algo-1\", \"Operation\": \"training\", \"epoch\": 1, \"model\": 24}, \"Metrics\": {\"train_binary_classification_cross_entropy_objective\": {\"sum\": 0.5137260157267253, \"count\": 1, \"min\": 0.5137260157267253, \"max\": 0.5137260157267253}}}\u001b[0m\n",
      "\u001b[34m#metrics {\"StartTime\": 1727349180.487519, \"EndTime\": 1727349180.4875293, \"Dimensions\": {\"Algorithm\": \"Linear Learner\", \"Host\": \"algo-1\", \"Operation\": \"training\", \"epoch\": 1, \"model\": 25}, \"Metrics\": {\"train_binary_classification_cross_entropy_objective\": {\"sum\": 0.5137904512831195, \"count\": 1, \"min\": 0.5137904512831195, \"max\": 0.5137904512831195}}}\u001b[0m\n",
      "\u001b[34m#metrics {\"StartTime\": 1727349180.4875617, \"EndTime\": 1727349180.4875712, \"Dimensions\": {\"Algorithm\": \"Linear Learner\", \"Host\": \"algo-1\", \"Operation\": \"training\", \"epoch\": 1, \"model\": 26}, \"Metrics\": {\"train_binary_classification_cross_entropy_objective\": {\"sum\": 0.5137258899467072, \"count\": 1, \"min\": 0.5137258899467072, \"max\": 0.5137258899467072}}}\u001b[0m\n",
      "\u001b[34m#metrics {\"StartTime\": 1727349180.4876025, \"EndTime\": 1727349180.4876122, \"Dimensions\": {\"Algorithm\": \"Linear Learner\", \"Host\": \"algo-1\", \"Operation\": \"training\", \"epoch\": 1, \"model\": 27}, \"Metrics\": {\"train_binary_classification_cross_entropy_objective\": {\"sum\": 0.513789868392711, \"count\": 1, \"min\": 0.513789868392711, \"max\": 0.513789868392711}}}\u001b[0m\n",
      "\u001b[34m#metrics {\"StartTime\": 1727349180.4876444, \"EndTime\": 1727349180.487654, \"Dimensions\": {\"Algorithm\": \"Linear Learner\", \"Host\": \"algo-1\", \"Operation\": \"training\", \"epoch\": 1, \"model\": 28}, \"Metrics\": {\"train_binary_classification_cross_entropy_objective\": {\"sum\": 0.5139893416658454, \"count\": 1, \"min\": 0.5139893416658454, \"max\": 0.5139893416658454}}}\u001b[0m\n",
      "\u001b[34m#metrics {\"StartTime\": 1727349180.4876847, \"EndTime\": 1727349180.4876945, \"Dimensions\": {\"Algorithm\": \"Linear Learner\", \"Host\": \"algo-1\", \"Operation\": \"training\", \"epoch\": 1, \"model\": 29}, \"Metrics\": {\"train_binary_classification_cross_entropy_objective\": {\"sum\": 0.5151013387744215, \"count\": 1, \"min\": 0.5151013387744215, \"max\": 0.5151013387744215}}}\u001b[0m\n",
      "\u001b[34m#metrics {\"StartTime\": 1727349180.4877267, \"EndTime\": 1727349180.4877355, \"Dimensions\": {\"Algorithm\": \"Linear Learner\", \"Host\": \"algo-1\", \"Operation\": \"training\", \"epoch\": 1, \"model\": 30}, \"Metrics\": {\"train_binary_classification_cross_entropy_objective\": {\"sum\": 0.5139882643113443, \"count\": 1, \"min\": 0.5139882643113443, \"max\": 0.5139882643113443}}}\u001b[0m\n",
      "\u001b[34m#metrics {\"StartTime\": 1727349180.4877665, \"EndTime\": 1727349180.4877758, \"Dimensions\": {\"Algorithm\": \"Linear Learner\", \"Host\": \"algo-1\", \"Operation\": \"training\", \"epoch\": 1, \"model\": 31}, \"Metrics\": {\"train_binary_classification_cross_entropy_objective\": {\"sum\": 0.5150964351969027, \"count\": 1, \"min\": 0.5150964351969027, \"max\": 0.5150964351969027}}}\u001b[0m\n",
      "\u001b[34m[09/26/2024 11:13:00 INFO 140152479487808] #quality_metric: host=algo-1, epoch=1, train binary_classification_cross_entropy_objective <loss>=0.48064014763788343\u001b[0m\n",
      "\u001b[34m[2024-09-26 11:13:03.687] [tensorio] [info] epoch_stats={\"data_pipeline\": \"/opt/ml/input/data/validation\", \"epoch\": 5, \"duration\": 3185, \"num_examples\": 164, \"num_bytes\": 63460892}\u001b[0m\n",
      "\u001b[34m#metrics {\"StartTime\": 1727349183.6924646, \"EndTime\": 1727349183.6925156, \"Dimensions\": {\"Algorithm\": \"Linear Learner\", \"Host\": \"algo-1\", \"Operation\": \"training\", \"epoch\": 1, \"model\": 0}, \"Metrics\": {\"validation_binary_classification_cross_entropy_objective\": {\"sum\": 0.4815036679293195, \"count\": 1, \"min\": 0.4815036679293195, \"max\": 0.4815036679293195}}}\u001b[0m\n",
      "\u001b[34m#metrics {\"StartTime\": 1727349183.6926055, \"EndTime\": 1727349183.6926208, \"Dimensions\": {\"Algorithm\": \"Linear Learner\", \"Host\": \"algo-1\", \"Operation\": \"training\", \"epoch\": 1, \"model\": 1}, \"Metrics\": {\"validation_binary_classification_cross_entropy_objective\": {\"sum\": 0.4824760229483082, \"count\": 1, \"min\": 0.4824760229483082, \"max\": 0.4824760229483082}}}\u001b[0m\n",
      "\u001b[34m#metrics {\"StartTime\": 1727349183.6926641, \"EndTime\": 1727349183.6926742, \"Dimensions\": {\"Algorithm\": \"Linear Learner\", \"Host\": \"algo-1\", \"Operation\": \"training\", \"epoch\": 1, \"model\": 2}, \"Metrics\": {\"validation_binary_classification_cross_entropy_objective\": {\"sum\": 0.4815045260315443, \"count\": 1, \"min\": 0.4815045260315443, \"max\": 0.4815045260315443}}}\u001b[0m\n",
      "\u001b[34m#metrics {\"StartTime\": 1727349183.692714, \"EndTime\": 1727349183.6927302, \"Dimensions\": {\"Algorithm\": \"Linear Learner\", \"Host\": \"algo-1\", \"Operation\": \"training\", \"epoch\": 1, \"model\": 3}, \"Metrics\": {\"validation_binary_classification_cross_entropy_objective\": {\"sum\": 0.48247620449504985, \"count\": 1, \"min\": 0.48247620449504985, \"max\": 0.48247620449504985}}}\u001b[0m\n",
      "\u001b[34m#metrics {\"StartTime\": 1727349183.6927707, \"EndTime\": 1727349183.692781, \"Dimensions\": {\"Algorithm\": \"Linear Learner\", \"Host\": \"algo-1\", \"Operation\": \"training\", \"epoch\": 1, \"model\": 4}, \"Metrics\": {\"validation_binary_classification_cross_entropy_objective\": {\"sum\": 0.48361862878857337, \"count\": 1, \"min\": 0.48361862878857337, \"max\": 0.48361862878857337}}}\u001b[0m\n",
      "\u001b[34m#metrics {\"StartTime\": 1727349183.6928165, \"EndTime\": 1727349183.692826, \"Dimensions\": {\"Algorithm\": \"Linear Learner\", \"Host\": \"algo-1\", \"Operation\": \"training\", \"epoch\": 1, \"model\": 5}, \"Metrics\": {\"validation_binary_classification_cross_entropy_objective\": {\"sum\": 0.501483090037165, \"count\": 1, \"min\": 0.501483090037165, \"max\": 0.501483090037165}}}\u001b[0m\n",
      "\u001b[34m#metrics {\"StartTime\": 1727349183.692866, \"EndTime\": 1727349183.6928768, \"Dimensions\": {\"Algorithm\": \"Linear Learner\", \"Host\": \"algo-1\", \"Operation\": \"training\", \"epoch\": 1, \"model\": 6}, \"Metrics\": {\"validation_binary_classification_cross_entropy_objective\": {\"sum\": 0.4836184025548383, \"count\": 1, \"min\": 0.4836184025548383, \"max\": 0.4836184025548383}}}\u001b[0m\n",
      "\u001b[34m#metrics {\"StartTime\": 1727349183.6929178, \"EndTime\": 1727349183.6929283, \"Dimensions\": {\"Algorithm\": \"Linear Learner\", \"Host\": \"algo-1\", \"Operation\": \"training\", \"epoch\": 1, \"model\": 7}, \"Metrics\": {\"validation_binary_classification_cross_entropy_objective\": {\"sum\": 0.5014826849621639, \"count\": 1, \"min\": 0.5014826849621639, \"max\": 0.5014826849621639}}}\u001b[0m\n",
      "\u001b[34m#metrics {\"StartTime\": 1727349183.6929693, \"EndTime\": 1727349183.6929796, \"Dimensions\": {\"Algorithm\": \"Linear Learner\", \"Host\": \"algo-1\", \"Operation\": \"training\", \"epoch\": 1, \"model\": 8}, \"Metrics\": {\"validation_binary_classification_cross_entropy_objective\": {\"sum\": 0.48177402489271004, \"count\": 1, \"min\": 0.48177402489271004, \"max\": 0.48177402489271004}}}\u001b[0m\n",
      "\u001b[34m#metrics {\"StartTime\": 1727349183.6930213, \"EndTime\": 1727349183.6930323, \"Dimensions\": {\"Algorithm\": \"Linear Learner\", \"Host\": \"algo-1\", \"Operation\": \"training\", \"epoch\": 1, \"model\": 9}, \"Metrics\": {\"validation_binary_classification_cross_entropy_objective\": {\"sum\": 0.4827519217519318, \"count\": 1, \"min\": 0.4827519217519318, \"max\": 0.4827519217519318}}}\u001b[0m\n",
      "\u001b[34m#metrics {\"StartTime\": 1727349183.693073, \"EndTime\": 1727349183.6930838, \"Dimensions\": {\"Algorithm\": \"Linear Learner\", \"Host\": \"algo-1\", \"Operation\": \"training\", \"epoch\": 1, \"model\": 10}, \"Metrics\": {\"validation_binary_classification_cross_entropy_objective\": {\"sum\": 0.4817737713243422, \"count\": 1, \"min\": 0.4817737713243422, \"max\": 0.4817737713243422}}}\u001b[0m\n",
      "\u001b[34m#metrics {\"StartTime\": 1727349183.6931255, \"EndTime\": 1727349183.6931362, \"Dimensions\": {\"Algorithm\": \"Linear Learner\", \"Host\": \"algo-1\", \"Operation\": \"training\", \"epoch\": 1, \"model\": 11}, \"Metrics\": {\"validation_binary_classification_cross_entropy_objective\": {\"sum\": 0.48275146098145033, \"count\": 1, \"min\": 0.48275146098145033, \"max\": 0.48275146098145033}}}\u001b[0m\n",
      "\u001b[34m#metrics {\"StartTime\": 1727349183.6931698, \"EndTime\": 1727349183.6931798, \"Dimensions\": {\"Algorithm\": \"Linear Learner\", \"Host\": \"algo-1\", \"Operation\": \"training\", \"epoch\": 1, \"model\": 12}, \"Metrics\": {\"validation_binary_classification_cross_entropy_objective\": {\"sum\": 0.4838170998660257, \"count\": 1, \"min\": 0.4838170998660257, \"max\": 0.4838170998660257}}}\u001b[0m\n",
      "\u001b[34m#metrics {\"StartTime\": 1727349183.6932197, \"EndTime\": 1727349183.6932306, \"Dimensions\": {\"Algorithm\": \"Linear Learner\", \"Host\": \"algo-1\", \"Operation\": \"training\", \"epoch\": 1, \"model\": 13}, \"Metrics\": {\"validation_binary_classification_cross_entropy_objective\": {\"sum\": 0.5000914769810584, \"count\": 1, \"min\": 0.5000914769810584, \"max\": 0.5000914769810584}}}\u001b[0m\n",
      "\u001b[34m#metrics {\"StartTime\": 1727349183.6932707, \"EndTime\": 1727349183.693282, \"Dimensions\": {\"Algorithm\": \"Linear Learner\", \"Host\": \"algo-1\", \"Operation\": \"training\", \"epoch\": 1, \"model\": 14}, \"Metrics\": {\"validation_binary_classification_cross_entropy_objective\": {\"sum\": 0.4838166334980086, \"count\": 1, \"min\": 0.4838166334980086, \"max\": 0.4838166334980086}}}\u001b[0m\n",
      "\u001b[34m#metrics {\"StartTime\": 1727349183.6933217, \"EndTime\": 1727349183.6933324, \"Dimensions\": {\"Algorithm\": \"Linear Learner\", \"Host\": \"algo-1\", \"Operation\": \"training\", \"epoch\": 1, \"model\": 15}, \"Metrics\": {\"validation_binary_classification_cross_entropy_objective\": {\"sum\": 0.5000896878220599, \"count\": 1, \"min\": 0.5000896878220599, \"max\": 0.5000896878220599}}}\u001b[0m\n",
      "\u001b[34m#metrics {\"StartTime\": 1727349183.6933722, \"EndTime\": 1727349183.693383, \"Dimensions\": {\"Algorithm\": \"Linear Learner\", \"Host\": \"algo-1\", \"Operation\": \"training\", \"epoch\": 1, \"model\": 16}, \"Metrics\": {\"validation_binary_classification_cross_entropy_objective\": {\"sum\": 0.5049798469010991, \"count\": 1, \"min\": 0.5049798469010991, \"max\": 0.5049798469010991}}}\u001b[0m\n",
      "\u001b[34m#metrics {\"StartTime\": 1727349183.6934228, \"EndTime\": 1727349183.6934335, \"Dimensions\": {\"Algorithm\": \"Linear Learner\", \"Host\": \"algo-1\", \"Operation\": \"training\", \"epoch\": 1, \"model\": 17}, \"Metrics\": {\"validation_binary_classification_cross_entropy_objective\": {\"sum\": 0.5048002148898438, \"count\": 1, \"min\": 0.5048002148898438, \"max\": 0.5048002148898438}}}\u001b[0m\n",
      "\u001b[34m#metrics {\"StartTime\": 1727349183.6934688, \"EndTime\": 1727349183.693479, \"Dimensions\": {\"Algorithm\": \"Linear Learner\", \"Host\": \"algo-1\", \"Operation\": \"training\", \"epoch\": 1, \"model\": 18}, \"Metrics\": {\"validation_binary_classification_cross_entropy_objective\": {\"sum\": 0.5049794922039195, \"count\": 1, \"min\": 0.5049794922039195, \"max\": 0.5049794922039195}}}\u001b[0m\n",
      "\u001b[34m#metrics {\"StartTime\": 1727349183.69352, \"EndTime\": 1727349183.6935306, \"Dimensions\": {\"Algorithm\": \"Linear Learner\", \"Host\": \"algo-1\", \"Operation\": \"training\", \"epoch\": 1, \"model\": 19}, \"Metrics\": {\"validation_binary_classification_cross_entropy_objective\": {\"sum\": 0.5048010578787223, \"count\": 1, \"min\": 0.5048010578787223, \"max\": 0.5048010578787223}}}\u001b[0m\n",
      "\u001b[34m#metrics {\"StartTime\": 1727349183.6935718, \"EndTime\": 1727349183.6935828, \"Dimensions\": {\"Algorithm\": \"Linear Learner\", \"Host\": \"algo-1\", \"Operation\": \"training\", \"epoch\": 1, \"model\": 20}, \"Metrics\": {\"validation_binary_classification_cross_entropy_objective\": {\"sum\": 0.5054335674729283, \"count\": 1, \"min\": 0.5054335674729283, \"max\": 0.5054335674729283}}}\u001b[0m\n",
      "\u001b[34m#metrics {\"StartTime\": 1727349183.6936247, \"EndTime\": 1727349183.6936357, \"Dimensions\": {\"Algorithm\": \"Linear Learner\", \"Host\": \"algo-1\", \"Operation\": \"training\", \"epoch\": 1, \"model\": 21}, \"Metrics\": {\"validation_binary_classification_cross_entropy_objective\": {\"sum\": 0.5060371753109854, \"count\": 1, \"min\": 0.5060371753109854, \"max\": 0.5060371753109854}}}\u001b[0m\n",
      "\u001b[34m#metrics {\"StartTime\": 1727349183.6936774, \"EndTime\": 1727349183.6936882, \"Dimensions\": {\"Algorithm\": \"Linear Learner\", \"Host\": \"algo-1\", \"Operation\": \"training\", \"epoch\": 1, \"model\": 22}, \"Metrics\": {\"validation_binary_classification_cross_entropy_objective\": {\"sum\": 0.5054356805426602, \"count\": 1, \"min\": 0.5054356805426602, \"max\": 0.5054356805426602}}}\u001b[0m\n",
      "\u001b[34m#metrics {\"StartTime\": 1727349183.6937292, \"EndTime\": 1727349183.6937404, \"Dimensions\": {\"Algorithm\": \"Linear Learner\", \"Host\": \"algo-1\", \"Operation\": \"training\", \"epoch\": 1, \"model\": 23}, \"Metrics\": {\"validation_binary_classification_cross_entropy_objective\": {\"sum\": 0.5060367517641163, \"count\": 1, \"min\": 0.5060367517641163, \"max\": 0.5060367517641163}}}\u001b[0m\n",
      "\u001b[34m#metrics {\"StartTime\": 1727349183.693781, \"EndTime\": 1727349183.6937914, \"Dimensions\": {\"Algorithm\": \"Linear Learner\", \"Host\": \"algo-1\", \"Operation\": \"training\", \"epoch\": 1, \"model\": 24}, \"Metrics\": {\"validation_binary_classification_cross_entropy_objective\": {\"sum\": 0.5137463578626325, \"count\": 1, \"min\": 0.5137463578626325, \"max\": 0.5137463578626325}}}\u001b[0m\n",
      "\u001b[34m#metrics {\"StartTime\": 1727349183.6938322, \"EndTime\": 1727349183.6938426, \"Dimensions\": {\"Algorithm\": \"Linear Learner\", \"Host\": \"algo-1\", \"Operation\": \"training\", \"epoch\": 1, \"model\": 25}, \"Metrics\": {\"validation_binary_classification_cross_entropy_objective\": {\"sum\": 0.5138744393687351, \"count\": 1, \"min\": 0.5138744393687351, \"max\": 0.5138744393687351}}}\u001b[0m\n",
      "\u001b[34m#metrics {\"StartTime\": 1727349183.6938834, \"EndTime\": 1727349183.6938937, \"Dimensions\": {\"Algorithm\": \"Linear Learner\", \"Host\": \"algo-1\", \"Operation\": \"training\", \"epoch\": 1, \"model\": 26}, \"Metrics\": {\"validation_binary_classification_cross_entropy_objective\": {\"sum\": 0.5137485388491309, \"count\": 1, \"min\": 0.5137485388491309, \"max\": 0.5137485388491309}}}\u001b[0m\n",
      "\u001b[34m#metrics {\"StartTime\": 1727349183.6939344, \"EndTime\": 1727349183.693945, \"Dimensions\": {\"Algorithm\": \"Linear Learner\", \"Host\": \"algo-1\", \"Operation\": \"training\", \"epoch\": 1, \"model\": 27}, \"Metrics\": {\"validation_binary_classification_cross_entropy_objective\": {\"sum\": 0.5138167530315179, \"count\": 1, \"min\": 0.5138167530315179, \"max\": 0.5138167530315179}}}\u001b[0m\n",
      "\u001b[34m#metrics {\"StartTime\": 1727349183.6939836, \"EndTime\": 1727349183.6939943, \"Dimensions\": {\"Algorithm\": \"Linear Learner\", \"Host\": \"algo-1\", \"Operation\": \"training\", \"epoch\": 1, \"model\": 28}, \"Metrics\": {\"validation_binary_classification_cross_entropy_objective\": {\"sum\": 0.5141771531671938, \"count\": 1, \"min\": 0.5141771531671938, \"max\": 0.5141771531671938}}}\u001b[0m\n",
      "\u001b[34m#metrics {\"StartTime\": 1727349183.6940339, \"EndTime\": 1727349183.6940446, \"Dimensions\": {\"Algorithm\": \"Linear Learner\", \"Host\": \"algo-1\", \"Operation\": \"training\", \"epoch\": 1, \"model\": 29}, \"Metrics\": {\"validation_binary_classification_cross_entropy_objective\": {\"sum\": 0.5137640568973892, \"count\": 1, \"min\": 0.5137640568973892, \"max\": 0.5137640568973892}}}\u001b[0m\n",
      "\u001b[34m#metrics {\"StartTime\": 1727349183.694086, \"EndTime\": 1727349183.694097, \"Dimensions\": {\"Algorithm\": \"Linear Learner\", \"Host\": \"algo-1\", \"Operation\": \"training\", \"epoch\": 1, \"model\": 30}, \"Metrics\": {\"validation_binary_classification_cross_entropy_objective\": {\"sum\": 0.5141725678525219, \"count\": 1, \"min\": 0.5141725678525219, \"max\": 0.5141725678525219}}}\u001b[0m\n",
      "\u001b[34m#metrics {\"StartTime\": 1727349183.6941373, \"EndTime\": 1727349183.6941483, \"Dimensions\": {\"Algorithm\": \"Linear Learner\", \"Host\": \"algo-1\", \"Operation\": \"training\", \"epoch\": 1, \"model\": 31}, \"Metrics\": {\"validation_binary_classification_cross_entropy_objective\": {\"sum\": 0.5137939109809476, \"count\": 1, \"min\": 0.5137939109809476, \"max\": 0.5137939109809476}}}\u001b[0m\n",
      "\u001b[34m[09/26/2024 11:13:03 INFO 140152479487808] #quality_metric: host=algo-1, epoch=1, validation binary_classification_cross_entropy_objective <loss>=0.4815036679293195\u001b[0m\n",
      "\u001b[34m[09/26/2024 11:13:03 INFO 140152479487808] #early_stopping_criteria_metric: host=algo-1, epoch=1, criteria=binary_classification_cross_entropy_objective, value=0.4815036679293195\u001b[0m\n",
      "\u001b[34m[09/26/2024 11:13:03 INFO 140152479487808] Saving model for epoch: 1\u001b[0m\n",
      "\u001b[34m[09/26/2024 11:13:03 INFO 140152479487808] Saved checkpoint to \"/tmp/tmpv6vagqgk/mx-mod-0000.params\"\u001b[0m\n",
      "\u001b[34m[09/26/2024 11:13:03 INFO 140152479487808] #progress_metric: host=algo-1, completed 13.333333333333334 % of epochs\u001b[0m\n",
      "\u001b[34m#metrics {\"StartTime\": 1727349150.2684755, \"EndTime\": 1727349183.7001457, \"Dimensions\": {\"Algorithm\": \"Linear Learner\", \"Host\": \"algo-1\", \"Operation\": \"training\", \"epoch\": 1, \"Meta\": \"training_data_iter\"}, \"Metrics\": {\"Total Records Seen\": {\"sum\": 2628944.0, \"count\": 1, \"min\": 2628944, \"max\": 2628944}, \"Total Batches Seen\": {\"sum\": 2630.0, \"count\": 1, \"min\": 2630, \"max\": 2630}, \"Max Records Seen Between Resets\": {\"sum\": 1308472.0, \"count\": 1, \"min\": 1308472, \"max\": 1308472}, \"Max Batches Seen Between Resets\": {\"sum\": 1309.0, \"count\": 1, \"min\": 1309, \"max\": 1309}, \"Reset Count\": {\"sum\": 4.0, \"count\": 1, \"min\": 4, \"max\": 4}, \"Number of Records Since Last Reset\": {\"sum\": 1308472.0, \"count\": 1, \"min\": 1308472, \"max\": 1308472}, \"Number of Batches Since Last Reset\": {\"sum\": 1309.0, \"count\": 1, \"min\": 1309, \"max\": 1309}}}\u001b[0m\n",
      "\u001b[34m[09/26/2024 11:13:03 INFO 140152479487808] #throughput_metric: host=algo-1, train throughput=39138.55212626655 records/second\u001b[0m\n",
      "\u001b[34m[2024-09-26 11:13:34.006] [tensorio] [info] epoch_stats={\"data_pipeline\": \"/opt/ml/input/data/train\", \"epoch\": 7, \"duration\": 30305, \"num_examples\": 1309, \"num_bytes\": 507687136}\u001b[0m\n",
      "\u001b[34m#metrics {\"StartTime\": 1727349214.0065548, \"EndTime\": 1727349214.006631, \"Dimensions\": {\"Algorithm\": \"Linear Learner\", \"Host\": \"algo-1\", \"Operation\": \"training\", \"epoch\": 2, \"model\": 0}, \"Metrics\": {\"train_binary_classification_cross_entropy_objective\": {\"sum\": 0.4804791588039573, \"count\": 1, \"min\": 0.4804791588039573, \"max\": 0.4804791588039573}}}\u001b[0m\n",
      "\u001b[34m#metrics {\"StartTime\": 1727349214.0067172, \"EndTime\": 1727349214.0067334, \"Dimensions\": {\"Algorithm\": \"Linear Learner\", \"Host\": \"algo-1\", \"Operation\": \"training\", \"epoch\": 2, \"model\": 1}, \"Metrics\": {\"train_binary_classification_cross_entropy_objective\": {\"sum\": 0.4814280234753903, \"count\": 1, \"min\": 0.4814280234753903, \"max\": 0.4814280234753903}}}\u001b[0m\n",
      "\u001b[34m#metrics {\"StartTime\": 1727349214.006775, \"EndTime\": 1727349214.0067844, \"Dimensions\": {\"Algorithm\": \"Linear Learner\", \"Host\": \"algo-1\", \"Operation\": \"training\", \"epoch\": 2, \"model\": 2}, \"Metrics\": {\"train_binary_classification_cross_entropy_objective\": {\"sum\": 0.48047947972848876, \"count\": 1, \"min\": 0.48047947972848876, \"max\": 0.48047947972848876}}}\u001b[0m\n",
      "\u001b[34m#metrics {\"StartTime\": 1727349214.0068192, \"EndTime\": 1727349214.0068288, \"Dimensions\": {\"Algorithm\": \"Linear Learner\", \"Host\": \"algo-1\", \"Operation\": \"training\", \"epoch\": 2, \"model\": 3}, \"Metrics\": {\"train_binary_classification_cross_entropy_objective\": {\"sum\": 0.4814280170359014, \"count\": 1, \"min\": 0.4814280170359014, \"max\": 0.4814280170359014}}}\u001b[0m\n",
      "\u001b[34m#metrics {\"StartTime\": 1727349214.0068629, \"EndTime\": 1727349214.0068712, \"Dimensions\": {\"Algorithm\": \"Linear Learner\", \"Host\": \"algo-1\", \"Operation\": \"training\", \"epoch\": 2, \"model\": 4}, \"Metrics\": {\"train_binary_classification_cross_entropy_objective\": {\"sum\": 0.4815193977939244, \"count\": 1, \"min\": 0.4815193977939244, \"max\": 0.4815193977939244}}}\u001b[0m\n",
      "\u001b[34m#metrics {\"StartTime\": 1727349214.006907, \"EndTime\": 1727349214.0069158, \"Dimensions\": {\"Algorithm\": \"Linear Learner\", \"Host\": \"algo-1\", \"Operation\": \"training\", \"epoch\": 2, \"model\": 5}, \"Metrics\": {\"train_binary_classification_cross_entropy_objective\": {\"sum\": 0.4986652273242262, \"count\": 1, \"min\": 0.4986652273242262, \"max\": 0.4986652273242262}}}\u001b[0m\n",
      "\u001b[34m#metrics {\"StartTime\": 1727349214.0069528, \"EndTime\": 1727349214.006962, \"Dimensions\": {\"Algorithm\": \"Linear Learner\", \"Host\": \"algo-1\", \"Operation\": \"training\", \"epoch\": 2, \"model\": 6}, \"Metrics\": {\"train_binary_classification_cross_entropy_objective\": {\"sum\": 0.48151938358505203, \"count\": 1, \"min\": 0.48151938358505203, \"max\": 0.48151938358505203}}}\u001b[0m\n",
      "\u001b[34m#metrics {\"StartTime\": 1727349214.0069993, \"EndTime\": 1727349214.007008, \"Dimensions\": {\"Algorithm\": \"Linear Learner\", \"Host\": \"algo-1\", \"Operation\": \"training\", \"epoch\": 2, \"model\": 7}, \"Metrics\": {\"train_binary_classification_cross_entropy_objective\": {\"sum\": 0.4986651859575091, \"count\": 1, \"min\": 0.4986651859575091, \"max\": 0.4986651859575091}}}\u001b[0m\n",
      "\u001b[34m#metrics {\"StartTime\": 1727349214.0070453, \"EndTime\": 1727349214.0070553, \"Dimensions\": {\"Algorithm\": \"Linear Learner\", \"Host\": \"algo-1\", \"Operation\": \"training\", \"epoch\": 2, \"model\": 8}, \"Metrics\": {\"train_binary_classification_cross_entropy_objective\": {\"sum\": 0.48074822944384465, \"count\": 1, \"min\": 0.48074822944384465, \"max\": 0.48074822944384465}}}\u001b[0m\n",
      "\u001b[34m#metrics {\"StartTime\": 1727349214.007093, \"EndTime\": 1727349214.0071032, \"Dimensions\": {\"Algorithm\": \"Linear Learner\", \"Host\": \"algo-1\", \"Operation\": \"training\", \"epoch\": 2, \"model\": 9}, \"Metrics\": {\"train_binary_classification_cross_entropy_objective\": {\"sum\": 0.4816340772996255, \"count\": 1, \"min\": 0.4816340772996255, \"max\": 0.4816340772996255}}}\u001b[0m\n",
      "\u001b[34m#metrics {\"StartTime\": 1727349214.007144, \"EndTime\": 1727349214.0071547, \"Dimensions\": {\"Algorithm\": \"Linear Learner\", \"Host\": \"algo-1\", \"Operation\": \"training\", \"epoch\": 2, \"model\": 10}, \"Metrics\": {\"train_binary_classification_cross_entropy_objective\": {\"sum\": 0.4807480827588189, \"count\": 1, \"min\": 0.4807480827588189, \"max\": 0.4807480827588189}}}\u001b[0m\n",
      "\u001b[34m#metrics {\"StartTime\": 1727349214.0071955, \"EndTime\": 1727349214.007207, \"Dimensions\": {\"Algorithm\": \"Linear Learner\", \"Host\": \"algo-1\", \"Operation\": \"training\", \"epoch\": 2, \"model\": 11}, \"Metrics\": {\"train_binary_classification_cross_entropy_objective\": {\"sum\": 0.4816340995345276, \"count\": 1, \"min\": 0.4816340995345276, \"max\": 0.4816340995345276}}}\u001b[0m\n",
      "\u001b[34m#metrics {\"StartTime\": 1727349214.007244, \"EndTime\": 1727349214.0072544, \"Dimensions\": {\"Algorithm\": \"Linear Learner\", \"Host\": \"algo-1\", \"Operation\": \"training\", \"epoch\": 2, \"model\": 12}, \"Metrics\": {\"train_binary_classification_cross_entropy_objective\": {\"sum\": 0.48171365855739023, \"count\": 1, \"min\": 0.48171365855739023, \"max\": 0.48171365855739023}}}\u001b[0m\n",
      "\u001b[34m#metrics {\"StartTime\": 1727349214.007294, \"EndTime\": 1727349214.0073035, \"Dimensions\": {\"Algorithm\": \"Linear Learner\", \"Host\": \"algo-1\", \"Operation\": \"training\", \"epoch\": 2, \"model\": 13}, \"Metrics\": {\"train_binary_classification_cross_entropy_objective\": {\"sum\": 0.49758717131541774, \"count\": 1, \"min\": 0.49758717131541774, \"max\": 0.49758717131541774}}}\u001b[0m\n",
      "\u001b[34m#metrics {\"StartTime\": 1727349214.0073433, \"EndTime\": 1727349214.0073552, \"Dimensions\": {\"Algorithm\": \"Linear Learner\", \"Host\": \"algo-1\", \"Operation\": \"training\", \"epoch\": 2, \"model\": 14}, \"Metrics\": {\"train_binary_classification_cross_entropy_objective\": {\"sum\": 0.48171362258024536, \"count\": 1, \"min\": 0.48171362258024536, \"max\": 0.48171362258024536}}}\u001b[0m\n",
      "\u001b[34m#metrics {\"StartTime\": 1727349214.0073957, \"EndTime\": 1727349214.007407, \"Dimensions\": {\"Algorithm\": \"Linear Learner\", \"Host\": \"algo-1\", \"Operation\": \"training\", \"epoch\": 2, \"model\": 15}, \"Metrics\": {\"train_binary_classification_cross_entropy_objective\": {\"sum\": 0.49758710752714663, \"count\": 1, \"min\": 0.49758710752714663, \"max\": 0.49758710752714663}}}\u001b[0m\n",
      "\u001b[34m#metrics {\"StartTime\": 1727349214.0074446, \"EndTime\": 1727349214.0074549, \"Dimensions\": {\"Algorithm\": \"Linear Learner\", \"Host\": \"algo-1\", \"Operation\": \"training\", \"epoch\": 2, \"model\": 16}, \"Metrics\": {\"train_binary_classification_cross_entropy_objective\": {\"sum\": 0.5044806437594446, \"count\": 1, \"min\": 0.5044806437594446, \"max\": 0.5044806437594446}}}\u001b[0m\n",
      "\u001b[34m#metrics {\"StartTime\": 1727349214.007497, \"EndTime\": 1727349214.0075078, \"Dimensions\": {\"Algorithm\": \"Linear Learner\", \"Host\": \"algo-1\", \"Operation\": \"training\", \"epoch\": 2, \"model\": 17}, \"Metrics\": {\"train_binary_classification_cross_entropy_objective\": {\"sum\": 0.5047270526711001, \"count\": 1, \"min\": 0.5047270526711001, \"max\": 0.5047270526711001}}}\u001b[0m\n",
      "\u001b[34m#metrics {\"StartTime\": 1727349214.0075493, \"EndTime\": 1727349214.007559, \"Dimensions\": {\"Algorithm\": \"Linear Learner\", \"Host\": \"algo-1\", \"Operation\": \"training\", \"epoch\": 2, \"model\": 18}, \"Metrics\": {\"train_binary_classification_cross_entropy_objective\": {\"sum\": 0.5044806323736815, \"count\": 1, \"min\": 0.5044806323736815, \"max\": 0.5044806323736815}}}\u001b[0m\n",
      "\u001b[34m#metrics {\"StartTime\": 1727349214.0076003, \"EndTime\": 1727349214.0076113, \"Dimensions\": {\"Algorithm\": \"Linear Learner\", \"Host\": \"algo-1\", \"Operation\": \"training\", \"epoch\": 2, \"model\": 19}, \"Metrics\": {\"train_binary_classification_cross_entropy_objective\": {\"sum\": 0.5047270799222707, \"count\": 1, \"min\": 0.5047270799222707, \"max\": 0.5047270799222707}}}\u001b[0m\n",
      "\u001b[34m#metrics {\"StartTime\": 1727349214.0076506, \"EndTime\": 1727349214.0076602, \"Dimensions\": {\"Algorithm\": \"Linear Learner\", \"Host\": \"algo-1\", \"Operation\": \"training\", \"epoch\": 2, \"model\": 20}, \"Metrics\": {\"train_binary_classification_cross_entropy_objective\": {\"sum\": 0.5047340861795875, \"count\": 1, \"min\": 0.5047340861795875, \"max\": 0.5047340861795875}}}\u001b[0m\n",
      "\u001b[34m#metrics {\"StartTime\": 1727349214.0076966, \"EndTime\": 1727349214.007707, \"Dimensions\": {\"Algorithm\": \"Linear Learner\", \"Host\": \"algo-1\", \"Operation\": \"training\", \"epoch\": 2, \"model\": 21}, \"Metrics\": {\"train_binary_classification_cross_entropy_objective\": {\"sum\": 0.5078365897782352, \"count\": 1, \"min\": 0.5078365897782352, \"max\": 0.5078365897782352}}}\u001b[0m\n",
      "\u001b[34m#metrics {\"StartTime\": 1727349214.0077474, \"EndTime\": 1727349214.007759, \"Dimensions\": {\"Algorithm\": \"Linear Learner\", \"Host\": \"algo-1\", \"Operation\": \"training\", \"epoch\": 2, \"model\": 22}, \"Metrics\": {\"train_binary_classification_cross_entropy_objective\": {\"sum\": 0.5047341082045063, \"count\": 1, \"min\": 0.5047341082045063, \"max\": 0.5047341082045063}}}\u001b[0m\n",
      "\u001b[34m#metrics {\"StartTime\": 1727349214.007801, \"EndTime\": 1727349214.007811, \"Dimensions\": {\"Algorithm\": \"Linear Learner\", \"Host\": \"algo-1\", \"Operation\": \"training\", \"epoch\": 2, \"model\": 23}, \"Metrics\": {\"train_binary_classification_cross_entropy_objective\": {\"sum\": 0.5078367265240498, \"count\": 1, \"min\": 0.5078367265240498, \"max\": 0.5078367265240498}}}\u001b[0m\n",
      "\u001b[34m#metrics {\"StartTime\": 1727349214.0078495, \"EndTime\": 1727349214.0078602, \"Dimensions\": {\"Algorithm\": \"Linear Learner\", \"Host\": \"algo-1\", \"Operation\": \"training\", \"epoch\": 2, \"model\": 24}, \"Metrics\": {\"train_binary_classification_cross_entropy_objective\": {\"sum\": 0.5137129580063193, \"count\": 1, \"min\": 0.5137129580063193, \"max\": 0.5137129580063193}}}\u001b[0m\n",
      "\u001b[34m#metrics {\"StartTime\": 1727349214.007899, \"EndTime\": 1727349214.0079093, \"Dimensions\": {\"Algorithm\": \"Linear Learner\", \"Host\": \"algo-1\", \"Operation\": \"training\", \"epoch\": 2, \"model\": 25}, \"Metrics\": {\"train_binary_classification_cross_entropy_objective\": {\"sum\": 0.5137969627497029, \"count\": 1, \"min\": 0.5137969627497029, \"max\": 0.5137969627497029}}}\u001b[0m\n",
      "\u001b[34m#metrics {\"StartTime\": 1727349214.0079494, \"EndTime\": 1727349214.0079598, \"Dimensions\": {\"Algorithm\": \"Linear Learner\", \"Host\": \"algo-1\", \"Operation\": \"training\", \"epoch\": 2, \"model\": 26}, \"Metrics\": {\"train_binary_classification_cross_entropy_objective\": {\"sum\": 0.5137130540853612, \"count\": 1, \"min\": 0.5137130540853612, \"max\": 0.5137130540853612}}}\u001b[0m\n",
      "\u001b[34m#metrics {\"StartTime\": 1727349214.0079997, \"EndTime\": 1727349214.0080104, \"Dimensions\": {\"Algorithm\": \"Linear Learner\", \"Host\": \"algo-1\", \"Operation\": \"training\", \"epoch\": 2, \"model\": 27}, \"Metrics\": {\"train_binary_classification_cross_entropy_objective\": {\"sum\": 0.5137946836605713, \"count\": 1, \"min\": 0.5137946836605713, \"max\": 0.5137946836605713}}}\u001b[0m\n",
      "\u001b[34m#metrics {\"StartTime\": 1727349214.0080476, \"EndTime\": 1727349214.0080576, \"Dimensions\": {\"Algorithm\": \"Linear Learner\", \"Host\": \"algo-1\", \"Operation\": \"training\", \"epoch\": 2, \"model\": 28}, \"Metrics\": {\"train_binary_classification_cross_entropy_objective\": {\"sum\": 0.5138015999983575, \"count\": 1, \"min\": 0.5138015999983575, \"max\": 0.5138015999983575}}}\u001b[0m\n",
      "\u001b[34m#metrics {\"StartTime\": 1727349214.0080986, \"EndTime\": 1727349214.00811, \"Dimensions\": {\"Algorithm\": \"Linear Learner\", \"Host\": \"algo-1\", \"Operation\": \"training\", \"epoch\": 2, \"model\": 29}, \"Metrics\": {\"train_binary_classification_cross_entropy_objective\": {\"sum\": 0.5150048642873035, \"count\": 1, \"min\": 0.5150048642873035, \"max\": 0.5150048642873035}}}\u001b[0m\n",
      "\u001b[34m#metrics {\"StartTime\": 1727349214.0081494, \"EndTime\": 1727349214.0081592, \"Dimensions\": {\"Algorithm\": \"Linear Learner\", \"Host\": \"algo-1\", \"Operation\": \"training\", \"epoch\": 2, \"model\": 30}, \"Metrics\": {\"train_binary_classification_cross_entropy_objective\": {\"sum\": 0.513801256652272, \"count\": 1, \"min\": 0.513801256652272, \"max\": 0.513801256652272}}}\u001b[0m\n",
      "\u001b[34m#metrics {\"StartTime\": 1727349214.0081997, \"EndTime\": 1727349214.00821, \"Dimensions\": {\"Algorithm\": \"Linear Learner\", \"Host\": \"algo-1\", \"Operation\": \"training\", \"epoch\": 2, \"model\": 31}, \"Metrics\": {\"train_binary_classification_cross_entropy_objective\": {\"sum\": 0.5150041807448827, \"count\": 1, \"min\": 0.5150041807448827, \"max\": 0.5150041807448827}}}\u001b[0m\n",
      "\u001b[34m[09/26/2024 11:13:34 INFO 140152479487808] #quality_metric: host=algo-1, epoch=2, train binary_classification_cross_entropy_objective <loss>=0.4804791588039573\u001b[0m\n",
      "\u001b[34m[2024-09-26 11:13:36.627] [tensorio] [info] epoch_stats={\"data_pipeline\": \"/opt/ml/input/data/validation\", \"epoch\": 8, \"duration\": 2603, \"num_examples\": 164, \"num_bytes\": 63460892}\u001b[0m\n",
      "\u001b[34m#metrics {\"StartTime\": 1727349216.6323009, \"EndTime\": 1727349216.6323528, \"Dimensions\": {\"Algorithm\": \"Linear Learner\", \"Host\": \"algo-1\", \"Operation\": \"training\", \"epoch\": 2, \"model\": 0}, \"Metrics\": {\"validation_binary_classification_cross_entropy_objective\": {\"sum\": 0.4814630141469401, \"count\": 1, \"min\": 0.4814630141469401, \"max\": 0.4814630141469401}}}\u001b[0m\n",
      "\u001b[34m#metrics {\"StartTime\": 1727349216.632422, \"EndTime\": 1727349216.632433, \"Dimensions\": {\"Algorithm\": \"Linear Learner\", \"Host\": \"algo-1\", \"Operation\": \"training\", \"epoch\": 2, \"model\": 1}, \"Metrics\": {\"validation_binary_classification_cross_entropy_objective\": {\"sum\": 0.4823206486044051, \"count\": 1, \"min\": 0.4823206486044051, \"max\": 0.4823206486044051}}}\u001b[0m\n",
      "\u001b[34m#metrics {\"StartTime\": 1727349216.6324728, \"EndTime\": 1727349216.63248, \"Dimensions\": {\"Algorithm\": \"Linear Learner\", \"Host\": \"algo-1\", \"Operation\": \"training\", \"epoch\": 2, \"model\": 2}, \"Metrics\": {\"validation_binary_classification_cross_entropy_objective\": {\"sum\": 0.4814636251179632, \"count\": 1, \"min\": 0.4814636251179632, \"max\": 0.4814636251179632}}}\u001b[0m\n",
      "\u001b[34m#metrics {\"StartTime\": 1727349216.6325016, \"EndTime\": 1727349216.6325068, \"Dimensions\": {\"Algorithm\": \"Linear Learner\", \"Host\": \"algo-1\", \"Operation\": \"training\", \"epoch\": 2, \"model\": 3}, \"Metrics\": {\"validation_binary_classification_cross_entropy_objective\": {\"sum\": 0.48232069590358184, \"count\": 1, \"min\": 0.48232069590358184, \"max\": 0.48232069590358184}}}\u001b[0m\n",
      "\u001b[34m#metrics {\"StartTime\": 1727349216.632534, \"EndTime\": 1727349216.632542, \"Dimensions\": {\"Algorithm\": \"Linear Learner\", \"Host\": \"algo-1\", \"Operation\": \"training\", \"epoch\": 2, \"model\": 4}, \"Metrics\": {\"validation_binary_classification_cross_entropy_objective\": {\"sum\": 0.4819761024624225, \"count\": 1, \"min\": 0.4819761024624225, \"max\": 0.4819761024624225}}}\u001b[0m\n",
      "\u001b[34m#metrics {\"StartTime\": 1727349216.6325753, \"EndTime\": 1727349216.6325834, \"Dimensions\": {\"Algorithm\": \"Linear Learner\", \"Host\": \"algo-1\", \"Operation\": \"training\", \"epoch\": 2, \"model\": 5}, \"Metrics\": {\"validation_binary_classification_cross_entropy_objective\": {\"sum\": 0.4988491043026355, \"count\": 1, \"min\": 0.4988491043026355, \"max\": 0.4988491043026355}}}\u001b[0m\n",
      "\u001b[34m#metrics {\"StartTime\": 1727349216.6326132, \"EndTime\": 1727349216.6326222, \"Dimensions\": {\"Algorithm\": \"Linear Learner\", \"Host\": \"algo-1\", \"Operation\": \"training\", \"epoch\": 2, \"model\": 6}, \"Metrics\": {\"validation_binary_classification_cross_entropy_objective\": {\"sum\": 0.4819760850167696, \"count\": 1, \"min\": 0.4819760850167696, \"max\": 0.4819760850167696}}}\u001b[0m\n",
      "\u001b[34m#metrics {\"StartTime\": 1727349216.6326537, \"EndTime\": 1727349216.632663, \"Dimensions\": {\"Algorithm\": \"Linear Learner\", \"Host\": \"algo-1\", \"Operation\": \"training\", \"epoch\": 2, \"model\": 7}, \"Metrics\": {\"validation_binary_classification_cross_entropy_objective\": {\"sum\": 0.49884908732344385, \"count\": 1, \"min\": 0.49884908732344385, \"max\": 0.49884908732344385}}}\u001b[0m\n",
      "\u001b[34m#metrics {\"StartTime\": 1727349216.632695, \"EndTime\": 1727349216.6327043, \"Dimensions\": {\"Algorithm\": \"Linear Learner\", \"Host\": \"algo-1\", \"Operation\": \"training\", \"epoch\": 2, \"model\": 8}, \"Metrics\": {\"validation_binary_classification_cross_entropy_objective\": {\"sum\": 0.4817082564602608, \"count\": 1, \"min\": 0.4817082564602608, \"max\": 0.4817082564602608}}}\u001b[0m\n",
      "\u001b[34m#metrics {\"StartTime\": 1727349216.6327488, \"EndTime\": 1727349216.632759, \"Dimensions\": {\"Algorithm\": \"Linear Learner\", \"Host\": \"algo-1\", \"Operation\": \"training\", \"epoch\": 2, \"model\": 9}, \"Metrics\": {\"validation_binary_classification_cross_entropy_objective\": {\"sum\": 0.48260475591427565, \"count\": 1, \"min\": 0.48260475591427565, \"max\": 0.48260475591427565}}}\u001b[0m\n",
      "\u001b[34m#metrics {\"StartTime\": 1727349216.632792, \"EndTime\": 1727349216.632802, \"Dimensions\": {\"Algorithm\": \"Linear Learner\", \"Host\": \"algo-1\", \"Operation\": \"training\", \"epoch\": 2, \"model\": 10}, \"Metrics\": {\"validation_binary_classification_cross_entropy_objective\": {\"sum\": 0.4817081740831935, \"count\": 1, \"min\": 0.4817081740831935, \"max\": 0.4817081740831935}}}\u001b[0m\n",
      "\u001b[34m#metrics {\"StartTime\": 1727349216.6328397, \"EndTime\": 1727349216.6328487, \"Dimensions\": {\"Algorithm\": \"Linear Learner\", \"Host\": \"algo-1\", \"Operation\": \"training\", \"epoch\": 2, \"model\": 11}, \"Metrics\": {\"validation_binary_classification_cross_entropy_objective\": {\"sum\": 0.48260464312393103, \"count\": 1, \"min\": 0.48260464312393103, \"max\": 0.48260464312393103}}}\u001b[0m\n",
      "\u001b[34m#metrics {\"StartTime\": 1727349216.6328793, \"EndTime\": 1727349216.6328883, \"Dimensions\": {\"Algorithm\": \"Linear Learner\", \"Host\": \"algo-1\", \"Operation\": \"training\", \"epoch\": 2, \"model\": 12}, \"Metrics\": {\"validation_binary_classification_cross_entropy_objective\": {\"sum\": 0.482284325915284, \"count\": 1, \"min\": 0.482284325915284, \"max\": 0.482284325915284}}}\u001b[0m\n",
      "\u001b[34m#metrics {\"StartTime\": 1727349216.6329224, \"EndTime\": 1727349216.6329322, \"Dimensions\": {\"Algorithm\": \"Linear Learner\", \"Host\": \"algo-1\", \"Operation\": \"training\", \"epoch\": 2, \"model\": 13}, \"Metrics\": {\"validation_binary_classification_cross_entropy_objective\": {\"sum\": 0.49798255670246955, \"count\": 1, \"min\": 0.49798255670246955, \"max\": 0.49798255670246955}}}\u001b[0m\n",
      "\u001b[34m#metrics {\"StartTime\": 1727349216.6329634, \"EndTime\": 1727349216.6329727, \"Dimensions\": {\"Algorithm\": \"Linear Learner\", \"Host\": \"algo-1\", \"Operation\": \"training\", \"epoch\": 2, \"model\": 14}, \"Metrics\": {\"validation_binary_classification_cross_entropy_objective\": {\"sum\": 0.48228437414738334, \"count\": 1, \"min\": 0.48228437414738334, \"max\": 0.48228437414738334}}}\u001b[0m\n",
      "\u001b[34m#metrics {\"StartTime\": 1727349216.6330073, \"EndTime\": 1727349216.633016, \"Dimensions\": {\"Algorithm\": \"Linear Learner\", \"Host\": \"algo-1\", \"Operation\": \"training\", \"epoch\": 2, \"model\": 15}, \"Metrics\": {\"validation_binary_classification_cross_entropy_objective\": {\"sum\": 0.4979817961839506, \"count\": 1, \"min\": 0.4979817961839506, \"max\": 0.4979817961839506}}}\u001b[0m\n",
      "\u001b[34m#metrics {\"StartTime\": 1727349216.6330473, \"EndTime\": 1727349216.6330564, \"Dimensions\": {\"Algorithm\": \"Linear Learner\", \"Host\": \"algo-1\", \"Operation\": \"training\", \"epoch\": 2, \"model\": 16}, \"Metrics\": {\"validation_binary_classification_cross_entropy_objective\": {\"sum\": 0.5048324775930197, \"count\": 1, \"min\": 0.5048324775930197, \"max\": 0.5048324775930197}}}\u001b[0m\n",
      "\u001b[34m#metrics {\"StartTime\": 1727349216.633093, \"EndTime\": 1727349216.633103, \"Dimensions\": {\"Algorithm\": \"Linear Learner\", \"Host\": \"algo-1\", \"Operation\": \"training\", \"epoch\": 2, \"model\": 17}, \"Metrics\": {\"validation_binary_classification_cross_entropy_objective\": {\"sum\": 0.5048414190965683, \"count\": 1, \"min\": 0.5048414190965683, \"max\": 0.5048414190965683}}}\u001b[0m\n",
      "\u001b[34m#metrics {\"StartTime\": 1727349216.633138, \"EndTime\": 1727349216.6331468, \"Dimensions\": {\"Algorithm\": \"Linear Learner\", \"Host\": \"algo-1\", \"Operation\": \"training\", \"epoch\": 2, \"model\": 18}, \"Metrics\": {\"validation_binary_classification_cross_entropy_objective\": {\"sum\": 0.5048330511538459, \"count\": 1, \"min\": 0.5048330511538459, \"max\": 0.5048330511538459}}}\u001b[0m\n",
      "\u001b[34m#metrics {\"StartTime\": 1727349216.6331818, \"EndTime\": 1727349216.6331909, \"Dimensions\": {\"Algorithm\": \"Linear Learner\", \"Host\": \"algo-1\", \"Operation\": \"training\", \"epoch\": 2, \"model\": 19}, \"Metrics\": {\"validation_binary_classification_cross_entropy_objective\": {\"sum\": 0.5048410291349137, \"count\": 1, \"min\": 0.5048410291349137, \"max\": 0.5048410291349137}}}\u001b[0m\n",
      "\u001b[34m#metrics {\"StartTime\": 1727349216.6332219, \"EndTime\": 1727349216.6332312, \"Dimensions\": {\"Algorithm\": \"Linear Learner\", \"Host\": \"algo-1\", \"Operation\": \"training\", \"epoch\": 2, \"model\": 20}, \"Metrics\": {\"validation_binary_classification_cross_entropy_objective\": {\"sum\": 0.5051933203071861, \"count\": 1, \"min\": 0.5051933203071861, \"max\": 0.5051933203071861}}}\u001b[0m\n",
      "\u001b[34m#metrics {\"StartTime\": 1727349216.6332662, \"EndTime\": 1727349216.633275, \"Dimensions\": {\"Algorithm\": \"Linear Learner\", \"Host\": \"algo-1\", \"Operation\": \"training\", \"epoch\": 2, \"model\": 21}, \"Metrics\": {\"validation_binary_classification_cross_entropy_objective\": {\"sum\": 0.505278301721218, \"count\": 1, \"min\": 0.505278301721218, \"max\": 0.505278301721218}}}\u001b[0m\n",
      "\u001b[34m#metrics {\"StartTime\": 1727349216.633307, \"EndTime\": 1727349216.6333163, \"Dimensions\": {\"Algorithm\": \"Linear Learner\", \"Host\": \"algo-1\", \"Operation\": \"training\", \"epoch\": 2, \"model\": 22}, \"Metrics\": {\"validation_binary_classification_cross_entropy_objective\": {\"sum\": 0.5051932171259444, \"count\": 1, \"min\": 0.5051932171259444, \"max\": 0.5051932171259444}}}\u001b[0m\n",
      "\u001b[34m#metrics {\"StartTime\": 1727349216.6333451, \"EndTime\": 1727349216.6333535, \"Dimensions\": {\"Algorithm\": \"Linear Learner\", \"Host\": \"algo-1\", \"Operation\": \"training\", \"epoch\": 2, \"model\": 23}, \"Metrics\": {\"validation_binary_classification_cross_entropy_objective\": {\"sum\": 0.5052783104906907, \"count\": 1, \"min\": 0.5052783104906907, \"max\": 0.5052783104906907}}}\u001b[0m\n",
      "\u001b[34m#metrics {\"StartTime\": 1727349216.6333838, \"EndTime\": 1727349216.6333928, \"Dimensions\": {\"Algorithm\": \"Linear Learner\", \"Host\": \"algo-1\", \"Operation\": \"training\", \"epoch\": 2, \"model\": 24}, \"Metrics\": {\"validation_binary_classification_cross_entropy_objective\": {\"sum\": 0.5137261613940248, \"count\": 1, \"min\": 0.5137261613940248, \"max\": 0.5137261613940248}}}\u001b[0m\n",
      "\u001b[34m#metrics {\"StartTime\": 1727349216.6334314, \"EndTime\": 1727349216.63344, \"Dimensions\": {\"Algorithm\": \"Linear Learner\", \"Host\": \"algo-1\", \"Operation\": \"training\", \"epoch\": 2, \"model\": 25}, \"Metrics\": {\"validation_binary_classification_cross_entropy_objective\": {\"sum\": 0.5138476883723916, \"count\": 1, \"min\": 0.5138476883723916, \"max\": 0.5138476883723916}}}\u001b[0m\n",
      "\u001b[34m#metrics {\"StartTime\": 1727349216.6334743, \"EndTime\": 1727349216.633485, \"Dimensions\": {\"Algorithm\": \"Linear Learner\", \"Host\": \"algo-1\", \"Operation\": \"training\", \"epoch\": 2, \"model\": 26}, \"Metrics\": {\"validation_binary_classification_cross_entropy_objective\": {\"sum\": 0.513723627949361, \"count\": 1, \"min\": 0.513723627949361, \"max\": 0.513723627949361}}}\u001b[0m\n",
      "\u001b[34m#metrics {\"StartTime\": 1727349216.6335163, \"EndTime\": 1727349216.6335235, \"Dimensions\": {\"Algorithm\": \"Linear Learner\", \"Host\": \"algo-1\", \"Operation\": \"training\", \"epoch\": 2, \"model\": 27}, \"Metrics\": {\"validation_binary_classification_cross_entropy_objective\": {\"sum\": 0.5138265679372223, \"count\": 1, \"min\": 0.5138265679372223, \"max\": 0.5138265679372223}}}\u001b[0m\n",
      "\u001b[34m#metrics {\"StartTime\": 1727349216.6335602, \"EndTime\": 1727349216.6335664, \"Dimensions\": {\"Algorithm\": \"Linear Learner\", \"Host\": \"algo-1\", \"Operation\": \"training\", \"epoch\": 2, \"model\": 28}, \"Metrics\": {\"validation_binary_classification_cross_entropy_objective\": {\"sum\": 0.5138963679014769, \"count\": 1, \"min\": 0.5138963679014769, \"max\": 0.5138963679014769}}}\u001b[0m\n",
      "\u001b[34m#metrics {\"StartTime\": 1727349216.6336172, \"EndTime\": 1727349216.6336281, \"Dimensions\": {\"Algorithm\": \"Linear Learner\", \"Host\": \"algo-1\", \"Operation\": \"training\", \"epoch\": 2, \"model\": 29}, \"Metrics\": {\"validation_binary_classification_cross_entropy_objective\": {\"sum\": 0.5137669920585328, \"count\": 1, \"min\": 0.5137669920585328, \"max\": 0.5137669920585328}}}\u001b[0m\n",
      "\u001b[34m#metrics {\"StartTime\": 1727349216.6336684, \"EndTime\": 1727349216.6336777, \"Dimensions\": {\"Algorithm\": \"Linear Learner\", \"Host\": \"algo-1\", \"Operation\": \"training\", \"epoch\": 2, \"model\": 30}, \"Metrics\": {\"validation_binary_classification_cross_entropy_objective\": {\"sum\": 0.5138857713932024, \"count\": 1, \"min\": 0.5138857713932024, \"max\": 0.5138857713932024}}}\u001b[0m\n",
      "\u001b[34m#metrics {\"StartTime\": 1727349216.6337144, \"EndTime\": 1727349216.6337245, \"Dimensions\": {\"Algorithm\": \"Linear Learner\", \"Host\": \"algo-1\", \"Operation\": \"training\", \"epoch\": 2, \"model\": 31}, \"Metrics\": {\"validation_binary_classification_cross_entropy_objective\": {\"sum\": 0.5137670153815983, \"count\": 1, \"min\": 0.5137670153815983, \"max\": 0.5137670153815983}}}\u001b[0m\n",
      "\u001b[34m[09/26/2024 11:13:36 INFO 140152479487808] #quality_metric: host=algo-1, epoch=2, validation binary_classification_cross_entropy_objective <loss>=0.4814630141469401\u001b[0m\n",
      "\u001b[34m[09/26/2024 11:13:36 INFO 140152479487808] #early_stopping_criteria_metric: host=algo-1, epoch=2, criteria=binary_classification_cross_entropy_objective, value=0.4814630141469401\u001b[0m\n",
      "\u001b[34m[09/26/2024 11:13:36 INFO 140152479487808] Saving model for epoch: 2\u001b[0m\n",
      "\u001b[34m[09/26/2024 11:13:36 INFO 140152479487808] Saved checkpoint to \"/tmp/tmpsgwfyuom/mx-mod-0000.params\"\u001b[0m\n",
      "\u001b[34m[09/26/2024 11:13:36 INFO 140152479487808] #progress_metric: host=algo-1, completed 20.0 % of epochs\u001b[0m\n",
      "\u001b[34m#metrics {\"StartTime\": 1727349183.7011771, \"EndTime\": 1727349216.6395438, \"Dimensions\": {\"Algorithm\": \"Linear Learner\", \"Host\": \"algo-1\", \"Operation\": \"training\", \"epoch\": 2, \"Meta\": \"training_data_iter\"}, \"Metrics\": {\"Total Records Seen\": {\"sum\": 3937416.0, \"count\": 1, \"min\": 3937416, \"max\": 3937416}, \"Total Batches Seen\": {\"sum\": 3939.0, \"count\": 1, \"min\": 3939, \"max\": 3939}, \"Max Records Seen Between Resets\": {\"sum\": 1308472.0, \"count\": 1, \"min\": 1308472, \"max\": 1308472}, \"Max Batches Seen Between Resets\": {\"sum\": 1309.0, \"count\": 1, \"min\": 1309, \"max\": 1309}, \"Reset Count\": {\"sum\": 5.0, \"count\": 1, \"min\": 5, \"max\": 5}, \"Number of Records Since Last Reset\": {\"sum\": 1308472.0, \"count\": 1, \"min\": 1308472, \"max\": 1308472}, \"Number of Batches Since Last Reset\": {\"sum\": 1309.0, \"count\": 1, \"min\": 1309, \"max\": 1309}}}\u001b[0m\n",
      "\u001b[34m[09/26/2024 11:13:36 INFO 140152479487808] #throughput_metric: host=algo-1, train throughput=39724.70806149579 records/second\u001b[0m\n",
      "\u001b[34m[2024-09-26 11:14:07.393] [tensorio] [info] epoch_stats={\"data_pipeline\": \"/opt/ml/input/data/train\", \"epoch\": 9, \"duration\": 30752, \"num_examples\": 1309, \"num_bytes\": 507687136}\u001b[0m\n",
      "\u001b[34m#metrics {\"StartTime\": 1727349247.3936973, \"EndTime\": 1727349247.3937945, \"Dimensions\": {\"Algorithm\": \"Linear Learner\", \"Host\": \"algo-1\", \"Operation\": \"training\", \"epoch\": 3, \"model\": 0}, \"Metrics\": {\"train_binary_classification_cross_entropy_objective\": {\"sum\": 0.4804189313369424, \"count\": 1, \"min\": 0.4804189313369424, \"max\": 0.4804189313369424}}}\u001b[0m\n",
      "\u001b[34m#metrics {\"StartTime\": 1727349247.39387, \"EndTime\": 1727349247.3938813, \"Dimensions\": {\"Algorithm\": \"Linear Learner\", \"Host\": \"algo-1\", \"Operation\": \"training\", \"epoch\": 3, \"model\": 1}, \"Metrics\": {\"train_binary_classification_cross_entropy_objective\": {\"sum\": 0.48130961335908384, \"count\": 1, \"min\": 0.48130961335908384, \"max\": 0.48130961335908384}}}\u001b[0m\n",
      "\u001b[34m#metrics {\"StartTime\": 1727349247.3939106, \"EndTime\": 1727349247.393917, \"Dimensions\": {\"Algorithm\": \"Linear Learner\", \"Host\": \"algo-1\", \"Operation\": \"training\", \"epoch\": 3, \"model\": 2}, \"Metrics\": {\"train_binary_classification_cross_entropy_objective\": {\"sum\": 0.4804338612921012, \"count\": 1, \"min\": 0.4804338612921012, \"max\": 0.4804338612921012}}}\u001b[0m\n",
      "\u001b[34m#metrics {\"StartTime\": 1727349247.39394, \"EndTime\": 1727349247.393946, \"Dimensions\": {\"Algorithm\": \"Linear Learner\", \"Host\": \"algo-1\", \"Operation\": \"training\", \"epoch\": 3, \"model\": 3}, \"Metrics\": {\"train_binary_classification_cross_entropy_objective\": {\"sum\": 0.4813096130557746, \"count\": 1, \"min\": 0.4813096130557746, \"max\": 0.4813096130557746}}}\u001b[0m\n",
      "\u001b[34m#metrics {\"StartTime\": 1727349247.3939667, \"EndTime\": 1727349247.3939722, \"Dimensions\": {\"Algorithm\": \"Linear Learner\", \"Host\": \"algo-1\", \"Operation\": \"training\", \"epoch\": 3, \"model\": 4}, \"Metrics\": {\"train_binary_classification_cross_entropy_objective\": {\"sum\": 0.48073351866462544, \"count\": 1, \"min\": 0.48073351866462544, \"max\": 0.48073351866462544}}}\u001b[0m\n",
      "\u001b[34m#metrics {\"StartTime\": 1727349247.3939927, \"EndTime\": 1727349247.3939984, \"Dimensions\": {\"Algorithm\": \"Linear Learner\", \"Host\": \"algo-1\", \"Operation\": \"training\", \"epoch\": 3, \"model\": 5}, \"Metrics\": {\"train_binary_classification_cross_entropy_objective\": {\"sum\": 0.49665207921765997, \"count\": 1, \"min\": 0.49665207921765997, \"max\": 0.49665207921765997}}}\u001b[0m\n",
      "\u001b[34m#metrics {\"StartTime\": 1727349247.3940187, \"EndTime\": 1727349247.394024, \"Dimensions\": {\"Algorithm\": \"Linear Learner\", \"Host\": \"algo-1\", \"Operation\": \"training\", \"epoch\": 3, \"model\": 6}, \"Metrics\": {\"train_binary_classification_cross_entropy_objective\": {\"sum\": 0.48073351763804023, \"count\": 1, \"min\": 0.48073351763804023, \"max\": 0.48073351763804023}}}\u001b[0m\n",
      "\u001b[34m#metrics {\"StartTime\": 1727349247.394044, \"EndTime\": 1727349247.3940496, \"Dimensions\": {\"Algorithm\": \"Linear Learner\", \"Host\": \"algo-1\", \"Operation\": \"training\", \"epoch\": 3, \"model\": 7}, \"Metrics\": {\"train_binary_classification_cross_entropy_objective\": {\"sum\": 0.4966520662220246, \"count\": 1, \"min\": 0.4966520662220246, \"max\": 0.4966520662220246}}}\u001b[0m\n",
      "\u001b[34m#metrics {\"StartTime\": 1727349247.3940778, \"EndTime\": 1727349247.3940828, \"Dimensions\": {\"Algorithm\": \"Linear Learner\", \"Host\": \"algo-1\", \"Operation\": \"training\", \"epoch\": 3, \"model\": 8}, \"Metrics\": {\"train_binary_classification_cross_entropy_objective\": {\"sum\": 0.4806894142080885, \"count\": 1, \"min\": 0.4806894142080885, \"max\": 0.4806894142080885}}}\u001b[0m\n",
      "\u001b[34m#metrics {\"StartTime\": 1727349247.3941002, \"EndTime\": 1727349247.3941052, \"Dimensions\": {\"Algorithm\": \"Linear Learner\", \"Host\": \"algo-1\", \"Operation\": \"training\", \"epoch\": 3, \"model\": 9}, \"Metrics\": {\"train_binary_classification_cross_entropy_objective\": {\"sum\": 0.4815236738479101, \"count\": 1, \"min\": 0.4815236738479101, \"max\": 0.4815236738479101}}}\u001b[0m\n",
      "\u001b[34m#metrics {\"StartTime\": 1727349247.394122, \"EndTime\": 1727349247.394127, \"Dimensions\": {\"Algorithm\": \"Linear Learner\", \"Host\": \"algo-1\", \"Operation\": \"training\", \"epoch\": 3, \"model\": 10}, \"Metrics\": {\"train_binary_classification_cross_entropy_objective\": {\"sum\": 0.48070219913680984, \"count\": 1, \"min\": 0.48070219913680984, \"max\": 0.48070219913680984}}}\u001b[0m\n",
      "\u001b[34m#metrics {\"StartTime\": 1727349247.394144, \"EndTime\": 1727349247.394149, \"Dimensions\": {\"Algorithm\": \"Linear Learner\", \"Host\": \"algo-1\", \"Operation\": \"training\", \"epoch\": 3, \"model\": 11}, \"Metrics\": {\"train_binary_classification_cross_entropy_objective\": {\"sum\": 0.4815236775342842, \"count\": 1, \"min\": 0.4815236775342842, \"max\": 0.4815236775342842}}}\u001b[0m\n",
      "\u001b[34m#metrics {\"StartTime\": 1727349247.394188, \"EndTime\": 1727349247.3941936, \"Dimensions\": {\"Algorithm\": \"Linear Learner\", \"Host\": \"algo-1\", \"Operation\": \"training\", \"epoch\": 3, \"model\": 12}, \"Metrics\": {\"train_binary_classification_cross_entropy_objective\": {\"sum\": 0.4809800687317454, \"count\": 1, \"min\": 0.4809800687317454, \"max\": 0.4809800687317454}}}\u001b[0m\n",
      "\u001b[34m#metrics {\"StartTime\": 1727349247.3942113, \"EndTime\": 1727349247.3942163, \"Dimensions\": {\"Algorithm\": \"Linear Learner\", \"Host\": \"algo-1\", \"Operation\": \"training\", \"epoch\": 3, \"model\": 13}, \"Metrics\": {\"train_binary_classification_cross_entropy_objective\": {\"sum\": 0.49576253241209445, \"count\": 1, \"min\": 0.49576253241209445, \"max\": 0.49576253241209445}}}\u001b[0m\n",
      "\u001b[34m#metrics {\"StartTime\": 1727349247.3942332, \"EndTime\": 1727349247.3942382, \"Dimensions\": {\"Algorithm\": \"Linear Learner\", \"Host\": \"algo-1\", \"Operation\": \"training\", \"epoch\": 3, \"model\": 14}, \"Metrics\": {\"train_binary_classification_cross_entropy_objective\": {\"sum\": 0.4809800649987084, \"count\": 1, \"min\": 0.4809800649987084, \"max\": 0.4809800649987084}}}\u001b[0m\n",
      "\u001b[34m#metrics {\"StartTime\": 1727349247.3942554, \"EndTime\": 1727349247.3942602, \"Dimensions\": {\"Algorithm\": \"Linear Learner\", \"Host\": \"algo-1\", \"Operation\": \"training\", \"epoch\": 3, \"model\": 15}, \"Metrics\": {\"train_binary_classification_cross_entropy_objective\": {\"sum\": 0.49576252394276654, \"count\": 1, \"min\": 0.49576252394276654, \"max\": 0.49576252394276654}}}\u001b[0m\n",
      "\u001b[34m#metrics {\"StartTime\": 1727349247.394277, \"EndTime\": 1727349247.394282, \"Dimensions\": {\"Algorithm\": \"Linear Learner\", \"Host\": \"algo-1\", \"Operation\": \"training\", \"epoch\": 3, \"model\": 16}, \"Metrics\": {\"train_binary_classification_cross_entropy_objective\": {\"sum\": 0.5044800543595527, \"count\": 1, \"min\": 0.5044800543595527, \"max\": 0.5044800543595527}}}\u001b[0m\n",
      "\u001b[34m#metrics {\"StartTime\": 1727349247.3942986, \"EndTime\": 1727349247.3943036, \"Dimensions\": {\"Algorithm\": \"Linear Learner\", \"Host\": \"algo-1\", \"Operation\": \"training\", \"epoch\": 3, \"model\": 17}, \"Metrics\": {\"train_binary_classification_cross_entropy_objective\": {\"sum\": 0.5046974254923129, \"count\": 1, \"min\": 0.5046974254923129, \"max\": 0.5046974254923129}}}\u001b[0m\n",
      "\u001b[34m#metrics {\"StartTime\": 1727349247.3943205, \"EndTime\": 1727349247.3943253, \"Dimensions\": {\"Algorithm\": \"Linear Learner\", \"Host\": \"algo-1\", \"Operation\": \"training\", \"epoch\": 3, \"model\": 18}, \"Metrics\": {\"train_binary_classification_cross_entropy_objective\": {\"sum\": 0.504483517918018, \"count\": 1, \"min\": 0.504483517918018, \"max\": 0.504483517918018}}}\u001b[0m\n",
      "\u001b[34m#metrics {\"StartTime\": 1727349247.394342, \"EndTime\": 1727349247.3943465, \"Dimensions\": {\"Algorithm\": \"Linear Learner\", \"Host\": \"algo-1\", \"Operation\": \"training\", \"epoch\": 3, \"model\": 19}, \"Metrics\": {\"train_binary_classification_cross_entropy_objective\": {\"sum\": 0.5046974294586648, \"count\": 1, \"min\": 0.5046974294586648, \"max\": 0.5046974294586648}}}\u001b[0m\n",
      "\u001b[34m#metrics {\"StartTime\": 1727349247.3943632, \"EndTime\": 1727349247.3943677, \"Dimensions\": {\"Algorithm\": \"Linear Learner\", \"Host\": \"algo-1\", \"Operation\": \"training\", \"epoch\": 3, \"model\": 20}, \"Metrics\": {\"train_binary_classification_cross_entropy_objective\": {\"sum\": 0.5045399249948858, \"count\": 1, \"min\": 0.5045399249948858, \"max\": 0.5045399249948858}}}\u001b[0m\n",
      "\u001b[34m#metrics {\"StartTime\": 1727349247.3943844, \"EndTime\": 1727349247.3943892, \"Dimensions\": {\"Algorithm\": \"Linear Learner\", \"Host\": \"algo-1\", \"Operation\": \"training\", \"epoch\": 3, \"model\": 21}, \"Metrics\": {\"train_binary_classification_cross_entropy_objective\": {\"sum\": 0.5075232146610178, \"count\": 1, \"min\": 0.5075232146610178, \"max\": 0.5075232146610178}}}\u001b[0m\n",
      "\u001b[34m#metrics {\"StartTime\": 1727349247.3944056, \"EndTime\": 1727349247.3944106, \"Dimensions\": {\"Algorithm\": \"Linear Learner\", \"Host\": \"algo-1\", \"Operation\": \"training\", \"epoch\": 3, \"model\": 22}, \"Metrics\": {\"train_binary_classification_cross_entropy_objective\": {\"sum\": 0.5045399264181061, \"count\": 1, \"min\": 0.5045399264181061, \"max\": 0.5045399264181061}}}\u001b[0m\n",
      "\u001b[34m#metrics {\"StartTime\": 1727349247.394428, \"EndTime\": 1727349247.3944325, \"Dimensions\": {\"Algorithm\": \"Linear Learner\", \"Host\": \"algo-1\", \"Operation\": \"training\", \"epoch\": 3, \"model\": 23}, \"Metrics\": {\"train_binary_classification_cross_entropy_objective\": {\"sum\": 0.5075232300597958, \"count\": 1, \"min\": 0.5075232300597958, \"max\": 0.5075232300597958}}}\u001b[0m\n",
      "\u001b[34m#metrics {\"StartTime\": 1727349247.3944497, \"EndTime\": 1727349247.3944545, \"Dimensions\": {\"Algorithm\": \"Linear Learner\", \"Host\": \"algo-1\", \"Operation\": \"training\", \"epoch\": 3, \"model\": 24}, \"Metrics\": {\"train_binary_classification_cross_entropy_objective\": {\"sum\": 0.513709086660216, \"count\": 1, \"min\": 0.513709086660216, \"max\": 0.513709086660216}}}\u001b[0m\n",
      "\u001b[34m#metrics {\"StartTime\": 1727349247.3944712, \"EndTime\": 1727349247.394476, \"Dimensions\": {\"Algorithm\": \"Linear Learner\", \"Host\": \"algo-1\", \"Operation\": \"training\", \"epoch\": 3, \"model\": 25}, \"Metrics\": {\"train_binary_classification_cross_entropy_objective\": {\"sum\": 0.513790224454454, \"count\": 1, \"min\": 0.513790224454454, \"max\": 0.513790224454454}}}\u001b[0m\n",
      "\u001b[34m#metrics {\"StartTime\": 1727349247.3944926, \"EndTime\": 1727349247.3944976, \"Dimensions\": {\"Algorithm\": \"Linear Learner\", \"Host\": \"algo-1\", \"Operation\": \"training\", \"epoch\": 3, \"model\": 26}, \"Metrics\": {\"train_binary_classification_cross_entropy_objective\": {\"sum\": 0.5137105408881418, \"count\": 1, \"min\": 0.5137105408881418, \"max\": 0.5137105408881418}}}\u001b[0m\n",
      "\u001b[34m#metrics {\"StartTime\": 1727349247.394514, \"EndTime\": 1727349247.394519, \"Dimensions\": {\"Algorithm\": \"Linear Learner\", \"Host\": \"algo-1\", \"Operation\": \"training\", \"epoch\": 3, \"model\": 27}, \"Metrics\": {\"train_binary_classification_cross_entropy_objective\": {\"sum\": 0.5137912141292467, \"count\": 1, \"min\": 0.5137912141292467, \"max\": 0.5137912141292467}}}\u001b[0m\n",
      "\u001b[34m#metrics {\"StartTime\": 1727349247.3945358, \"EndTime\": 1727349247.3945405, \"Dimensions\": {\"Algorithm\": \"Linear Learner\", \"Host\": \"algo-1\", \"Operation\": \"training\", \"epoch\": 3, \"model\": 28}, \"Metrics\": {\"train_binary_classification_cross_entropy_objective\": {\"sum\": 0.5137380162276989, \"count\": 1, \"min\": 0.5137380162276989, \"max\": 0.5137380162276989}}}\u001b[0m\n",
      "\u001b[34m#metrics {\"StartTime\": 1727349247.3945572, \"EndTime\": 1727349247.394562, \"Dimensions\": {\"Algorithm\": \"Linear Learner\", \"Host\": \"algo-1\", \"Operation\": \"training\", \"epoch\": 3, \"model\": 29}, \"Metrics\": {\"train_binary_classification_cross_entropy_objective\": {\"sum\": 0.5149016208240381, \"count\": 1, \"min\": 0.5149016208240381, \"max\": 0.5149016208240381}}}\u001b[0m\n",
      "\u001b[34m#metrics {\"StartTime\": 1727349247.394579, \"EndTime\": 1727349247.3945835, \"Dimensions\": {\"Algorithm\": \"Linear Learner\", \"Host\": \"algo-1\", \"Operation\": \"training\", \"epoch\": 3, \"model\": 30}, \"Metrics\": {\"train_binary_classification_cross_entropy_objective\": {\"sum\": 0.5137379798072559, \"count\": 1, \"min\": 0.5137379798072559, \"max\": 0.5137379798072559}}}\u001b[0m\n",
      "\u001b[34m#metrics {\"StartTime\": 1727349247.3946004, \"EndTime\": 1727349247.3946052, \"Dimensions\": {\"Algorithm\": \"Linear Learner\", \"Host\": \"algo-1\", \"Operation\": \"training\", \"epoch\": 3, \"model\": 31}, \"Metrics\": {\"train_binary_classification_cross_entropy_objective\": {\"sum\": 0.5149015975158878, \"count\": 1, \"min\": 0.5149015975158878, \"max\": 0.5149015975158878}}}\u001b[0m\n",
      "\u001b[34m[09/26/2024 11:14:07 INFO 140152479487808] #quality_metric: host=algo-1, epoch=3, train binary_classification_cross_entropy_objective <loss>=0.4804189313369424\u001b[0m\n",
      "\u001b[34m[2024-09-26 11:14:10.116] [tensorio] [info] epoch_stats={\"data_pipeline\": \"/opt/ml/input/data/validation\", \"epoch\": 11, \"duration\": 2707, \"num_examples\": 164, \"num_bytes\": 63460892}\u001b[0m\n",
      "\u001b[34m#metrics {\"StartTime\": 1727349250.123106, \"EndTime\": 1727349250.1231601, \"Dimensions\": {\"Algorithm\": \"Linear Learner\", \"Host\": \"algo-1\", \"Operation\": \"training\", \"epoch\": 3, \"model\": 0}, \"Metrics\": {\"validation_binary_classification_cross_entropy_objective\": {\"sum\": 0.4814628038661818, \"count\": 1, \"min\": 0.4814628038661818, \"max\": 0.4814628038661818}}}\u001b[0m\n",
      "\u001b[34m#metrics {\"StartTime\": 1727349250.12323, \"EndTime\": 1727349250.1232405, \"Dimensions\": {\"Algorithm\": \"Linear Learner\", \"Host\": \"algo-1\", \"Operation\": \"training\", \"epoch\": 3, \"model\": 1}, \"Metrics\": {\"validation_binary_classification_cross_entropy_objective\": {\"sum\": 0.4821815887448, \"count\": 1, \"min\": 0.4821815887448, \"max\": 0.4821815887448}}}\u001b[0m\n",
      "\u001b[34m#metrics {\"StartTime\": 1727349250.1232672, \"EndTime\": 1727349250.123276, \"Dimensions\": {\"Algorithm\": \"Linear Learner\", \"Host\": \"algo-1\", \"Operation\": \"training\", \"epoch\": 3, \"model\": 2}, \"Metrics\": {\"validation_binary_classification_cross_entropy_objective\": {\"sum\": 0.4814614445046338, \"count\": 1, \"min\": 0.4814614445046338, \"max\": 0.4814614445046338}}}\u001b[0m\n",
      "\u001b[34m#metrics {\"StartTime\": 1727349250.123309, \"EndTime\": 1727349250.123316, \"Dimensions\": {\"Algorithm\": \"Linear Learner\", \"Host\": \"algo-1\", \"Operation\": \"training\", \"epoch\": 3, \"model\": 3}, \"Metrics\": {\"validation_binary_classification_cross_entropy_objective\": {\"sum\": 0.4821815985404875, \"count\": 1, \"min\": 0.4821815985404875, \"max\": 0.4821815985404875}}}\u001b[0m\n",
      "\u001b[34m#metrics {\"StartTime\": 1727349250.1233509, \"EndTime\": 1727349250.1233575, \"Dimensions\": {\"Algorithm\": \"Linear Learner\", \"Host\": \"algo-1\", \"Operation\": \"training\", \"epoch\": 3, \"model\": 4}, \"Metrics\": {\"validation_binary_classification_cross_entropy_objective\": {\"sum\": 0.48156364533790413, \"count\": 1, \"min\": 0.48156364533790413, \"max\": 0.48156364533790413}}}\u001b[0m\n",
      "\u001b[34m#metrics {\"StartTime\": 1727349250.1233897, \"EndTime\": 1727349250.1233978, \"Dimensions\": {\"Algorithm\": \"Linear Learner\", \"Host\": \"algo-1\", \"Operation\": \"training\", \"epoch\": 3, \"model\": 5}, \"Metrics\": {\"validation_binary_classification_cross_entropy_objective\": {\"sum\": 0.4963852119120444, \"count\": 1, \"min\": 0.4963852119120444, \"max\": 0.4963852119120444}}}\u001b[0m\n",
      "\u001b[34m#metrics {\"StartTime\": 1727349250.123432, \"EndTime\": 1727349250.1234398, \"Dimensions\": {\"Algorithm\": \"Linear Learner\", \"Host\": \"algo-1\", \"Operation\": \"training\", \"epoch\": 3, \"model\": 6}, \"Metrics\": {\"validation_binary_classification_cross_entropy_objective\": {\"sum\": 0.48156364337876667, \"count\": 1, \"min\": 0.48156364337876667, \"max\": 0.48156364337876667}}}\u001b[0m\n",
      "\u001b[34m#metrics {\"StartTime\": 1727349250.1234665, \"EndTime\": 1727349250.1234746, \"Dimensions\": {\"Algorithm\": \"Linear Learner\", \"Host\": \"algo-1\", \"Operation\": \"training\", \"epoch\": 3, \"model\": 7}, \"Metrics\": {\"validation_binary_classification_cross_entropy_objective\": {\"sum\": 0.49638521228521343, \"count\": 1, \"min\": 0.49638521228521343, \"max\": 0.49638521228521343}}}\u001b[0m\n",
      "\u001b[34m#metrics {\"StartTime\": 1727349250.1235075, \"EndTime\": 1727349250.1235154, \"Dimensions\": {\"Algorithm\": \"Linear Learner\", \"Host\": \"algo-1\", \"Operation\": \"training\", \"epoch\": 3, \"model\": 8}, \"Metrics\": {\"validation_binary_classification_cross_entropy_objective\": {\"sum\": 0.4817057959701457, \"count\": 1, \"min\": 0.4817057959701457, \"max\": 0.4817057959701457}}}\u001b[0m\n",
      "\u001b[34m#metrics {\"StartTime\": 1727349250.1235473, \"EndTime\": 1727349250.1235569, \"Dimensions\": {\"Algorithm\": \"Linear Learner\", \"Host\": \"algo-1\", \"Operation\": \"training\", \"epoch\": 3, \"model\": 9}, \"Metrics\": {\"validation_binary_classification_cross_entropy_objective\": {\"sum\": 0.48247149724739163, \"count\": 1, \"min\": 0.48247149724739163, \"max\": 0.48247149724739163}}}\u001b[0m\n",
      "\u001b[34m#metrics {\"StartTime\": 1727349250.1235933, \"EndTime\": 1727349250.1236022, \"Dimensions\": {\"Algorithm\": \"Linear Learner\", \"Host\": \"algo-1\", \"Operation\": \"training\", \"epoch\": 3, \"model\": 10}, \"Metrics\": {\"validation_binary_classification_cross_entropy_objective\": {\"sum\": 0.4817081369528733, \"count\": 1, \"min\": 0.4817081369528733, \"max\": 0.4817081369528733}}}\u001b[0m\n",
      "\u001b[34m#metrics {\"StartTime\": 1727349250.1236322, \"EndTime\": 1727349250.123638, \"Dimensions\": {\"Algorithm\": \"Linear Learner\", \"Host\": \"algo-1\", \"Operation\": \"training\", \"epoch\": 3, \"model\": 11}, \"Metrics\": {\"validation_binary_classification_cross_entropy_objective\": {\"sum\": 0.48247146925971307, \"count\": 1, \"min\": 0.48247146925971307, \"max\": 0.48247146925971307}}}\u001b[0m\n",
      "\u001b[34m#metrics {\"StartTime\": 1727349250.1236563, \"EndTime\": 1727349250.1236615, \"Dimensions\": {\"Algorithm\": \"Linear Learner\", \"Host\": \"algo-1\", \"Operation\": \"training\", \"epoch\": 3, \"model\": 12}, \"Metrics\": {\"validation_binary_classification_cross_entropy_objective\": {\"sum\": 0.4818531701294227, \"count\": 1, \"min\": 0.4818531701294227, \"max\": 0.4818531701294227}}}\u001b[0m\n",
      "\u001b[34m#metrics {\"StartTime\": 1727349250.1236901, \"EndTime\": 1727349250.1236963, \"Dimensions\": {\"Algorithm\": \"Linear Learner\", \"Host\": \"algo-1\", \"Operation\": \"training\", \"epoch\": 3, \"model\": 13}, \"Metrics\": {\"validation_binary_classification_cross_entropy_objective\": {\"sum\": 0.49568828569026385, \"count\": 1, \"min\": 0.49568828569026385, \"max\": 0.49568828569026385}}}\u001b[0m\n",
      "\u001b[34m#metrics {\"StartTime\": 1727349250.1237292, \"EndTime\": 1727349250.1237373, \"Dimensions\": {\"Algorithm\": \"Linear Learner\", \"Host\": \"algo-1\", \"Operation\": \"training\", \"epoch\": 3, \"model\": 14}, \"Metrics\": {\"validation_binary_classification_cross_entropy_objective\": {\"sum\": 0.48185316135995004, \"count\": 1, \"min\": 0.48185316135995004, \"max\": 0.48185316135995004}}}\u001b[0m\n",
      "\u001b[34m#metrics {\"StartTime\": 1727349250.1237714, \"EndTime\": 1727349250.1237814, \"Dimensions\": {\"Algorithm\": \"Linear Learner\", \"Host\": \"algo-1\", \"Operation\": \"training\", \"epoch\": 3, \"model\": 15}, \"Metrics\": {\"validation_binary_classification_cross_entropy_objective\": {\"sum\": 0.4956881103008115, \"count\": 1, \"min\": 0.4956881103008115, \"max\": 0.4956881103008115}}}\u001b[0m\n",
      "\u001b[34m#metrics {\"StartTime\": 1727349250.1238163, \"EndTime\": 1727349250.1238265, \"Dimensions\": {\"Algorithm\": \"Linear Learner\", \"Host\": \"algo-1\", \"Operation\": \"training\", \"epoch\": 3, \"model\": 16}, \"Metrics\": {\"validation_binary_classification_cross_entropy_objective\": {\"sum\": 0.5047157672941344, \"count\": 1, \"min\": 0.5047157672941344, \"max\": 0.5047157672941344}}}\u001b[0m\n",
      "\u001b[34m#metrics {\"StartTime\": 1727349250.123855, \"EndTime\": 1727349250.1238647, \"Dimensions\": {\"Algorithm\": \"Linear Learner\", \"Host\": \"algo-1\", \"Operation\": \"training\", \"epoch\": 3, \"model\": 17}, \"Metrics\": {\"validation_binary_classification_cross_entropy_objective\": {\"sum\": 0.5048903469696547, \"count\": 1, \"min\": 0.5048903469696547, \"max\": 0.5048903469696547}}}\u001b[0m\n",
      "\u001b[34m#metrics {\"StartTime\": 1727349250.1238935, \"EndTime\": 1727349250.1239038, \"Dimensions\": {\"Algorithm\": \"Linear Learner\", \"Host\": \"algo-1\", \"Operation\": \"training\", \"epoch\": 3, \"model\": 18}, \"Metrics\": {\"validation_binary_classification_cross_entropy_objective\": {\"sum\": 0.5048299598214558, \"count\": 1, \"min\": 0.5048299598214558, \"max\": 0.5048299598214558}}}\u001b[0m\n",
      "\u001b[34m#metrics {\"StartTime\": 1727349250.1239398, \"EndTime\": 1727349250.1239495, \"Dimensions\": {\"Algorithm\": \"Linear Learner\", \"Host\": \"algo-1\", \"Operation\": \"training\", \"epoch\": 3, \"model\": 19}, \"Metrics\": {\"validation_binary_classification_cross_entropy_objective\": {\"sum\": 0.5048902049788322, \"count\": 1, \"min\": 0.5048902049788322, \"max\": 0.5048902049788322}}}\u001b[0m\n",
      "\u001b[34m#metrics {\"StartTime\": 1727349250.1239805, \"EndTime\": 1727349250.1239905, \"Dimensions\": {\"Algorithm\": \"Linear Learner\", \"Host\": \"algo-1\", \"Operation\": \"training\", \"epoch\": 3, \"model\": 20}, \"Metrics\": {\"validation_binary_classification_cross_entropy_objective\": {\"sum\": 0.5050630518438802, \"count\": 1, \"min\": 0.5050630518438802, \"max\": 0.5050630518438802}}}\u001b[0m\n",
      "\u001b[34m#metrics {\"StartTime\": 1727349250.1240177, \"EndTime\": 1727349250.1240277, \"Dimensions\": {\"Algorithm\": \"Linear Learner\", \"Host\": \"algo-1\", \"Operation\": \"training\", \"epoch\": 3, \"model\": 21}, \"Metrics\": {\"validation_binary_classification_cross_entropy_objective\": {\"sum\": 0.5053279451459531, \"count\": 1, \"min\": 0.5053279451459531, \"max\": 0.5053279451459531}}}\u001b[0m\n",
      "\u001b[34m#metrics {\"StartTime\": 1727349250.124064, \"EndTime\": 1727349250.1240737, \"Dimensions\": {\"Algorithm\": \"Linear Learner\", \"Host\": \"algo-1\", \"Operation\": \"training\", \"epoch\": 3, \"model\": 22}, \"Metrics\": {\"validation_binary_classification_cross_entropy_objective\": {\"sum\": 0.5050630690096564, \"count\": 1, \"min\": 0.5050630690096564, \"max\": 0.5050630690096564}}}\u001b[0m\n",
      "\u001b[34m#metrics {\"StartTime\": 1727349250.124104, \"EndTime\": 1727349250.1241143, \"Dimensions\": {\"Algorithm\": \"Linear Learner\", \"Host\": \"algo-1\", \"Operation\": \"training\", \"epoch\": 3, \"model\": 23}, \"Metrics\": {\"validation_binary_classification_cross_entropy_objective\": {\"sum\": 0.5053279184643663, \"count\": 1, \"min\": 0.5053279184643663, \"max\": 0.5053279184643663}}}\u001b[0m\n",
      "\u001b[34m#metrics {\"StartTime\": 1727349250.1241405, \"EndTime\": 1727349250.1241493, \"Dimensions\": {\"Algorithm\": \"Linear Learner\", \"Host\": \"algo-1\", \"Operation\": \"training\", \"epoch\": 3, \"model\": 24}, \"Metrics\": {\"validation_binary_classification_cross_entropy_objective\": {\"sum\": 0.5137264060063356, \"count\": 1, \"min\": 0.5137264060063356, \"max\": 0.5137264060063356}}}\u001b[0m\n",
      "\u001b[34m#metrics {\"StartTime\": 1727349250.1241825, \"EndTime\": 1727349250.124193, \"Dimensions\": {\"Algorithm\": \"Linear Learner\", \"Host\": \"algo-1\", \"Operation\": \"training\", \"epoch\": 3, \"model\": 25}, \"Metrics\": {\"validation_binary_classification_cross_entropy_objective\": {\"sum\": 0.5138029185354176, \"count\": 1, \"min\": 0.5138029185354176, \"max\": 0.5138029185354176}}}\u001b[0m\n",
      "\u001b[34m#metrics {\"StartTime\": 1727349250.1242208, \"EndTime\": 1727349250.1242306, \"Dimensions\": {\"Algorithm\": \"Linear Learner\", \"Host\": \"algo-1\", \"Operation\": \"training\", \"epoch\": 3, \"model\": 26}, \"Metrics\": {\"validation_binary_classification_cross_entropy_objective\": {\"sum\": 0.5137203627201948, \"count\": 1, \"min\": 0.5137203627201948, \"max\": 0.5137203627201948}}}\u001b[0m\n",
      "\u001b[34m#metrics {\"StartTime\": 1727349250.1242573, \"EndTime\": 1727349250.1242673, \"Dimensions\": {\"Algorithm\": \"Linear Learner\", \"Host\": \"algo-1\", \"Operation\": \"training\", \"epoch\": 3, \"model\": 27}, \"Metrics\": {\"validation_binary_classification_cross_entropy_objective\": {\"sum\": 0.5138017714137655, \"count\": 1, \"min\": 0.5138017714137655, \"max\": 0.5138017714137655}}}\u001b[0m\n",
      "\u001b[34m#metrics {\"StartTime\": 1727349250.1242926, \"EndTime\": 1727349250.124301, \"Dimensions\": {\"Algorithm\": \"Linear Learner\", \"Host\": \"algo-1\", \"Operation\": \"training\", \"epoch\": 3, \"model\": 28}, \"Metrics\": {\"validation_binary_classification_cross_entropy_objective\": {\"sum\": 0.5137958512734104, \"count\": 1, \"min\": 0.5137958512734104, \"max\": 0.5137958512734104}}}\u001b[0m\n",
      "\u001b[34m#metrics {\"StartTime\": 1727349250.1243377, \"EndTime\": 1727349250.1243472, \"Dimensions\": {\"Algorithm\": \"Linear Learner\", \"Host\": \"algo-1\", \"Operation\": \"training\", \"epoch\": 3, \"model\": 29}, \"Metrics\": {\"validation_binary_classification_cross_entropy_objective\": {\"sum\": 0.5139869899522472, \"count\": 1, \"min\": 0.5139869899522472, \"max\": 0.5139869899522472}}}\u001b[0m\n",
      "\u001b[34m#metrics {\"StartTime\": 1727349250.124379, \"EndTime\": 1727349250.124389, \"Dimensions\": {\"Algorithm\": \"Linear Learner\", \"Host\": \"algo-1\", \"Operation\": \"training\", \"epoch\": 3, \"model\": 30}, \"Metrics\": {\"validation_binary_classification_cross_entropy_objective\": {\"sum\": 0.5138013551436929, \"count\": 1, \"min\": 0.5138013551436929, \"max\": 0.5138013551436929}}}\u001b[0m\n",
      "\u001b[34m#metrics {\"StartTime\": 1727349250.1244135, \"EndTime\": 1727349250.124423, \"Dimensions\": {\"Algorithm\": \"Linear Learner\", \"Host\": \"algo-1\", \"Operation\": \"training\", \"epoch\": 3, \"model\": 31}, \"Metrics\": {\"validation_binary_classification_cross_entropy_objective\": {\"sum\": 0.5139869878998174, \"count\": 1, \"min\": 0.5139869878998174, \"max\": 0.5139869878998174}}}\u001b[0m\n",
      "\u001b[34m[09/26/2024 11:14:10 INFO 140152479487808] #quality_metric: host=algo-1, epoch=3, validation binary_classification_cross_entropy_objective <loss>=0.4814628038661818\u001b[0m\n",
      "\u001b[34m[09/26/2024 11:14:10 INFO 140152479487808] #early_stopping_criteria_metric: host=algo-1, epoch=3, criteria=binary_classification_cross_entropy_objective, value=0.4814614445046338\u001b[0m\n",
      "\u001b[34m[09/26/2024 11:14:10 INFO 140152479487808] Saving model for epoch: 3\u001b[0m\n",
      "\u001b[34m[09/26/2024 11:14:10 INFO 140152479487808] Saved checkpoint to \"/tmp/tmp7sgzs7f3/mx-mod-0000.params\"\u001b[0m\n",
      "\u001b[34m[09/26/2024 11:14:10 INFO 140152479487808] #progress_metric: host=algo-1, completed 26.666666666666668 % of epochs\u001b[0m\n",
      "\u001b[34m#metrics {\"StartTime\": 1727349216.6412535, \"EndTime\": 1727349250.1295881, \"Dimensions\": {\"Algorithm\": \"Linear Learner\", \"Host\": \"algo-1\", \"Operation\": \"training\", \"epoch\": 3, \"Meta\": \"training_data_iter\"}, \"Metrics\": {\"Total Records Seen\": {\"sum\": 5245888.0, \"count\": 1, \"min\": 5245888, \"max\": 5245888}, \"Total Batches Seen\": {\"sum\": 5248.0, \"count\": 1, \"min\": 5248, \"max\": 5248}, \"Max Records Seen Between Resets\": {\"sum\": 1308472.0, \"count\": 1, \"min\": 1308472, \"max\": 1308472}, \"Max Batches Seen Between Resets\": {\"sum\": 1309.0, \"count\": 1, \"min\": 1309, \"max\": 1309}, \"Reset Count\": {\"sum\": 6.0, \"count\": 1, \"min\": 6, \"max\": 6}, \"Number of Records Since Last Reset\": {\"sum\": 1308472.0, \"count\": 1, \"min\": 1308472, \"max\": 1308472}, \"Number of Batches Since Last Reset\": {\"sum\": 1309.0, \"count\": 1, \"min\": 1309, \"max\": 1309}}}\u001b[0m\n",
      "\u001b[34m[09/26/2024 11:14:10 INFO 140152479487808] #throughput_metric: host=algo-1, train throughput=39072.308447987234 records/second\u001b[0m\n",
      "\u001b[34m[2024-09-26 11:14:40.080] [tensorio] [info] epoch_stats={\"data_pipeline\": \"/opt/ml/input/data/train\", \"epoch\": 11, \"duration\": 29949, \"num_examples\": 1309, \"num_bytes\": 507687136}\u001b[0m\n",
      "\u001b[34m#metrics {\"StartTime\": 1727349280.080748, \"EndTime\": 1727349280.0808277, \"Dimensions\": {\"Algorithm\": \"Linear Learner\", \"Host\": \"algo-1\", \"Operation\": \"training\", \"epoch\": 4, \"model\": 0}, \"Metrics\": {\"train_binary_classification_cross_entropy_objective\": {\"sum\": 0.4803962229690785, \"count\": 1, \"min\": 0.4803962229690785, \"max\": 0.4803962229690785}}}\u001b[0m\n",
      "\u001b[34m#metrics {\"StartTime\": 1727349280.0809069, \"EndTime\": 1727349280.0809238, \"Dimensions\": {\"Algorithm\": \"Linear Learner\", \"Host\": \"algo-1\", \"Operation\": \"training\", \"epoch\": 4, \"model\": 1}, \"Metrics\": {\"train_binary_classification_cross_entropy_objective\": {\"sum\": 0.4812026677962837, \"count\": 1, \"min\": 0.4812026677962837, \"max\": 0.4812026677962837}}}\u001b[0m\n",
      "\u001b[34m#metrics {\"StartTime\": 1727349280.080972, \"EndTime\": 1727349280.0809827, \"Dimensions\": {\"Algorithm\": \"Linear Learner\", \"Host\": \"algo-1\", \"Operation\": \"training\", \"epoch\": 4, \"model\": 2}, \"Metrics\": {\"train_binary_classification_cross_entropy_objective\": {\"sum\": 0.4804332939171281, \"count\": 1, \"min\": 0.4804332939171281, \"max\": 0.4804332939171281}}}\u001b[0m\n",
      "\u001b[34m#metrics {\"StartTime\": 1727349280.081016, \"EndTime\": 1727349280.0810268, \"Dimensions\": {\"Algorithm\": \"Linear Learner\", \"Host\": \"algo-1\", \"Operation\": \"training\", \"epoch\": 4, \"model\": 3}, \"Metrics\": {\"train_binary_classification_cross_entropy_objective\": {\"sum\": 0.48120266707300774, \"count\": 1, \"min\": 0.48120266707300774, \"max\": 0.48120266707300774}}}\u001b[0m\n",
      "\u001b[34m#metrics {\"StartTime\": 1727349280.0810688, \"EndTime\": 1727349280.0810816, \"Dimensions\": {\"Algorithm\": \"Linear Learner\", \"Host\": \"algo-1\", \"Operation\": \"training\", \"epoch\": 4, \"model\": 4}, \"Metrics\": {\"train_binary_classification_cross_entropy_objective\": {\"sum\": 0.48050735930929855, \"count\": 1, \"min\": 0.48050735930929855, \"max\": 0.48050735930929855}}}\u001b[0m\n",
      "\u001b[34m#metrics {\"StartTime\": 1727349280.081128, \"EndTime\": 1727349280.0811374, \"Dimensions\": {\"Algorithm\": \"Linear Learner\", \"Host\": \"algo-1\", \"Operation\": \"training\", \"epoch\": 4, \"model\": 5}, \"Metrics\": {\"train_binary_classification_cross_entropy_objective\": {\"sum\": 0.494759993106947, \"count\": 1, \"min\": 0.494759993106947, \"max\": 0.494759993106947}}}\u001b[0m\n",
      "\u001b[34m#metrics {\"StartTime\": 1727349280.081166, \"EndTime\": 1727349280.0811741, \"Dimensions\": {\"Algorithm\": \"Linear Learner\", \"Host\": \"algo-1\", \"Operation\": \"training\", \"epoch\": 4, \"model\": 6}, \"Metrics\": {\"train_binary_classification_cross_entropy_objective\": {\"sum\": 0.4805073594959504, \"count\": 1, \"min\": 0.4805073594959504, \"max\": 0.4805073594959504}}}\u001b[0m\n",
      "\u001b[34m#metrics {\"StartTime\": 1727349280.081202, \"EndTime\": 1727349280.0812101, \"Dimensions\": {\"Algorithm\": \"Linear Learner\", \"Host\": \"algo-1\", \"Operation\": \"training\", \"epoch\": 4, \"model\": 7}, \"Metrics\": {\"train_binary_classification_cross_entropy_objective\": {\"sum\": 0.4947599885106451, \"count\": 1, \"min\": 0.4947599885106451, \"max\": 0.4947599885106451}}}\u001b[0m\n",
      "\u001b[34m#metrics {\"StartTime\": 1727349280.081237, \"EndTime\": 1727349280.0812457, \"Dimensions\": {\"Algorithm\": \"Linear Learner\", \"Host\": \"algo-1\", \"Operation\": \"training\", \"epoch\": 4, \"model\": 8}, \"Metrics\": {\"train_binary_classification_cross_entropy_objective\": {\"sum\": 0.48066685688823735, \"count\": 1, \"min\": 0.48066685688823735, \"max\": 0.48066685688823735}}}\u001b[0m\n",
      "\u001b[34m#metrics {\"StartTime\": 1727349280.0812767, \"EndTime\": 1727349280.0812857, \"Dimensions\": {\"Algorithm\": \"Linear Learner\", \"Host\": \"algo-1\", \"Operation\": \"training\", \"epoch\": 4, \"model\": 9}, \"Metrics\": {\"train_binary_classification_cross_entropy_objective\": {\"sum\": 0.48142375731395287, \"count\": 1, \"min\": 0.48142375731395287, \"max\": 0.48142375731395287}}}\u001b[0m\n",
      "\u001b[34m#metrics {\"StartTime\": 1727349280.0813203, \"EndTime\": 1727349280.08133, \"Dimensions\": {\"Algorithm\": \"Linear Learner\", \"Host\": \"algo-1\", \"Operation\": \"training\", \"epoch\": 4, \"model\": 10}, \"Metrics\": {\"train_binary_classification_cross_entropy_objective\": {\"sum\": 0.4807026190568183, \"count\": 1, \"min\": 0.4807026190568183, \"max\": 0.4807026190568183}}}\u001b[0m\n",
      "\u001b[34m#metrics {\"StartTime\": 1727349280.0813603, \"EndTime\": 1727349280.0813706, \"Dimensions\": {\"Algorithm\": \"Linear Learner\", \"Host\": \"algo-1\", \"Operation\": \"training\", \"epoch\": 4, \"model\": 11}, \"Metrics\": {\"train_binary_classification_cross_entropy_objective\": {\"sum\": 0.48142375946044924, \"count\": 1, \"min\": 0.48142375946044924, \"max\": 0.48142375946044924}}}\u001b[0m\n",
      "\u001b[34m#metrics {\"StartTime\": 1727349280.0814037, \"EndTime\": 1727349280.0814133, \"Dimensions\": {\"Algorithm\": \"Linear Learner\", \"Host\": \"algo-1\", \"Operation\": \"training\", \"epoch\": 4, \"model\": 12}, \"Metrics\": {\"train_binary_classification_cross_entropy_objective\": {\"sum\": 0.4807753308030808, \"count\": 1, \"min\": 0.4807753308030808, \"max\": 0.4807753308030808}}}\u001b[0m\n",
      "\u001b[34m#metrics {\"StartTime\": 1727349280.0814445, \"EndTime\": 1727349280.081454, \"Dimensions\": {\"Algorithm\": \"Linear Learner\", \"Host\": \"algo-1\", \"Operation\": \"training\", \"epoch\": 4, \"model\": 13}, \"Metrics\": {\"train_binary_classification_cross_entropy_objective\": {\"sum\": 0.49403484099501865, \"count\": 1, \"min\": 0.49403484099501865, \"max\": 0.49403484099501865}}}\u001b[0m\n",
      "\u001b[34m#metrics {\"StartTime\": 1727349280.0814917, \"EndTime\": 1727349280.0815022, \"Dimensions\": {\"Algorithm\": \"Linear Learner\", \"Host\": \"algo-1\", \"Operation\": \"training\", \"epoch\": 4, \"model\": 14}, \"Metrics\": {\"train_binary_classification_cross_entropy_objective\": {\"sum\": 0.48077533033645115, \"count\": 1, \"min\": 0.48077533033645115, \"max\": 0.48077533033645115}}}\u001b[0m\n",
      "\u001b[34m#metrics {\"StartTime\": 1727349280.0815296, \"EndTime\": 1727349280.0815392, \"Dimensions\": {\"Algorithm\": \"Linear Learner\", \"Host\": \"algo-1\", \"Operation\": \"training\", \"epoch\": 4, \"model\": 15}, \"Metrics\": {\"train_binary_classification_cross_entropy_objective\": {\"sum\": 0.49403483702866674, \"count\": 1, \"min\": 0.49403483702866674, \"max\": 0.49403483702866674}}}\u001b[0m\n",
      "\u001b[34m#metrics {\"StartTime\": 1727349280.0815704, \"EndTime\": 1727349280.0815794, \"Dimensions\": {\"Algorithm\": \"Linear Learner\", \"Host\": \"algo-1\", \"Operation\": \"training\", \"epoch\": 4, \"model\": 16}, \"Metrics\": {\"train_binary_classification_cross_entropy_objective\": {\"sum\": 0.5044825819989592, \"count\": 1, \"min\": 0.5044825819989592, \"max\": 0.5044825819989592}}}\u001b[0m\n",
      "\u001b[34m#metrics {\"StartTime\": 1727349280.08161, \"EndTime\": 1727349280.08162, \"Dimensions\": {\"Algorithm\": \"Linear Learner\", \"Host\": \"algo-1\", \"Operation\": \"training\", \"epoch\": 4, \"model\": 17}, \"Metrics\": {\"train_binary_classification_cross_entropy_objective\": {\"sum\": 0.5046681512721817, \"count\": 1, \"min\": 0.5046681512721817, \"max\": 0.5046681512721817}}}\u001b[0m\n",
      "\u001b[34m#metrics {\"StartTime\": 1727349280.081657, \"EndTime\": 1727349280.0816674, \"Dimensions\": {\"Algorithm\": \"Linear Learner\", \"Host\": \"algo-1\", \"Operation\": \"training\", \"epoch\": 4, \"model\": 18}, \"Metrics\": {\"train_binary_classification_cross_entropy_objective\": {\"sum\": 0.5044833274631325, \"count\": 1, \"min\": 0.5044833274631325, \"max\": 0.5044833274631325}}}\u001b[0m\n",
      "\u001b[34m#metrics {\"StartTime\": 1727349280.0816946, \"EndTime\": 1727349280.0817049, \"Dimensions\": {\"Algorithm\": \"Linear Learner\", \"Host\": \"algo-1\", \"Operation\": \"training\", \"epoch\": 4, \"model\": 19}, \"Metrics\": {\"train_binary_classification_cross_entropy_objective\": {\"sum\": 0.5046681525554132, \"count\": 1, \"min\": 0.5046681525554132, \"max\": 0.5046681525554132}}}\u001b[0m\n",
      "\u001b[34m#metrics {\"StartTime\": 1727349280.0827274, \"EndTime\": 1727349280.0827417, \"Dimensions\": {\"Algorithm\": \"Linear Learner\", \"Host\": \"algo-1\", \"Operation\": \"training\", \"epoch\": 4, \"model\": 20}, \"Metrics\": {\"train_binary_classification_cross_entropy_objective\": {\"sum\": 0.5044878016480612, \"count\": 1, \"min\": 0.5044878016480612, \"max\": 0.5044878016480612}}}\u001b[0m\n",
      "\u001b[34m#metrics {\"StartTime\": 1727349280.0827837, \"EndTime\": 1727349280.0827937, \"Dimensions\": {\"Algorithm\": \"Linear Learner\", \"Host\": \"algo-1\", \"Operation\": \"training\", \"epoch\": 4, \"model\": 21}, \"Metrics\": {\"train_binary_classification_cross_entropy_objective\": {\"sum\": 0.5071895745420311, \"count\": 1, \"min\": 0.5071895745420311, \"max\": 0.5071895745420311}}}\u001b[0m\n",
      "\u001b[34m#metrics {\"StartTime\": 1727349280.0828247, \"EndTime\": 1727349280.0828347, \"Dimensions\": {\"Algorithm\": \"Linear Learner\", \"Host\": \"algo-1\", \"Operation\": \"training\", \"epoch\": 4, \"model\": 22}, \"Metrics\": {\"train_binary_classification_cross_entropy_objective\": {\"sum\": 0.5044878015080723, \"count\": 1, \"min\": 0.5044878015080723, \"max\": 0.5044878015080723}}}\u001b[0m\n",
      "\u001b[34m#metrics {\"StartTime\": 1727349280.082862, \"EndTime\": 1727349280.0828707, \"Dimensions\": {\"Algorithm\": \"Linear Learner\", \"Host\": \"algo-1\", \"Operation\": \"training\", \"epoch\": 4, \"model\": 23}, \"Metrics\": {\"train_binary_classification_cross_entropy_objective\": {\"sum\": 0.5071895751953125, \"count\": 1, \"min\": 0.5071895751953125, \"max\": 0.5071895751953125}}}\u001b[0m\n",
      "\u001b[34m#metrics {\"StartTime\": 1727349280.0829055, \"EndTime\": 1727349280.0829158, \"Dimensions\": {\"Algorithm\": \"Linear Learner\", \"Host\": \"algo-1\", \"Operation\": \"training\", \"epoch\": 4, \"model\": 24}, \"Metrics\": {\"train_binary_classification_cross_entropy_objective\": {\"sum\": 0.5137082951863606, \"count\": 1, \"min\": 0.5137082951863606, \"max\": 0.5137082951863606}}}\u001b[0m\n",
      "\u001b[34m#metrics {\"StartTime\": 1727349280.0829432, \"EndTime\": 1727349280.0829518, \"Dimensions\": {\"Algorithm\": \"Linear Learner\", \"Host\": \"algo-1\", \"Operation\": \"training\", \"epoch\": 4, \"model\": 25}, \"Metrics\": {\"train_binary_classification_cross_entropy_objective\": {\"sum\": 0.5137827521507893, \"count\": 1, \"min\": 0.5137827521507893, \"max\": 0.5137827521507893}}}\u001b[0m\n",
      "\u001b[34m#metrics {\"StartTime\": 1727349280.0829854, \"EndTime\": 1727349280.082996, \"Dimensions\": {\"Algorithm\": \"Linear Learner\", \"Host\": \"algo-1\", \"Operation\": \"training\", \"epoch\": 4, \"model\": 26}, \"Metrics\": {\"train_binary_classification_cross_entropy_objective\": {\"sum\": 0.5137105859179015, \"count\": 1, \"min\": 0.5137105859179015, \"max\": 0.5137105859179015}}}\u001b[0m\n",
      "\u001b[34m#metrics {\"StartTime\": 1727349280.083034, \"EndTime\": 1727349280.0830438, \"Dimensions\": {\"Algorithm\": \"Linear Learner\", \"Host\": \"algo-1\", \"Operation\": \"training\", \"epoch\": 4, \"model\": 27}, \"Metrics\": {\"train_binary_classification_cross_entropy_objective\": {\"sum\": 0.5137834615211604, \"count\": 1, \"min\": 0.5137834615211604, \"max\": 0.5137834615211604}}}\u001b[0m\n",
      "\u001b[34m#metrics {\"StartTime\": 1727349280.0830748, \"EndTime\": 1727349280.083084, \"Dimensions\": {\"Algorithm\": \"Linear Learner\", \"Host\": \"algo-1\", \"Operation\": \"training\", \"epoch\": 4, \"model\": 28}, \"Metrics\": {\"train_binary_classification_cross_entropy_objective\": {\"sum\": 0.5137170195506618, \"count\": 1, \"min\": 0.5137170195506618, \"max\": 0.5137170195506618}}}\u001b[0m\n",
      "\u001b[34m#metrics {\"StartTime\": 1727349280.0831134, \"EndTime\": 1727349280.0831223, \"Dimensions\": {\"Algorithm\": \"Linear Learner\", \"Host\": \"algo-1\", \"Operation\": \"training\", \"epoch\": 4, \"model\": 29}, \"Metrics\": {\"train_binary_classification_cross_entropy_objective\": {\"sum\": 0.5147668398935861, \"count\": 1, \"min\": 0.5147668398935861, \"max\": 0.5147668398935861}}}\u001b[0m\n",
      "\u001b[34m#metrics {\"StartTime\": 1727349280.0831532, \"EndTime\": 1727349280.0831618, \"Dimensions\": {\"Algorithm\": \"Linear Learner\", \"Host\": \"algo-1\", \"Operation\": \"training\", \"epoch\": 4, \"model\": 30}, \"Metrics\": {\"train_binary_classification_cross_entropy_objective\": {\"sum\": 0.513716936840559, \"count\": 1, \"min\": 0.513716936840559, \"max\": 0.513716936840559}}}\u001b[0m\n",
      "\u001b[34m#metrics {\"StartTime\": 1727349280.0831962, \"EndTime\": 1727349280.0832062, \"Dimensions\": {\"Algorithm\": \"Linear Learner\", \"Host\": \"algo-1\", \"Operation\": \"training\", \"epoch\": 4, \"model\": 31}, \"Metrics\": {\"train_binary_classification_cross_entropy_objective\": {\"sum\": 0.514766836790499, \"count\": 1, \"min\": 0.514766836790499, \"max\": 0.514766836790499}}}\u001b[0m\n",
      "\u001b[34m[09/26/2024 11:14:40 INFO 140152479487808] #quality_metric: host=algo-1, epoch=4, train binary_classification_cross_entropy_objective <loss>=0.4803962229690785\u001b[0m\n",
      "\u001b[34m[2024-09-26 11:14:42.757] [tensorio] [info] epoch_stats={\"data_pipeline\": \"/opt/ml/input/data/validation\", \"epoch\": 14, \"duration\": 2658, \"num_examples\": 164, \"num_bytes\": 63460892}\u001b[0m\n",
      "\u001b[34m#metrics {\"StartTime\": 1727349282.7637618, \"EndTime\": 1727349282.7638133, \"Dimensions\": {\"Algorithm\": \"Linear Learner\", \"Host\": \"algo-1\", \"Operation\": \"training\", \"epoch\": 4, \"model\": 0}, \"Metrics\": {\"validation_binary_classification_cross_entropy_objective\": {\"sum\": 0.4814619633961944, \"count\": 1, \"min\": 0.4814619633961944, \"max\": 0.4814619633961944}}}\u001b[0m\n",
      "\u001b[34m#metrics {\"StartTime\": 1727349282.763884, \"EndTime\": 1727349282.7638986, \"Dimensions\": {\"Algorithm\": \"Linear Learner\", \"Host\": \"algo-1\", \"Operation\": \"training\", \"epoch\": 4, \"model\": 1}, \"Metrics\": {\"validation_binary_classification_cross_entropy_objective\": {\"sum\": 0.482073527758099, \"count\": 1, \"min\": 0.482073527758099, \"max\": 0.482073527758099}}}\u001b[0m\n",
      "\u001b[34m#metrics {\"StartTime\": 1727349282.7639368, \"EndTime\": 1727349282.7639475, \"Dimensions\": {\"Algorithm\": \"Linear Learner\", \"Host\": \"algo-1\", \"Operation\": \"training\", \"epoch\": 4, \"model\": 2}, \"Metrics\": {\"validation_binary_classification_cross_entropy_objective\": {\"sum\": 0.4814610693764487, \"count\": 1, \"min\": 0.4814610693764487, \"max\": 0.4814610693764487}}}\u001b[0m\n",
      "\u001b[34m#metrics {\"StartTime\": 1727349282.763979, \"EndTime\": 1727349282.76399, \"Dimensions\": {\"Algorithm\": \"Linear Learner\", \"Host\": \"algo-1\", \"Operation\": \"training\", \"epoch\": 4, \"model\": 3}, \"Metrics\": {\"validation_binary_classification_cross_entropy_objective\": {\"sum\": 0.4820735332623424, \"count\": 1, \"min\": 0.4820735332623424, \"max\": 0.4820735332623424}}}\u001b[0m\n",
      "\u001b[34m#metrics {\"StartTime\": 1727349282.7640185, \"EndTime\": 1727349282.764028, \"Dimensions\": {\"Algorithm\": \"Linear Learner\", \"Host\": \"algo-1\", \"Operation\": \"training\", \"epoch\": 4, \"model\": 4}, \"Metrics\": {\"validation_binary_classification_cross_entropy_objective\": {\"sum\": 0.4814606276375887, \"count\": 1, \"min\": 0.4814606276375887, \"max\": 0.4814606276375887}}}\u001b[0m\n",
      "\u001b[34m#metrics {\"StartTime\": 1727349282.7640586, \"EndTime\": 1727349282.764067, \"Dimensions\": {\"Algorithm\": \"Linear Learner\", \"Host\": \"algo-1\", \"Operation\": \"training\", \"epoch\": 4, \"model\": 5}, \"Metrics\": {\"validation_binary_classification_cross_entropy_objective\": {\"sum\": 0.4945816415913586, \"count\": 1, \"min\": 0.4945816415913586, \"max\": 0.4945816415913586}}}\u001b[0m\n",
      "\u001b[34m#metrics {\"StartTime\": 1727349282.7640955, \"EndTime\": 1727349282.764104, \"Dimensions\": {\"Algorithm\": \"Linear Learner\", \"Host\": \"algo-1\", \"Operation\": \"training\", \"epoch\": 4, \"model\": 6}, \"Metrics\": {\"validation_binary_classification_cross_entropy_objective\": {\"sum\": 0.48146063183574045, \"count\": 1, \"min\": 0.48146063183574045, \"max\": 0.48146063183574045}}}\u001b[0m\n",
      "\u001b[34m#metrics {\"StartTime\": 1727349282.7641423, \"EndTime\": 1727349282.7641525, \"Dimensions\": {\"Algorithm\": \"Linear Learner\", \"Host\": \"algo-1\", \"Operation\": \"training\", \"epoch\": 4, \"model\": 7}, \"Metrics\": {\"validation_binary_classification_cross_entropy_objective\": {\"sum\": 0.494581648868155, \"count\": 1, \"min\": 0.494581648868155, \"max\": 0.494581648868155}}}\u001b[0m\n",
      "\u001b[34m#metrics {\"StartTime\": 1727349282.7641842, \"EndTime\": 1727349282.764191, \"Dimensions\": {\"Algorithm\": \"Linear Learner\", \"Host\": \"algo-1\", \"Operation\": \"training\", \"epoch\": 4, \"model\": 8}, \"Metrics\": {\"validation_binary_classification_cross_entropy_objective\": {\"sum\": 0.4817043414504905, \"count\": 1, \"min\": 0.4817043414504905, \"max\": 0.4817043414504905}}}\u001b[0m\n",
      "\u001b[34m#metrics {\"StartTime\": 1727349282.7642164, \"EndTime\": 1727349282.764225, \"Dimensions\": {\"Algorithm\": \"Linear Learner\", \"Host\": \"algo-1\", \"Operation\": \"training\", \"epoch\": 4, \"model\": 9}, \"Metrics\": {\"validation_binary_classification_cross_entropy_objective\": {\"sum\": 0.48236883312474876, \"count\": 1, \"min\": 0.48236883312474876, \"max\": 0.48236883312474876}}}\u001b[0m\n",
      "\u001b[34m#metrics {\"StartTime\": 1727349282.7642562, \"EndTime\": 1727349282.7642655, \"Dimensions\": {\"Algorithm\": \"Linear Learner\", \"Host\": \"algo-1\", \"Operation\": \"training\", \"epoch\": 4, \"model\": 10}, \"Metrics\": {\"validation_binary_classification_cross_entropy_objective\": {\"sum\": 0.48170845713191607, \"count\": 1, \"min\": 0.48170845713191607, \"max\": 0.48170845713191607}}}\u001b[0m\n",
      "\u001b[34m#metrics {\"StartTime\": 1727349282.7642953, \"EndTime\": 1727349282.7643042, \"Dimensions\": {\"Algorithm\": \"Linear Learner\", \"Host\": \"algo-1\", \"Operation\": \"training\", \"epoch\": 4, \"model\": 11}, \"Metrics\": {\"validation_binary_classification_cross_entropy_objective\": {\"sum\": 0.48236882547478327, \"count\": 1, \"min\": 0.48236882547478327, \"max\": 0.48236882547478327}}}\u001b[0m\n",
      "\u001b[34m#metrics {\"StartTime\": 1727349282.764331, \"EndTime\": 1727349282.7643387, \"Dimensions\": {\"Algorithm\": \"Linear Learner\", \"Host\": \"algo-1\", \"Operation\": \"training\", \"epoch\": 4, \"model\": 12}, \"Metrics\": {\"validation_binary_classification_cross_entropy_objective\": {\"sum\": 0.48171221317167207, \"count\": 1, \"min\": 0.48171221317167207, \"max\": 0.48171221317167207}}}\u001b[0m\n",
      "\u001b[34m#metrics {\"StartTime\": 1727349282.7643683, \"EndTime\": 1727349282.7643769, \"Dimensions\": {\"Algorithm\": \"Linear Learner\", \"Host\": \"algo-1\", \"Operation\": \"training\", \"epoch\": 4, \"model\": 13}, \"Metrics\": {\"validation_binary_classification_cross_entropy_objective\": {\"sum\": 0.49399368586254017, \"count\": 1, \"min\": 0.49399368586254017, \"max\": 0.49399368586254017}}}\u001b[0m\n",
      "\u001b[34m#metrics {\"StartTime\": 1727349282.7644072, \"EndTime\": 1727349282.7644167, \"Dimensions\": {\"Algorithm\": \"Linear Learner\", \"Host\": \"algo-1\", \"Operation\": \"training\", \"epoch\": 4, \"model\": 14}, \"Metrics\": {\"validation_binary_classification_cross_entropy_objective\": {\"sum\": 0.4817122115857036, \"count\": 1, \"min\": 0.4817122115857036, \"max\": 0.4817122115857036}}}\u001b[0m\n",
      "\u001b[34m#metrics {\"StartTime\": 1727349282.764446, \"EndTime\": 1727349282.764456, \"Dimensions\": {\"Algorithm\": \"Linear Learner\", \"Host\": \"algo-1\", \"Operation\": \"training\", \"epoch\": 4, \"model\": 15}, \"Metrics\": {\"validation_binary_classification_cross_entropy_objective\": {\"sum\": 0.49399366253947474, \"count\": 1, \"min\": 0.49399366253947474, \"max\": 0.49399366253947474}}}\u001b[0m\n",
      "\u001b[34m#metrics {\"StartTime\": 1727349282.764491, \"EndTime\": 1727349282.7644994, \"Dimensions\": {\"Algorithm\": \"Linear Learner\", \"Host\": \"algo-1\", \"Operation\": \"training\", \"epoch\": 4, \"model\": 16}, \"Metrics\": {\"validation_binary_classification_cross_entropy_objective\": {\"sum\": 0.5046887457502315, \"count\": 1, \"min\": 0.5046887457502315, \"max\": 0.5046887457502315}}}\u001b[0m\n",
      "\u001b[34m#metrics {\"StartTime\": 1727349282.7645333, \"EndTime\": 1727349282.76454, \"Dimensions\": {\"Algorithm\": \"Linear Learner\", \"Host\": \"algo-1\", \"Operation\": \"training\", \"epoch\": 4, \"model\": 17}, \"Metrics\": {\"validation_binary_classification_cross_entropy_objective\": {\"sum\": 0.5049577336496788, \"count\": 1, \"min\": 0.5049577336496788, \"max\": 0.5049577336496788}}}\u001b[0m\n",
      "\u001b[34m#metrics {\"StartTime\": 1727349282.7645655, \"EndTime\": 1727349282.7645714, \"Dimensions\": {\"Algorithm\": \"Linear Learner\", \"Host\": \"algo-1\", \"Operation\": \"training\", \"epoch\": 4, \"model\": 18}, \"Metrics\": {\"validation_binary_classification_cross_entropy_objective\": {\"sum\": 0.5048301320389713, \"count\": 1, \"min\": 0.5048301320389713, \"max\": 0.5048301320389713}}}\u001b[0m\n",
      "\u001b[34m#metrics {\"StartTime\": 1727349282.7645888, \"EndTime\": 1727349282.7645938, \"Dimensions\": {\"Algorithm\": \"Linear Learner\", \"Host\": \"algo-1\", \"Operation\": \"training\", \"epoch\": 4, \"model\": 19}, \"Metrics\": {\"validation_binary_classification_cross_entropy_objective\": {\"sum\": 0.5049577039827395, \"count\": 1, \"min\": 0.5049577039827395, \"max\": 0.5049577039827395}}}\u001b[0m\n",
      "\u001b[34m#metrics {\"StartTime\": 1727349282.764626, \"EndTime\": 1727349282.7646317, \"Dimensions\": {\"Algorithm\": \"Linear Learner\", \"Host\": \"algo-1\", \"Operation\": \"training\", \"epoch\": 4, \"model\": 20}, \"Metrics\": {\"validation_binary_classification_cross_entropy_objective\": {\"sum\": 0.5048702781248615, \"count\": 1, \"min\": 0.5048702781248615, \"max\": 0.5048702781248615}}}\u001b[0m\n",
      "\u001b[34m#metrics {\"StartTime\": 1727349282.7646549, \"EndTime\": 1727349282.7646606, \"Dimensions\": {\"Algorithm\": \"Linear Learner\", \"Host\": \"algo-1\", \"Operation\": \"training\", \"epoch\": 4, \"model\": 21}, \"Metrics\": {\"validation_binary_classification_cross_entropy_objective\": {\"sum\": 0.5063869880810283, \"count\": 1, \"min\": 0.5063869880810283, \"max\": 0.5063869880810283}}}\u001b[0m\n",
      "\u001b[34m#metrics {\"StartTime\": 1727349282.7646785, \"EndTime\": 1727349282.7646837, \"Dimensions\": {\"Algorithm\": \"Linear Learner\", \"Host\": \"algo-1\", \"Operation\": \"training\", \"epoch\": 4, \"model\": 22}, \"Metrics\": {\"validation_binary_classification_cross_entropy_objective\": {\"sum\": 0.5048702796175377, \"count\": 1, \"min\": 0.5048702796175377, \"max\": 0.5048702796175377}}}\u001b[0m\n",
      "\u001b[34m#metrics {\"StartTime\": 1727349282.764706, \"EndTime\": 1727349282.764714, \"Dimensions\": {\"Algorithm\": \"Linear Learner\", \"Host\": \"algo-1\", \"Operation\": \"training\", \"epoch\": 4, \"model\": 23}, \"Metrics\": {\"validation_binary_classification_cross_entropy_objective\": {\"sum\": 0.5063869770725414, \"count\": 1, \"min\": 0.5063869770725414, \"max\": 0.5063869770725414}}}\u001b[0m\n",
      "\u001b[34m#metrics {\"StartTime\": 1727349282.7647512, \"EndTime\": 1727349282.7647574, \"Dimensions\": {\"Algorithm\": \"Linear Learner\", \"Host\": \"algo-1\", \"Operation\": \"training\", \"epoch\": 4, \"model\": 24}, \"Metrics\": {\"validation_binary_classification_cross_entropy_objective\": {\"sum\": 0.513726044592113, \"count\": 1, \"min\": 0.513726044592113, \"max\": 0.513726044592113}}}\u001b[0m\n",
      "\u001b[34m#metrics {\"StartTime\": 1727349282.7647808, \"EndTime\": 1727349282.7647865, \"Dimensions\": {\"Algorithm\": \"Linear Learner\", \"Host\": \"algo-1\", \"Operation\": \"training\", \"epoch\": 4, \"model\": 25}, \"Metrics\": {\"validation_binary_classification_cross_entropy_objective\": {\"sum\": 0.5137952730479712, \"count\": 1, \"min\": 0.5137952730479712, \"max\": 0.5137952730479712}}}\u001b[0m\n",
      "\u001b[34m#metrics {\"StartTime\": 1727349282.7648044, \"EndTime\": 1727349282.7648094, \"Dimensions\": {\"Algorithm\": \"Linear Learner\", \"Host\": \"algo-1\", \"Operation\": \"training\", \"epoch\": 4, \"model\": 26}, \"Metrics\": {\"validation_binary_classification_cross_entropy_objective\": {\"sum\": 0.5137195299934652, \"count\": 1, \"min\": 0.5137195299934652, \"max\": 0.5137195299934652}}}\u001b[0m\n",
      "\u001b[34m#metrics {\"StartTime\": 1727349282.7648423, \"EndTime\": 1727349282.764852, \"Dimensions\": {\"Algorithm\": \"Linear Learner\", \"Host\": \"algo-1\", \"Operation\": \"training\", \"epoch\": 4, \"model\": 27}, \"Metrics\": {\"validation_binary_classification_cross_entropy_objective\": {\"sum\": 0.5137918445573467, \"count\": 1, \"min\": 0.5137918445573467, \"max\": 0.5137918445573467}}}\u001b[0m\n",
      "\u001b[34m#metrics {\"StartTime\": 1727349282.7648897, \"EndTime\": 1727349282.7648997, \"Dimensions\": {\"Algorithm\": \"Linear Learner\", \"Host\": \"algo-1\", \"Operation\": \"training\", \"epoch\": 4, \"model\": 28}, \"Metrics\": {\"validation_binary_classification_cross_entropy_objective\": {\"sum\": 0.5137245677756073, \"count\": 1, \"min\": 0.5137245677756073, \"max\": 0.5137245677756073}}}\u001b[0m\n",
      "\u001b[34m#metrics {\"StartTime\": 1727349282.764941, \"EndTime\": 1727349282.764951, \"Dimensions\": {\"Algorithm\": \"Linear Learner\", \"Host\": \"algo-1\", \"Operation\": \"training\", \"epoch\": 4, \"model\": 29}, \"Metrics\": {\"validation_binary_classification_cross_entropy_objective\": {\"sum\": 0.5138823638000445, \"count\": 1, \"min\": 0.5138823638000445, \"max\": 0.5138823638000445}}}\u001b[0m\n",
      "\u001b[34m#metrics {\"StartTime\": 1727349282.7649908, \"EndTime\": 1727349282.7649994, \"Dimensions\": {\"Algorithm\": \"Linear Learner\", \"Host\": \"algo-1\", \"Operation\": \"training\", \"epoch\": 4, \"model\": 30}, \"Metrics\": {\"validation_binary_classification_cross_entropy_objective\": {\"sum\": 0.5137233896809241, \"count\": 1, \"min\": 0.5137233896809241, \"max\": 0.5137233896809241}}}\u001b[0m\n",
      "\u001b[34m#metrics {\"StartTime\": 1727349282.7650373, \"EndTime\": 1727349282.7650473, \"Dimensions\": {\"Algorithm\": \"Linear Learner\", \"Host\": \"algo-1\", \"Operation\": \"training\", \"epoch\": 4, \"model\": 31}, \"Metrics\": {\"validation_binary_classification_cross_entropy_objective\": {\"sum\": 0.513882362867122, \"count\": 1, \"min\": 0.513882362867122, \"max\": 0.513882362867122}}}\u001b[0m\n",
      "\u001b[34m[09/26/2024 11:14:42 INFO 140152479487808] #quality_metric: host=algo-1, epoch=4, validation binary_classification_cross_entropy_objective <loss>=0.4814619633961944\u001b[0m\n",
      "\u001b[34m[09/26/2024 11:14:42 INFO 140152479487808] #early_stopping_criteria_metric: host=algo-1, epoch=4, criteria=binary_classification_cross_entropy_objective, value=0.4814606276375887\u001b[0m\n",
      "\u001b[34m[09/26/2024 11:14:42 INFO 140152479487808] Saving model for epoch: 4\u001b[0m\n",
      "\u001b[34m[09/26/2024 11:14:42 INFO 140152479487808] Saved checkpoint to \"/tmp/tmp6_5r2wsw/mx-mod-0000.params\"\u001b[0m\n",
      "\u001b[34m[09/26/2024 11:14:42 INFO 140152479487808] Early stop condition met. Stopping training.\u001b[0m\n",
      "\u001b[34m[09/26/2024 11:14:42 INFO 140152479487808] #progress_metric: host=algo-1, completed 100 % epochs\u001b[0m\n",
      "\u001b[34m#metrics {\"StartTime\": 1727349250.1315324, \"EndTime\": 1727349282.7712111, \"Dimensions\": {\"Algorithm\": \"Linear Learner\", \"Host\": \"algo-1\", \"Operation\": \"training\", \"epoch\": 4, \"Meta\": \"training_data_iter\"}, \"Metrics\": {\"Total Records Seen\": {\"sum\": 6554360.0, \"count\": 1, \"min\": 6554360, \"max\": 6554360}, \"Total Batches Seen\": {\"sum\": 6557.0, \"count\": 1, \"min\": 6557, \"max\": 6557}, \"Max Records Seen Between Resets\": {\"sum\": 1308472.0, \"count\": 1, \"min\": 1308472, \"max\": 1308472}, \"Max Batches Seen Between Resets\": {\"sum\": 1309.0, \"count\": 1, \"min\": 1309, \"max\": 1309}, \"Reset Count\": {\"sum\": 7.0, \"count\": 1, \"min\": 7, \"max\": 7}, \"Number of Records Since Last Reset\": {\"sum\": 1308472.0, \"count\": 1, \"min\": 1308472, \"max\": 1308472}, \"Number of Batches Since Last Reset\": {\"sum\": 1309.0, \"count\": 1, \"min\": 1309, \"max\": 1309}}}\u001b[0m\n",
      "\u001b[34m[09/26/2024 11:14:42 INFO 140152479487808] #throughput_metric: host=algo-1, train throughput=40088.21232063468 records/second\u001b[0m\n",
      "\u001b[34m[09/26/2024 11:14:42 WARNING 140152479487808] wait_for_all_workers will not sync workers since the kv store is not running distributed\u001b[0m\n",
      "\u001b[34m[09/26/2024 11:14:42 WARNING 140152479487808] wait_for_all_workers will not sync workers since the kv store is not running distributed\u001b[0m\n",
      "\u001b[34m[2024-09-26 11:14:45.327] [tensorio] [info] epoch_stats={\"data_pipeline\": \"/opt/ml/input/data/validation\", \"epoch\": 17, \"duration\": 2543, \"num_examples\": 164, \"num_bytes\": 63460892}\u001b[0m\n",
      "\u001b[34m[09/26/2024 11:14:45 INFO 140152479487808] #early_stopping_criteria_metric: host=algo-1, epoch=4, criteria=binary_classification_cross_entropy_objective, value=0.4814606276375887\u001b[0m\n",
      "\u001b[34m[2024-09-26 11:14:45.865] [tensorio] [info] epoch_stats={\"data_pipeline\": \"/opt/ml/input/data/validation\", \"epoch\": 19, \"duration\": 530, \"num_examples\": 164, \"num_bytes\": 63460892}\u001b[0m\n",
      "\u001b[34m[09/26/2024 11:14:46 INFO 140152479487808] #validation_score (algo-1) : ('binary_classification_cross_entropy_objective', 0.48180578307133365)\u001b[0m\n",
      "\u001b[34m[09/26/2024 11:14:46 INFO 140152479487808] #validation_score (algo-1) : ('binary_classification_accuracy', 0.7924174151223717)\u001b[0m\n",
      "\u001b[34m[09/26/2024 11:14:46 INFO 140152479487808] #validation_score (algo-1) : ('binary_f_1.000', 0.088194220646686)\u001b[0m\n",
      "\u001b[34m[09/26/2024 11:14:46 INFO 140152479487808] #validation_score (algo-1) : ('precision', 0.5656217705821563)\u001b[0m\n",
      "\u001b[34m[09/26/2024 11:14:46 INFO 140152479487808] #validation_score (algo-1) : ('recall', 0.047825707045699474)\u001b[0m\n",
      "\u001b[34m[09/26/2024 11:14:46 INFO 140152479487808] #validation_score (algo-1) : ('roc_auc_score', 0.6747794226420869)\u001b[0m\n",
      "\u001b[34m[09/26/2024 11:14:46 INFO 140152479487808] #validation_score (algo-1) : ('binary_balanced_accuracy', 0.5)\u001b[0m\n",
      "\u001b[34m[09/26/2024 11:14:46 INFO 140152479487808] #validation_score (algo-1) : ('binary_log_loss', 0.7476664540929338)\u001b[0m\n",
      "\u001b[34m[09/26/2024 11:14:46 INFO 140152479487808] #quality_metric: host=algo-1, validation binary_classification_cross_entropy_objective <loss>=0.48180578307133365\u001b[0m\n",
      "\u001b[34m[09/26/2024 11:14:46 INFO 140152479487808] #quality_metric: host=algo-1, validation binary_classification_accuracy <score>=0.7924174151223717\u001b[0m\n",
      "\u001b[34m[09/26/2024 11:14:46 INFO 140152479487808] #quality_metric: host=algo-1, validation binary_f_1.000 <score>=0.088194220646686\u001b[0m\n",
      "\u001b[34m[09/26/2024 11:14:46 INFO 140152479487808] #quality_metric: host=algo-1, validation precision <score>=0.5656217705821563\u001b[0m\n",
      "\u001b[34m[09/26/2024 11:14:46 INFO 140152479487808] #quality_metric: host=algo-1, validation recall <score>=0.047825707045699474\u001b[0m\n",
      "\u001b[34m[09/26/2024 11:14:46 INFO 140152479487808] #quality_metric: host=algo-1, validation roc_auc_score <score>=0.6747794226420869\u001b[0m\n",
      "\u001b[34m[09/26/2024 11:14:46 INFO 140152479487808] #quality_metric: host=algo-1, validation binary_balanced_accuracy <score>=0.5\u001b[0m\n",
      "\u001b[34m[09/26/2024 11:14:46 INFO 140152479487808] #quality_metric: host=algo-1, validation binary_log_loss <score>=0.7476664540929338\u001b[0m\n",
      "\u001b[34m[09/26/2024 11:14:46 INFO 140152479487808] Best model found for hyperparameters: {\"optimizer\": \"adam\", \"learning_rate\": 0.005, \"l1\": 0.0, \"wd\": 0.0001, \"lr_scheduler_step\": 10, \"lr_scheduler_factor\": 0.99, \"lr_scheduler_minimum_lr\": 1e-05}\u001b[0m\n",
      "\u001b[34m[09/26/2024 11:14:46 INFO 140152479487808] Saved checkpoint to \"/tmp/tmp9vmw66ey/mx-mod-0000.params\"\u001b[0m\n",
      "\u001b[34m[09/26/2024 11:14:46 INFO 140152479487808] Test data is not provided.\u001b[0m\n",
      "\u001b[34m#metrics {\"StartTime\": 1727349117.5611115, \"EndTime\": 1727349286.108881, \"Dimensions\": {\"Algorithm\": \"Linear Learner\", \"Host\": \"algo-1\", \"Operation\": \"training\"}, \"Metrics\": {\"initialize.time\": {\"sum\": 244.62270736694336, \"count\": 1, \"min\": 244.62270736694336, \"max\": 244.62270736694336}, \"epochs\": {\"sum\": 15.0, \"count\": 1, \"min\": 15, \"max\": 15}, \"check_early_stopping.time\": {\"sum\": 1.718759536743164, \"count\": 6, \"min\": 0.1742839813232422, \"max\": 0.5946159362792969}, \"update.time\": {\"sum\": 164932.51609802246, \"count\": 5, \"min\": 32446.47526741028, \"max\": 33486.01150512695}, \"finalize.time\": {\"sum\": 3331.428050994873, \"count\": 1, \"min\": 3331.428050994873, \"max\": 3331.428050994873}, \"setuptime\": {\"sum\": 2.0771026611328125, \"count\": 1, \"min\": 2.0771026611328125, \"max\": 2.0771026611328125}, \"totaltime\": {\"sum\": 168661.93747520447, \"count\": 1, \"min\": 168661.93747520447, \"max\": 168661.93747520447}}}\u001b[0m\n",
      "\n",
      "2024-09-26 11:15:04 Uploading - Uploading generated training model\n",
      "2024-09-26 11:15:04 Completed - Training job completed\n",
      "Training seconds: 321\n",
      "Billable seconds: 321\n"
     ]
    }
   ],
   "source": [
    "train_records = classifier_estimator.record_set(train_features, train_labels, channel='train')\n",
    "val_records = classifier_estimator.record_set(val_features, val_labels, channel='validation')\n",
    "test_records = classifier_estimator.record_set(test_features, test_labels, channel='test')\n",
    "\n",
    "classifier_estimator.fit([train_records, val_records])"
   ]
  },
  {
   "cell_type": "code",
   "execution_count": 185,
   "metadata": {},
   "outputs": [
    {
     "name": "stderr",
     "output_type": "stream",
     "text": [
      "INFO:sagemaker.image_uris:Same images used for training and inference. Defaulting to image scope: inference.\n",
      "INFO:sagemaker.image_uris:Ignoring unnecessary instance type: None.\n",
      "INFO:sagemaker:Creating model with name: linear-learner-2024-09-26-11-15-25-584\n",
      "INFO:sagemaker:Creating endpoint-config with name linear-learner-2024-09-26-11-15-25-584\n",
      "INFO:sagemaker:Creating endpoint with name linear-learner-2024-09-26-11-15-25-584\n"
     ]
    },
    {
     "name": "stdout",
     "output_type": "stream",
     "text": [
      "-------!"
     ]
    }
   ],
   "source": [
    "classifier_predictor = classifier_estimator.deploy(initial_instance_count=1,\n",
    "                                                   instance_type='ml.m4.xlarge')"
   ]
  },
  {
   "cell_type": "code",
   "execution_count": 186,
   "metadata": {},
   "outputs": [
    {
     "name": "stdout",
     "output_type": "stream",
     "text": [
      "Accuracy: 0.7920933730335842\n",
      "AUC     : 0.6766311937543786\n",
      "Precision: 0.556241426611797\n",
      "Recall: 0.04724317711822445\n",
      "F1_score: 0.08708958629761873\n"
     ]
    },
    {
     "data": {
      "image/png": "[encoded data removed]",
      "text/plain": [
       "<Figure size 500x500 with 2 Axes>"
      ]
     },
     "metadata": {},
     "output_type": "display_data"
    }
   ],
   "source": [
    "predict_batches(classifier_predictor, test_features, test_labels)"
   ]
  },
  {
   "cell_type": "markdown",
   "metadata": {},
   "source": [
    "The linear model shows only a little improvement in performance. Try a tree-based ensemble model called XGBoost with Amazon SageMaker.\n"
   ]
  },
  {
   "cell_type": "markdown",
   "metadata": {},
   "source": [
    "### Try the XGBoost model"
   ]
  },
  {
   "cell_type": "markdown",
   "metadata": {},
   "source": [
    "Here are the steps you need to take:  \n",
    "\n",
    "1. Use the training set variables and save them as CSV files: train.csv, validation.csv and test.csv  \n",
    "2. Use Boto3 to upload the model to the bucket.  "
   ]
  },
  {
   "cell_type": "code",
   "execution_count": 187,
   "metadata": {},
   "outputs": [],
   "source": [
    "train_data, validation_data, test_data = np.split(data.sample(frac=1, random_state=1729), [int(0.7 * len(data)), int(0.9*len(data))])  \n",
    "\n",
    "pd.concat([train_data['target'], train_data.drop(['target'], axis=1)], axis=1).to_csv('train.csv', index=False, header=False)\n",
    "pd.concat([validation_data['target'], validation_data.drop(['target'], axis=1)], axis=1).to_csv('validation.csv', index=False, header=False)\n",
    "pd.concat([test_data['target'], test_data.drop(['target'], axis=1)], axis=1).to_csv('test.csv', index=False, header=False)"
   ]
  },
  {
   "cell_type": "code",
   "execution_count": 188,
   "metadata": {},
   "outputs": [
    {
     "name": "stderr",
     "output_type": "stream",
     "text": [
      "INFO:botocore.credentials:Found credentials from IAM Role: BaseNotebookInstanceEc2InstanceRole\n",
      "INFO:botocore.credentials:Found credentials from IAM Role: BaseNotebookInstanceEc2InstanceRole\n"
     ]
    }
   ],
   "source": [
    "### Upload data to S3\n",
    "prefix = 'sagemaker/xgboost'\n",
    "boto3.Session().resource('s3').Bucket(bucket).Object(os.path.join(prefix, 'train/train.csv')).upload_file('train.csv')\n",
    "boto3.Session().resource('s3').Bucket(bucket).Object(os.path.join(prefix, 'validation/validation.csv')).upload_file('validation.csv')"
   ]
  },
  {
   "cell_type": "code",
   "execution_count": 189,
   "metadata": {},
   "outputs": [
    {
     "name": "stderr",
     "output_type": "stream",
     "text": [
      "INFO:sagemaker.image_uris:Defaulting to only available Python version: py3\n",
      "INFO:sagemaker.image_uris:Defaulting to only supported image scope: cpu.\n"
     ]
    }
   ],
   "source": [
    "from sagemaker.amazon.amazon_estimator import image_uris\n",
    "container = image_uris.retrieve('xgboost',boto3.Session().region_name, '0.90-1')"
   ]
  },
  {
   "cell_type": "markdown",
   "metadata": {},
   "source": [
    "Use the `sagemaker.inputs.TrainingInput` function to create a record_set for the training and validation datasets."
   ]
  },
  {
   "cell_type": "code",
   "execution_count": 190,
   "metadata": {},
   "outputs": [],
   "source": [
    "s3_input_train = sagemaker.inputs.TrainingInput(s3_data='s3://{}/{}/train'.format(bucket, prefix), content_type='csv')\n",
    "s3_input_validation = sagemaker.inputs.TrainingInput(s3_data='s3://{}/{}/validation/'.format(bucket, prefix), content_type='csv')"
   ]
  },
  {
   "cell_type": "code",
   "execution_count": 191,
   "metadata": {
    "scrolled": true
   },
   "outputs": [
    {
     "name": "stderr",
     "output_type": "stream",
     "text": [
      "INFO:sagemaker:Creating training-job with name: sagemaker-xgboost-2024-09-26-11-20-10-842\n"
     ]
    },
    {
     "name": "stdout",
     "output_type": "stream",
     "text": [
      "2024-09-26 11:20:12 Starting - Starting the training job...\n",
      "2024-09-26 11:20:25 Starting - Preparing the instances for training...\n",
      "2024-09-26 11:20:47 Downloading - Downloading input data...\n",
      "2024-09-26 11:21:22 Downloading - Downloading the training image...\n",
      "2024-09-26 11:21:53 Training - Training image download completed. Training in progress.\u001b[34mINFO:sagemaker-containers:Imported framework sagemaker_xgboost_container.training\u001b[0m\n",
      "\u001b[34mINFO:sagemaker-containers:Failed to parse hyperparameter eval_metric value auc to Json.\u001b[0m\n",
      "\u001b[34mReturning the value itself\u001b[0m\n",
      "\u001b[34mINFO:sagemaker-containers:Failed to parse hyperparameter objective value binary:logistic to Json.\u001b[0m\n",
      "\u001b[34mReturning the value itself\u001b[0m\n",
      "\u001b[34mINFO:sagemaker-containers:No GPUs detected (normal if no gpus installed)\u001b[0m\n",
      "\u001b[34mINFO:sagemaker_xgboost_container.training:Running XGBoost Sagemaker in algorithm mode\u001b[0m\n",
      "\u001b[34mINFO:root:Determined delimiter of CSV input is ','\u001b[0m\n",
      "\u001b[34mINFO:root:Determined delimiter of CSV input is ','\u001b[0m\n",
      "\u001b[34mINFO:root:Determined delimiter of CSV input is ','\u001b[0m\n",
      "\u001b[34m[11:22:09] 1144913x85 matrix with 97317605 entries loaded from /opt/ml/input/data/train?format=csv&label_column=0&delimiter=,\u001b[0m\n",
      "\u001b[34mINFO:root:Determined delimiter of CSV input is ','\u001b[0m\n",
      "\u001b[34m[11:22:10] 327118x85 matrix with 27805030 entries loaded from /opt/ml/input/data/validation?format=csv&label_column=0&delimiter=,\u001b[0m\n",
      "\u001b[34mINFO:root:Single node training.\u001b[0m\n",
      "\u001b[34mINFO:root:Train matrix has 1144913 rows\u001b[0m\n",
      "\u001b[34mINFO:root:Validation matrix has 327118 rows\u001b[0m\n",
      "\u001b[34m[0]#011train-auc:0.655691#011validation-auc:0.65404\u001b[0m\n",
      "\u001b[34m[1]#011train-auc:0.661218#011validation-auc:0.659817\u001b[0m\n",
      "\u001b[34m[2]#011train-auc:0.669755#011validation-auc:0.668538\u001b[0m\n",
      "\u001b[34m[3]#011train-auc:0.674493#011validation-auc:0.672586\u001b[0m\n",
      "\u001b[34m[4]#011train-auc:0.676395#011validation-auc:0.674196\u001b[0m\n",
      "\u001b[34m[5]#011train-auc:0.679014#011validation-auc:0.677187\u001b[0m\n",
      "\u001b[34m[6]#011train-auc:0.681805#011validation-auc:0.679918\u001b[0m\n",
      "\u001b[34m[7]#011train-auc:0.683762#011validation-auc:0.681586\u001b[0m\n",
      "\u001b[34m[8]#011train-auc:0.685871#011validation-auc:0.683991\u001b[0m\n",
      "\u001b[34m[9]#011train-auc:0.688105#011validation-auc:0.686081\u001b[0m\n",
      "\u001b[34m[10]#011train-auc:0.690076#011validation-auc:0.688133\u001b[0m\n",
      "\u001b[34m[11]#011train-auc:0.691489#011validation-auc:0.689506\u001b[0m\n",
      "\u001b[34m[12]#011train-auc:0.692994#011validation-auc:0.691172\u001b[0m\n",
      "\u001b[34m[13]#011train-auc:0.695588#011validation-auc:0.693669\u001b[0m\n",
      "\u001b[34m[14]#011train-auc:0.69702#011validation-auc:0.694961\u001b[0m\n",
      "\u001b[34m[15]#011train-auc:0.698389#011validation-auc:0.696069\u001b[0m\n",
      "\u001b[34m[16]#011train-auc:0.699778#011validation-auc:0.697484\u001b[0m\n",
      "\u001b[34m[17]#011train-auc:0.700763#011validation-auc:0.698477\u001b[0m\n",
      "\u001b[34m[18]#011train-auc:0.702303#011validation-auc:0.700052\u001b[0m\n",
      "\u001b[34m[19]#011train-auc:0.703716#011validation-auc:0.701415\u001b[0m\n",
      "\u001b[34m[20]#011train-auc:0.704493#011validation-auc:0.702154\u001b[0m\n",
      "\u001b[34m[21]#011train-auc:0.706065#011validation-auc:0.703499\u001b[0m\n",
      "\u001b[34m[22]#011train-auc:0.707036#011validation-auc:0.704541\u001b[0m\n",
      "\u001b[34m[23]#011train-auc:0.708028#011validation-auc:0.705486\u001b[0m\n",
      "\u001b[34m[24]#011train-auc:0.708616#011validation-auc:0.706034\u001b[0m\n",
      "\u001b[34m[25]#011train-auc:0.709569#011validation-auc:0.707061\u001b[0m\n",
      "\u001b[34m[26]#011train-auc:0.710283#011validation-auc:0.707737\u001b[0m\n",
      "\u001b[34m[27]#011train-auc:0.711146#011validation-auc:0.708641\u001b[0m\n",
      "\u001b[34m[28]#011train-auc:0.711645#011validation-auc:0.709077\u001b[0m\n",
      "\u001b[34m[29]#011train-auc:0.712252#011validation-auc:0.709576\u001b[0m\n",
      "\u001b[34m[30]#011train-auc:0.712636#011validation-auc:0.709993\u001b[0m\n",
      "\u001b[34m[31]#011train-auc:0.713712#011validation-auc:0.711033\u001b[0m\n",
      "\u001b[34m[32]#011train-auc:0.714391#011validation-auc:0.711717\u001b[0m\n",
      "\u001b[34m[33]#011train-auc:0.714867#011validation-auc:0.712186\u001b[0m\n",
      "\u001b[34m[34]#011train-auc:0.715254#011validation-auc:0.712492\u001b[0m\n",
      "\u001b[34m[35]#011train-auc:0.715959#011validation-auc:0.713181\u001b[0m\n",
      "\u001b[34m[36]#011train-auc:0.716401#011validation-auc:0.713585\u001b[0m\n",
      "\u001b[34m[37]#011train-auc:0.716812#011validation-auc:0.71393\u001b[0m\n",
      "\u001b[34m[38]#011train-auc:0.718256#011validation-auc:0.715471\u001b[0m\n",
      "\u001b[34m[39]#011train-auc:0.718623#011validation-auc:0.715851\u001b[0m\n",
      "\u001b[34m[40]#011train-auc:0.719245#011validation-auc:0.716493\u001b[0m\n",
      "\u001b[34m[41]#011train-auc:0.720045#011validation-auc:0.717236\u001b[0m\n",
      "\u001b[34m[42]#011train-auc:0.720384#011validation-auc:0.717476\u001b[0m\n",
      "\u001b[34m[43]#011train-auc:0.720649#011validation-auc:0.717782\u001b[0m\n",
      "\u001b[34m[44]#011train-auc:0.721156#011validation-auc:0.718223\u001b[0m\n",
      "\u001b[34m[45]#011train-auc:0.72144#011validation-auc:0.718501\u001b[0m\n",
      "\u001b[34m[46]#011train-auc:0.721981#011validation-auc:0.719013\u001b[0m\n",
      "\u001b[34m[47]#011train-auc:0.72228#011validation-auc:0.719257\u001b[0m\n",
      "\u001b[34m[48]#011train-auc:0.722547#011validation-auc:0.719512\u001b[0m\n",
      "\u001b[34m[49]#011train-auc:0.722681#011validation-auc:0.71965\u001b[0m\n",
      "\u001b[34m[50]#011train-auc:0.723362#011validation-auc:0.720284\u001b[0m\n",
      "\u001b[34m[51]#011train-auc:0.72354#011validation-auc:0.72041\u001b[0m\n",
      "\u001b[34m[52]#011train-auc:0.723857#011validation-auc:0.720692\u001b[0m\n",
      "\u001b[34m[53]#011train-auc:0.724473#011validation-auc:0.721289\u001b[0m\n",
      "\u001b[34m[54]#011train-auc:0.724961#011validation-auc:0.721811\u001b[0m\n",
      "\u001b[34m[55]#011train-auc:0.72561#011validation-auc:0.722438\u001b[0m\n",
      "\u001b[34m[56]#011train-auc:0.725764#011validation-auc:0.722588\u001b[0m\n",
      "\u001b[34m[57]#011train-auc:0.725846#011validation-auc:0.722625\u001b[0m\n",
      "\u001b[34m[58]#011train-auc:0.726187#011validation-auc:0.722934\u001b[0m\n",
      "\u001b[34m[59]#011train-auc:0.726386#011validation-auc:0.723116\u001b[0m\n",
      "\u001b[34m[60]#011train-auc:0.726557#011validation-auc:0.723289\u001b[0m\n",
      "\u001b[34m[61]#011train-auc:0.727081#011validation-auc:0.723761\u001b[0m\n",
      "\u001b[34m[62]#011train-auc:0.727445#011validation-auc:0.72414\u001b[0m\n",
      "\u001b[34m[63]#011train-auc:0.727856#011validation-auc:0.724457\u001b[0m\n",
      "\u001b[34m[64]#011train-auc:0.728043#011validation-auc:0.724588\u001b[0m\n",
      "\u001b[34m[65]#011train-auc:0.728176#011validation-auc:0.724716\u001b[0m\n",
      "\u001b[34m[66]#011train-auc:0.728368#011validation-auc:0.724931\u001b[0m\n",
      "\u001b[34m[67]#011train-auc:0.728654#011validation-auc:0.72515\u001b[0m\n",
      "\u001b[34m[68]#011train-auc:0.728967#011validation-auc:0.725466\u001b[0m\n",
      "\u001b[34m[69]#011train-auc:0.72908#011validation-auc:0.725548\u001b[0m\n",
      "\u001b[34m[70]#011train-auc:0.729476#011validation-auc:0.725845\u001b[0m\n",
      "\u001b[34m[71]#011train-auc:0.729634#011validation-auc:0.725969\u001b[0m\n",
      "\u001b[34m[72]#011train-auc:0.730102#011validation-auc:0.726432\u001b[0m\n",
      "\u001b[34m[73]#011train-auc:0.730413#011validation-auc:0.726695\u001b[0m\n",
      "\u001b[34m[74]#011train-auc:0.730686#011validation-auc:0.726903\u001b[0m\n",
      "\u001b[34m[75]#011train-auc:0.730855#011validation-auc:0.727042\u001b[0m\n",
      "\u001b[34m[76]#011train-auc:0.730982#011validation-auc:0.72715\u001b[0m\n",
      "\u001b[34m[77]#011train-auc:0.73124#011validation-auc:0.727433\u001b[0m\n",
      "\u001b[34m[78]#011train-auc:0.73153#011validation-auc:0.727706\u001b[0m\n",
      "\u001b[34m[79]#011train-auc:0.731639#011validation-auc:0.727778\u001b[0m\n",
      "\u001b[34m[80]#011train-auc:0.731749#011validation-auc:0.727866\u001b[0m\n",
      "\u001b[34m[81]#011train-auc:0.731844#011validation-auc:0.727929\u001b[0m\n",
      "\u001b[34m[82]#011train-auc:0.732062#011validation-auc:0.728136\u001b[0m\n",
      "\u001b[34m[83]#011train-auc:0.732219#011validation-auc:0.728296\u001b[0m\n",
      "\u001b[34m[84]#011train-auc:0.732385#011validation-auc:0.728476\u001b[0m\n",
      "\u001b[34m[85]#011train-auc:0.732616#011validation-auc:0.728674\u001b[0m\n",
      "\u001b[34m[86]#011train-auc:0.732805#011validation-auc:0.72883\u001b[0m\n",
      "\u001b[34m[87]#011train-auc:0.733084#011validation-auc:0.729094\u001b[0m\n",
      "\u001b[34m[88]#011train-auc:0.733358#011validation-auc:0.72939\u001b[0m\n",
      "\u001b[34m[89]#011train-auc:0.733522#011validation-auc:0.72946\u001b[0m\n",
      "\u001b[34m[90]#011train-auc:0.733615#011validation-auc:0.729492\u001b[0m\n",
      "\u001b[34m[91]#011train-auc:0.733684#011validation-auc:0.729557\u001b[0m\n",
      "\u001b[34m[92]#011train-auc:0.733857#011validation-auc:0.729698\u001b[0m\n",
      "\u001b[34m[93]#011train-auc:0.734028#011validation-auc:0.729853\u001b[0m\n",
      "\u001b[34m[94]#011train-auc:0.734149#011validation-auc:0.729964\u001b[0m\n",
      "\u001b[34m[95]#011train-auc:0.734308#011validation-auc:0.730069\u001b[0m\n",
      "\u001b[34m[96]#011train-auc:0.734448#011validation-auc:0.730182\u001b[0m\n",
      "\u001b[34m[97]#011train-auc:0.734605#011validation-auc:0.730283\u001b[0m\n",
      "\u001b[34m[98]#011train-auc:0.734754#011validation-auc:0.730409\u001b[0m\n",
      "\u001b[34m[99]#011train-auc:0.735018#011validation-auc:0.73066\u001b[0m\n",
      "\n",
      "2024-09-26 11:25:47 Uploading - Uploading generated training model\n",
      "2024-09-26 11:25:47 Completed - Training job completed\n",
      "Training seconds: 300\n",
      "Billable seconds: 300\n"
     ]
    }
   ],
   "source": [
    "sess = sagemaker.Session()\n",
    "\n",
    "xgb = sagemaker.estimator.Estimator(container,\n",
    "                                    role = sagemaker.get_execution_role(), \n",
    "                                    instance_count=1, \n",
    "                                    instance_type='ml.m4.xlarge',\n",
    "                                    output_path='s3://{}/{}/output'.format(bucket, prefix),\n",
    "                                    sagemaker_session=sess)\n",
    "xgb.set_hyperparameters(max_depth=5,\n",
    "                        eta=0.2,\n",
    "                        gamma=4,\n",
    "                        min_child_weight=6,\n",
    "                        subsample=0.8,\n",
    "                        silent=0,\n",
    "                        objective='binary:logistic',\n",
    "                        eval_metric = \"auc\", \n",
    "                        num_round=100)\n",
    "\n",
    "xgb.fit({'train': s3_input_train, 'validation': s3_input_validation})"
   ]
  },
  {
   "cell_type": "markdown",
   "metadata": {},
   "source": [
    "Deploy the predictor for your new model and evaluate the model on the test dataset."
   ]
  },
  {
   "cell_type": "code",
   "execution_count": 192,
   "metadata": {},
   "outputs": [
    {
     "name": "stderr",
     "output_type": "stream",
     "text": [
      "INFO:sagemaker:Creating model with name: sagemaker-xgboost-2024-09-26-11-26-00-098\n",
      "INFO:sagemaker:Creating endpoint-config with name sagemaker-xgboost-2024-09-26-11-26-00-098\n",
      "INFO:sagemaker:Creating endpoint with name sagemaker-xgboost-2024-09-26-11-26-00-098\n"
     ]
    },
    {
     "name": "stdout",
     "output_type": "stream",
     "text": [
      "-----!"
     ]
    }
   ],
   "source": [
    "from sagemaker.serializers import CSVSerializer\n",
    "\n",
    "xgb_predictor = xgb.deploy(initial_instance_count=1, \n",
    "                           instance_type='ml.m4.xlarge',\n",
    "                          serializer=CSVSerializer())# Enter your code here"
   ]
  },
  {
   "cell_type": "code",
   "execution_count": 193,
   "metadata": {},
   "outputs": [],
   "source": [
    "test_data = pd.concat([test_data['target'], test_data.drop(['target'], axis=1)], axis=1)"
   ]
  },
  {
   "cell_type": "code",
   "execution_count": 194,
   "metadata": {},
   "outputs": [],
   "source": [
    "def predict(predictor , features, labels , prob_threshold = 0.5, rows=500):\n",
    "    \"\"\"\n",
    "    Return evaluation results\n",
    "    predictor : Predictor object of model\n",
    "    features: Input features to model\n",
    "    label: Ground truth target values\n",
    "    prob_threshold : Probability cut off to separate positive and negative class\n",
    "    \"\"\"\n",
    "    split_array = np.array_split(features, int(features.shape[0] / float(rows) + 1))\n",
    "    predictions = ''\n",
    "    for array in split_array:\n",
    "        predictions = ','.join([predictions, predictor.predict(array).decode('utf-8')])\n",
    "\n",
    "    preds = np.fromstring(predictions[1:], sep=',')\n",
    "    preds = preds.reshape((-1,))\n",
    "    predictions = np.where(preds > prob_threshold , 1, 0)\n",
    "    labels = labels.reshape((-1,))\n",
    "    \n",
    "    # Calculate accuracy\n",
    "    accuracy = (predictions == labels).sum() / labels.shape[0]\n",
    "    print(f'Accuracy: {accuracy}')\n",
    "    \n",
    "    auc = roc_auc_score(labels, preds)\n",
    "    print(f'AUC     : {auc}')\n",
    "    \n",
    "    precision, recall, f1_score, _ = precision_recall_fscore_support(labels, predictions, average = 'binary')\n",
    "    print(f'Precision: {precision}')\n",
    "    print(f'Recall: {recall}')\n",
    "    print(f'F1_score: {f1_score}')\n",
    "    \n",
    "    confusion_matrix = pd.crosstab(index=labels, columns=(preds > prob_threshold), rownames=['True'], colnames=['predictions']).astype(int)\n",
    "    plt.figure(figsize = (5,5))\n",
    "    sns.heatmap(confusion_matrix, annot=True, fmt='.2f', cmap=\"YlGnBu\").set_title('Confusion Matrix') \n",
    "    return list(preds)"
   ]
  },
  {
   "cell_type": "code",
   "execution_count": 196,
   "metadata": {},
   "outputs": [
    {
     "name": "stdout",
     "output_type": "stream",
     "text": [
      "Accuracy: 0.8054280106872749\n",
      "AUC     : 0.7298520315836499\n",
      "Precision: 0.6663441603317208\n",
      "Recall: 0.1408372527825655\n",
      "F1_score: 0.23252785414556504\n"
     ]
    },
    {
     "data": {
      "image/png": "[encoded data removed]",
      "text/plain": [
       "<Figure size 500x500 with 2 Axes>"
      ]
     },
     "metadata": {},
     "output_type": "display_data"
    }
   ],
   "source": [
    "predictions = predict(xgb_predictor, test_data.values[:, 1:] ,  test_data.iloc[:, 0:1].values, prob_threshold = 0.5)"
   ]
  },
  {
   "cell_type": "markdown",
   "metadata": {},
   "source": [
    "### Try different thresholds"
   ]
  },
  {
   "cell_type": "code",
   "execution_count": 197,
   "metadata": {},
   "outputs": [
    {
     "name": "stdout",
     "output_type": "stream",
     "text": [
      "Accuracy: 0.7923501611039442\n",
      "AUC     : 0.7298520315836499\n",
      "Precision: 0.8850574712643678\n",
      "Recall: 0.008997692150389997\n",
      "F1_score: 0.017814280343561122\n"
     ]
    },
    {
     "data": {
      "image/png": "[encoded data removed]",
      "text/plain": [
       "<Figure size 500x500 with 2 Axes>"
      ]
     },
     "metadata": {},
     "output_type": "display_data"
    }
   ],
   "source": [
    "predictions = predict(xgb_predictor, test_data.values[:, 1:] ,  test_data.iloc[:, 0:1].values, prob_threshold = 0.8)"
   ]
  },
  {
   "cell_type": "markdown",
   "metadata": {},
   "source": [
    "**Question**: What can you conclude from how the model did on the test set?"
   ]
  },
  {
   "cell_type": "markdown",
   "metadata": {},
   "source": [
    "The AUC of 0.73 is a lot better than the previous 2 results. But recall is still bad."
   ]
  },
  {
   "cell_type": "markdown",
   "metadata": {},
   "source": [
    "### Hyperparameter optimization (HPO)"
   ]
  },
  {
   "cell_type": "code",
   "execution_count": 198,
   "metadata": {},
   "outputs": [],
   "source": [
    "from sagemaker.tuner import IntegerParameter, CategoricalParameter, ContinuousParameter, HyperparameterTuner\n",
    "\n",
    "### You can spin up multiple instances to do hyperparameter optimization in parallel\n",
    "\n",
    "xgb = sagemaker.estimator.Estimator(container,\n",
    "                                    role=sagemaker.get_execution_role(), \n",
    "                                    instance_count= 2, # make sure you have limit set for these instances\n",
    "                                    instance_type='ml.m4.xlarge', \n",
    "                                    output_path='s3://{}/{}/output'.format(bucket, prefix),\n",
    "                                    sagemaker_session=sess)\n",
    "\n",
    "xgb.set_hyperparameters(eval_metric='auc',\n",
    "                        objective='binary:logistic',\n",
    "                        num_round=100,\n",
    "                        early_stopping_rounds=50,\n",
    "                        rate_drop=0.3,\n",
    "                        tweedie_variance_power=1.4)"
   ]
  },
  {
   "cell_type": "code",
   "execution_count": 199,
   "metadata": {},
   "outputs": [],
   "source": [
    "hyperparameter_ranges = {'eta': ContinuousParameter(0, 0.5),\n",
    "                        'min_child_weight': ContinuousParameter(3, 10),\n",
    "                        'alpha': ContinuousParameter(0, 2)}\n",
    "\n",
    "objective_metric_name = 'validation:auc'\n",
    "\n",
    "tuner = HyperparameterTuner(xgb,\n",
    "                            objective_metric_name,\n",
    "                            hyperparameter_ranges,\n",
    "                            max_jobs=9,\n",
    "                            max_parallel_jobs=3)"
   ]
  },
  {
   "cell_type": "code",
   "execution_count": 200,
   "metadata": {},
   "outputs": [
    {
     "name": "stderr",
     "output_type": "stream",
     "text": [
      "WARNING:sagemaker.estimator:No finished training job found associated with this estimator. Please make sure this estimator is only used for building workflow config\n",
      "WARNING:sagemaker.estimator:No finished training job found associated with this estimator. Please make sure this estimator is only used for building workflow config\n",
      "INFO:sagemaker:Creating hyperparameter tuning job with name: sagemaker-xgboost-240926-1129\n"
     ]
    },
    {
     "name": "stdout",
     "output_type": "stream",
     "text": [
      "......................................................................................................................................................................................................................................................................................................................................................................................................................!\n"
     ]
    }
   ],
   "source": [
    "tuner.fit({'train': s3_input_train, 'validation': s3_input_validation})"
   ]
  },
  {
   "cell_type": "code",
   "execution_count": 201,
   "metadata": {},
   "outputs": [
    {
     "data": {
      "text/plain": [
       "'Completed'"
      ]
     },
     "execution_count": 201,
     "metadata": {},
     "output_type": "execute_result"
    }
   ],
   "source": [
    "boto3.client('sagemaker').describe_hyper_parameter_tuning_job(\n",
    "    HyperParameterTuningJobName=tuner.latest_tuning_job.job_name)['HyperParameterTuningJobStatus']"
   ]
  },
  {
   "cell_type": "markdown",
   "metadata": {},
   "source": [
    "Wait until the training job is finished. It may take 25-30 minutes.\n",
    "\n",
    "**To monitor hyperparameter optimization jobs:**  \n",
    "\n",
    "1. In the AWS Management Console, on the **Services** menu, click **Amazon SageMaker**.  \n",
    "1. Click **Training** > **Hyperparameter tuning jobs**.  \n",
    "1. You can check the status of each hyperparametertuning job, its objective metric value, and its logs.  "
   ]
  },
  {
   "cell_type": "code",
   "execution_count": 202,
   "metadata": {
    "scrolled": true
   },
   "outputs": [
    {
     "name": "stderr",
     "output_type": "stream",
     "text": [
      "INFO:botocore.credentials:Found credentials from IAM Role: BaseNotebookInstanceEc2InstanceRole\n"
     ]
    },
    {
     "name": "stdout",
     "output_type": "stream",
     "text": [
      "9 training jobs have completed\n",
      "Best model found so far:\n",
      "{'CreationTime': datetime.datetime(2024, 9, 26, 11, 53, 5, tzinfo=tzlocal()),\n",
      " 'FinalHyperParameterTuningJobObjectiveMetric': {'MetricName': 'validation:auc',\n",
      "                                                 'Value': 0.7479469776153564},\n",
      " 'ObjectiveStatus': 'Succeeded',\n",
      " 'TrainingEndTime': datetime.datetime(2024, 9, 26, 12, 3, 37, tzinfo=tzlocal()),\n",
      " 'TrainingJobArn': 'arn:aws:sagemaker:us-east-2:962572651397:training-job/sagemaker-xgboost-240926-1129-007-fa473fbb',\n",
      " 'TrainingJobName': 'sagemaker-xgboost-240926-1129-007-fa473fbb',\n",
      " 'TrainingJobStatus': 'Completed',\n",
      " 'TrainingStartTime': datetime.datetime(2024, 9, 26, 11, 53, 16, tzinfo=tzlocal()),\n",
      " 'TunedHyperParameters': {'alpha': '0.3090849458038576',\n",
      "                          'eta': '0.43905590511522374',\n",
      "                          'min_child_weight': '6.522985364246237'}}\n",
      "Number of training jobs with valid objective: 9\n",
      "{'lowest': 0.7172319889068604, 'highest': 0.7479469776153564}\n"
     ]
    },
    {
     "data": {
      "text/html": [
       "<div>\n",
       "<style scoped>\n",
       "    .dataframe tbody tr th:only-of-type {\n",
       "        vertical-align: middle;\n",
       "    }\n",
       "\n",
       "    .dataframe tbody tr th {\n",
       "        vertical-align: top;\n",
       "    }\n",
       "\n",
       "    .dataframe thead th {\n",
       "        text-align: right;\n",
       "    }\n",
       "</style>\n",
       "<table border=\"1\" class=\"dataframe\">\n",
       "  <thead>\n",
       "    <tr style=\"text-align: right;\">\n",
       "      <th></th>\n",
       "      <th>alpha</th>\n",
       "      <th>eta</th>\n",
       "      <th>min_child_weight</th>\n",
       "      <th>TrainingJobName</th>\n",
       "      <th>TrainingJobStatus</th>\n",
       "      <th>FinalObjectiveValue</th>\n",
       "      <th>TrainingStartTime</th>\n",
       "      <th>TrainingEndTime</th>\n",
       "      <th>TrainingElapsedTimeSeconds</th>\n",
       "    </tr>\n",
       "  </thead>\n",
       "  <tbody>\n",
       "    <tr>\n",
       "      <th>0</th>\n",
       "      <td>1.805941</td>\n",
       "      <td>0.345465</td>\n",
       "      <td>3.721413</td>\n",
       "      <td>sagemaker-xgboost-240926-1129-009-ee5d4c46</td>\n",
       "      <td>Completed</td>\n",
       "      <td>0.745214</td>\n",
       "      <td>2024-09-26 11:53:19+00:00</td>\n",
       "      <td>2024-09-26 12:03:50+00:00</td>\n",
       "      <td>631.0</td>\n",
       "    </tr>\n",
       "    <tr>\n",
       "      <th>1</th>\n",
       "      <td>1.548219</td>\n",
       "      <td>0.367369</td>\n",
       "      <td>3.999514</td>\n",
       "      <td>sagemaker-xgboost-240926-1129-008-b361eca8</td>\n",
       "      <td>Completed</td>\n",
       "      <td>0.746982</td>\n",
       "      <td>2024-09-26 11:53:19+00:00</td>\n",
       "      <td>2024-09-26 12:03:46+00:00</td>\n",
       "      <td>627.0</td>\n",
       "    </tr>\n",
       "    <tr>\n",
       "      <th>2</th>\n",
       "      <td>0.309085</td>\n",
       "      <td>0.439056</td>\n",
       "      <td>6.522985</td>\n",
       "      <td>sagemaker-xgboost-240926-1129-007-fa473fbb</td>\n",
       "      <td>Completed</td>\n",
       "      <td>0.747947</td>\n",
       "      <td>2024-09-26 11:53:16+00:00</td>\n",
       "      <td>2024-09-26 12:03:37+00:00</td>\n",
       "      <td>621.0</td>\n",
       "    </tr>\n",
       "    <tr>\n",
       "      <th>3</th>\n",
       "      <td>0.964298</td>\n",
       "      <td>0.402591</td>\n",
       "      <td>4.063891</td>\n",
       "      <td>sagemaker-xgboost-240926-1129-006-96f18207</td>\n",
       "      <td>Completed</td>\n",
       "      <td>0.747142</td>\n",
       "      <td>2024-09-26 11:42:37+00:00</td>\n",
       "      <td>2024-09-26 11:52:53+00:00</td>\n",
       "      <td>616.0</td>\n",
       "    </tr>\n",
       "    <tr>\n",
       "      <th>4</th>\n",
       "      <td>0.080845</td>\n",
       "      <td>0.095955</td>\n",
       "      <td>5.700961</td>\n",
       "      <td>sagemaker-xgboost-240926-1129-005-50a26cc3</td>\n",
       "      <td>Completed</td>\n",
       "      <td>0.727573</td>\n",
       "      <td>2024-09-26 11:42:38+00:00</td>\n",
       "      <td>2024-09-26 11:53:00+00:00</td>\n",
       "      <td>622.0</td>\n",
       "    </tr>\n",
       "    <tr>\n",
       "      <th>5</th>\n",
       "      <td>0.369928</td>\n",
       "      <td>0.060184</td>\n",
       "      <td>3.349754</td>\n",
       "      <td>sagemaker-xgboost-240926-1129-004-71463d0d</td>\n",
       "      <td>Completed</td>\n",
       "      <td>0.717232</td>\n",
       "      <td>2024-09-26 11:42:36+00:00</td>\n",
       "      <td>2024-09-26 11:53:02+00:00</td>\n",
       "      <td>626.0</td>\n",
       "    </tr>\n",
       "    <tr>\n",
       "      <th>6</th>\n",
       "      <td>1.941741</td>\n",
       "      <td>0.256401</td>\n",
       "      <td>6.924682</td>\n",
       "      <td>sagemaker-xgboost-240926-1129-003-911dadfd</td>\n",
       "      <td>Completed</td>\n",
       "      <td>0.743008</td>\n",
       "      <td>2024-09-26 11:30:37+00:00</td>\n",
       "      <td>2024-09-26 11:41:49+00:00</td>\n",
       "      <td>672.0</td>\n",
       "    </tr>\n",
       "    <tr>\n",
       "      <th>7</th>\n",
       "      <td>1.512821</td>\n",
       "      <td>0.269470</td>\n",
       "      <td>3.497779</td>\n",
       "      <td>sagemaker-xgboost-240926-1129-002-385e212a</td>\n",
       "      <td>Completed</td>\n",
       "      <td>0.743831</td>\n",
       "      <td>2024-09-26 11:30:34+00:00</td>\n",
       "      <td>2024-09-26 11:41:47+00:00</td>\n",
       "      <td>673.0</td>\n",
       "    </tr>\n",
       "    <tr>\n",
       "      <th>8</th>\n",
       "      <td>1.003519</td>\n",
       "      <td>0.120682</td>\n",
       "      <td>3.878869</td>\n",
       "      <td>sagemaker-xgboost-240926-1129-001-f977c041</td>\n",
       "      <td>Completed</td>\n",
       "      <td>0.731699</td>\n",
       "      <td>2024-09-26 11:30:43+00:00</td>\n",
       "      <td>2024-09-26 11:41:52+00:00</td>\n",
       "      <td>669.0</td>\n",
       "    </tr>\n",
       "  </tbody>\n",
       "</table>\n",
       "</div>"
      ],
      "text/plain": [
       "      alpha       eta  min_child_weight  \\\n",
       "0  1.805941  0.345465  3.721413           \n",
       "1  1.548219  0.367369  3.999514           \n",
       "2  0.309085  0.439056  6.522985           \n",
       "3  0.964298  0.402591  4.063891           \n",
       "4  0.080845  0.095955  5.700961           \n",
       "5  0.369928  0.060184  3.349754           \n",
       "6  1.941741  0.256401  6.924682           \n",
       "7  1.512821  0.269470  3.497779           \n",
       "8  1.003519  0.120682  3.878869           \n",
       "\n",
       "                              TrainingJobName TrainingJobStatus  \\\n",
       "0  sagemaker-xgboost-240926-1129-009-ee5d4c46  Completed          \n",
       "1  sagemaker-xgboost-240926-1129-008-b361eca8  Completed          \n",
       "2  sagemaker-xgboost-240926-1129-007-fa473fbb  Completed          \n",
       "3  sagemaker-xgboost-240926-1129-006-96f18207  Completed          \n",
       "4  sagemaker-xgboost-240926-1129-005-50a26cc3  Completed          \n",
       "5  sagemaker-xgboost-240926-1129-004-71463d0d  Completed          \n",
       "6  sagemaker-xgboost-240926-1129-003-911dadfd  Completed          \n",
       "7  sagemaker-xgboost-240926-1129-002-385e212a  Completed          \n",
       "8  sagemaker-xgboost-240926-1129-001-f977c041  Completed          \n",
       "\n",
       "   FinalObjectiveValue         TrainingStartTime           TrainingEndTime  \\\n",
       "0  0.745214            2024-09-26 11:53:19+00:00 2024-09-26 12:03:50+00:00   \n",
       "1  0.746982            2024-09-26 11:53:19+00:00 2024-09-26 12:03:46+00:00   \n",
       "2  0.747947            2024-09-26 11:53:16+00:00 2024-09-26 12:03:37+00:00   \n",
       "3  0.747142            2024-09-26 11:42:37+00:00 2024-09-26 11:52:53+00:00   \n",
       "4  0.727573            2024-09-26 11:42:38+00:00 2024-09-26 11:53:00+00:00   \n",
       "5  0.717232            2024-09-26 11:42:36+00:00 2024-09-26 11:53:02+00:00   \n",
       "6  0.743008            2024-09-26 11:30:37+00:00 2024-09-26 11:41:49+00:00   \n",
       "7  0.743831            2024-09-26 11:30:34+00:00 2024-09-26 11:41:47+00:00   \n",
       "8  0.731699            2024-09-26 11:30:43+00:00 2024-09-26 11:41:52+00:00   \n",
       "\n",
       "   TrainingElapsedTimeSeconds  \n",
       "0  631.0                       \n",
       "1  627.0                       \n",
       "2  621.0                       \n",
       "3  616.0                       \n",
       "4  622.0                       \n",
       "5  626.0                       \n",
       "6  672.0                       \n",
       "7  673.0                       \n",
       "8  669.0                       "
      ]
     },
     "execution_count": 202,
     "metadata": {},
     "output_type": "execute_result"
    }
   ],
   "source": [
    "sage_client = boto3.Session().client('sagemaker')\n",
    "tuning_job_name = tuner.latest_tuning_job.job_name\n",
    "\n",
    "# Run this cell to check current status of hyperparameter tuning job\n",
    "tuning_job_result = sage_client.describe_hyper_parameter_tuning_job(HyperParameterTuningJobName=tuning_job_name)\n",
    "\n",
    "status = tuning_job_result['HyperParameterTuningJobStatus']\n",
    "if status != 'Completed':\n",
    "    print('Reminder: the tuning job has not been completed.')\n",
    "    \n",
    "job_count = tuning_job_result['TrainingJobStatusCounters']['Completed']\n",
    "print(\"%d training jobs have completed\" % job_count)\n",
    "    \n",
    "is_minimize = (tuning_job_result['HyperParameterTuningJobConfig']['HyperParameterTuningJobObjective']['Type'] != 'Maximize')\n",
    "objective_name = tuning_job_result['HyperParameterTuningJobConfig']['HyperParameterTuningJobObjective']['MetricName']\n",
    "\n",
    "\n",
    "from pprint import pprint\n",
    "if tuning_job_result.get('BestTrainingJob',None):\n",
    "    print(\"Best model found so far:\")\n",
    "    pprint(tuning_job_result['BestTrainingJob'])\n",
    "else:\n",
    "    print(\"No training jobs have reported results yet.\")\n",
    "    \n",
    "### Get the hyperparameter tuning job results in a dataframe\n",
    "tuner_df = sagemaker.HyperparameterTuningJobAnalytics(tuning_job_name).dataframe()\n",
    "\n",
    "if len(tuner_df) > 0:\n",
    "    df = tuner_df[tuner_df['FinalObjectiveValue'] > -float('inf')]\n",
    "    if len(df) > 0:\n",
    "        df = df.sort_values('FinalObjectiveValue', ascending=is_minimize)\n",
    "        print(\"Number of training jobs with valid objective: %d\" % len(df))\n",
    "        print({\"lowest\":min(df['FinalObjectiveValue']),\"highest\": max(df['FinalObjectiveValue'])})\n",
    "        pd.set_option('display.max_colwidth', -1)  # Don't truncate TrainingJobName        \n",
    "    else:\n",
    "        print(\"No training jobs have reported valid results yet.\")\n",
    "        \n",
    "tuner_df"
   ]
  },
  {
   "cell_type": "markdown",
   "metadata": {},
   "source": [
    "Deploy the best model from the hyperparameter optimization training."
   ]
  },
  {
   "cell_type": "code",
   "execution_count": 203,
   "metadata": {},
   "outputs": [
    {
     "name": "stdout",
     "output_type": "stream",
     "text": [
      "\n",
      "2024-09-26 12:03:38 Starting - Found matching resource for reuse\n",
      "2024-09-26 12:03:38 Downloading - Downloading the training image\n",
      "2024-09-26 12:03:38 Training - Training image download completed. Training in progress.\n",
      "2024-09-26 12:03:38 Uploading - Uploading generated training model\n",
      "2024-09-26 12:03:38 Completed - Resource retained for reuse"
     ]
    },
    {
     "name": "stderr",
     "output_type": "stream",
     "text": [
      "INFO:sagemaker:Creating model with name: sagemaker-xgboost-2024-09-26-12-04-34-150\n"
     ]
    },
    {
     "name": "stdout",
     "output_type": "stream",
     "text": [
      "\n"
     ]
    },
    {
     "name": "stderr",
     "output_type": "stream",
     "text": [
      "INFO:sagemaker:Creating endpoint-config with name sagemaker-xgboost-240926-1129-007-fa473fbb\n",
      "INFO:sagemaker:Creating endpoint with name sagemaker-xgboost-240926-1129-007-fa473fbb\n"
     ]
    },
    {
     "name": "stdout",
     "output_type": "stream",
     "text": [
      "-----!"
     ]
    }
   ],
   "source": [
    "xgb_predictor_hpo = tuner.deploy(initial_instance_count = 1,\n",
    "                                 instance_type = 'ml.m4.xlarge',\n",
    "                                serializer=CSVSerializer())"
   ]
  },
  {
   "cell_type": "code",
   "execution_count": 204,
   "metadata": {},
   "outputs": [
    {
     "name": "stdout",
     "output_type": "stream",
     "text": [
      "Accuracy: 0.8122328945518131\n",
      "AUC     : 0.7474627037312733\n",
      "Precision: 0.6748807631160573\n",
      "Recall: 0.198416639887821\n",
      "F1_score: 0.30667118184896713\n"
     ]
    },
    {
     "data": {
      "image/png": "[encoded data removed]",
      "text/plain": [
       "<Figure size 500x500 with 2 Axes>"
      ]
     },
     "metadata": {},
     "output_type": "display_data"
    }
   ],
   "source": [
    "predictions = predict(xgb_predictor_hpo, test_data.values[:, 1:] ,  test_data.iloc[:, 0:1].values, prob_threshold = 0.5)"
   ]
  },
  {
   "cell_type": "markdown",
   "metadata": {},
   "source": [
    "**Question**: Try different hyperparameters and hyperparameter ranges. Does this improve the model?"
   ]
  },
  {
   "cell_type": "markdown",
   "metadata": {},
   "source": [
    "### Feature importance\n",
    "\n",
    "The model files for all hyperparameter tuning jobs are saved by the training job name as in the table above in the folder: \"{bucket}/{prefix}/output/\". You can load the model and use it like a regular sklearn model object for interpretation.\n",
    "\n",
    "Replace **`<TrainingJobName>`** with the best training job name from the hyperparameter tuning jobs table."
   ]
  },
  {
   "cell_type": "code",
   "execution_count": 211,
   "metadata": {},
   "outputs": [],
   "source": [
    "best_model_job_name = \"sagemaker-xgboost-240926-1129-009-ee5d4c46\""
   ]
  },
  {
   "cell_type": "code",
   "execution_count": 212,
   "metadata": {},
   "outputs": [
    {
     "name": "stdout",
     "output_type": "stream",
     "text": [
      "download: s3://labstack-b9fa8b19-24ce-43ea-bb97-0c3e6e7-labbucket-eepl3hlmknsp/sagemaker/xgboost/output/sagemaker-xgboost-240926-1129-009-ee5d4c46/output/model.tar.gz to ./model.tar.gz\r\n"
     ]
    }
   ],
   "source": [
    "# best_hpo_model_path = \"s3://\" + bucket + \"/sagemaker/xgboost/output/<Best model TrainingJobName>/output/model.tar.gz\"\n",
    "best_hpo_model_path = \"s3://\" + bucket + \"/sagemaker/xgboost/output/\" + best_model_job_name + \"/output/model.tar.gz\"\n",
    "### Download best_hpo_model_path to local\n",
    "!aws s3 cp {best_hpo_model_path} ."
   ]
  },
  {
   "cell_type": "markdown",
   "metadata": {},
   "source": [
    "#### Load picked model file"
   ]
  },
  {
   "cell_type": "code",
   "execution_count": 213,
   "metadata": {},
   "outputs": [],
   "source": [
    "import pickle\n",
    "import tarfile\n",
    "import xgboost\n",
    "\n",
    "with open('model.tar.gz', 'rb') as f:\n",
    "    with tarfile.open(fileobj=f, mode='r') as tar_f:\n",
    "        with tar_f.extractfile('xgboost-model') as extracted_f:\n",
    "            xgbooster = pickle.load(extracted_f)"
   ]
  },
  {
   "cell_type": "markdown",
   "metadata": {},
   "source": [
    "#### Map column names to XGBoost model"
   ]
  },
  {
   "cell_type": "code",
   "execution_count": 214,
   "metadata": {},
   "outputs": [],
   "source": [
    "columns = list(data.columns)\n",
    "columns.remove('target')"
   ]
  },
  {
   "cell_type": "code",
   "execution_count": 215,
   "metadata": {},
   "outputs": [],
   "source": [
    "feature_importance = xgbooster.get_fscore()\n",
    "feature_importance_col = {}\n",
    "\n",
    "for column, fname in zip(columns, xgbooster.feature_names):\n",
    "    try:\n",
    "         feature_importance_col[column] = feature_importance[fname]\n",
    "    except Exception:\n",
    "        pass"
   ]
  },
  {
   "cell_type": "markdown",
   "metadata": {},
   "source": [
    "#### Sort by feature importance value"
   ]
  },
  {
   "cell_type": "code",
   "execution_count": 216,
   "metadata": {},
   "outputs": [
    {
     "data": {
      "text/plain": [
       "[('DepHourofDay', 610),\n",
       " ('TAVG_O', 475),\n",
       " ('TAVG_D', 430),\n",
       " ('AWND_O', 371),\n",
       " ('AWND_D', 366),\n",
       " ('Distance', 321),\n",
       " ('PRCP_D', 266),\n",
       " ('PRCP_O', 262),\n",
       " ('Year_2017', 113),\n",
       " ('Year_2018', 110),\n",
       " ('Year_2015', 101),\n",
       " ('Year_2016', 90),\n",
       " ('SNOW_O', 82),\n",
       " ('Reporting_Airline_UA', 72),\n",
       " ('Dest_SFO', 70),\n",
       " ('Reporting_Airline_DL', 66),\n",
       " ('Reporting_Airline_WN', 58),\n",
       " ('Month_12', 54),\n",
       " ('SNOW_D', 52),\n",
       " ('Quarter_4', 51),\n",
       " ('Month_5', 49),\n",
       " ('Origin_ORD', 49),\n",
       " ('Month_8', 48),\n",
       " ('Origin_LAX', 48),\n",
       " ('Month_4', 46),\n",
       " ('DayOfWeek_3', 45),\n",
       " ('Dest_LAX', 45),\n",
       " ('DayOfWeek_2', 43),\n",
       " ('Origin_SFO', 43),\n",
       " ('Dest_ORD', 43),\n",
       " ('Month_2', 42),\n",
       " ('Month_9', 42),\n",
       " ('DayOfWeek_4', 42),\n",
       " ('Origin_DFW', 40),\n",
       " ('DayOfWeek_7', 39),\n",
       " ('Month_7', 38),\n",
       " ('Month_11', 38),\n",
       " ('Reporting_Airline_OO', 38),\n",
       " ('DayOfWeek_6', 36),\n",
       " ('Month_10', 35),\n",
       " ('DayofMonth_3', 35),\n",
       " ('Month_6', 34),\n",
       " ('Quarter_2', 33),\n",
       " ('DayofMonth_26', 32),\n",
       " ('DayOfWeek_5', 31),\n",
       " ('Dest_DEN', 30),\n",
       " ('Month_3', 29),\n",
       " ('DayofMonth_7', 29),\n",
       " ('DayofMonth_18', 29),\n",
       " ('Dest_PHX', 29),\n",
       " ('DayofMonth_17', 28),\n",
       " ('DayofMonth_30', 28),\n",
       " ('Origin_DEN', 28),\n",
       " ('Dest_DFW', 27),\n",
       " ('is_holiday_1', 27),\n",
       " ('DayofMonth_4', 26),\n",
       " ('DayofMonth_10', 26),\n",
       " ('DayofMonth_19', 26),\n",
       " ('DayofMonth_20', 26),\n",
       " ('Origin_IAH', 26),\n",
       " ('DayofMonth_6', 25),\n",
       " ('DayofMonth_8', 24),\n",
       " ('DayofMonth_13', 24),\n",
       " ('DayofMonth_21', 24),\n",
       " ('DayofMonth_5', 23),\n",
       " ('DayofMonth_9', 23),\n",
       " ('DayofMonth_29', 23),\n",
       " ('DayofMonth_2', 22),\n",
       " ('DayofMonth_15', 22),\n",
       " ('DayofMonth_25', 21),\n",
       " ('Origin_CLT', 21),\n",
       " ('Origin_PHX', 21),\n",
       " ('Dest_IAH', 21),\n",
       " ('DayofMonth_23', 20),\n",
       " ('DayofMonth_24', 20),\n",
       " ('DayofMonth_27', 20),\n",
       " ('DayofMonth_12', 19),\n",
       " ('DayofMonth_14', 19),\n",
       " ('DayofMonth_22', 18),\n",
       " ('DayofMonth_16', 16),\n",
       " ('DayofMonth_28', 16),\n",
       " ('DayofMonth_31', 16),\n",
       " ('Dest_CLT', 16),\n",
       " ('Quarter_3', 13),\n",
       " ('DayofMonth_11', 13)]"
      ]
     },
     "execution_count": 216,
     "metadata": {},
     "output_type": "execute_result"
    }
   ],
   "source": [
    "sorted(feature_importance_col.items(), key=lambda kv: kv[1], reverse=True)"
   ]
  },
  {
   "cell_type": "markdown",
   "metadata": {},
   "source": [
    "### Sample output\n",
    "\n",
    "```\n",
    "[('AWND_O', 13851),\n",
    " ('AWND_D', 13452),\n",
    " ('DepHourofDay', 13344),\n",
    " ('TAVG_O', 13106),\n",
    " ('TAVG_D', 12800),\n",
    " ('Distance', 8478),\n",
    " ('PRCP_O', 4210),\n",
    " ('PRCP_D', 3916),\n",
    " ('Reporting_Airline_UA', 1791),\n",
    " ('Year_2016', 1290),\n",
    " ('Year_2015', 1285),\n",
    " ('Year_2018', 1157),\n",
    " ('Quarter_4', 1092),\n",
    " ('Year_2017', 1009),\n",
    " ('DayOfWeek_5', 838),\n",
    " ('DayOfWeek_4', 833),\n",
    " ('Quarter_2', 799),\n",
    " ('DayOfWeek_7', 783),\n",
    " ('Reporting_Airline_WN', 736),\n",
    " ('DayOfWeek_3', 718),\n",
    " ('Origin_ORD', 706),\n",
    " ('DayOfWeek_2', 685),\n",
    " ('Reporting_Airline_DL', 663),\n",
    " ('Dest_LAX', 627),\n",
    " ('DayOfWeek_6', 614),\n",
    " ('Reporting_Airline_OO', 596),\n",
    " ('Origin_LAX', 590),\n",
    " ('Month_11', 565),\n",
    " ('Month_5', 543),\n",
    " ('Dest_ORD', 539),\n",
    " ('SNOW_O', 506),\n",
    " ('Month_8', 497),\n",
    " ('Month_12', 495),\n",
    " ('Month_7', 484),\n",
    " ('Origin_DFW', 480),\n",
    " ('Quarter_3', 477),\n",
    " ('Dest_DFW', 462),\n",
    " ('Origin_DEN', 456),\n",
    " ('Origin_SFO', 438),\n",
    " ('Month_6', 437),\n",
    " ('Dest_SFO', 437),\n",
    " ('Month_10', 422),\n",
    " ('Month_9', 407),\n",
    " ('Month_4', 394),\n",
    " ('Dest_DEN', 379),\n",
    " ('SNOW_D', 375),\n",
    " ('Month_3', 369),\n",
    " ('Dest_IAH', 369),\n",
    " ('Origin_PHX', 347),\n",
    " ('Dest_PHX', 346),\n",
    " ('Origin_IAH', 342),\n",
    " ('DayofMonth_15', 324),\n",
    " ('DayofMonth_17', 322),\n",
    " ('DayofMonth_21', 322),\n",
    " ('Origin_CLT', 322),\n",
    " ('DayofMonth_20', 316),\n",
    " ('DayofMonth_9', 313),\n",
    " ('DayofMonth_19', 307),\n",
    " ('DayofMonth_26', 303),\n",
    " ('DayofMonth_7', 301),\n",
    " ('DayofMonth_4', 300),\n",
    " ('DayofMonth_2', 299),\n",
    " ('DayofMonth_27', 298),\n",
    " ('DayofMonth_3', 294),\n",
    " ('DayofMonth_28', 287),\n",
    " ('Month_2', 284),\n",
    " ('DayofMonth_5', 284),\n",
    " ('DayofMonth_12', 282),\n",
    " ('DayofMonth_11', 276),\n",
    " ('Dest_CLT', 276),\n",
    " ('DayofMonth_6', 275),\n",
    " ('DayofMonth_22', 274),\n",
    " ('DayofMonth_8', 273),\n",
    " ('DayofMonth_18', 273),\n",
    " ('DayofMonth_29', 267),\n",
    " ('DayofMonth_23', 266),\n",
    " ('DayofMonth_14', 263),\n",
    " ('DayofMonth_30', 260),\n",
    " ('DayofMonth_10', 259),\n",
    " ('DayofMonth_16', 257),\n",
    " ('DayofMonth_24', 255),\n",
    " ('DayofMonth_13', 245),\n",
    " ('DayofMonth_25', 237),\n",
    " ('is_holiday_1', 231),\n",
    " ('DayofMonth_31', 164)]\n",
    "```"
   ]
  },
  {
   "cell_type": "markdown",
   "metadata": {},
   "source": [
    "Based on the feature importance above, you can see that DepHourofDay, Airwind, and Temperature at both source and destination are the major influencers in deciding the flight delay.\n",
    "\n",
    "This is one way to validate what is intuitive in terms of features and what the model actually learns."
   ]
  },
  {
   "cell_type": "markdown",
   "metadata": {},
   "source": [
    "## Conclusion\n",
    "\n",
    "You've now gone through at least a couple iterations of training and evaluating your model. It's time to wrap up this project and reflect on what you've learned and what types of steps you might take moving forward (assuming you had more time). Use the cell below to answer some of these and other relevant questions:\n",
    "\n",
    "1. Does your model performance meet your business goal? If not, what are some things you'd like to do differently if you had more time for tuning?\n",
    "2. To what extent did your model improve as you made changes to your dataset, features, and hyperparameters? What types of techniques did you employ throughout this project that you felt yielded the greatest improvements in your model?\n",
    "3. What were some of the biggest challenges you encountered throughout this project?\n",
    "4. Are there outstanding questions you have about aspects of the pipeline that just didn't make sense to you?\n",
    "5. What were the three most important things you learned about machine learning while completing this project?\n",
    "\n",
    "#### <span style=\"color: blue;\">Project presentation: Summarize your answers to these questions in your project presentation as well. Pull together all of your notes for your project presentation at this point and prepare to present your findings to the class.</span>"
   ]
  },
  {
   "cell_type": "markdown",
   "metadata": {},
   "source": [
    "1. Meh, the model is kinda mid tbh.\n",
    "\n",
    "2. We did a few improvements. Firstly, we added other dimensions by merging other data sources containing info on weather and holidays. Then, we considered other algorithms like xgboosting. Lastly, we did hyperparameter training. Imo, hyperparameter tuning was the most effective method.\n",
    "\n",
    "3. Searching up on AWS documentations during different stages of the ML building process and learning how the AWS ML pipeline works.\n",
    "\n",
    "4. How to integrate and deploy other models not in SageMaker, such as models from other scikitlearn or tensorflow (which are compatible with SageMaker) scipts or people with BYOM (build your own model). So far it appears that we have only been using SageMakers' models? \n",
    "\n",
    "5. I learnt that the business goals are important when it comes to classification problems. Do we value the true positives or false positives more? In this case, we initially had really low true positives which is suboptimal as we are interested in predicting delays (a positive class). As such, we will want our true positives to be higher."
   ]
  },
  {
   "cell_type": "code",
   "execution_count": null,
   "metadata": {},
   "outputs": [],
   "source": []
  }
 ],
 "metadata": {
  "kernelspec": {
   "display_name": "conda_pytorch_p310",
   "language": "python",
   "name": "conda_pytorch_p310"
  },
  "language_info": {
   "codemirror_mode": {
    "name": "ipython",
    "version": 3
   },
   "file_extension": ".py",
   "mimetype": "text/x-python",
   "name": "python",
   "nbconvert_exporter": "python",
   "pygments_lexer": "ipython3",
   "version": "3.10.14"
  }
 },
 "nbformat": 4,
 "nbformat_minor": 2
}
